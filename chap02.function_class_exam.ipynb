{
 "cells": [
  {
   "cell_type": "markdown",
   "id": "57af61fc",
   "metadata": {},
   "source": [
    "<h1><font color=\"blue\">(2일차) 내장 함수</font></h1>"
   ]
  },
  {
   "cell_type": "markdown",
   "id": "288bb563",
   "metadata": {},
   "source": [
    "<h4><font color=\"red\">max()와 min() 함수</font></h4>"
   ]
  },
  {
   "cell_type": "code",
   "execution_count": 1,
   "id": "d70e3881",
   "metadata": {},
   "outputs": [],
   "source": [
    "# 다음 사전에서 가장 높은 점수와 가장 낮은 점수는 몇 점인가요?\n",
    "# 내장 함수 max()와 min() 함수를 적절히 사용하면 됩니다.\n",
    "students = {'이현식':75, '김현도':80, '유지강':60, '최윤희':90}"
   ]
  },
  {
   "cell_type": "code",
   "execution_count": 18,
   "id": "e32c0590",
   "metadata": {},
   "outputs": [
    {
     "data": {
      "text/plain": [
       "[75, 80, 60, 90]"
      ]
     },
     "execution_count": 18,
     "metadata": {},
     "output_type": "execute_result"
    }
   ],
   "source": [
    "valuelist = [val for val in students.values()]\n",
    "valuelist"
   ]
  },
  {
   "cell_type": "code",
   "execution_count": 21,
   "id": "97a57f13",
   "metadata": {},
   "outputs": [
    {
     "name": "stdout",
     "output_type": "stream",
     "text": [
      "최대값 : 90점 , 최소값 : 60점\n"
     ]
    }
   ],
   "source": [
    "maxval, minval = max(valuelist), min(valuelist)\n",
    "message = '최대값 : %d점 , 최소값 : %d점'\n",
    "print(message % (maxval, minval))"
   ]
  },
  {
   "cell_type": "code",
   "execution_count": 22,
   "id": "273ce22c",
   "metadata": {},
   "outputs": [
    {
     "data": {
      "text/plain": [
       "3"
      ]
     },
     "execution_count": 22,
     "metadata": {},
     "output_type": "execute_result"
    }
   ],
   "source": [
    "# 최대값이 발견 된 위치\n",
    "idx = valuelist.index(maxval)\n",
    "idx"
   ]
  },
  {
   "cell_type": "markdown",
   "id": "2e24cf13",
   "metadata": {},
   "source": [
    "<h4><font color=\"red\">enumerate 함수</font></h4>"
   ]
  },
  {
   "cell_type": "code",
   "execution_count": 24,
   "id": "496e8f36",
   "metadata": {},
   "outputs": [
    {
     "data": {
      "text/plain": [
       "[(0, 'apple'), (1, 'banana'), (2, 'cherry')]"
      ]
     },
     "execution_count": 24,
     "metadata": {},
     "output_type": "execute_result"
    }
   ],
   "source": [
    "# 다음 문장을 이용하여 출력 결과 처럼 만들어 보세요.\n",
    "fruits = ('apple', 'banana', 'cherry')\n",
    "enum = enumerate(fruits)\n",
    "mylist = list(enum)\n",
    "mylist\n",
    "\n",
    "# 출력 결과 : {'apple':10, 'banana':20, cherry':30}"
   ]
  },
  {
   "cell_type": "code",
   "execution_count": 25,
   "id": "7ae01719",
   "metadata": {},
   "outputs": [
    {
     "data": {
      "text/plain": [
       "{'apple': 10, 'banana': 20, 'cherry': 30}"
      ]
     },
     "execution_count": 25,
     "metadata": {},
     "output_type": "execute_result"
    }
   ],
   "source": [
    "newdict = {item[1]:10*(item[0]+1) for item in mylist}\n",
    "newdict"
   ]
  },
  {
   "cell_type": "markdown",
   "id": "a78e3474",
   "metadata": {},
   "source": [
    "<h4><font color=\"red\">zip() 함수</font></h4>"
   ]
  },
  {
   "cell_type": "code",
   "execution_count": 1,
   "id": "2423b9ef",
   "metadata": {},
   "outputs": [],
   "source": [
    "ids = [1001, 1002, 1003]\n",
    "names = ['김현도', '유지강', '최윤희']\n",
    "ages = [10, 30, 20]\n",
    "genders = ['남자', '남자', '여자']"
   ]
  },
  {
   "cell_type": "code",
   "execution_count": 2,
   "id": "d7c95418",
   "metadata": {},
   "outputs": [],
   "source": [
    "# zip() 함수를 사용하되 다음과 같은 형식으로 출력해 보세요.\n",
    "# 아이디 : 1001, 이름 : 김현도, 나이 : 10, 성별 : 남자"
   ]
  },
  {
   "cell_type": "code",
   "execution_count": 3,
   "id": "4cdc22da",
   "metadata": {},
   "outputs": [
    {
     "name": "stdout",
     "output_type": "stream",
     "text": [
      "아이디 : 1001 , 이름 : 김현도 , 나이 : 10, 성별 : 남자\n",
      "아이디 : 1002 , 이름 : 유지강 , 나이 : 30, 성별 : 남자\n",
      "아이디 : 1003 , 이름 : 최윤희 , 나이 : 20, 성별 : 여자\n"
     ]
    }
   ],
   "source": [
    "for ids, names, ages, genders in zip(ids, names, ages, genders):\n",
    "    message = '아이디 : {} , 이름 : {} , 나이 : {}, 성별 : {}'\n",
    "    print(message.format(ids, names, ages, genders))"
   ]
  },
  {
   "cell_type": "code",
   "execution_count": 4,
   "id": "58d8ee10",
   "metadata": {},
   "outputs": [],
   "source": [
    "# zip() 함수를 사용하되 위의 문제에서 나이가 20세 이상인 사람만 출력해보세요."
   ]
  },
  {
   "cell_type": "code",
   "execution_count": 13,
   "id": "af9a492f",
   "metadata": {},
   "outputs": [],
   "source": [
    "ids = [1001, 1002, 1003]\n",
    "names = ['김현도', '유지강', '최윤희']\n",
    "ages = [10, 30, 20]\n",
    "genders = ['남자', '남자', '여자']"
   ]
  },
  {
   "cell_type": "code",
   "execution_count": 15,
   "id": "b6be5f21",
   "metadata": {},
   "outputs": [
    {
     "name": "stdout",
     "output_type": "stream",
     "text": [
      "20세 이상인 사람은 ?\n",
      "아이디 : 1002, 이름 : 유지강 , 나이 : 30, 성별 : 남자\n",
      "아이디 : 1003, 이름 : 최윤희 , 나이 : 20, 성별 : 여자\n"
     ]
    }
   ],
   "source": [
    "condition = 20\n",
    "print(str(condition) + '세 이상인 사람은 ?')\n",
    "for id, name, age, gender in zip(ids, names, ages, genders):\n",
    "    if age >= condition :\n",
    "        message = '아이디 : {}, 이름 : {} , 나이 : {}, 성별 : {}'\n",
    "        print(message.format(id, name, age, gender))"
   ]
  },
  {
   "cell_type": "markdown",
   "id": "105dd4e4",
   "metadata": {},
   "source": [
    "<h1><font color=\"blue\">(3일차) 클래스</font></h1>"
   ]
  },
  {
   "cell_type": "markdown",
   "id": "b3889128",
   "metadata": {},
   "source": [
    "<h4><font color=\"red\">사칙 연산.</font></h4>"
   ]
  },
  {
   "cell_type": "code",
   "execution_count": null,
   "id": "0d349e9b",
   "metadata": {},
   "outputs": [],
   "source": []
  },
  {
   "cell_type": "code",
   "execution_count": null,
   "id": "0b3cc263",
   "metadata": {},
   "outputs": [],
   "source": []
  },
  {
   "cell_type": "code",
   "execution_count": null,
   "id": "ba118cbc",
   "metadata": {},
   "outputs": [],
   "source": []
  }
 ],
 "metadata": {
  "kernelspec": {
   "display_name": "Python 3 (ipykernel)",
   "language": "python",
   "name": "python3"
  },
  "language_info": {
   "codemirror_mode": {
    "name": "ipython",
    "version": 3
   },
   "file_extension": ".py",
   "mimetype": "text/x-python",
   "name": "python",
   "nbconvert_exporter": "python",
   "pygments_lexer": "ipython3",
   "version": "3.11.2"
  }
 },
 "nbformat": 4,
 "nbformat_minor": 5
}
