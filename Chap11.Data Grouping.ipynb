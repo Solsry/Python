{
 "cells": [
  {
   "cell_type": "markdown",
   "id": "e8cf0f34",
   "metadata": {},
   "source": [
    "<h1><font color=\"blue\">데이터 그룹핑\n",
    " </font></h1>"
   ]
  },
  {
   "cell_type": "markdown",
   "id": "2595f97b",
   "metadata": {},
   "source": [
    "<h2><font color=\"red\">데이터 그룹화 \n",
    " \n",
    "</font></h2>"
   ]
  },
  {
   "cell_type": "markdown",
   "id": "a73e1e7f",
   "metadata": {},
   "source": [
    "<h3><font color=\"green\">데이터 확인\n",
    "</font></h3>"
   ]
  },
  {
   "cell_type": "code",
   "execution_count": 1,
   "id": "82fa7114",
   "metadata": {},
   "outputs": [],
   "source": [
    "import pandas as pd\n",
    "import numpy as np"
   ]
  },
  {
   "cell_type": "code",
   "execution_count": 2,
   "id": "392678f8",
   "metadata": {},
   "outputs": [
    {
     "data": {
      "text/plain": [
       "array(['남자', '여자'], dtype=object)"
      ]
     },
     "execution_count": 2,
     "metadata": {},
     "output_type": "execute_result"
    }
   ],
   "source": [
    "payment = pd.read_csv('./../data/payment07.csv', encoding='cp949')\n",
    "payment['성별'].unique()"
   ]
  },
  {
   "cell_type": "code",
   "execution_count": 3,
   "id": "66c2bee0",
   "metadata": {},
   "outputs": [
    {
     "data": {
      "text/html": [
       "<div>\n",
       "<style scoped>\n",
       "    .dataframe tbody tr th:only-of-type {\n",
       "        vertical-align: middle;\n",
       "    }\n",
       "\n",
       "    .dataframe tbody tr th {\n",
       "        vertical-align: top;\n",
       "    }\n",
       "\n",
       "    .dataframe thead th {\n",
       "        text-align: right;\n",
       "    }\n",
       "</style>\n",
       "<table border=\"1\" class=\"dataframe\">\n",
       "  <thead>\n",
       "    <tr style=\"text-align: right;\">\n",
       "      <th></th>\n",
       "      <th>사원명</th>\n",
       "      <th>출장지역</th>\n",
       "      <th>출장기간</th>\n",
       "      <th>부서</th>\n",
       "      <th>성별</th>\n",
       "      <th>교통비</th>\n",
       "      <th>식비</th>\n",
       "    </tr>\n",
       "  </thead>\n",
       "  <tbody>\n",
       "    <tr>\n",
       "      <th>0</th>\n",
       "      <td>윤장혁</td>\n",
       "      <td>서울</td>\n",
       "      <td>7</td>\n",
       "      <td>영업부</td>\n",
       "      <td>남자</td>\n",
       "      <td>4000</td>\n",
       "      <td>2000</td>\n",
       "    </tr>\n",
       "    <tr>\n",
       "      <th>1</th>\n",
       "      <td>서문덕</td>\n",
       "      <td>서울</td>\n",
       "      <td>6</td>\n",
       "      <td>영업부</td>\n",
       "      <td>남자</td>\n",
       "      <td>3000</td>\n",
       "      <td>3000</td>\n",
       "    </tr>\n",
       "    <tr>\n",
       "      <th>2</th>\n",
       "      <td>이성진</td>\n",
       "      <td>부산</td>\n",
       "      <td>5</td>\n",
       "      <td>영업부</td>\n",
       "      <td>남자</td>\n",
       "      <td>3000</td>\n",
       "      <td>3000</td>\n",
       "    </tr>\n",
       "    <tr>\n",
       "      <th>3</th>\n",
       "      <td>강찬혁</td>\n",
       "      <td>부산</td>\n",
       "      <td>3</td>\n",
       "      <td>영업부</td>\n",
       "      <td>남자</td>\n",
       "      <td>1000</td>\n",
       "      <td>2000</td>\n",
       "    </tr>\n",
       "    <tr>\n",
       "      <th>4</th>\n",
       "      <td>신유석</td>\n",
       "      <td>서울</td>\n",
       "      <td>5</td>\n",
       "      <td>전산부</td>\n",
       "      <td>여자</td>\n",
       "      <td>2000</td>\n",
       "      <td>2000</td>\n",
       "    </tr>\n",
       "    <tr>\n",
       "      <th>5</th>\n",
       "      <td>유지혜</td>\n",
       "      <td>서울</td>\n",
       "      <td>5</td>\n",
       "      <td>전산부</td>\n",
       "      <td>여자</td>\n",
       "      <td>4000</td>\n",
       "      <td>1000</td>\n",
       "    </tr>\n",
       "    <tr>\n",
       "      <th>6</th>\n",
       "      <td>이유리</td>\n",
       "      <td>부산</td>\n",
       "      <td>8</td>\n",
       "      <td>전산부</td>\n",
       "      <td>여자</td>\n",
       "      <td>4000</td>\n",
       "      <td>1000</td>\n",
       "    </tr>\n",
       "    <tr>\n",
       "      <th>7</th>\n",
       "      <td>선진희</td>\n",
       "      <td>부산</td>\n",
       "      <td>6</td>\n",
       "      <td>전산부</td>\n",
       "      <td>여자</td>\n",
       "      <td>1000</td>\n",
       "      <td>4000</td>\n",
       "    </tr>\n",
       "  </tbody>\n",
       "</table>\n",
       "</div>"
      ],
      "text/plain": [
       "   사원명 출장지역  출장기간   부서  성별   교통비    식비\n",
       "0  윤장혁   서울     7  영업부  남자  4000  2000\n",
       "1  서문덕   서울     6  영업부  남자  3000  3000\n",
       "2  이성진   부산     5  영업부  남자  3000  3000\n",
       "3  강찬혁   부산     3  영업부  남자  1000  2000\n",
       "4  신유석   서울     5  전산부  여자  2000  2000\n",
       "5  유지혜   서울     5  전산부  여자  4000  1000\n",
       "6  이유리   부산     8  전산부  여자  4000  1000\n",
       "7  선진희   부산     6  전산부  여자  1000  4000"
      ]
     },
     "execution_count": 3,
     "metadata": {},
     "output_type": "execute_result"
    }
   ],
   "source": [
    "payment"
   ]
  },
  {
   "cell_type": "markdown",
   "id": "3b5e34a5",
   "metadata": {},
   "source": [
    "<h6><font color=\"BlueViolet\">1) '성별'에 따른 '교통비' 집계\n",
    "</font></h6>"
   ]
  },
  {
   "cell_type": "code",
   "execution_count": 8,
   "id": "055ad0af",
   "metadata": {},
   "outputs": [
    {
     "data": {
      "text/html": [
       "<div>\n",
       "<style scoped>\n",
       "    .dataframe tbody tr th:only-of-type {\n",
       "        vertical-align: middle;\n",
       "    }\n",
       "\n",
       "    .dataframe tbody tr th {\n",
       "        vertical-align: top;\n",
       "    }\n",
       "\n",
       "    .dataframe thead th {\n",
       "        text-align: right;\n",
       "    }\n",
       "</style>\n",
       "<table border=\"1\" class=\"dataframe\">\n",
       "  <thead>\n",
       "    <tr style=\"text-align: right;\">\n",
       "      <th></th>\n",
       "      <th>교통비</th>\n",
       "    </tr>\n",
       "    <tr>\n",
       "      <th>성별</th>\n",
       "      <th></th>\n",
       "    </tr>\n",
       "  </thead>\n",
       "  <tbody>\n",
       "    <tr>\n",
       "      <th>남자</th>\n",
       "      <td>11000</td>\n",
       "    </tr>\n",
       "    <tr>\n",
       "      <th>여자</th>\n",
       "      <td>11000</td>\n",
       "    </tr>\n",
       "  </tbody>\n",
       "</table>\n",
       "</div>"
      ],
      "text/plain": [
       "      교통비\n",
       "성별       \n",
       "남자  11000\n",
       "여자  11000"
      ]
     },
     "execution_count": 8,
     "metadata": {},
     "output_type": "execute_result"
    }
   ],
   "source": [
    "mygrouping = payment.groupby('성별')['교통비']\n",
    "mygrouping.sum().to_frame()"
   ]
  },
  {
   "cell_type": "code",
   "execution_count": 10,
   "id": "ed5922ab",
   "metadata": {},
   "outputs": [
    {
     "data": {
      "text/html": [
       "<div>\n",
       "<style scoped>\n",
       "    .dataframe tbody tr th:only-of-type {\n",
       "        vertical-align: middle;\n",
       "    }\n",
       "\n",
       "    .dataframe tbody tr th {\n",
       "        vertical-align: top;\n",
       "    }\n",
       "\n",
       "    .dataframe thead th {\n",
       "        text-align: right;\n",
       "    }\n",
       "</style>\n",
       "<table border=\"1\" class=\"dataframe\">\n",
       "  <thead>\n",
       "    <tr style=\"text-align: right;\">\n",
       "      <th></th>\n",
       "      <th>교통비</th>\n",
       "    </tr>\n",
       "    <tr>\n",
       "      <th>성별</th>\n",
       "      <th></th>\n",
       "    </tr>\n",
       "  </thead>\n",
       "  <tbody>\n",
       "    <tr>\n",
       "      <th>남자</th>\n",
       "      <td>4</td>\n",
       "    </tr>\n",
       "    <tr>\n",
       "      <th>여자</th>\n",
       "      <td>4</td>\n",
       "    </tr>\n",
       "  </tbody>\n",
       "</table>\n",
       "</div>"
      ],
      "text/plain": [
       "    교통비\n",
       "성별     \n",
       "남자    4\n",
       "여자    4"
      ]
     },
     "execution_count": 10,
     "metadata": {},
     "output_type": "execute_result"
    }
   ],
   "source": [
    "mygrouping.count().to_frame()"
   ]
  },
  {
   "cell_type": "markdown",
   "id": "f0e4f92d",
   "metadata": {},
   "source": [
    "<h6><font color=\"BlueViolet\">2) agg()를 사용한 집계 사용\n",
    "\n",
    "</font></h6>"
   ]
  },
  {
   "cell_type": "code",
   "execution_count": 9,
   "id": "3be903bd",
   "metadata": {},
   "outputs": [
    {
     "data": {
      "text/html": [
       "<div>\n",
       "<style scoped>\n",
       "    .dataframe tbody tr th:only-of-type {\n",
       "        vertical-align: middle;\n",
       "    }\n",
       "\n",
       "    .dataframe tbody tr th {\n",
       "        vertical-align: top;\n",
       "    }\n",
       "\n",
       "    .dataframe thead th {\n",
       "        text-align: right;\n",
       "    }\n",
       "</style>\n",
       "<table border=\"1\" class=\"dataframe\">\n",
       "  <thead>\n",
       "    <tr style=\"text-align: right;\">\n",
       "      <th></th>\n",
       "      <th>출장기간</th>\n",
       "    </tr>\n",
       "    <tr>\n",
       "      <th>성별</th>\n",
       "      <th></th>\n",
       "    </tr>\n",
       "  </thead>\n",
       "  <tbody>\n",
       "    <tr>\n",
       "      <th>남자</th>\n",
       "      <td>5.25</td>\n",
       "    </tr>\n",
       "    <tr>\n",
       "      <th>여자</th>\n",
       "      <td>6.00</td>\n",
       "    </tr>\n",
       "  </tbody>\n",
       "</table>\n",
       "</div>"
      ],
      "text/plain": [
       "    출장기간\n",
       "성별      \n",
       "남자  5.25\n",
       "여자  6.00"
      ]
     },
     "execution_count": 9,
     "metadata": {},
     "output_type": "execute_result"
    }
   ],
   "source": [
    "result = payment.groupby('성별')['출장기간'].agg('mean')\n",
    "result.to_frame()"
   ]
  },
  {
   "cell_type": "code",
   "execution_count": 13,
   "id": "ee59bead",
   "metadata": {
    "scrolled": true
   },
   "outputs": [
    {
     "data": {
      "text/html": [
       "<div>\n",
       "<style scoped>\n",
       "    .dataframe tbody tr th:only-of-type {\n",
       "        vertical-align: middle;\n",
       "    }\n",
       "\n",
       "    .dataframe tbody tr th {\n",
       "        vertical-align: top;\n",
       "    }\n",
       "\n",
       "    .dataframe thead th {\n",
       "        text-align: right;\n",
       "    }\n",
       "</style>\n",
       "<table border=\"1\" class=\"dataframe\">\n",
       "  <thead>\n",
       "    <tr style=\"text-align: right;\">\n",
       "      <th></th>\n",
       "      <th>출장기간</th>\n",
       "    </tr>\n",
       "    <tr>\n",
       "      <th>성별</th>\n",
       "      <th></th>\n",
       "    </tr>\n",
       "  </thead>\n",
       "  <tbody>\n",
       "    <tr>\n",
       "      <th>남자</th>\n",
       "      <td>5.25</td>\n",
       "    </tr>\n",
       "    <tr>\n",
       "      <th>여자</th>\n",
       "      <td>6.00</td>\n",
       "    </tr>\n",
       "  </tbody>\n",
       "</table>\n",
       "</div>"
      ],
      "text/plain": [
       "    출장기간\n",
       "성별      \n",
       "남자  5.25\n",
       "여자  6.00"
      ]
     },
     "execution_count": 13,
     "metadata": {},
     "output_type": "execute_result"
    }
   ],
   "source": [
    "result = payment.groupby('성별').agg({'출장기간':'mean'})\n",
    "result"
   ]
  },
  {
   "cell_type": "code",
   "execution_count": 14,
   "id": "f726d304",
   "metadata": {},
   "outputs": [
    {
     "data": {
      "text/html": [
       "<div>\n",
       "<style scoped>\n",
       "    .dataframe tbody tr th:only-of-type {\n",
       "        vertical-align: middle;\n",
       "    }\n",
       "\n",
       "    .dataframe tbody tr th {\n",
       "        vertical-align: top;\n",
       "    }\n",
       "\n",
       "    .dataframe thead th {\n",
       "        text-align: right;\n",
       "    }\n",
       "</style>\n",
       "<table border=\"1\" class=\"dataframe\">\n",
       "  <thead>\n",
       "    <tr style=\"text-align: right;\">\n",
       "      <th></th>\n",
       "      <th>출장기간</th>\n",
       "    </tr>\n",
       "    <tr>\n",
       "      <th>성별</th>\n",
       "      <th></th>\n",
       "    </tr>\n",
       "  </thead>\n",
       "  <tbody>\n",
       "    <tr>\n",
       "      <th>남자</th>\n",
       "      <td>5.25</td>\n",
       "    </tr>\n",
       "    <tr>\n",
       "      <th>여자</th>\n",
       "      <td>6.00</td>\n",
       "    </tr>\n",
       "  </tbody>\n",
       "</table>\n",
       "</div>"
      ],
      "text/plain": [
       "    출장기간\n",
       "성별      \n",
       "남자  5.25\n",
       "여자  6.00"
      ]
     },
     "execution_count": 14,
     "metadata": {},
     "output_type": "execute_result"
    }
   ],
   "source": [
    "result = payment.groupby('성별')['출장기간'].agg(np.mean)\n",
    "result.to_frame()"
   ]
  },
  {
   "cell_type": "markdown",
   "id": "8f0f8973",
   "metadata": {},
   "source": [
    "<h6><font color=\"BlueViolet\">3) 2개 이상의 컬럼에 대한 집계 사용\n",
    "\n",
    "</font></h6>"
   ]
  },
  {
   "cell_type": "code",
   "execution_count": 15,
   "id": "5eded669",
   "metadata": {},
   "outputs": [
    {
     "data": {
      "text/plain": [
       "array(['서울', '부산'], dtype=object)"
      ]
     },
     "execution_count": 15,
     "metadata": {},
     "output_type": "execute_result"
    }
   ],
   "source": [
    "payment['출장지역'].unique()"
   ]
  },
  {
   "cell_type": "code",
   "execution_count": 16,
   "id": "1e564995",
   "metadata": {
    "scrolled": true
   },
   "outputs": [
    {
     "data": {
      "text/html": [
       "<div>\n",
       "<style scoped>\n",
       "    .dataframe tbody tr th:only-of-type {\n",
       "        vertical-align: middle;\n",
       "    }\n",
       "\n",
       "    .dataframe tbody tr th {\n",
       "        vertical-align: top;\n",
       "    }\n",
       "\n",
       "    .dataframe thead th {\n",
       "        text-align: right;\n",
       "    }\n",
       "</style>\n",
       "<table border=\"1\" class=\"dataframe\">\n",
       "  <thead>\n",
       "    <tr style=\"text-align: right;\">\n",
       "      <th></th>\n",
       "      <th></th>\n",
       "      <th>교통비</th>\n",
       "    </tr>\n",
       "    <tr>\n",
       "      <th>출장지역</th>\n",
       "      <th>성별</th>\n",
       "      <th></th>\n",
       "    </tr>\n",
       "  </thead>\n",
       "  <tbody>\n",
       "    <tr>\n",
       "      <th rowspan=\"2\" valign=\"top\">부산</th>\n",
       "      <th>남자</th>\n",
       "      <td>4000</td>\n",
       "    </tr>\n",
       "    <tr>\n",
       "      <th>여자</th>\n",
       "      <td>5000</td>\n",
       "    </tr>\n",
       "    <tr>\n",
       "      <th rowspan=\"2\" valign=\"top\">서울</th>\n",
       "      <th>남자</th>\n",
       "      <td>7000</td>\n",
       "    </tr>\n",
       "    <tr>\n",
       "      <th>여자</th>\n",
       "      <td>6000</td>\n",
       "    </tr>\n",
       "  </tbody>\n",
       "</table>\n",
       "</div>"
      ],
      "text/plain": [
       "          교통비\n",
       "출장지역 성별      \n",
       "부산   남자  4000\n",
       "     여자  5000\n",
       "서울   남자  7000\n",
       "     여자  6000"
      ]
     },
     "execution_count": 16,
     "metadata": {},
     "output_type": "execute_result"
    }
   ],
   "source": [
    "result = payment.groupby(['출장지역','성별'])['교통비'].agg('sum')\n",
    "result.to_frame()"
   ]
  },
  {
   "cell_type": "code",
   "execution_count": 18,
   "id": "1c44e364",
   "metadata": {},
   "outputs": [
    {
     "data": {
      "text/html": [
       "<div>\n",
       "<style scoped>\n",
       "    .dataframe tbody tr th:only-of-type {\n",
       "        vertical-align: middle;\n",
       "    }\n",
       "\n",
       "    .dataframe tbody tr th {\n",
       "        vertical-align: top;\n",
       "    }\n",
       "\n",
       "    .dataframe thead tr th {\n",
       "        text-align: left;\n",
       "    }\n",
       "\n",
       "    .dataframe thead tr:last-of-type th {\n",
       "        text-align: right;\n",
       "    }\n",
       "</style>\n",
       "<table border=\"1\" class=\"dataframe\">\n",
       "  <thead>\n",
       "    <tr>\n",
       "      <th></th>\n",
       "      <th></th>\n",
       "      <th colspan=\"2\" halign=\"left\">교통비</th>\n",
       "      <th colspan=\"2\" halign=\"left\">출장기간</th>\n",
       "    </tr>\n",
       "    <tr>\n",
       "      <th></th>\n",
       "      <th></th>\n",
       "      <th>sum</th>\n",
       "      <th>mean</th>\n",
       "      <th>sum</th>\n",
       "      <th>mean</th>\n",
       "    </tr>\n",
       "    <tr>\n",
       "      <th>출장지역</th>\n",
       "      <th>성별</th>\n",
       "      <th></th>\n",
       "      <th></th>\n",
       "      <th></th>\n",
       "      <th></th>\n",
       "    </tr>\n",
       "  </thead>\n",
       "  <tbody>\n",
       "    <tr>\n",
       "      <th rowspan=\"2\" valign=\"top\">부산</th>\n",
       "      <th>남자</th>\n",
       "      <td>4000</td>\n",
       "      <td>2000.0</td>\n",
       "      <td>8</td>\n",
       "      <td>4.0</td>\n",
       "    </tr>\n",
       "    <tr>\n",
       "      <th>여자</th>\n",
       "      <td>5000</td>\n",
       "      <td>2500.0</td>\n",
       "      <td>14</td>\n",
       "      <td>7.0</td>\n",
       "    </tr>\n",
       "    <tr>\n",
       "      <th rowspan=\"2\" valign=\"top\">서울</th>\n",
       "      <th>남자</th>\n",
       "      <td>7000</td>\n",
       "      <td>3500.0</td>\n",
       "      <td>13</td>\n",
       "      <td>6.5</td>\n",
       "    </tr>\n",
       "    <tr>\n",
       "      <th>여자</th>\n",
       "      <td>6000</td>\n",
       "      <td>3000.0</td>\n",
       "      <td>10</td>\n",
       "      <td>5.0</td>\n",
       "    </tr>\n",
       "  </tbody>\n",
       "</table>\n",
       "</div>"
      ],
      "text/plain": [
       "          교통비         출장기간     \n",
       "          sum    mean  sum mean\n",
       "출장지역 성별                        \n",
       "부산   남자  4000  2000.0    8  4.0\n",
       "     여자  5000  2500.0   14  7.0\n",
       "서울   남자  7000  3500.0   13  6.5\n",
       "     여자  6000  3000.0   10  5.0"
      ]
     },
     "execution_count": 18,
     "metadata": {},
     "output_type": "execute_result"
    }
   ],
   "source": [
    "result = payment.groupby(['출장지역','성별'])[['교통비','출장기간']].agg(['sum','mean'])\n",
    "result"
   ]
  },
  {
   "cell_type": "code",
   "execution_count": 22,
   "id": "fe2ff8ab",
   "metadata": {
    "scrolled": true
   },
   "outputs": [
    {
     "data": {
      "text/html": [
       "<div>\n",
       "<style scoped>\n",
       "    .dataframe tbody tr th:only-of-type {\n",
       "        vertical-align: middle;\n",
       "    }\n",
       "\n",
       "    .dataframe tbody tr th {\n",
       "        vertical-align: top;\n",
       "    }\n",
       "\n",
       "    .dataframe thead tr th {\n",
       "        text-align: left;\n",
       "    }\n",
       "\n",
       "    .dataframe thead tr:last-of-type th {\n",
       "        text-align: right;\n",
       "    }\n",
       "</style>\n",
       "<table border=\"1\" class=\"dataframe\">\n",
       "  <thead>\n",
       "    <tr>\n",
       "      <th></th>\n",
       "      <th></th>\n",
       "      <th colspan=\"3\" halign=\"left\">교통비</th>\n",
       "      <th colspan=\"2\" halign=\"left\">출장기간</th>\n",
       "    </tr>\n",
       "    <tr>\n",
       "      <th></th>\n",
       "      <th></th>\n",
       "      <th>sum</th>\n",
       "      <th>mean</th>\n",
       "      <th>max</th>\n",
       "      <th>mean</th>\n",
       "      <th>min</th>\n",
       "    </tr>\n",
       "    <tr>\n",
       "      <th>출장지역</th>\n",
       "      <th>성별</th>\n",
       "      <th></th>\n",
       "      <th></th>\n",
       "      <th></th>\n",
       "      <th></th>\n",
       "      <th></th>\n",
       "    </tr>\n",
       "  </thead>\n",
       "  <tbody>\n",
       "    <tr>\n",
       "      <th rowspan=\"2\" valign=\"top\">부산</th>\n",
       "      <th>남자</th>\n",
       "      <td>4000</td>\n",
       "      <td>2000</td>\n",
       "      <td>3000</td>\n",
       "      <td>4</td>\n",
       "      <td>3</td>\n",
       "    </tr>\n",
       "    <tr>\n",
       "      <th>여자</th>\n",
       "      <td>5000</td>\n",
       "      <td>2500</td>\n",
       "      <td>4000</td>\n",
       "      <td>7</td>\n",
       "      <td>6</td>\n",
       "    </tr>\n",
       "    <tr>\n",
       "      <th rowspan=\"2\" valign=\"top\">서울</th>\n",
       "      <th>남자</th>\n",
       "      <td>7000</td>\n",
       "      <td>3500</td>\n",
       "      <td>4000</td>\n",
       "      <td>6</td>\n",
       "      <td>6</td>\n",
       "    </tr>\n",
       "    <tr>\n",
       "      <th>여자</th>\n",
       "      <td>6000</td>\n",
       "      <td>3000</td>\n",
       "      <td>4000</td>\n",
       "      <td>5</td>\n",
       "      <td>5</td>\n",
       "    </tr>\n",
       "  </tbody>\n",
       "</table>\n",
       "</div>"
      ],
      "text/plain": [
       "          교통비             출장기간    \n",
       "          sum  mean   max mean min\n",
       "출장지역 성별                           \n",
       "부산   남자  4000  2000  3000    4   3\n",
       "     여자  5000  2500  4000    7   6\n",
       "서울   남자  7000  3500  4000    6   6\n",
       "     여자  6000  3000  4000    5   5"
      ]
     },
     "execution_count": 22,
     "metadata": {},
     "output_type": "execute_result"
    }
   ],
   "source": [
    "mydict={'교통비':['sum','mean','max'], '출장기간':['mean','min']}\n",
    "result = payment.groupby(['출장지역','성별']).agg(mydict).astype(int)\n",
    "result"
   ]
  },
  {
   "cell_type": "markdown",
   "id": "7b9b0552",
   "metadata": {},
   "source": [
    "<h2><font color=\"red\">중첩 색인 제거하기 \n",
    " \n",
    "</font></h2>"
   ]
  },
  {
   "cell_type": "markdown",
   "id": "f7007d1a",
   "metadata": {},
   "source": [
    "<h3><font color=\"green\">데이터 확인\n",
    "</font></h3>"
   ]
  },
  {
   "cell_type": "code",
   "execution_count": 50,
   "id": "60fecfb4",
   "metadata": {
    "scrolled": true
   },
   "outputs": [
    {
     "data": {
      "text/html": [
       "<div>\n",
       "<style scoped>\n",
       "    .dataframe tbody tr th:only-of-type {\n",
       "        vertical-align: middle;\n",
       "    }\n",
       "\n",
       "    .dataframe tbody tr th {\n",
       "        vertical-align: top;\n",
       "    }\n",
       "\n",
       "    .dataframe thead tr th {\n",
       "        text-align: left;\n",
       "    }\n",
       "\n",
       "    .dataframe thead tr:last-of-type th {\n",
       "        text-align: right;\n",
       "    }\n",
       "</style>\n",
       "<table border=\"1\" class=\"dataframe\">\n",
       "  <thead>\n",
       "    <tr>\n",
       "      <th></th>\n",
       "      <th></th>\n",
       "      <th colspan=\"3\" halign=\"left\">교통비</th>\n",
       "      <th colspan=\"2\" halign=\"left\">출장기간</th>\n",
       "    </tr>\n",
       "    <tr>\n",
       "      <th></th>\n",
       "      <th></th>\n",
       "      <th>sum</th>\n",
       "      <th>mean</th>\n",
       "      <th>max</th>\n",
       "      <th>mean</th>\n",
       "      <th>min</th>\n",
       "    </tr>\n",
       "    <tr>\n",
       "      <th>출장지역</th>\n",
       "      <th>성별</th>\n",
       "      <th></th>\n",
       "      <th></th>\n",
       "      <th></th>\n",
       "      <th></th>\n",
       "      <th></th>\n",
       "    </tr>\n",
       "  </thead>\n",
       "  <tbody>\n",
       "    <tr>\n",
       "      <th rowspan=\"2\" valign=\"top\">부산</th>\n",
       "      <th>남자</th>\n",
       "      <td>4000</td>\n",
       "      <td>2000</td>\n",
       "      <td>3000</td>\n",
       "      <td>4</td>\n",
       "      <td>3</td>\n",
       "    </tr>\n",
       "    <tr>\n",
       "      <th>여자</th>\n",
       "      <td>5000</td>\n",
       "      <td>2500</td>\n",
       "      <td>4000</td>\n",
       "      <td>7</td>\n",
       "      <td>6</td>\n",
       "    </tr>\n",
       "    <tr>\n",
       "      <th rowspan=\"2\" valign=\"top\">서울</th>\n",
       "      <th>남자</th>\n",
       "      <td>7000</td>\n",
       "      <td>3500</td>\n",
       "      <td>4000</td>\n",
       "      <td>6</td>\n",
       "      <td>6</td>\n",
       "    </tr>\n",
       "    <tr>\n",
       "      <th>여자</th>\n",
       "      <td>6000</td>\n",
       "      <td>3000</td>\n",
       "      <td>4000</td>\n",
       "      <td>5</td>\n",
       "      <td>5</td>\n",
       "    </tr>\n",
       "  </tbody>\n",
       "</table>\n",
       "</div>"
      ],
      "text/plain": [
       "          교통비             출장기간    \n",
       "          sum  mean   max mean min\n",
       "출장지역 성별                           \n",
       "부산   남자  4000  2000  3000    4   3\n",
       "     여자  5000  2500  4000    7   6\n",
       "서울   남자  7000  3500  4000    6   6\n",
       "     여자  6000  3000  4000    5   5"
      ]
     },
     "execution_count": 50,
     "metadata": {},
     "output_type": "execute_result"
    }
   ],
   "source": [
    "payment = pd.read_csv('./../data/payment07.csv', encoding='cp949')\n",
    "agg_dict = {'교통비':['sum','mean','max'], '출장기간':['mean','min']}\n",
    "groupdata = payment.groupby(['출장지역','성별']).agg(agg_dict).astype(int)\n",
    "groupdata"
   ]
  },
  {
   "cell_type": "markdown",
   "id": "201f515c",
   "metadata": {},
   "source": [
    "<h6><font color=\"BlueViolet\">1) 중첩 색인 정보 확인\n",
    "</font></h6>"
   ]
  },
  {
   "cell_type": "code",
   "execution_count": 51,
   "id": "46ea6c06",
   "metadata": {
    "scrolled": true
   },
   "outputs": [
    {
     "data": {
      "text/plain": [
       "MultiIndex([('부산', '남자'),\n",
       "            ('부산', '여자'),\n",
       "            ('서울', '남자'),\n",
       "            ('서울', '여자')],\n",
       "           names=['출장지역', '성별'])"
      ]
     },
     "execution_count": 51,
     "metadata": {},
     "output_type": "execute_result"
    }
   ],
   "source": [
    "groupdata.index"
   ]
  },
  {
   "cell_type": "code",
   "execution_count": 52,
   "id": "506b3a56",
   "metadata": {
    "scrolled": true
   },
   "outputs": [
    {
     "data": {
      "text/plain": [
       "MultiIndex([( '교통비',  'sum'),\n",
       "            ( '교통비', 'mean'),\n",
       "            ( '교통비',  'max'),\n",
       "            ('출장기간', 'mean'),\n",
       "            ('출장기간',  'min')],\n",
       "           )"
      ]
     },
     "execution_count": 52,
     "metadata": {},
     "output_type": "execute_result"
    }
   ],
   "source": [
    "groupdata.columns"
   ]
  },
  {
   "cell_type": "code",
   "execution_count": 53,
   "id": "3575769f",
   "metadata": {},
   "outputs": [
    {
     "data": {
      "text/plain": [
       "Index(['교통비', '교통비', '교통비', '출장기간', '출장기간'], dtype='object')"
      ]
     },
     "execution_count": 53,
     "metadata": {},
     "output_type": "execute_result"
    }
   ],
   "source": [
    "outer_column = groupdata.columns.get_level_values(0)\n",
    "outer_column"
   ]
  },
  {
   "cell_type": "code",
   "execution_count": 54,
   "id": "0bcb2838",
   "metadata": {
    "scrolled": true
   },
   "outputs": [
    {
     "data": {
      "text/plain": [
       "['총합', '평균', '최대', '평균', '최소']"
      ]
     },
     "execution_count": 54,
     "metadata": {},
     "output_type": "execute_result"
    }
   ],
   "source": [
    "hangul_dict = {'sum':'총합','mean':'평균','max':'최대','min':'최소'}\n",
    "inner_column = groupdata.columns.get_level_values(1)\n",
    "inner_column = [hangul_dict[item] for item in inner_column.tolist()]\n",
    "inner_column"
   ]
  },
  {
   "cell_type": "markdown",
   "id": "a199abd4",
   "metadata": {},
   "source": [
    "<h6><font color=\"BlueViolet\">2) 중첩 색인의 단일화\n",
    "</font></h6>"
   ]
  },
  {
   "cell_type": "code",
   "execution_count": 55,
   "id": "2268e248",
   "metadata": {
    "scrolled": true
   },
   "outputs": [
    {
     "data": {
      "text/html": [
       "<div>\n",
       "<style scoped>\n",
       "    .dataframe tbody tr th:only-of-type {\n",
       "        vertical-align: middle;\n",
       "    }\n",
       "\n",
       "    .dataframe tbody tr th {\n",
       "        vertical-align: top;\n",
       "    }\n",
       "\n",
       "    .dataframe thead th {\n",
       "        text-align: right;\n",
       "    }\n",
       "</style>\n",
       "<table border=\"1\" class=\"dataframe\">\n",
       "  <thead>\n",
       "    <tr style=\"text-align: right;\">\n",
       "      <th></th>\n",
       "      <th></th>\n",
       "      <th>교통비_총합</th>\n",
       "      <th>교통비_평균</th>\n",
       "      <th>교통비_최대</th>\n",
       "      <th>출장기간_평균</th>\n",
       "      <th>출장기간_최소</th>\n",
       "    </tr>\n",
       "    <tr>\n",
       "      <th>출장지역</th>\n",
       "      <th>성별</th>\n",
       "      <th></th>\n",
       "      <th></th>\n",
       "      <th></th>\n",
       "      <th></th>\n",
       "      <th></th>\n",
       "    </tr>\n",
       "  </thead>\n",
       "  <tbody>\n",
       "    <tr>\n",
       "      <th rowspan=\"2\" valign=\"top\">부산</th>\n",
       "      <th>남자</th>\n",
       "      <td>4000</td>\n",
       "      <td>2000</td>\n",
       "      <td>3000</td>\n",
       "      <td>4</td>\n",
       "      <td>3</td>\n",
       "    </tr>\n",
       "    <tr>\n",
       "      <th>여자</th>\n",
       "      <td>5000</td>\n",
       "      <td>2500</td>\n",
       "      <td>4000</td>\n",
       "      <td>7</td>\n",
       "      <td>6</td>\n",
       "    </tr>\n",
       "    <tr>\n",
       "      <th rowspan=\"2\" valign=\"top\">서울</th>\n",
       "      <th>남자</th>\n",
       "      <td>7000</td>\n",
       "      <td>3500</td>\n",
       "      <td>4000</td>\n",
       "      <td>6</td>\n",
       "      <td>6</td>\n",
       "    </tr>\n",
       "    <tr>\n",
       "      <th>여자</th>\n",
       "      <td>6000</td>\n",
       "      <td>3000</td>\n",
       "      <td>4000</td>\n",
       "      <td>5</td>\n",
       "      <td>5</td>\n",
       "    </tr>\n",
       "  </tbody>\n",
       "</table>\n",
       "</div>"
      ],
      "text/plain": [
       "         교통비_총합  교통비_평균  교통비_최대  출장기간_평균  출장기간_최소\n",
       "출장지역 성별                                          \n",
       "부산   남자    4000    2000    3000        4        3\n",
       "     여자    5000    2500    4000        7        6\n",
       "서울   남자    7000    3500    4000        6        6\n",
       "     여자    6000    3000    4000        5        5"
      ]
     },
     "execution_count": 55,
     "metadata": {},
     "output_type": "execute_result"
    }
   ],
   "source": [
    "groupdata.columns = outer_column + '_' + inner_column\n",
    "groupdata"
   ]
  },
  {
   "cell_type": "code",
   "execution_count": 56,
   "id": "6d9e66cc",
   "metadata": {
    "scrolled": true
   },
   "outputs": [
    {
     "data": {
      "text/html": [
       "<div>\n",
       "<style scoped>\n",
       "    .dataframe tbody tr th:only-of-type {\n",
       "        vertical-align: middle;\n",
       "    }\n",
       "\n",
       "    .dataframe tbody tr th {\n",
       "        vertical-align: top;\n",
       "    }\n",
       "\n",
       "    .dataframe thead th {\n",
       "        text-align: right;\n",
       "    }\n",
       "</style>\n",
       "<table border=\"1\" class=\"dataframe\">\n",
       "  <thead>\n",
       "    <tr style=\"text-align: right;\">\n",
       "      <th></th>\n",
       "      <th>출장지역</th>\n",
       "      <th>성별</th>\n",
       "      <th>교통비_총합</th>\n",
       "      <th>교통비_평균</th>\n",
       "      <th>교통비_최대</th>\n",
       "      <th>출장기간_평균</th>\n",
       "      <th>출장기간_최소</th>\n",
       "    </tr>\n",
       "  </thead>\n",
       "  <tbody>\n",
       "    <tr>\n",
       "      <th>0</th>\n",
       "      <td>부산</td>\n",
       "      <td>남자</td>\n",
       "      <td>4000</td>\n",
       "      <td>2000</td>\n",
       "      <td>3000</td>\n",
       "      <td>4</td>\n",
       "      <td>3</td>\n",
       "    </tr>\n",
       "    <tr>\n",
       "      <th>1</th>\n",
       "      <td>부산</td>\n",
       "      <td>여자</td>\n",
       "      <td>5000</td>\n",
       "      <td>2500</td>\n",
       "      <td>4000</td>\n",
       "      <td>7</td>\n",
       "      <td>6</td>\n",
       "    </tr>\n",
       "    <tr>\n",
       "      <th>2</th>\n",
       "      <td>서울</td>\n",
       "      <td>남자</td>\n",
       "      <td>7000</td>\n",
       "      <td>3500</td>\n",
       "      <td>4000</td>\n",
       "      <td>6</td>\n",
       "      <td>6</td>\n",
       "    </tr>\n",
       "    <tr>\n",
       "      <th>3</th>\n",
       "      <td>서울</td>\n",
       "      <td>여자</td>\n",
       "      <td>6000</td>\n",
       "      <td>3000</td>\n",
       "      <td>4000</td>\n",
       "      <td>5</td>\n",
       "      <td>5</td>\n",
       "    </tr>\n",
       "  </tbody>\n",
       "</table>\n",
       "</div>"
      ],
      "text/plain": [
       "  출장지역  성별  교통비_총합  교통비_평균  교통비_최대  출장기간_평균  출장기간_최소\n",
       "0   부산  남자    4000    2000    3000        4        3\n",
       "1   부산  여자    5000    2500    4000        7        6\n",
       "2   서울  남자    7000    3500    4000        6        6\n",
       "3   서울  여자    6000    3000    4000        5        5"
      ]
     },
     "execution_count": 56,
     "metadata": {},
     "output_type": "execute_result"
    }
   ],
   "source": [
    "groupdata.reset_index()"
   ]
  },
  {
   "cell_type": "markdown",
   "id": "d91d1d42",
   "metadata": {},
   "source": [
    "<h2><font color=\"red\">agg() 함수 커스터마이징 \n",
    "</font></h2>"
   ]
  },
  {
   "cell_type": "markdown",
   "id": "06f61ea7",
   "metadata": {},
   "source": [
    "<h3><font color=\"green\">그룹별 비율 함수 구현\n",
    "</font></h3>"
   ]
  },
  {
   "cell_type": "markdown",
   "id": "daf884ae",
   "metadata": {},
   "source": [
    "<h6><font color=\"BlueViolet\">1) 그룹별 비율 함수\n",
    "\n",
    "</font></h6>"
   ]
  },
  {
   "cell_type": "code",
   "execution_count": 57,
   "id": "2e2ecfa6",
   "metadata": {
    "scrolled": true
   },
   "outputs": [
    {
     "data": {
      "text/html": [
       "<div>\n",
       "<style scoped>\n",
       "    .dataframe tbody tr th:only-of-type {\n",
       "        vertical-align: middle;\n",
       "    }\n",
       "\n",
       "    .dataframe tbody tr th {\n",
       "        vertical-align: top;\n",
       "    }\n",
       "\n",
       "    .dataframe thead th {\n",
       "        text-align: right;\n",
       "    }\n",
       "</style>\n",
       "<table border=\"1\" class=\"dataframe\">\n",
       "  <thead>\n",
       "    <tr style=\"text-align: right;\">\n",
       "      <th></th>\n",
       "      <th>사원명</th>\n",
       "      <th>출장지역</th>\n",
       "      <th>출장기간</th>\n",
       "      <th>부서</th>\n",
       "      <th>성별</th>\n",
       "      <th>교통비</th>\n",
       "      <th>식비</th>\n",
       "    </tr>\n",
       "  </thead>\n",
       "  <tbody>\n",
       "    <tr>\n",
       "      <th>0</th>\n",
       "      <td>윤장혁</td>\n",
       "      <td>서울</td>\n",
       "      <td>7</td>\n",
       "      <td>영업부</td>\n",
       "      <td>남자</td>\n",
       "      <td>4000</td>\n",
       "      <td>2000</td>\n",
       "    </tr>\n",
       "    <tr>\n",
       "      <th>1</th>\n",
       "      <td>서문덕</td>\n",
       "      <td>서울</td>\n",
       "      <td>6</td>\n",
       "      <td>영업부</td>\n",
       "      <td>남자</td>\n",
       "      <td>3000</td>\n",
       "      <td>3000</td>\n",
       "    </tr>\n",
       "    <tr>\n",
       "      <th>2</th>\n",
       "      <td>이성진</td>\n",
       "      <td>부산</td>\n",
       "      <td>5</td>\n",
       "      <td>영업부</td>\n",
       "      <td>남자</td>\n",
       "      <td>3000</td>\n",
       "      <td>3000</td>\n",
       "    </tr>\n",
       "    <tr>\n",
       "      <th>3</th>\n",
       "      <td>강찬혁</td>\n",
       "      <td>부산</td>\n",
       "      <td>3</td>\n",
       "      <td>영업부</td>\n",
       "      <td>남자</td>\n",
       "      <td>1000</td>\n",
       "      <td>2000</td>\n",
       "    </tr>\n",
       "    <tr>\n",
       "      <th>4</th>\n",
       "      <td>신유석</td>\n",
       "      <td>서울</td>\n",
       "      <td>5</td>\n",
       "      <td>전산부</td>\n",
       "      <td>여자</td>\n",
       "      <td>2000</td>\n",
       "      <td>2000</td>\n",
       "    </tr>\n",
       "    <tr>\n",
       "      <th>5</th>\n",
       "      <td>유지혜</td>\n",
       "      <td>서울</td>\n",
       "      <td>5</td>\n",
       "      <td>전산부</td>\n",
       "      <td>여자</td>\n",
       "      <td>4000</td>\n",
       "      <td>1000</td>\n",
       "    </tr>\n",
       "    <tr>\n",
       "      <th>6</th>\n",
       "      <td>이유리</td>\n",
       "      <td>부산</td>\n",
       "      <td>8</td>\n",
       "      <td>전산부</td>\n",
       "      <td>여자</td>\n",
       "      <td>4000</td>\n",
       "      <td>1000</td>\n",
       "    </tr>\n",
       "    <tr>\n",
       "      <th>7</th>\n",
       "      <td>선진희</td>\n",
       "      <td>부산</td>\n",
       "      <td>6</td>\n",
       "      <td>전산부</td>\n",
       "      <td>여자</td>\n",
       "      <td>1000</td>\n",
       "      <td>4000</td>\n",
       "    </tr>\n",
       "  </tbody>\n",
       "</table>\n",
       "</div>"
      ],
      "text/plain": [
       "   사원명 출장지역  출장기간   부서  성별   교통비    식비\n",
       "0  윤장혁   서울     7  영업부  남자  4000  2000\n",
       "1  서문덕   서울     6  영업부  남자  3000  3000\n",
       "2  이성진   부산     5  영업부  남자  3000  3000\n",
       "3  강찬혁   부산     3  영업부  남자  1000  2000\n",
       "4  신유석   서울     5  전산부  여자  2000  2000\n",
       "5  유지혜   서울     5  전산부  여자  4000  1000\n",
       "6  이유리   부산     8  전산부  여자  4000  1000\n",
       "7  선진희   부산     6  전산부  여자  1000  4000"
      ]
     },
     "execution_count": 57,
     "metadata": {},
     "output_type": "execute_result"
    }
   ],
   "source": [
    "payment"
   ]
  },
  {
   "cell_type": "markdown",
   "id": "d4c3ab2f",
   "metadata": {},
   "source": [
    "<h6><font color=\"BlueViolet\">2) 함수 만들기\n",
    "\n",
    "</font></h6>"
   ]
  },
  {
   "cell_type": "code",
   "execution_count": 58,
   "id": "64ded8c0",
   "metadata": {},
   "outputs": [],
   "source": [
    "def get_range(x):\n",
    "    return x.between(1500,3500).mean()"
   ]
  },
  {
   "cell_type": "code",
   "execution_count": 59,
   "id": "315c47f4",
   "metadata": {
    "scrolled": true
   },
   "outputs": [
    {
     "data": {
      "text/html": [
       "<div>\n",
       "<style scoped>\n",
       "    .dataframe tbody tr th:only-of-type {\n",
       "        vertical-align: middle;\n",
       "    }\n",
       "\n",
       "    .dataframe tbody tr th {\n",
       "        vertical-align: top;\n",
       "    }\n",
       "\n",
       "    .dataframe thead th {\n",
       "        text-align: right;\n",
       "    }\n",
       "</style>\n",
       "<table border=\"1\" class=\"dataframe\">\n",
       "  <thead>\n",
       "    <tr style=\"text-align: right;\">\n",
       "      <th></th>\n",
       "      <th>교통비</th>\n",
       "    </tr>\n",
       "    <tr>\n",
       "      <th>성별</th>\n",
       "      <th></th>\n",
       "    </tr>\n",
       "  </thead>\n",
       "  <tbody>\n",
       "    <tr>\n",
       "      <th>남자</th>\n",
       "      <td>0.50</td>\n",
       "    </tr>\n",
       "    <tr>\n",
       "      <th>여자</th>\n",
       "      <td>0.25</td>\n",
       "    </tr>\n",
       "  </tbody>\n",
       "</table>\n",
       "</div>"
      ],
      "text/plain": [
       "     교통비\n",
       "성별      \n",
       "남자  0.50\n",
       "여자  0.25"
      ]
     },
     "execution_count": 59,
     "metadata": {},
     "output_type": "execute_result"
    }
   ],
   "source": [
    "result = payment.groupby(['성별'])['교통비'].agg(get_range)\n",
    "result.to_frame()"
   ]
  },
  {
   "cell_type": "markdown",
   "id": "b6a6ca01",
   "metadata": {},
   "source": [
    "<h6><font color=\"BlueViolet\">3) 범용적 함수 만들기\n",
    "\n",
    "\n",
    "</font></h6>"
   ]
  },
  {
   "cell_type": "code",
   "execution_count": 61,
   "id": "5024b8fd",
   "metadata": {},
   "outputs": [],
   "source": [
    "def get_range_pct(x, lower, upper):\n",
    "    return x.between(lower,upper).mean()"
   ]
  },
  {
   "cell_type": "code",
   "execution_count": null,
   "id": "d7780c2f",
   "metadata": {},
   "outputs": [],
   "source": []
  },
  {
   "cell_type": "code",
   "execution_count": 65,
   "id": "0b9c45aa",
   "metadata": {},
   "outputs": [
    {
     "data": {
      "text/html": [
       "<div>\n",
       "<style scoped>\n",
       "    .dataframe tbody tr th:only-of-type {\n",
       "        vertical-align: middle;\n",
       "    }\n",
       "\n",
       "    .dataframe tbody tr th {\n",
       "        vertical-align: top;\n",
       "    }\n",
       "\n",
       "    .dataframe thead th {\n",
       "        text-align: right;\n",
       "    }\n",
       "</style>\n",
       "<table border=\"1\" class=\"dataframe\">\n",
       "  <thead>\n",
       "    <tr style=\"text-align: right;\">\n",
       "      <th></th>\n",
       "      <th>교통비</th>\n",
       "    </tr>\n",
       "    <tr>\n",
       "      <th>성별</th>\n",
       "      <th></th>\n",
       "    </tr>\n",
       "  </thead>\n",
       "  <tbody>\n",
       "    <tr>\n",
       "      <th>남자</th>\n",
       "      <td>0.50</td>\n",
       "    </tr>\n",
       "    <tr>\n",
       "      <th>여자</th>\n",
       "      <td>0.25</td>\n",
       "    </tr>\n",
       "  </tbody>\n",
       "</table>\n",
       "</div>"
      ],
      "text/plain": [
       "     교통비\n",
       "성별      \n",
       "남자  0.50\n",
       "여자  0.25"
      ]
     },
     "execution_count": 65,
     "metadata": {},
     "output_type": "execute_result"
    }
   ],
   "source": [
    "LOWER, UPPER = 1500, 3500\n",
    "\n",
    "# positional arguments\n",
    "result = payment.groupby(['성별'])['교통비'].agg(get_range_pct, LOWER, UPPER)\n",
    "result.to_frame()"
   ]
  },
  {
   "cell_type": "code",
   "execution_count": 66,
   "id": "78ada73f",
   "metadata": {},
   "outputs": [
    {
     "data": {
      "text/html": [
       "<div>\n",
       "<style scoped>\n",
       "    .dataframe tbody tr th:only-of-type {\n",
       "        vertical-align: middle;\n",
       "    }\n",
       "\n",
       "    .dataframe tbody tr th {\n",
       "        vertical-align: top;\n",
       "    }\n",
       "\n",
       "    .dataframe thead th {\n",
       "        text-align: right;\n",
       "    }\n",
       "</style>\n",
       "<table border=\"1\" class=\"dataframe\">\n",
       "  <thead>\n",
       "    <tr style=\"text-align: right;\">\n",
       "      <th></th>\n",
       "      <th>교통비</th>\n",
       "    </tr>\n",
       "    <tr>\n",
       "      <th>성별</th>\n",
       "      <th></th>\n",
       "    </tr>\n",
       "  </thead>\n",
       "  <tbody>\n",
       "    <tr>\n",
       "      <th>남자</th>\n",
       "      <td>0.50</td>\n",
       "    </tr>\n",
       "    <tr>\n",
       "      <th>여자</th>\n",
       "      <td>0.25</td>\n",
       "    </tr>\n",
       "  </tbody>\n",
       "</table>\n",
       "</div>"
      ],
      "text/plain": [
       "     교통비\n",
       "성별      \n",
       "남자  0.50\n",
       "여자  0.25"
      ]
     },
     "execution_count": 66,
     "metadata": {},
     "output_type": "execute_result"
    }
   ],
   "source": [
    "LOWER, UPPER = 1500, 3500\n",
    "\n",
    "# keyword arguments\n",
    "result = payment.groupby(['성별'])['교통비'].agg(get_range_pct, lower = LOWER, upper =UPPER)\n",
    "result.to_frame()"
   ]
  },
  {
   "cell_type": "code",
   "execution_count": 67,
   "id": "eb16bbe2",
   "metadata": {
    "scrolled": true
   },
   "outputs": [
    {
     "data": {
      "text/html": [
       "<div>\n",
       "<style scoped>\n",
       "    .dataframe tbody tr th:only-of-type {\n",
       "        vertical-align: middle;\n",
       "    }\n",
       "\n",
       "    .dataframe tbody tr th {\n",
       "        vertical-align: top;\n",
       "    }\n",
       "\n",
       "    .dataframe thead th {\n",
       "        text-align: right;\n",
       "    }\n",
       "</style>\n",
       "<table border=\"1\" class=\"dataframe\">\n",
       "  <thead>\n",
       "    <tr style=\"text-align: right;\">\n",
       "      <th></th>\n",
       "      <th>교통비</th>\n",
       "    </tr>\n",
       "    <tr>\n",
       "      <th>성별</th>\n",
       "      <th></th>\n",
       "    </tr>\n",
       "  </thead>\n",
       "  <tbody>\n",
       "    <tr>\n",
       "      <th>남자</th>\n",
       "      <td>0.50</td>\n",
       "    </tr>\n",
       "    <tr>\n",
       "      <th>여자</th>\n",
       "      <td>0.25</td>\n",
       "    </tr>\n",
       "  </tbody>\n",
       "</table>\n",
       "</div>"
      ],
      "text/plain": [
       "     교통비\n",
       "성별      \n",
       "남자  0.50\n",
       "여자  0.25"
      ]
     },
     "execution_count": 67,
     "metadata": {},
     "output_type": "execute_result"
    }
   ],
   "source": [
    "result = payment.groupby(['성별'])['교통비'].agg(get_range_pct, LOWER, upper =UPPER)\n",
    "result.to_frame()"
   ]
  },
  {
   "cell_type": "markdown",
   "id": "a99201f6",
   "metadata": {},
   "source": [
    "<h2><font color=\"red\">groupby 객체 살펴 보기 \n",
    "\n",
    "</font></h2>"
   ]
  },
  {
   "cell_type": "markdown",
   "id": "b53b2d94",
   "metadata": {},
   "source": [
    "<h3><font color=\"green\">DtaFrameGroupBy 객체\n",
    "\n",
    "</font></h3>"
   ]
  },
  {
   "cell_type": "code",
   "execution_count": 69,
   "id": "9b62c13a",
   "metadata": {},
   "outputs": [
    {
     "data": {
      "text/html": [
       "<div>\n",
       "<style scoped>\n",
       "    .dataframe tbody tr th:only-of-type {\n",
       "        vertical-align: middle;\n",
       "    }\n",
       "\n",
       "    .dataframe tbody tr th {\n",
       "        vertical-align: top;\n",
       "    }\n",
       "\n",
       "    .dataframe thead th {\n",
       "        text-align: right;\n",
       "    }\n",
       "</style>\n",
       "<table border=\"1\" class=\"dataframe\">\n",
       "  <thead>\n",
       "    <tr style=\"text-align: right;\">\n",
       "      <th></th>\n",
       "      <th>사원명</th>\n",
       "      <th>출장지역</th>\n",
       "      <th>출장기간</th>\n",
       "      <th>부서</th>\n",
       "      <th>성별</th>\n",
       "      <th>교통비</th>\n",
       "      <th>식비</th>\n",
       "    </tr>\n",
       "  </thead>\n",
       "  <tbody>\n",
       "    <tr>\n",
       "      <th>0</th>\n",
       "      <td>윤장혁</td>\n",
       "      <td>서울</td>\n",
       "      <td>7</td>\n",
       "      <td>영업부</td>\n",
       "      <td>남자</td>\n",
       "      <td>4000</td>\n",
       "      <td>2000</td>\n",
       "    </tr>\n",
       "    <tr>\n",
       "      <th>1</th>\n",
       "      <td>서문덕</td>\n",
       "      <td>서울</td>\n",
       "      <td>6</td>\n",
       "      <td>영업부</td>\n",
       "      <td>남자</td>\n",
       "      <td>3000</td>\n",
       "      <td>3000</td>\n",
       "    </tr>\n",
       "    <tr>\n",
       "      <th>2</th>\n",
       "      <td>이성진</td>\n",
       "      <td>부산</td>\n",
       "      <td>5</td>\n",
       "      <td>영업부</td>\n",
       "      <td>남자</td>\n",
       "      <td>3000</td>\n",
       "      <td>3000</td>\n",
       "    </tr>\n",
       "    <tr>\n",
       "      <th>3</th>\n",
       "      <td>강찬혁</td>\n",
       "      <td>부산</td>\n",
       "      <td>3</td>\n",
       "      <td>영업부</td>\n",
       "      <td>남자</td>\n",
       "      <td>1000</td>\n",
       "      <td>2000</td>\n",
       "    </tr>\n",
       "    <tr>\n",
       "      <th>4</th>\n",
       "      <td>신유석</td>\n",
       "      <td>서울</td>\n",
       "      <td>5</td>\n",
       "      <td>전산부</td>\n",
       "      <td>여자</td>\n",
       "      <td>2000</td>\n",
       "      <td>2000</td>\n",
       "    </tr>\n",
       "    <tr>\n",
       "      <th>5</th>\n",
       "      <td>유지혜</td>\n",
       "      <td>서울</td>\n",
       "      <td>5</td>\n",
       "      <td>전산부</td>\n",
       "      <td>여자</td>\n",
       "      <td>4000</td>\n",
       "      <td>1000</td>\n",
       "    </tr>\n",
       "    <tr>\n",
       "      <th>6</th>\n",
       "      <td>이유리</td>\n",
       "      <td>부산</td>\n",
       "      <td>8</td>\n",
       "      <td>전산부</td>\n",
       "      <td>여자</td>\n",
       "      <td>4000</td>\n",
       "      <td>1000</td>\n",
       "    </tr>\n",
       "    <tr>\n",
       "      <th>7</th>\n",
       "      <td>선진희</td>\n",
       "      <td>부산</td>\n",
       "      <td>6</td>\n",
       "      <td>전산부</td>\n",
       "      <td>여자</td>\n",
       "      <td>1000</td>\n",
       "      <td>4000</td>\n",
       "    </tr>\n",
       "  </tbody>\n",
       "</table>\n",
       "</div>"
      ],
      "text/plain": [
       "   사원명 출장지역  출장기간   부서  성별   교통비    식비\n",
       "0  윤장혁   서울     7  영업부  남자  4000  2000\n",
       "1  서문덕   서울     6  영업부  남자  3000  3000\n",
       "2  이성진   부산     5  영업부  남자  3000  3000\n",
       "3  강찬혁   부산     3  영업부  남자  1000  2000\n",
       "4  신유석   서울     5  전산부  여자  2000  2000\n",
       "5  유지혜   서울     5  전산부  여자  4000  1000\n",
       "6  이유리   부산     8  전산부  여자  4000  1000\n",
       "7  선진희   부산     6  전산부  여자  1000  4000"
      ]
     },
     "execution_count": 69,
     "metadata": {},
     "output_type": "execute_result"
    }
   ],
   "source": [
    "payment"
   ]
  },
  {
   "cell_type": "code",
   "execution_count": 68,
   "id": "e7d54349",
   "metadata": {},
   "outputs": [
    {
     "data": {
      "text/plain": [
       "pandas.core.groupby.generic.DataFrameGroupBy"
      ]
     },
     "execution_count": 68,
     "metadata": {},
     "output_type": "execute_result"
    }
   ],
   "source": [
    "group_col = ['출장지역','성별','교통비']\n",
    "grouped = payment.groupby(group_col)\n",
    "type(grouped)"
   ]
  },
  {
   "cell_type": "code",
   "execution_count": 75,
   "id": "701a8fc3",
   "metadata": {
    "scrolled": true
   },
   "outputs": [
    {
     "name": "stdout",
     "output_type": "stream",
     "text": [
      "보유하고 있는 속성과 메소드\n",
      "['agg', 'aggregate', 'all', 'any', 'apply', 'backfill', 'bfill', 'boxplot', 'corr', 'corrwith', 'count', 'cov', 'cumcount', 'cummax', 'cummin', 'cumprod', 'cumsum', 'describe', 'diff', 'dtypes', 'ewm', 'expanding', 'ffill', 'fillna', 'filter', 'first', 'get_group', 'groups', 'head', 'hist', 'idxmax', 'idxmin', 'indices', 'last', 'mad', 'max', 'mean', 'median', 'min', 'ndim', 'ngroup', 'ngroups', 'nth', 'nunique', 'ohlc', 'pad', 'pct_change', 'pipe', 'plot', 'prod', 'quantile', 'rank', 'resample', 'rolling', 'sample', 'sem', 'shift', 'size', 'skew', 'std', 'sum', 'tail', 'take', 'transform', 'tshift', 'value_counts', 'var', '교통비', '부서', '사원명', '성별', '식비', '출장기간', '출장지역']\n"
     ]
    }
   ],
   "source": [
    "print('보유하고 있는 속성과 메소드')\n",
    "print([attr for attr in dir(grouped) if not attr.startswith('_')])"
   ]
  },
  {
   "cell_type": "code",
   "execution_count": 80,
   "id": "c8d19e12",
   "metadata": {
    "scrolled": false
   },
   "outputs": [
    {
     "data": {
      "text/plain": [
       "{('부산', '남자', 1000): [3], ('부산', '남자', 3000): [2], ('부산', '여자', 1000): [7], ('부산', '여자', 4000): [6], ('서울', '남자', 3000): [1], ('서울', '남자', 4000): [0], ('서울', '여자', 2000): [4], ('서울', '여자', 4000): [5]}"
      ]
     },
     "execution_count": 80,
     "metadata": {},
     "output_type": "execute_result"
    }
   ],
   "source": [
    "grouped.groups"
   ]
  },
  {
   "cell_type": "code",
   "execution_count": 81,
   "id": "d2aadf88",
   "metadata": {
    "scrolled": true
   },
   "outputs": [
    {
     "data": {
      "text/plain": [
       "pandas.io.formats.printing.PrettyDict"
      ]
     },
     "execution_count": 81,
     "metadata": {},
     "output_type": "execute_result"
    }
   ],
   "source": [
    "type(grouped.groups)"
   ]
  },
  {
   "cell_type": "code",
   "execution_count": 79,
   "id": "8e08f37b",
   "metadata": {
    "scrolled": true
   },
   "outputs": [
    {
     "data": {
      "text/plain": [
       "8"
      ]
     },
     "execution_count": 79,
     "metadata": {},
     "output_type": "execute_result"
    }
   ],
   "source": [
    "# ngroups 속성을 사용하면 그룹의 개수, 즉 해당 객체가 출력해주는 그룹화된 묶음의 개수를 반환해 줍니다.\n",
    "grouped.ngroups"
   ]
  },
  {
   "cell_type": "code",
   "execution_count": 82,
   "id": "0e663b44",
   "metadata": {
    "scrolled": false
   },
   "outputs": [
    {
     "data": {
      "text/plain": [
       "int"
      ]
     },
     "execution_count": 82,
     "metadata": {},
     "output_type": "execute_result"
    }
   ],
   "source": [
    "type(grouped.ngroups)"
   ]
  },
  {
   "cell_type": "code",
   "execution_count": 84,
   "id": "ab0ffa52",
   "metadata": {},
   "outputs": [
    {
     "name": "stdout",
     "output_type": "stream",
     "text": [
      "보유하고 있는 속성과 메소드\n",
      "['clear', 'copy', 'fromkeys', 'get', 'items', 'keys', 'pop', 'popitem', 'setdefault', 'update', 'values']\n"
     ]
    }
   ],
   "source": [
    "print('보유하고 있는 속성과 메소드')\n",
    "print([attr for attr in dir(grouped.groups) if not attr.startswith('_')])"
   ]
  },
  {
   "cell_type": "code",
   "execution_count": 85,
   "id": "d10e8205",
   "metadata": {},
   "outputs": [
    {
     "data": {
      "text/plain": [
       "[('부산', '남자', 1000),\n",
       " ('부산', '남자', 3000),\n",
       " ('부산', '여자', 1000),\n",
       " ('부산', '여자', 4000),\n",
       " ('서울', '남자', 3000),\n",
       " ('서울', '남자', 4000),\n",
       " ('서울', '여자', 2000),\n",
       " ('서울', '여자', 4000)]"
      ]
     },
     "execution_count": 85,
     "metadata": {},
     "output_type": "execute_result"
    }
   ],
   "source": [
    "groups = list(grouped.groups.keys())\n",
    "groups"
   ]
  },
  {
   "cell_type": "code",
   "execution_count": 86,
   "id": "00866bd6",
   "metadata": {},
   "outputs": [
    {
     "data": {
      "text/html": [
       "<div>\n",
       "<style scoped>\n",
       "    .dataframe tbody tr th:only-of-type {\n",
       "        vertical-align: middle;\n",
       "    }\n",
       "\n",
       "    .dataframe tbody tr th {\n",
       "        vertical-align: top;\n",
       "    }\n",
       "\n",
       "    .dataframe thead th {\n",
       "        text-align: right;\n",
       "    }\n",
       "</style>\n",
       "<table border=\"1\" class=\"dataframe\">\n",
       "  <thead>\n",
       "    <tr style=\"text-align: right;\">\n",
       "      <th></th>\n",
       "      <th>출장지역</th>\n",
       "      <th>성별</th>\n",
       "      <th>교통비</th>\n",
       "    </tr>\n",
       "  </thead>\n",
       "  <tbody>\n",
       "    <tr>\n",
       "      <th>0</th>\n",
       "      <td>서울</td>\n",
       "      <td>남자</td>\n",
       "      <td>4000</td>\n",
       "    </tr>\n",
       "    <tr>\n",
       "      <th>1</th>\n",
       "      <td>서울</td>\n",
       "      <td>남자</td>\n",
       "      <td>3000</td>\n",
       "    </tr>\n",
       "    <tr>\n",
       "      <th>2</th>\n",
       "      <td>부산</td>\n",
       "      <td>남자</td>\n",
       "      <td>3000</td>\n",
       "    </tr>\n",
       "    <tr>\n",
       "      <th>3</th>\n",
       "      <td>부산</td>\n",
       "      <td>남자</td>\n",
       "      <td>1000</td>\n",
       "    </tr>\n",
       "    <tr>\n",
       "      <th>4</th>\n",
       "      <td>서울</td>\n",
       "      <td>여자</td>\n",
       "      <td>2000</td>\n",
       "    </tr>\n",
       "    <tr>\n",
       "      <th>5</th>\n",
       "      <td>서울</td>\n",
       "      <td>여자</td>\n",
       "      <td>4000</td>\n",
       "    </tr>\n",
       "    <tr>\n",
       "      <th>6</th>\n",
       "      <td>부산</td>\n",
       "      <td>여자</td>\n",
       "      <td>4000</td>\n",
       "    </tr>\n",
       "    <tr>\n",
       "      <th>7</th>\n",
       "      <td>부산</td>\n",
       "      <td>여자</td>\n",
       "      <td>1000</td>\n",
       "    </tr>\n",
       "  </tbody>\n",
       "</table>\n",
       "</div>"
      ],
      "text/plain": [
       "  출장지역  성별   교통비\n",
       "0   서울  남자  4000\n",
       "1   서울  남자  3000\n",
       "2   부산  남자  3000\n",
       "3   부산  남자  1000\n",
       "4   서울  여자  2000\n",
       "5   서울  여자  4000\n",
       "6   부산  여자  4000\n",
       "7   부산  여자  1000"
      ]
     },
     "execution_count": 86,
     "metadata": {},
     "output_type": "execute_result"
    }
   ],
   "source": [
    "payment[group_col]"
   ]
  },
  {
   "cell_type": "code",
   "execution_count": 88,
   "id": "033aae2a",
   "metadata": {
    "scrolled": true
   },
   "outputs": [
    {
     "data": {
      "text/html": [
       "<div>\n",
       "<style scoped>\n",
       "    .dataframe tbody tr th:only-of-type {\n",
       "        vertical-align: middle;\n",
       "    }\n",
       "\n",
       "    .dataframe tbody tr th {\n",
       "        vertical-align: top;\n",
       "    }\n",
       "\n",
       "    .dataframe thead th {\n",
       "        text-align: right;\n",
       "    }\n",
       "</style>\n",
       "<table border=\"1\" class=\"dataframe\">\n",
       "  <thead>\n",
       "    <tr style=\"text-align: right;\">\n",
       "      <th></th>\n",
       "      <th>사원명</th>\n",
       "      <th>출장지역</th>\n",
       "      <th>출장기간</th>\n",
       "      <th>부서</th>\n",
       "      <th>성별</th>\n",
       "      <th>교통비</th>\n",
       "      <th>식비</th>\n",
       "    </tr>\n",
       "  </thead>\n",
       "  <tbody>\n",
       "    <tr>\n",
       "      <th>3</th>\n",
       "      <td>강찬혁</td>\n",
       "      <td>부산</td>\n",
       "      <td>3</td>\n",
       "      <td>영업부</td>\n",
       "      <td>남자</td>\n",
       "      <td>1000</td>\n",
       "      <td>2000</td>\n",
       "    </tr>\n",
       "  </tbody>\n",
       "</table>\n",
       "</div>"
      ],
      "text/plain": [
       "   사원명 출장지역  출장기간   부서  성별   교통비    식비\n",
       "3  강찬혁   부산     3  영업부  남자  1000  2000"
      ]
     },
     "execution_count": 88,
     "metadata": {},
     "output_type": "execute_result"
    }
   ],
   "source": [
    "result = grouped.get_group(('부산','남자',1000))\n",
    "result"
   ]
  },
  {
   "cell_type": "code",
   "execution_count": 90,
   "id": "a5399178",
   "metadata": {},
   "outputs": [
    {
     "name": "stdout",
     "output_type": "stream",
     "text": [
      "(('부산', '남자', 1000),    사원명 출장지역  출장기간   부서  성별   교통비    식비\n",
      "3  강찬혁   부산     3  영업부  남자  1000  2000)\n"
     ]
    }
   ],
   "source": [
    "for item in grouped:\n",
    "    print(item)\n",
    "    break"
   ]
  },
  {
   "cell_type": "code",
   "execution_count": 97,
   "id": "c9bb86fa",
   "metadata": {
    "scrolled": true
   },
   "outputs": [
    {
     "name": "stdout",
     "output_type": "stream",
     "text": [
      "키 :('부산', '남자', 1000)\n",
      "값 : \n"
     ]
    },
    {
     "data": {
      "text/html": [
       "<div>\n",
       "<style scoped>\n",
       "    .dataframe tbody tr th:only-of-type {\n",
       "        vertical-align: middle;\n",
       "    }\n",
       "\n",
       "    .dataframe tbody tr th {\n",
       "        vertical-align: top;\n",
       "    }\n",
       "\n",
       "    .dataframe thead th {\n",
       "        text-align: right;\n",
       "    }\n",
       "</style>\n",
       "<table border=\"1\" class=\"dataframe\">\n",
       "  <thead>\n",
       "    <tr style=\"text-align: right;\">\n",
       "      <th></th>\n",
       "      <th>사원명</th>\n",
       "      <th>출장지역</th>\n",
       "      <th>출장기간</th>\n",
       "      <th>부서</th>\n",
       "      <th>성별</th>\n",
       "      <th>교통비</th>\n",
       "      <th>식비</th>\n",
       "    </tr>\n",
       "  </thead>\n",
       "  <tbody>\n",
       "    <tr>\n",
       "      <th>3</th>\n",
       "      <td>강찬혁</td>\n",
       "      <td>부산</td>\n",
       "      <td>3</td>\n",
       "      <td>영업부</td>\n",
       "      <td>남자</td>\n",
       "      <td>1000</td>\n",
       "      <td>2000</td>\n",
       "    </tr>\n",
       "  </tbody>\n",
       "</table>\n",
       "</div>"
      ],
      "text/plain": [
       "   사원명 출장지역  출장기간   부서  성별   교통비    식비\n",
       "3  강찬혁   부산     3  영업부  남자  1000  2000"
      ]
     },
     "metadata": {},
     "output_type": "display_data"
    },
    {
     "name": "stdout",
     "output_type": "stream",
     "text": [
      "키 :('부산', '남자', 3000)\n",
      "값 : \n"
     ]
    },
    {
     "data": {
      "text/html": [
       "<div>\n",
       "<style scoped>\n",
       "    .dataframe tbody tr th:only-of-type {\n",
       "        vertical-align: middle;\n",
       "    }\n",
       "\n",
       "    .dataframe tbody tr th {\n",
       "        vertical-align: top;\n",
       "    }\n",
       "\n",
       "    .dataframe thead th {\n",
       "        text-align: right;\n",
       "    }\n",
       "</style>\n",
       "<table border=\"1\" class=\"dataframe\">\n",
       "  <thead>\n",
       "    <tr style=\"text-align: right;\">\n",
       "      <th></th>\n",
       "      <th>사원명</th>\n",
       "      <th>출장지역</th>\n",
       "      <th>출장기간</th>\n",
       "      <th>부서</th>\n",
       "      <th>성별</th>\n",
       "      <th>교통비</th>\n",
       "      <th>식비</th>\n",
       "    </tr>\n",
       "  </thead>\n",
       "  <tbody>\n",
       "    <tr>\n",
       "      <th>2</th>\n",
       "      <td>이성진</td>\n",
       "      <td>부산</td>\n",
       "      <td>5</td>\n",
       "      <td>영업부</td>\n",
       "      <td>남자</td>\n",
       "      <td>3000</td>\n",
       "      <td>3000</td>\n",
       "    </tr>\n",
       "  </tbody>\n",
       "</table>\n",
       "</div>"
      ],
      "text/plain": [
       "   사원명 출장지역  출장기간   부서  성별   교통비    식비\n",
       "2  이성진   부산     5  영업부  남자  3000  3000"
      ]
     },
     "metadata": {},
     "output_type": "display_data"
    },
    {
     "name": "stdout",
     "output_type": "stream",
     "text": [
      "키 :('부산', '여자', 1000)\n",
      "값 : \n"
     ]
    },
    {
     "data": {
      "text/html": [
       "<div>\n",
       "<style scoped>\n",
       "    .dataframe tbody tr th:only-of-type {\n",
       "        vertical-align: middle;\n",
       "    }\n",
       "\n",
       "    .dataframe tbody tr th {\n",
       "        vertical-align: top;\n",
       "    }\n",
       "\n",
       "    .dataframe thead th {\n",
       "        text-align: right;\n",
       "    }\n",
       "</style>\n",
       "<table border=\"1\" class=\"dataframe\">\n",
       "  <thead>\n",
       "    <tr style=\"text-align: right;\">\n",
       "      <th></th>\n",
       "      <th>사원명</th>\n",
       "      <th>출장지역</th>\n",
       "      <th>출장기간</th>\n",
       "      <th>부서</th>\n",
       "      <th>성별</th>\n",
       "      <th>교통비</th>\n",
       "      <th>식비</th>\n",
       "    </tr>\n",
       "  </thead>\n",
       "  <tbody>\n",
       "    <tr>\n",
       "      <th>7</th>\n",
       "      <td>선진희</td>\n",
       "      <td>부산</td>\n",
       "      <td>6</td>\n",
       "      <td>전산부</td>\n",
       "      <td>여자</td>\n",
       "      <td>1000</td>\n",
       "      <td>4000</td>\n",
       "    </tr>\n",
       "  </tbody>\n",
       "</table>\n",
       "</div>"
      ],
      "text/plain": [
       "   사원명 출장지역  출장기간   부서  성별   교통비    식비\n",
       "7  선진희   부산     6  전산부  여자  1000  4000"
      ]
     },
     "metadata": {},
     "output_type": "display_data"
    }
   ],
   "source": [
    "cnt = 0\n",
    "print('groupby 객체는 iterable 객체 이므로 반복문이 가능합니다.')\n",
    "for key, value in grouped:\n",
    "    print('키 :' , end ='')\n",
    "    print(key)\n",
    "    print('값 : \\n' , end ='')\n",
    "    display(value)\n",
    "    cnt += 1\n",
    "    if(cnt == 3):break"
   ]
  },
  {
   "cell_type": "markdown",
   "id": "b27406de",
   "metadata": {},
   "source": [
    "<h2><font color=\"red\">누가 누가 잘 하나? \n",
    "</font></h2>"
   ]
  },
  {
   "cell_type": "markdown",
   "id": "b805dbbc",
   "metadata": {},
   "source": [
    "<h3><font color=\"green\">시험 성적 향상표 읽기\n",
    "</font></h3>"
   ]
  },
  {
   "cell_type": "code",
   "execution_count": 100,
   "id": "ca3ac3ac",
   "metadata": {},
   "outputs": [
    {
     "data": {
      "text/html": [
       "<div>\n",
       "<style scoped>\n",
       "    .dataframe tbody tr th:only-of-type {\n",
       "        vertical-align: middle;\n",
       "    }\n",
       "\n",
       "    .dataframe tbody tr th {\n",
       "        vertical-align: top;\n",
       "    }\n",
       "\n",
       "    .dataframe thead th {\n",
       "        text-align: right;\n",
       "    }\n",
       "</style>\n",
       "<table border=\"1\" class=\"dataframe\">\n",
       "  <thead>\n",
       "    <tr style=\"text-align: right;\">\n",
       "      <th></th>\n",
       "      <th>이름</th>\n",
       "      <th>월</th>\n",
       "      <th>주</th>\n",
       "      <th>점수</th>\n",
       "    </tr>\n",
       "  </thead>\n",
       "  <tbody>\n",
       "    <tr>\n",
       "      <th>0</th>\n",
       "      <td>김철수</td>\n",
       "      <td>1월</td>\n",
       "      <td>1주차</td>\n",
       "      <td>64</td>\n",
       "    </tr>\n",
       "    <tr>\n",
       "      <th>1</th>\n",
       "      <td>김철수</td>\n",
       "      <td>1월</td>\n",
       "      <td>2주차</td>\n",
       "      <td>65</td>\n",
       "    </tr>\n",
       "    <tr>\n",
       "      <th>2</th>\n",
       "      <td>김철수</td>\n",
       "      <td>1월</td>\n",
       "      <td>3주차</td>\n",
       "      <td>67</td>\n",
       "    </tr>\n",
       "    <tr>\n",
       "      <th>3</th>\n",
       "      <td>김철수</td>\n",
       "      <td>1월</td>\n",
       "      <td>4주차</td>\n",
       "      <td>67</td>\n",
       "    </tr>\n",
       "    <tr>\n",
       "      <th>4</th>\n",
       "      <td>김철수</td>\n",
       "      <td>2월</td>\n",
       "      <td>1주차</td>\n",
       "      <td>61</td>\n",
       "    </tr>\n",
       "    <tr>\n",
       "      <th>5</th>\n",
       "      <td>김철수</td>\n",
       "      <td>2월</td>\n",
       "      <td>2주차</td>\n",
       "      <td>62</td>\n",
       "    </tr>\n",
       "    <tr>\n",
       "      <th>6</th>\n",
       "      <td>김철수</td>\n",
       "      <td>2월</td>\n",
       "      <td>3주차</td>\n",
       "      <td>63</td>\n",
       "    </tr>\n",
       "    <tr>\n",
       "      <th>7</th>\n",
       "      <td>김철수</td>\n",
       "      <td>2월</td>\n",
       "      <td>4주차</td>\n",
       "      <td>64</td>\n",
       "    </tr>\n",
       "    <tr>\n",
       "      <th>8</th>\n",
       "      <td>김철수</td>\n",
       "      <td>3월</td>\n",
       "      <td>1주차</td>\n",
       "      <td>55</td>\n",
       "    </tr>\n",
       "    <tr>\n",
       "      <th>9</th>\n",
       "      <td>김철수</td>\n",
       "      <td>3월</td>\n",
       "      <td>2주차</td>\n",
       "      <td>55</td>\n",
       "    </tr>\n",
       "  </tbody>\n",
       "</table>\n",
       "</div>"
      ],
      "text/plain": [
       "    이름   월    주  점수\n",
       "0  김철수  1월  1주차  64\n",
       "1  김철수  1월  2주차  65\n",
       "2  김철수  1월  3주차  67\n",
       "3  김철수  1월  4주차  67\n",
       "4  김철수  2월  1주차  61\n",
       "5  김철수  2월  2주차  62\n",
       "6  김철수  2월  3주차  63\n",
       "7  김철수  2월  4주차  64\n",
       "8  김철수  3월  1주차  55\n",
       "9  김철수  3월  2주차  55"
      ]
     },
     "execution_count": 100,
     "metadata": {},
     "output_type": "execute_result"
    }
   ],
   "source": [
    "jumsu_score = pd.read_csv('./../data/시험성적향상표.csv' , encoding ='cp949')\n",
    "jumsu_score.head(10)"
   ]
  },
  {
   "cell_type": "code",
   "execution_count": 101,
   "id": "da0668a4",
   "metadata": {},
   "outputs": [
    {
     "data": {
      "text/html": [
       "<div>\n",
       "<style scoped>\n",
       "    .dataframe tbody tr th:only-of-type {\n",
       "        vertical-align: middle;\n",
       "    }\n",
       "\n",
       "    .dataframe tbody tr th {\n",
       "        vertical-align: top;\n",
       "    }\n",
       "\n",
       "    .dataframe thead th {\n",
       "        text-align: right;\n",
       "    }\n",
       "</style>\n",
       "<table border=\"1\" class=\"dataframe\">\n",
       "  <thead>\n",
       "    <tr style=\"text-align: right;\">\n",
       "      <th></th>\n",
       "      <th>이름</th>\n",
       "      <th>월</th>\n",
       "      <th>주</th>\n",
       "      <th>점수</th>\n",
       "    </tr>\n",
       "  </thead>\n",
       "  <tbody>\n",
       "    <tr>\n",
       "      <th>0</th>\n",
       "      <td>김철수</td>\n",
       "      <td>1월</td>\n",
       "      <td>1주차</td>\n",
       "      <td>64</td>\n",
       "    </tr>\n",
       "    <tr>\n",
       "      <th>1</th>\n",
       "      <td>김철수</td>\n",
       "      <td>1월</td>\n",
       "      <td>2주차</td>\n",
       "      <td>65</td>\n",
       "    </tr>\n",
       "    <tr>\n",
       "      <th>2</th>\n",
       "      <td>김철수</td>\n",
       "      <td>1월</td>\n",
       "      <td>3주차</td>\n",
       "      <td>67</td>\n",
       "    </tr>\n",
       "    <tr>\n",
       "      <th>3</th>\n",
       "      <td>김철수</td>\n",
       "      <td>1월</td>\n",
       "      <td>4주차</td>\n",
       "      <td>67</td>\n",
       "    </tr>\n",
       "    <tr>\n",
       "      <th>16</th>\n",
       "      <td>박영희</td>\n",
       "      <td>1월</td>\n",
       "      <td>1주차</td>\n",
       "      <td>78</td>\n",
       "    </tr>\n",
       "    <tr>\n",
       "      <th>17</th>\n",
       "      <td>박영희</td>\n",
       "      <td>1월</td>\n",
       "      <td>2주차</td>\n",
       "      <td>79</td>\n",
       "    </tr>\n",
       "    <tr>\n",
       "      <th>18</th>\n",
       "      <td>박영희</td>\n",
       "      <td>1월</td>\n",
       "      <td>3주차</td>\n",
       "      <td>81</td>\n",
       "    </tr>\n",
       "    <tr>\n",
       "      <th>19</th>\n",
       "      <td>박영희</td>\n",
       "      <td>1월</td>\n",
       "      <td>4주차</td>\n",
       "      <td>82</td>\n",
       "    </tr>\n",
       "  </tbody>\n",
       "</table>\n",
       "</div>"
      ],
      "text/plain": [
       "     이름   월    주  점수\n",
       "0   김철수  1월  1주차  64\n",
       "1   김철수  1월  2주차  65\n",
       "2   김철수  1월  3주차  67\n",
       "3   김철수  1월  4주차  67\n",
       "16  박영희  1월  1주차  78\n",
       "17  박영희  1월  2주차  79\n",
       "18  박영희  1월  3주차  81\n",
       "19  박영희  1월  4주차  82"
      ]
     },
     "execution_count": 101,
     "metadata": {},
     "output_type": "execute_result"
    }
   ],
   "source": [
    "result = jumsu_score.query('월 == \"1월\"')\n",
    "result"
   ]
  },
  {
   "cell_type": "code",
   "execution_count": 102,
   "id": "9084d2e7",
   "metadata": {},
   "outputs": [
    {
     "data": {
      "text/html": [
       "<div>\n",
       "<style scoped>\n",
       "    .dataframe tbody tr th:only-of-type {\n",
       "        vertical-align: middle;\n",
       "    }\n",
       "\n",
       "    .dataframe tbody tr th {\n",
       "        vertical-align: top;\n",
       "    }\n",
       "\n",
       "    .dataframe thead th {\n",
       "        text-align: right;\n",
       "    }\n",
       "</style>\n",
       "<table border=\"1\" class=\"dataframe\">\n",
       "  <thead>\n",
       "    <tr style=\"text-align: right;\">\n",
       "      <th></th>\n",
       "      <th>이름</th>\n",
       "      <th>월</th>\n",
       "      <th>주</th>\n",
       "      <th>점수</th>\n",
       "    </tr>\n",
       "  </thead>\n",
       "  <tbody>\n",
       "    <tr>\n",
       "      <th>0</th>\n",
       "      <td>김철수</td>\n",
       "      <td>1월</td>\n",
       "      <td>1주차</td>\n",
       "      <td>64</td>\n",
       "    </tr>\n",
       "    <tr>\n",
       "      <th>1</th>\n",
       "      <td>김철수</td>\n",
       "      <td>1월</td>\n",
       "      <td>2주차</td>\n",
       "      <td>65</td>\n",
       "    </tr>\n",
       "    <tr>\n",
       "      <th>2</th>\n",
       "      <td>김철수</td>\n",
       "      <td>1월</td>\n",
       "      <td>3주차</td>\n",
       "      <td>67</td>\n",
       "    </tr>\n",
       "    <tr>\n",
       "      <th>3</th>\n",
       "      <td>김철수</td>\n",
       "      <td>1월</td>\n",
       "      <td>4주차</td>\n",
       "      <td>67</td>\n",
       "    </tr>\n",
       "  </tbody>\n",
       "</table>\n",
       "</div>"
      ],
      "text/plain": [
       "    이름   월    주  점수\n",
       "0  김철수  1월  1주차  64\n",
       "1  김철수  1월  2주차  65\n",
       "2  김철수  1월  3주차  67\n",
       "3  김철수  1월  4주차  67"
      ]
     },
     "execution_count": 102,
     "metadata": {},
     "output_type": "execute_result"
    }
   ],
   "source": [
    "man = jumsu_score.query('이름==\"김철수\" and 월 in [\"1월\"]')\n",
    "man"
   ]
  },
  {
   "cell_type": "code",
   "execution_count": 103,
   "id": "de7df8fc",
   "metadata": {},
   "outputs": [
    {
     "data": {
      "text/html": [
       "<div>\n",
       "<style scoped>\n",
       "    .dataframe tbody tr th:only-of-type {\n",
       "        vertical-align: middle;\n",
       "    }\n",
       "\n",
       "    .dataframe tbody tr th {\n",
       "        vertical-align: top;\n",
       "    }\n",
       "\n",
       "    .dataframe thead th {\n",
       "        text-align: right;\n",
       "    }\n",
       "</style>\n",
       "<table border=\"1\" class=\"dataframe\">\n",
       "  <thead>\n",
       "    <tr style=\"text-align: right;\">\n",
       "      <th></th>\n",
       "      <th>점수</th>\n",
       "    </tr>\n",
       "  </thead>\n",
       "  <tbody>\n",
       "    <tr>\n",
       "      <th>0</th>\n",
       "      <td>64</td>\n",
       "    </tr>\n",
       "    <tr>\n",
       "      <th>1</th>\n",
       "      <td>65</td>\n",
       "    </tr>\n",
       "    <tr>\n",
       "      <th>2</th>\n",
       "      <td>67</td>\n",
       "    </tr>\n",
       "    <tr>\n",
       "      <th>3</th>\n",
       "      <td>67</td>\n",
       "    </tr>\n",
       "  </tbody>\n",
       "</table>\n",
       "</div>"
      ],
      "text/plain": [
       "   점수\n",
       "0  64\n",
       "1  65\n",
       "2  67\n",
       "3  67"
      ]
     },
     "execution_count": 103,
     "metadata": {},
     "output_type": "execute_result"
    }
   ],
   "source": [
    "man['점수'].to_frame()"
   ]
  },
  {
   "cell_type": "code",
   "execution_count": null,
   "id": "983381d2",
   "metadata": {},
   "outputs": [],
   "source": []
  },
  {
   "cell_type": "code",
   "execution_count": 104,
   "id": "04aef371",
   "metadata": {},
   "outputs": [],
   "source": [
    "def jumsu_rate(jumsu):\n",
    "    # x는 매주의 시험 점수, x.iloc[0]는 1번째 주의 시험 점수\n",
    "    return 100*(jumsu - jumsu.iloc[0]) / jumsu.iloc[0]\n",
    "        # (해당주 점수 -1주차 점수) / 1주차점수"
   ]
  },
  {
   "cell_type": "code",
   "execution_count": 105,
   "id": "b115fc44",
   "metadata": {
    "scrolled": true
   },
   "outputs": [
    {
     "data": {
      "text/html": [
       "<div>\n",
       "<style scoped>\n",
       "    .dataframe tbody tr th:only-of-type {\n",
       "        vertical-align: middle;\n",
       "    }\n",
       "\n",
       "    .dataframe tbody tr th {\n",
       "        vertical-align: top;\n",
       "    }\n",
       "\n",
       "    .dataframe thead th {\n",
       "        text-align: right;\n",
       "    }\n",
       "</style>\n",
       "<table border=\"1\" class=\"dataframe\">\n",
       "  <thead>\n",
       "    <tr style=\"text-align: right;\">\n",
       "      <th></th>\n",
       "      <th>점수</th>\n",
       "    </tr>\n",
       "  </thead>\n",
       "  <tbody>\n",
       "    <tr>\n",
       "      <th>0</th>\n",
       "      <td>0.0000</td>\n",
       "    </tr>\n",
       "    <tr>\n",
       "      <th>1</th>\n",
       "      <td>1.5625</td>\n",
       "    </tr>\n",
       "    <tr>\n",
       "      <th>2</th>\n",
       "      <td>4.6875</td>\n",
       "    </tr>\n",
       "    <tr>\n",
       "      <th>3</th>\n",
       "      <td>4.6875</td>\n",
       "    </tr>\n",
       "  </tbody>\n",
       "</table>\n",
       "</div>"
      ],
      "text/plain": [
       "       점수\n",
       "0  0.0000\n",
       "1  1.5625\n",
       "2  4.6875\n",
       "3  4.6875"
      ]
     },
     "execution_count": 105,
     "metadata": {},
     "output_type": "execute_result"
    }
   ],
   "source": [
    "# 함수에 적용 해보기\n",
    "\n",
    "result = jumsu_rate(man['점수'])\n",
    "result.to_frame()"
   ]
  },
  {
   "cell_type": "code",
   "execution_count": null,
   "id": "01dd71fa",
   "metadata": {},
   "outputs": [],
   "source": []
  },
  {
   "cell_type": "code",
   "execution_count": 108,
   "id": "e2f142cb",
   "metadata": {},
   "outputs": [
    {
     "data": {
      "text/html": [
       "<div>\n",
       "<style scoped>\n",
       "    .dataframe tbody tr th:only-of-type {\n",
       "        vertical-align: middle;\n",
       "    }\n",
       "\n",
       "    .dataframe tbody tr th {\n",
       "        vertical-align: top;\n",
       "    }\n",
       "\n",
       "    .dataframe thead th {\n",
       "        text-align: right;\n",
       "    }\n",
       "</style>\n",
       "<table border=\"1\" class=\"dataframe\">\n",
       "  <thead>\n",
       "    <tr style=\"text-align: right;\">\n",
       "      <th></th>\n",
       "      <th>점수</th>\n",
       "    </tr>\n",
       "  </thead>\n",
       "  <tbody>\n",
       "    <tr>\n",
       "      <th>0</th>\n",
       "      <td>0.000000</td>\n",
       "    </tr>\n",
       "    <tr>\n",
       "      <th>1</th>\n",
       "      <td>1.562500</td>\n",
       "    </tr>\n",
       "    <tr>\n",
       "      <th>2</th>\n",
       "      <td>4.687500</td>\n",
       "    </tr>\n",
       "    <tr>\n",
       "      <th>3</th>\n",
       "      <td>4.687500</td>\n",
       "    </tr>\n",
       "    <tr>\n",
       "      <th>4</th>\n",
       "      <td>0.000000</td>\n",
       "    </tr>\n",
       "    <tr>\n",
       "      <th>5</th>\n",
       "      <td>1.639344</td>\n",
       "    </tr>\n",
       "    <tr>\n",
       "      <th>6</th>\n",
       "      <td>3.278689</td>\n",
       "    </tr>\n",
       "    <tr>\n",
       "      <th>7</th>\n",
       "      <td>4.918033</td>\n",
       "    </tr>\n",
       "  </tbody>\n",
       "</table>\n",
       "</div>"
      ],
      "text/plain": [
       "         점수\n",
       "0  0.000000\n",
       "1  1.562500\n",
       "2  4.687500\n",
       "3  4.687500\n",
       "4  0.000000\n",
       "5  1.639344\n",
       "6  3.278689\n",
       "7  4.918033"
      ]
     },
     "execution_count": 108,
     "metadata": {},
     "output_type": "execute_result"
    }
   ],
   "source": [
    "pct_jumsu_score = jumsu_score.groupby(['이름','월'])['점수'].transform(jumsu_rate)\n",
    "result = pct_jumsu_score.head(8)\n",
    "result.to_frame()"
   ]
  },
  {
   "cell_type": "code",
   "execution_count": 109,
   "id": "e934dd82",
   "metadata": {},
   "outputs": [
    {
     "data": {
      "text/html": [
       "<div>\n",
       "<style scoped>\n",
       "    .dataframe tbody tr th:only-of-type {\n",
       "        vertical-align: middle;\n",
       "    }\n",
       "\n",
       "    .dataframe tbody tr th {\n",
       "        vertical-align: top;\n",
       "    }\n",
       "\n",
       "    .dataframe thead th {\n",
       "        text-align: right;\n",
       "    }\n",
       "</style>\n",
       "<table border=\"1\" class=\"dataframe\">\n",
       "  <thead>\n",
       "    <tr style=\"text-align: right;\">\n",
       "      <th></th>\n",
       "      <th>이름</th>\n",
       "      <th>월</th>\n",
       "      <th>주</th>\n",
       "      <th>점수</th>\n",
       "      <th>향상_비율</th>\n",
       "    </tr>\n",
       "  </thead>\n",
       "  <tbody>\n",
       "    <tr>\n",
       "      <th>0</th>\n",
       "      <td>김철수</td>\n",
       "      <td>1월</td>\n",
       "      <td>1주차</td>\n",
       "      <td>64</td>\n",
       "      <td>0.0000</td>\n",
       "    </tr>\n",
       "    <tr>\n",
       "      <th>1</th>\n",
       "      <td>김철수</td>\n",
       "      <td>1월</td>\n",
       "      <td>2주차</td>\n",
       "      <td>65</td>\n",
       "      <td>1.5625</td>\n",
       "    </tr>\n",
       "    <tr>\n",
       "      <th>2</th>\n",
       "      <td>김철수</td>\n",
       "      <td>1월</td>\n",
       "      <td>3주차</td>\n",
       "      <td>67</td>\n",
       "      <td>4.6875</td>\n",
       "    </tr>\n",
       "    <tr>\n",
       "      <th>3</th>\n",
       "      <td>김철수</td>\n",
       "      <td>1월</td>\n",
       "      <td>4주차</td>\n",
       "      <td>67</td>\n",
       "      <td>4.6875</td>\n",
       "    </tr>\n",
       "    <tr>\n",
       "      <th>4</th>\n",
       "      <td>김철수</td>\n",
       "      <td>2월</td>\n",
       "      <td>1주차</td>\n",
       "      <td>61</td>\n",
       "      <td>0.0000</td>\n",
       "    </tr>\n",
       "    <tr>\n",
       "      <th>5</th>\n",
       "      <td>김철수</td>\n",
       "      <td>2월</td>\n",
       "      <td>2주차</td>\n",
       "      <td>62</td>\n",
       "      <td>1.6393</td>\n",
       "    </tr>\n",
       "    <tr>\n",
       "      <th>6</th>\n",
       "      <td>김철수</td>\n",
       "      <td>2월</td>\n",
       "      <td>3주차</td>\n",
       "      <td>63</td>\n",
       "      <td>3.2787</td>\n",
       "    </tr>\n",
       "    <tr>\n",
       "      <th>7</th>\n",
       "      <td>김철수</td>\n",
       "      <td>2월</td>\n",
       "      <td>4주차</td>\n",
       "      <td>64</td>\n",
       "      <td>4.9180</td>\n",
       "    </tr>\n",
       "  </tbody>\n",
       "</table>\n",
       "</div>"
      ],
      "text/plain": [
       "    이름   월    주  점수   향상_비율\n",
       "0  김철수  1월  1주차  64  0.0000\n",
       "1  김철수  1월  2주차  65  1.5625\n",
       "2  김철수  1월  3주차  67  4.6875\n",
       "3  김철수  1월  4주차  67  4.6875\n",
       "4  김철수  2월  1주차  61  0.0000\n",
       "5  김철수  2월  2주차  62  1.6393\n",
       "6  김철수  2월  3주차  63  3.2787\n",
       "7  김철수  2월  4주차  64  4.9180"
      ]
     },
     "execution_count": 109,
     "metadata": {},
     "output_type": "execute_result"
    }
   ],
   "source": [
    "jumsu_score['향상_비율'] = pct_jumsu_score.round(4) #round = 반올림 / round(4) = 소수점 4자리에서 반올림\n",
    "result = jumsu_score.query('이름==\"김철수\"')\n",
    "result.head(8)"
   ]
  },
  {
   "cell_type": "code",
   "execution_count": 110,
   "id": "d6152772",
   "metadata": {},
   "outputs": [
    {
     "data": {
      "text/html": [
       "<div>\n",
       "<style scoped>\n",
       "    .dataframe tbody tr th:only-of-type {\n",
       "        vertical-align: middle;\n",
       "    }\n",
       "\n",
       "    .dataframe tbody tr th {\n",
       "        vertical-align: top;\n",
       "    }\n",
       "\n",
       "    .dataframe thead th {\n",
       "        text-align: right;\n",
       "    }\n",
       "</style>\n",
       "<table border=\"1\" class=\"dataframe\">\n",
       "  <thead>\n",
       "    <tr style=\"text-align: right;\">\n",
       "      <th></th>\n",
       "      <th>이름</th>\n",
       "      <th>월</th>\n",
       "      <th>주</th>\n",
       "      <th>점수</th>\n",
       "      <th>향상_비율</th>\n",
       "    </tr>\n",
       "  </thead>\n",
       "  <tbody>\n",
       "    <tr>\n",
       "      <th>3</th>\n",
       "      <td>김철수</td>\n",
       "      <td>1월</td>\n",
       "      <td>4주차</td>\n",
       "      <td>67</td>\n",
       "      <td>4.6875</td>\n",
       "    </tr>\n",
       "    <tr>\n",
       "      <th>7</th>\n",
       "      <td>김철수</td>\n",
       "      <td>2월</td>\n",
       "      <td>4주차</td>\n",
       "      <td>64</td>\n",
       "      <td>4.9180</td>\n",
       "    </tr>\n",
       "    <tr>\n",
       "      <th>11</th>\n",
       "      <td>김철수</td>\n",
       "      <td>3월</td>\n",
       "      <td>4주차</td>\n",
       "      <td>55</td>\n",
       "      <td>0.0000</td>\n",
       "    </tr>\n",
       "    <tr>\n",
       "      <th>15</th>\n",
       "      <td>김철수</td>\n",
       "      <td>4월</td>\n",
       "      <td>4주차</td>\n",
       "      <td>54</td>\n",
       "      <td>1.8868</td>\n",
       "    </tr>\n",
       "    <tr>\n",
       "      <th>19</th>\n",
       "      <td>박영희</td>\n",
       "      <td>1월</td>\n",
       "      <td>4주차</td>\n",
       "      <td>82</td>\n",
       "      <td>5.1282</td>\n",
       "    </tr>\n",
       "    <tr>\n",
       "      <th>23</th>\n",
       "      <td>박영희</td>\n",
       "      <td>2월</td>\n",
       "      <td>4주차</td>\n",
       "      <td>89</td>\n",
       "      <td>5.9524</td>\n",
       "    </tr>\n",
       "    <tr>\n",
       "      <th>27</th>\n",
       "      <td>박영희</td>\n",
       "      <td>3월</td>\n",
       "      <td>4주차</td>\n",
       "      <td>84</td>\n",
       "      <td>2.4390</td>\n",
       "    </tr>\n",
       "    <tr>\n",
       "      <th>31</th>\n",
       "      <td>박영희</td>\n",
       "      <td>4월</td>\n",
       "      <td>4주차</td>\n",
       "      <td>88</td>\n",
       "      <td>3.5294</td>\n",
       "    </tr>\n",
       "  </tbody>\n",
       "</table>\n",
       "</div>"
      ],
      "text/plain": [
       "     이름   월    주  점수   향상_비율\n",
       "3   김철수  1월  4주차  67  4.6875\n",
       "7   김철수  2월  4주차  64  4.9180\n",
       "11  김철수  3월  4주차  55  0.0000\n",
       "15  김철수  4월  4주차  54  1.8868\n",
       "19  박영희  1월  4주차  82  5.1282\n",
       "23  박영희  2월  4주차  89  5.9524\n",
       "27  박영희  3월  4주차  84  2.4390\n",
       "31  박영희  4월  4주차  88  3.5294"
      ]
     },
     "execution_count": 110,
     "metadata": {},
     "output_type": "execute_result"
    }
   ],
   "source": [
    "week4 = jumsu_score.query('주==\"4주차\"')\n",
    "week4"
   ]
  },
  {
   "cell_type": "code",
   "execution_count": 111,
   "id": "6053f298",
   "metadata": {},
   "outputs": [
    {
     "data": {
      "text/plain": [
       "array(['1월', '2월', '3월', '4월'], dtype=object)"
      ]
     },
     "execution_count": 111,
     "metadata": {},
     "output_type": "execute_result"
    }
   ],
   "source": [
    "week4copy = week4.copy()\n",
    "month_unique = week4copy['월'].unique()\n",
    "month_unique"
   ]
  },
  {
   "cell_type": "code",
   "execution_count": 114,
   "id": "fac5da48",
   "metadata": {},
   "outputs": [
    {
     "data": {
      "text/html": [
       "<div>\n",
       "<style scoped>\n",
       "    .dataframe tbody tr th:only-of-type {\n",
       "        vertical-align: middle;\n",
       "    }\n",
       "\n",
       "    .dataframe tbody tr th {\n",
       "        vertical-align: top;\n",
       "    }\n",
       "\n",
       "    .dataframe thead th {\n",
       "        text-align: right;\n",
       "    }\n",
       "</style>\n",
       "<table border=\"1\" class=\"dataframe\">\n",
       "  <thead>\n",
       "    <tr style=\"text-align: right;\">\n",
       "      <th>이름</th>\n",
       "      <th>김철수</th>\n",
       "      <th>박영희</th>\n",
       "    </tr>\n",
       "    <tr>\n",
       "      <th>월</th>\n",
       "      <th></th>\n",
       "      <th></th>\n",
       "    </tr>\n",
       "  </thead>\n",
       "  <tbody>\n",
       "    <tr>\n",
       "      <th>1월</th>\n",
       "      <td>4.6875</td>\n",
       "      <td>5.1282</td>\n",
       "    </tr>\n",
       "    <tr>\n",
       "      <th>2월</th>\n",
       "      <td>4.9180</td>\n",
       "      <td>5.9524</td>\n",
       "    </tr>\n",
       "    <tr>\n",
       "      <th>3월</th>\n",
       "      <td>0.0000</td>\n",
       "      <td>2.4390</td>\n",
       "    </tr>\n",
       "    <tr>\n",
       "      <th>4월</th>\n",
       "      <td>1.8868</td>\n",
       "      <td>3.5294</td>\n",
       "    </tr>\n",
       "  </tbody>\n",
       "</table>\n",
       "</div>"
      ],
      "text/plain": [
       "이름     김철수     박영희\n",
       "월                 \n",
       "1월  4.6875  5.1282\n",
       "2월  4.9180  5.9524\n",
       "3월  0.0000  2.4390\n",
       "4월  1.8868  3.5294"
      ]
     },
     "execution_count": 114,
     "metadata": {},
     "output_type": "execute_result"
    }
   ],
   "source": [
    "winner = week4copy.pivot(index='월', columns='이름', values='향상_비율')\n",
    "winner"
   ]
  },
  {
   "cell_type": "code",
   "execution_count": 115,
   "id": "bf20abd4",
   "metadata": {
    "scrolled": true
   },
   "outputs": [
    {
     "data": {
      "text/html": [
       "<div>\n",
       "<style scoped>\n",
       "    .dataframe tbody tr th:only-of-type {\n",
       "        vertical-align: middle;\n",
       "    }\n",
       "\n",
       "    .dataframe tbody tr th {\n",
       "        vertical-align: top;\n",
       "    }\n",
       "\n",
       "    .dataframe thead th {\n",
       "        text-align: right;\n",
       "    }\n",
       "</style>\n",
       "<table border=\"1\" class=\"dataframe\">\n",
       "  <thead>\n",
       "    <tr style=\"text-align: right;\">\n",
       "      <th>이름</th>\n",
       "      <th>김철수</th>\n",
       "      <th>박영희</th>\n",
       "      <th>성적우수자</th>\n",
       "    </tr>\n",
       "    <tr>\n",
       "      <th>월</th>\n",
       "      <th></th>\n",
       "      <th></th>\n",
       "      <th></th>\n",
       "    </tr>\n",
       "  </thead>\n",
       "  <tbody>\n",
       "    <tr>\n",
       "      <th>1월</th>\n",
       "      <td>4.6875</td>\n",
       "      <td>5.1282</td>\n",
       "      <td>박영희</td>\n",
       "    </tr>\n",
       "    <tr>\n",
       "      <th>2월</th>\n",
       "      <td>4.9180</td>\n",
       "      <td>5.9524</td>\n",
       "      <td>박영희</td>\n",
       "    </tr>\n",
       "    <tr>\n",
       "      <th>3월</th>\n",
       "      <td>0.0000</td>\n",
       "      <td>2.4390</td>\n",
       "      <td>박영희</td>\n",
       "    </tr>\n",
       "    <tr>\n",
       "      <th>4월</th>\n",
       "      <td>1.8868</td>\n",
       "      <td>3.5294</td>\n",
       "      <td>박영희</td>\n",
       "    </tr>\n",
       "  </tbody>\n",
       "</table>\n",
       "</div>"
      ],
      "text/plain": [
       "이름     김철수     박영희 성적우수자\n",
       "월                       \n",
       "1월  4.6875  5.1282   박영희\n",
       "2월  4.9180  5.9524   박영희\n",
       "3월  0.0000  2.4390   박영희\n",
       "4월  1.8868  3.5294   박영희"
      ]
     },
     "execution_count": 115,
     "metadata": {},
     "output_type": "execute_result"
    }
   ],
   "source": [
    "winner['성적우수자']= np.where(winner['김철수']> winner['박영희'],\n",
    "                         '김철수','박영희')\n",
    "winner"
   ]
  },
  {
   "cell_type": "markdown",
   "id": "66a7691e",
   "metadata": {},
   "source": [
    "<h2><font color=\"red\">연속형 변수의 범주화와 그룹핑 \n",
    "</font></h2>"
   ]
  },
  {
   "cell_type": "code",
   "execution_count": 117,
   "id": "2646d41c",
   "metadata": {},
   "outputs": [
    {
     "data": {
      "text/plain": [
       "Index(['성별', '생일', '결혼 유무', '종교 유무', '직업 코드', '소득', '지역구', '나이', '직업', '연령대',\n",
       "       '점수', '신용'],\n",
       "      dtype='object')"
      ]
     },
     "execution_count": 117,
     "metadata": {},
     "output_type": "execute_result"
    }
   ],
   "source": [
    "welfare = pd.read_csv('./../data/welfareCleanNew.csv', encoding='cp949')\n",
    "welfare.columns"
   ]
  },
  {
   "cell_type": "code",
   "execution_count": 118,
   "id": "fc03a1d0",
   "metadata": {},
   "outputs": [
    {
     "data": {
      "text/plain": [
       "array(['무응답', '이혼', '결혼'], dtype=object)"
      ]
     },
     "execution_count": 118,
     "metadata": {},
     "output_type": "execute_result"
    }
   ],
   "source": [
    "welfare['결혼 유무'].unique()"
   ]
  },
  {
   "cell_type": "code",
   "execution_count": 119,
   "id": "81c91f35",
   "metadata": {},
   "outputs": [
    {
     "data": {
      "text/html": [
       "<div>\n",
       "<style scoped>\n",
       "    .dataframe tbody tr th:only-of-type {\n",
       "        vertical-align: middle;\n",
       "    }\n",
       "\n",
       "    .dataframe tbody tr th {\n",
       "        vertical-align: top;\n",
       "    }\n",
       "\n",
       "    .dataframe thead th {\n",
       "        text-align: right;\n",
       "    }\n",
       "</style>\n",
       "<table border=\"1\" class=\"dataframe\">\n",
       "  <thead>\n",
       "    <tr style=\"text-align: right;\">\n",
       "      <th></th>\n",
       "      <th>소득</th>\n",
       "    </tr>\n",
       "    <tr>\n",
       "      <th>결혼 유무</th>\n",
       "      <th></th>\n",
       "    </tr>\n",
       "  </thead>\n",
       "  <tbody>\n",
       "    <tr>\n",
       "      <th>결혼</th>\n",
       "      <td>259.935812</td>\n",
       "    </tr>\n",
       "    <tr>\n",
       "      <th>무응답</th>\n",
       "      <td>198.124863</td>\n",
       "    </tr>\n",
       "    <tr>\n",
       "      <th>이혼</th>\n",
       "      <td>196.780643</td>\n",
       "    </tr>\n",
       "  </tbody>\n",
       "</table>\n",
       "</div>"
      ],
      "text/plain": [
       "               소득\n",
       "결혼 유무            \n",
       "결혼     259.935812\n",
       "무응답    198.124863\n",
       "이혼     196.780643"
      ]
     },
     "execution_count": 119,
     "metadata": {},
     "output_type": "execute_result"
    }
   ],
   "source": [
    "chartdata = welfare.groupby('결혼 유무')['소득'].mean()\n",
    "chartdata.to_frame()"
   ]
  },
  {
   "cell_type": "code",
   "execution_count": 120,
   "id": "ccd5df49",
   "metadata": {},
   "outputs": [],
   "source": [
    "import matplotlib.pyplot as plt\n",
    "plt.rc('font', family='Malgun Gothic')"
   ]
  },
  {
   "cell_type": "code",
   "execution_count": 124,
   "id": "aafc3bec",
   "metadata": {},
   "outputs": [
    {
     "data": {
      "text/plain": [
       "Text(0.5, 1.0, '평균소득')"
      ]
     },
     "execution_count": 124,
     "metadata": {},
     "output_type": "execute_result"
    },
    {
     "data": {
      "image/png": "[encoded data removed]",
      "text/plain": [
       "<Figure size 640x480 with 1 Axes>"
      ]
     },
     "metadata": {},
     "output_type": "display_data"
    }
   ],
   "source": [
    "mylabel = chartdata.index\n",
    "mycolors = ['r','y','b']\n",
    "chartdata.plot(kind='pie', labels=mylabel, shadow=True , explode=(0, 0.05, 0),\n",
    "                colors=mycolors, autopct='%1.2f%%', startangle=90, counterclock=False)\n",
    "\n",
    "plt.grid(True)\n",
    "plt.legend(loc=4)\n",
    "plt.xlabel(chartdata.index.name)\n",
    "plt.title('평균' + chartdata.name)"
   ]
  },
  {
   "cell_type": "code",
   "execution_count": 126,
   "id": "de68ffe3",
   "metadata": {
    "scrolled": true
   },
   "outputs": [
    {
     "data": {
      "text/plain": [
       "Text(0.5, 1.0, '산점도 : 소득 vs 나이')"
      ]
     },
     "execution_count": 126,
     "metadata": {},
     "output_type": "execute_result"
    },
    {
     "data": {
      "image/png": "[encoded data removed]",
      "text/plain": [
       "<Figure size 1000x500 with 1 Axes>"
      ]
     },
     "metadata": {},
     "output_type": "display_data"
    }
   ],
   "source": [
    "welfare.plot(kind='scatter',x='소득',y='나이',c='LightCoral',\n",
    "            s=10, figsize=(10,5))\n",
    "\n",
    "plt.title('산점도 : 소득 vs 나이')"
   ]
  },
  {
   "cell_type": "code",
   "execution_count": 129,
   "id": "d0764eef",
   "metadata": {},
   "outputs": [
    {
     "data": {
      "text/plain": [
       "Text(0.5, 1.0, '결혼 유무별 소득(박스 플롯)')"
      ]
     },
     "execution_count": 129,
     "metadata": {},
     "output_type": "execute_result"
    },
    {
     "data": {
      "image/png": "[encoded data removed]",
      "text/plain": [
       "<Figure size 640x480 with 1 Axes>"
      ]
     },
     "metadata": {},
     "output_type": "display_data"
    }
   ],
   "source": [
    "plt.boxplot(x=[welfare[welfare['결혼 유무']=='결혼']['소득'],\n",
    "               welfare[welfare['결혼 유무']=='이혼']['소득'],\n",
    "               welfare[welfare['결혼 유무']=='무응답']['소득']], \n",
    "         labels=['결혼', '이혼', '무응답'], vert=False)\n",
    "\n",
    "plt.title('결혼 유무별 소득(박스 플롯)')"
   ]
  },
  {
   "cell_type": "code",
   "execution_count": 132,
   "id": "0168177b",
   "metadata": {},
   "outputs": [
    {
     "data": {
      "text/html": [
       "<div>\n",
       "<style scoped>\n",
       "    .dataframe tbody tr th:only-of-type {\n",
       "        vertical-align: middle;\n",
       "    }\n",
       "\n",
       "    .dataframe tbody tr th {\n",
       "        vertical-align: top;\n",
       "    }\n",
       "\n",
       "    .dataframe thead th {\n",
       "        text-align: right;\n",
       "    }\n",
       "</style>\n",
       "<table border=\"1\" class=\"dataframe\">\n",
       "  <thead>\n",
       "    <tr style=\"text-align: right;\">\n",
       "      <th></th>\n",
       "      <th>소득</th>\n",
       "    </tr>\n",
       "  </thead>\n",
       "  <tbody>\n",
       "    <tr>\n",
       "      <th>count</th>\n",
       "      <td>7529.000000</td>\n",
       "    </tr>\n",
       "    <tr>\n",
       "      <th>mean</th>\n",
       "      <td>241.619016</td>\n",
       "    </tr>\n",
       "    <tr>\n",
       "      <th>std</th>\n",
       "      <td>144.679991</td>\n",
       "    </tr>\n",
       "    <tr>\n",
       "      <th>min</th>\n",
       "      <td>0.000000</td>\n",
       "    </tr>\n",
       "    <tr>\n",
       "      <th>25%</th>\n",
       "      <td>162.600000</td>\n",
       "    </tr>\n",
       "    <tr>\n",
       "      <th>50%</th>\n",
       "      <td>241.619016</td>\n",
       "    </tr>\n",
       "    <tr>\n",
       "      <th>75%</th>\n",
       "      <td>241.619016</td>\n",
       "    </tr>\n",
       "    <tr>\n",
       "      <th>max</th>\n",
       "      <td>2400.000000</td>\n",
       "    </tr>\n",
       "  </tbody>\n",
       "</table>\n",
       "</div>"
      ],
      "text/plain": [
       "                소득\n",
       "count  7529.000000\n",
       "mean    241.619016\n",
       "std     144.679991\n",
       "min       0.000000\n",
       "25%     162.600000\n",
       "50%     241.619016\n",
       "75%     241.619016\n",
       "max    2400.000000"
      ]
     },
     "execution_count": 132,
     "metadata": {},
     "output_type": "execute_result"
    }
   ],
   "source": [
    "welfare['소득'].describe().to_frame()"
   ]
  },
  {
   "cell_type": "code",
   "execution_count": 135,
   "id": "4d97f9cf",
   "metadata": {},
   "outputs": [
    {
     "data": {
      "text/html": [
       "<div>\n",
       "<style scoped>\n",
       "    .dataframe tbody tr th:only-of-type {\n",
       "        vertical-align: middle;\n",
       "    }\n",
       "\n",
       "    .dataframe tbody tr th {\n",
       "        vertical-align: top;\n",
       "    }\n",
       "\n",
       "    .dataframe thead th {\n",
       "        text-align: right;\n",
       "    }\n",
       "</style>\n",
       "<table border=\"1\" class=\"dataframe\">\n",
       "  <thead>\n",
       "    <tr style=\"text-align: right;\">\n",
       "      <th></th>\n",
       "      <th>소득</th>\n",
       "    </tr>\n",
       "  </thead>\n",
       "  <tbody>\n",
       "    <tr>\n",
       "      <th>881</th>\n",
       "      <td>2400.00</td>\n",
       "    </tr>\n",
       "    <tr>\n",
       "      <th>7136</th>\n",
       "      <td>1853.30</td>\n",
       "    </tr>\n",
       "    <tr>\n",
       "      <th>7250</th>\n",
       "      <td>1678.70</td>\n",
       "    </tr>\n",
       "    <tr>\n",
       "      <th>5484</th>\n",
       "      <td>1666.70</td>\n",
       "    </tr>\n",
       "    <tr>\n",
       "      <th>2409</th>\n",
       "      <td>1666.66</td>\n",
       "    </tr>\n",
       "    <tr>\n",
       "      <th>4740</th>\n",
       "      <td>1416.70</td>\n",
       "    </tr>\n",
       "    <tr>\n",
       "      <th>5488</th>\n",
       "      <td>1374.00</td>\n",
       "    </tr>\n",
       "    <tr>\n",
       "      <th>5485</th>\n",
       "      <td>1250.00</td>\n",
       "    </tr>\n",
       "    <tr>\n",
       "      <th>7526</th>\n",
       "      <td>1250.00</td>\n",
       "    </tr>\n",
       "    <tr>\n",
       "      <th>4747</th>\n",
       "      <td>1226.70</td>\n",
       "    </tr>\n",
       "    <tr>\n",
       "      <th>5605</th>\n",
       "      <td>1208.00</td>\n",
       "    </tr>\n",
       "    <tr>\n",
       "      <th>776</th>\n",
       "      <td>1150.00</td>\n",
       "    </tr>\n",
       "    <tr>\n",
       "      <th>4737</th>\n",
       "      <td>1135.00</td>\n",
       "    </tr>\n",
       "    <tr>\n",
       "      <th>3164</th>\n",
       "      <td>1095.30</td>\n",
       "    </tr>\n",
       "    <tr>\n",
       "      <th>7321</th>\n",
       "      <td>1084.00</td>\n",
       "    </tr>\n",
       "    <tr>\n",
       "      <th>4734</th>\n",
       "      <td>1083.30</td>\n",
       "    </tr>\n",
       "    <tr>\n",
       "      <th>1890</th>\n",
       "      <td>1069.60</td>\n",
       "    </tr>\n",
       "    <tr>\n",
       "      <th>5654</th>\n",
       "      <td>1043.30</td>\n",
       "    </tr>\n",
       "    <tr>\n",
       "      <th>7423</th>\n",
       "      <td>1033.00</td>\n",
       "    </tr>\n",
       "    <tr>\n",
       "      <th>7300</th>\n",
       "      <td>1026.00</td>\n",
       "    </tr>\n",
       "  </tbody>\n",
       "</table>\n",
       "</div>"
      ],
      "text/plain": [
       "           소득\n",
       "881   2400.00\n",
       "7136  1853.30\n",
       "7250  1678.70\n",
       "5484  1666.70\n",
       "2409  1666.66\n",
       "4740  1416.70\n",
       "5488  1374.00\n",
       "5485  1250.00\n",
       "7526  1250.00\n",
       "4747  1226.70\n",
       "5605  1208.00\n",
       "776   1150.00\n",
       "4737  1135.00\n",
       "3164  1095.30\n",
       "7321  1084.00\n",
       "4734  1083.30\n",
       "1890  1069.60\n",
       "5654  1043.30\n",
       "7423  1033.00\n",
       "7300  1026.00"
      ]
     },
     "execution_count": 135,
     "metadata": {},
     "output_type": "execute_result"
    }
   ],
   "source": [
    "welfare['소득'].sort_values(ascending=False).head(20).to_frame()"
   ]
  },
  {
   "cell_type": "code",
   "execution_count": 137,
   "id": "d70baaf7",
   "metadata": {
    "scrolled": true
   },
   "outputs": [
    {
     "name": "stdout",
     "output_type": "stream",
     "text": [
      "1150.0\n",
      "0.0\n"
     ]
    }
   ],
   "source": [
    "welfare = welfare.loc[welfare['소득'] <= 1200]\n",
    "print(str(welfare['소득'].max()))\n",
    "print(str(welfare['소득'].min()))"
   ]
  },
  {
   "cell_type": "code",
   "execution_count": 139,
   "id": "857f1f7c",
   "metadata": {
    "scrolled": true
   },
   "outputs": [
    {
     "data": {
      "text/plain": [
       "Text(0.5, 0, '소득')"
      ]
     },
     "execution_count": 139,
     "metadata": {},
     "output_type": "execute_result"
    },
    {
     "data": {
      "image/png": "[encoded data removed]",
      "text/plain": [
       "<Figure size 1000x500 with 1 Axes>"
      ]
     },
     "metadata": {},
     "output_type": "display_data"
    }
   ],
   "source": [
    "welfare['소득'].plot(kind='hist', bins = 50, color = 'r', figsize = (10,5))\n",
    "plt.title('소득 Histogram')\n",
    "plt.xlabel('소득')"
   ]
  },
  {
   "cell_type": "code",
   "execution_count": 140,
   "id": "b3bd0352",
   "metadata": {},
   "outputs": [
    {
     "name": "stdout",
     "output_type": "stream",
     "text": [
      "1150.0\n",
      "0.0\n"
     ]
    }
   ],
   "source": [
    "print(str(welfare['소득'].max()))\n",
    "print(str(welfare['소득'].min()))"
   ]
  },
  {
   "cell_type": "code",
   "execution_count": 141,
   "id": "8553ae26",
   "metadata": {
    "scrolled": true
   },
   "outputs": [
    {
     "data": {
      "text/plain": [
       "0     (-inf, 200.0]\n",
       "1    (200.0, 500.0]\n",
       "2     (-inf, 200.0]\n",
       "3     (-inf, 200.0]\n",
       "4     (-inf, 200.0]\n",
       "Name: 소득, dtype: category\n",
       "Categories (5, interval[float64, right]): [(-inf, 200.0] < (200.0, 500.0] < (500.0, 700.0] < (700.0, 1000.0] < (1000.0, inf]]"
      ]
     },
     "execution_count": 141,
     "metadata": {},
     "output_type": "execute_result"
    }
   ],
   "source": [
    "bins = [-np.inf, 200, 500, 700, 1000, np.inf]\n",
    "cuts = pd.cut(welfare['소득'], bins=bins)\n",
    "cuts.head()"
   ]
  },
  {
   "cell_type": "code",
   "execution_count": 142,
   "id": "0f1478d2",
   "metadata": {},
   "outputs": [
    {
     "data": {
      "text/html": [
       "<div>\n",
       "<style scoped>\n",
       "    .dataframe tbody tr th:only-of-type {\n",
       "        vertical-align: middle;\n",
       "    }\n",
       "\n",
       "    .dataframe tbody tr th {\n",
       "        vertical-align: top;\n",
       "    }\n",
       "\n",
       "    .dataframe thead th {\n",
       "        text-align: right;\n",
       "    }\n",
       "</style>\n",
       "<table border=\"1\" class=\"dataframe\">\n",
       "  <thead>\n",
       "    <tr style=\"text-align: right;\">\n",
       "      <th></th>\n",
       "      <th>소득</th>\n",
       "    </tr>\n",
       "  </thead>\n",
       "  <tbody>\n",
       "    <tr>\n",
       "      <th>(200.0, 500.0]</th>\n",
       "      <td>4657</td>\n",
       "    </tr>\n",
       "    <tr>\n",
       "      <th>(-inf, 200.0]</th>\n",
       "      <td>2473</td>\n",
       "    </tr>\n",
       "    <tr>\n",
       "      <th>(500.0, 700.0]</th>\n",
       "      <td>280</td>\n",
       "    </tr>\n",
       "    <tr>\n",
       "      <th>(700.0, 1000.0]</th>\n",
       "      <td>98</td>\n",
       "    </tr>\n",
       "    <tr>\n",
       "      <th>(1000.0, inf]</th>\n",
       "      <td>10</td>\n",
       "    </tr>\n",
       "  </tbody>\n",
       "</table>\n",
       "</div>"
      ],
      "text/plain": [
       "                   소득\n",
       "(200.0, 500.0]   4657\n",
       "(-inf, 200.0]    2473\n",
       "(500.0, 700.0]    280\n",
       "(700.0, 1000.0]    98\n",
       "(1000.0, inf]      10"
      ]
     },
     "execution_count": 142,
     "metadata": {},
     "output_type": "execute_result"
    }
   ],
   "source": [
    "cuts.value_counts().to_frame()"
   ]
  },
  {
   "cell_type": "code",
   "execution_count": 143,
   "id": "7a8af6e6",
   "metadata": {
    "scrolled": false
   },
   "outputs": [
    {
     "data": {
      "text/html": [
       "<div>\n",
       "<style scoped>\n",
       "    .dataframe tbody tr th:only-of-type {\n",
       "        vertical-align: middle;\n",
       "    }\n",
       "\n",
       "    .dataframe tbody tr th {\n",
       "        vertical-align: top;\n",
       "    }\n",
       "\n",
       "    .dataframe thead th {\n",
       "        text-align: right;\n",
       "    }\n",
       "</style>\n",
       "<table border=\"1\" class=\"dataframe\">\n",
       "  <thead>\n",
       "    <tr style=\"text-align: right;\">\n",
       "      <th></th>\n",
       "      <th></th>\n",
       "      <th>성별</th>\n",
       "    </tr>\n",
       "    <tr>\n",
       "      <th>소득</th>\n",
       "      <th>성별</th>\n",
       "      <th></th>\n",
       "    </tr>\n",
       "  </thead>\n",
       "  <tbody>\n",
       "    <tr>\n",
       "      <th rowspan=\"2\" valign=\"top\">(-inf, 200.0]</th>\n",
       "      <th>여성</th>\n",
       "      <td>68.62</td>\n",
       "    </tr>\n",
       "    <tr>\n",
       "      <th>남성</th>\n",
       "      <td>31.38</td>\n",
       "    </tr>\n",
       "    <tr>\n",
       "      <th rowspan=\"2\" valign=\"top\">(200.0, 500.0]</th>\n",
       "      <th>남성</th>\n",
       "      <td>62.47</td>\n",
       "    </tr>\n",
       "    <tr>\n",
       "      <th>여성</th>\n",
       "      <td>37.53</td>\n",
       "    </tr>\n",
       "    <tr>\n",
       "      <th rowspan=\"2\" valign=\"top\">(500.0, 700.0]</th>\n",
       "      <th>남성</th>\n",
       "      <td>83.57</td>\n",
       "    </tr>\n",
       "    <tr>\n",
       "      <th>여성</th>\n",
       "      <td>16.43</td>\n",
       "    </tr>\n",
       "    <tr>\n",
       "      <th rowspan=\"2\" valign=\"top\">(700.0, 1000.0]</th>\n",
       "      <th>남성</th>\n",
       "      <td>89.80</td>\n",
       "    </tr>\n",
       "    <tr>\n",
       "      <th>여성</th>\n",
       "      <td>10.20</td>\n",
       "    </tr>\n",
       "    <tr>\n",
       "      <th>(1000.0, inf]</th>\n",
       "      <th>남성</th>\n",
       "      <td>100.00</td>\n",
       "    </tr>\n",
       "  </tbody>\n",
       "</table>\n",
       "</div>"
      ],
      "text/plain": [
       "                        성별\n",
       "소득              성별        \n",
       "(-inf, 200.0]   여성   68.62\n",
       "                남성   31.38\n",
       "(200.0, 500.0]  남성   62.47\n",
       "                여성   37.53\n",
       "(500.0, 700.0]  남성   83.57\n",
       "                여성   16.43\n",
       "(700.0, 1000.0] 남성   89.80\n",
       "                여성   10.20\n",
       "(1000.0, inf]   남성  100.00"
      ]
     },
     "execution_count": 143,
     "metadata": {},
     "output_type": "execute_result"
    }
   ],
   "source": [
    "result = 100 * welfare.groupby(cuts)['성별'].value_counts(normalize=True).round(4)\n",
    "result.to_frame()"
   ]
  },
  {
   "cell_type": "code",
   "execution_count": 145,
   "id": "ffa7faa6",
   "metadata": {},
   "outputs": [
    {
     "data": {
      "text/html": [
       "<div>\n",
       "<style scoped>\n",
       "    .dataframe tbody tr th:only-of-type {\n",
       "        vertical-align: middle;\n",
       "    }\n",
       "\n",
       "    .dataframe tbody tr th {\n",
       "        vertical-align: top;\n",
       "    }\n",
       "\n",
       "    .dataframe thead th {\n",
       "        text-align: right;\n",
       "    }\n",
       "</style>\n",
       "<table border=\"1\" class=\"dataframe\">\n",
       "  <thead>\n",
       "    <tr style=\"text-align: right;\">\n",
       "      <th></th>\n",
       "      <th></th>\n",
       "      <th>소득</th>\n",
       "    </tr>\n",
       "    <tr>\n",
       "      <th>소득</th>\n",
       "      <th></th>\n",
       "      <th></th>\n",
       "    </tr>\n",
       "  </thead>\n",
       "  <tbody>\n",
       "    <tr>\n",
       "      <th rowspan=\"3\" valign=\"top\">(-inf, 200.0]</th>\n",
       "      <th>0.25</th>\n",
       "      <td>81.2000</td>\n",
       "    </tr>\n",
       "    <tr>\n",
       "      <th>0.50</th>\n",
       "      <td>129.1000</td>\n",
       "    </tr>\n",
       "    <tr>\n",
       "      <th>0.75</th>\n",
       "      <td>160.8000</td>\n",
       "    </tr>\n",
       "    <tr>\n",
       "      <th rowspan=\"3\" valign=\"top\">(200.0, 500.0]</th>\n",
       "      <th>0.25</th>\n",
       "      <td>241.6190</td>\n",
       "    </tr>\n",
       "    <tr>\n",
       "      <th>0.50</th>\n",
       "      <td>241.6190</td>\n",
       "    </tr>\n",
       "    <tr>\n",
       "      <th>0.75</th>\n",
       "      <td>258.3000</td>\n",
       "    </tr>\n",
       "    <tr>\n",
       "      <th rowspan=\"3\" valign=\"top\">(500.0, 700.0]</th>\n",
       "      <th>0.25</th>\n",
       "      <td>530.0000</td>\n",
       "    </tr>\n",
       "    <tr>\n",
       "      <th>0.50</th>\n",
       "      <td>579.0000</td>\n",
       "    </tr>\n",
       "    <tr>\n",
       "      <th>0.75</th>\n",
       "      <td>625.2075</td>\n",
       "    </tr>\n",
       "    <tr>\n",
       "      <th rowspan=\"3\" valign=\"top\">(700.0, 1000.0]</th>\n",
       "      <th>0.25</th>\n",
       "      <td>750.0000</td>\n",
       "    </tr>\n",
       "    <tr>\n",
       "      <th>0.50</th>\n",
       "      <td>821.6000</td>\n",
       "    </tr>\n",
       "    <tr>\n",
       "      <th>0.75</th>\n",
       "      <td>888.4725</td>\n",
       "    </tr>\n",
       "    <tr>\n",
       "      <th rowspan=\"3\" valign=\"top\">(1000.0, inf]</th>\n",
       "      <th>0.25</th>\n",
       "      <td>1035.5750</td>\n",
       "    </tr>\n",
       "    <tr>\n",
       "      <th>0.50</th>\n",
       "      <td>1076.4500</td>\n",
       "    </tr>\n",
       "    <tr>\n",
       "      <th>0.75</th>\n",
       "      <td>1092.4750</td>\n",
       "    </tr>\n",
       "  </tbody>\n",
       "</table>\n",
       "</div>"
      ],
      "text/plain": [
       "                             소득\n",
       "소득                             \n",
       "(-inf, 200.0]   0.25    81.2000\n",
       "                0.50   129.1000\n",
       "                0.75   160.8000\n",
       "(200.0, 500.0]  0.25   241.6190\n",
       "                0.50   241.6190\n",
       "                0.75   258.3000\n",
       "(500.0, 700.0]  0.25   530.0000\n",
       "                0.50   579.0000\n",
       "                0.75   625.2075\n",
       "(700.0, 1000.0] 0.25   750.0000\n",
       "                0.50   821.6000\n",
       "                0.75   888.4725\n",
       "(1000.0, inf]   0.25  1035.5750\n",
       "                0.50  1076.4500\n",
       "                0.75  1092.4750"
      ]
     },
     "execution_count": 145,
     "metadata": {},
     "output_type": "execute_result"
    }
   ],
   "source": [
    "result = welfare.groupby(cuts)['소득'].quantile(q=[.25,.5,.75]).round(4)\n",
    "result.to_frame()"
   ]
  },
  {
   "cell_type": "code",
   "execution_count": 147,
   "id": "8b2c9f3e",
   "metadata": {},
   "outputs": [
    {
     "data": {
      "text/html": [
       "<div>\n",
       "<style scoped>\n",
       "    .dataframe tbody tr th:only-of-type {\n",
       "        vertical-align: middle;\n",
       "    }\n",
       "\n",
       "    .dataframe tbody tr th {\n",
       "        vertical-align: top;\n",
       "    }\n",
       "\n",
       "    .dataframe thead th {\n",
       "        text-align: right;\n",
       "    }\n",
       "</style>\n",
       "<table border=\"1\" class=\"dataframe\">\n",
       "  <thead>\n",
       "    <tr style=\"text-align: right;\">\n",
       "      <th></th>\n",
       "      <th>성별</th>\n",
       "      <th>지역구</th>\n",
       "      <th>나이</th>\n",
       "      <th>소득</th>\n",
       "      <th>범주형소득</th>\n",
       "    </tr>\n",
       "  </thead>\n",
       "  <tbody>\n",
       "    <tr>\n",
       "      <th>0</th>\n",
       "      <td>남성</td>\n",
       "      <td>서울</td>\n",
       "      <td>73</td>\n",
       "      <td>120.0</td>\n",
       "      <td>저소득</td>\n",
       "    </tr>\n",
       "    <tr>\n",
       "      <th>1</th>\n",
       "      <td>남성</td>\n",
       "      <td>서울</td>\n",
       "      <td>76</td>\n",
       "      <td>220.2</td>\n",
       "      <td>중저소득</td>\n",
       "    </tr>\n",
       "    <tr>\n",
       "      <th>2</th>\n",
       "      <td>남성</td>\n",
       "      <td>서울</td>\n",
       "      <td>75</td>\n",
       "      <td>139.0</td>\n",
       "      <td>저소득</td>\n",
       "    </tr>\n",
       "    <tr>\n",
       "      <th>3</th>\n",
       "      <td>남성</td>\n",
       "      <td>서울</td>\n",
       "      <td>68</td>\n",
       "      <td>150.0</td>\n",
       "      <td>저소득</td>\n",
       "    </tr>\n",
       "    <tr>\n",
       "      <th>4</th>\n",
       "      <td>남성</td>\n",
       "      <td>서울</td>\n",
       "      <td>61</td>\n",
       "      <td>166.0</td>\n",
       "      <td>저소득</td>\n",
       "    </tr>\n",
       "  </tbody>\n",
       "</table>\n",
       "</div>"
      ],
      "text/plain": [
       "   성별 지역구  나이     소득 범주형소득\n",
       "0  남성  서울  73  120.0   저소득\n",
       "1  남성  서울  76  220.2  중저소득\n",
       "2  남성  서울  75  139.0   저소득\n",
       "3  남성  서울  68  150.0   저소득\n",
       "4  남성  서울  61  166.0   저소득"
      ]
     },
     "execution_count": 147,
     "metadata": {},
     "output_type": "execute_result"
    }
   ],
   "source": [
    "labels=['저소득','중저소득','중중소득','중고소득','고소득']\n",
    "cuts_label = pd.cut(welfare['소득'], bins=bins, labels=labels)\n",
    "\n",
    "strincome='범주형소득'\n",
    "welfare[strincome] = cuts_label\n",
    "welfare[['성별','지역구','나이','소득',strincome]].head()"
   ]
  },
  {
   "cell_type": "code",
   "execution_count": 150,
   "id": "99b8194a",
   "metadata": {},
   "outputs": [
    {
     "data": {
      "text/html": [
       "<div>\n",
       "<style scoped>\n",
       "    .dataframe tbody tr th:only-of-type {\n",
       "        vertical-align: middle;\n",
       "    }\n",
       "\n",
       "    .dataframe tbody tr th {\n",
       "        vertical-align: top;\n",
       "    }\n",
       "\n",
       "    .dataframe thead th {\n",
       "        text-align: right;\n",
       "    }\n",
       "</style>\n",
       "<table border=\"1\" class=\"dataframe\">\n",
       "  <thead>\n",
       "    <tr style=\"text-align: right;\">\n",
       "      <th></th>\n",
       "      <th>성별</th>\n",
       "      <th>범주형소득</th>\n",
       "      <th>소득</th>\n",
       "    </tr>\n",
       "  </thead>\n",
       "  <tbody>\n",
       "    <tr>\n",
       "      <th>0</th>\n",
       "      <td>남성</td>\n",
       "      <td>저소득</td>\n",
       "      <td>132.813144</td>\n",
       "    </tr>\n",
       "    <tr>\n",
       "      <th>1</th>\n",
       "      <td>남성</td>\n",
       "      <td>중저소득</td>\n",
       "      <td>277.966875</td>\n",
       "    </tr>\n",
       "    <tr>\n",
       "      <th>2</th>\n",
       "      <td>남성</td>\n",
       "      <td>중중소득</td>\n",
       "      <td>586.030470</td>\n",
       "    </tr>\n",
       "    <tr>\n",
       "      <th>3</th>\n",
       "      <td>남성</td>\n",
       "      <td>중고소득</td>\n",
       "      <td>820.022273</td>\n",
       "    </tr>\n",
       "    <tr>\n",
       "      <th>4</th>\n",
       "      <td>남성</td>\n",
       "      <td>고소득</td>\n",
       "      <td>1074.030000</td>\n",
       "    </tr>\n",
       "    <tr>\n",
       "      <th>5</th>\n",
       "      <td>여성</td>\n",
       "      <td>저소득</td>\n",
       "      <td>114.459034</td>\n",
       "    </tr>\n",
       "    <tr>\n",
       "      <th>6</th>\n",
       "      <td>여성</td>\n",
       "      <td>중저소득</td>\n",
       "      <td>252.843971</td>\n",
       "    </tr>\n",
       "    <tr>\n",
       "      <th>7</th>\n",
       "      <td>여성</td>\n",
       "      <td>중중소득</td>\n",
       "      <td>563.363261</td>\n",
       "    </tr>\n",
       "    <tr>\n",
       "      <th>8</th>\n",
       "      <td>여성</td>\n",
       "      <td>중고소득</td>\n",
       "      <td>833.383000</td>\n",
       "    </tr>\n",
       "    <tr>\n",
       "      <th>9</th>\n",
       "      <td>여성</td>\n",
       "      <td>고소득</td>\n",
       "      <td>NaN</td>\n",
       "    </tr>\n",
       "  </tbody>\n",
       "</table>\n",
       "</div>"
      ],
      "text/plain": [
       "   성별 범주형소득           소득\n",
       "0  남성   저소득   132.813144\n",
       "1  남성  중저소득   277.966875\n",
       "2  남성  중중소득   586.030470\n",
       "3  남성  중고소득   820.022273\n",
       "4  남성   고소득  1074.030000\n",
       "5  여성   저소득   114.459034\n",
       "6  여성  중저소득   252.843971\n",
       "7  여성  중중소득   563.363261\n",
       "8  여성  중고소득   833.383000\n",
       "9  여성   고소득          NaN"
      ]
     },
     "execution_count": 150,
     "metadata": {},
     "output_type": "execute_result"
    }
   ],
   "source": [
    "chartdata = welfare.groupby(['성별','범주형소득'])['소득'].mean()\n",
    "chartdata = chartdata.reset_index()\n",
    "chartdata"
   ]
  },
  {
   "cell_type": "code",
   "execution_count": 152,
   "id": "fa1789bf",
   "metadata": {},
   "outputs": [
    {
     "data": {
      "text/html": [
       "<div>\n",
       "<style scoped>\n",
       "    .dataframe tbody tr th:only-of-type {\n",
       "        vertical-align: middle;\n",
       "    }\n",
       "\n",
       "    .dataframe tbody tr th {\n",
       "        vertical-align: top;\n",
       "    }\n",
       "\n",
       "    .dataframe thead th {\n",
       "        text-align: right;\n",
       "    }\n",
       "</style>\n",
       "<table border=\"1\" class=\"dataframe\">\n",
       "  <thead>\n",
       "    <tr style=\"text-align: right;\">\n",
       "      <th>범주형소득</th>\n",
       "      <th>저소득</th>\n",
       "      <th>중저소득</th>\n",
       "      <th>중중소득</th>\n",
       "      <th>중고소득</th>\n",
       "      <th>고소득</th>\n",
       "    </tr>\n",
       "    <tr>\n",
       "      <th>성별</th>\n",
       "      <th></th>\n",
       "      <th></th>\n",
       "      <th></th>\n",
       "      <th></th>\n",
       "      <th></th>\n",
       "    </tr>\n",
       "  </thead>\n",
       "  <tbody>\n",
       "    <tr>\n",
       "      <th>남성</th>\n",
       "      <td>132.813144</td>\n",
       "      <td>277.966875</td>\n",
       "      <td>586.030470</td>\n",
       "      <td>820.022273</td>\n",
       "      <td>1074.03</td>\n",
       "    </tr>\n",
       "    <tr>\n",
       "      <th>여성</th>\n",
       "      <td>114.459034</td>\n",
       "      <td>252.843971</td>\n",
       "      <td>563.363261</td>\n",
       "      <td>833.383000</td>\n",
       "      <td>NaN</td>\n",
       "    </tr>\n",
       "  </tbody>\n",
       "</table>\n",
       "</div>"
      ],
      "text/plain": [
       "범주형소득         저소득        중저소득        중중소득        중고소득      고소득\n",
       "성별                                                            \n",
       "남성     132.813144  277.966875  586.030470  820.022273  1074.03\n",
       "여성     114.459034  252.843971  563.363261  833.383000      NaN"
      ]
     },
     "execution_count": 152,
     "metadata": {},
     "output_type": "execute_result"
    }
   ],
   "source": [
    "chartdata = chartdata.pivot(index='성별', columns='범주형소득', values='소득')\n",
    "chartdata"
   ]
  },
  {
   "cell_type": "code",
   "execution_count": 158,
   "id": "86d62fed",
   "metadata": {},
   "outputs": [
    {
     "data": {
      "text/plain": [
       "<matplotlib.legend.Legend at 0x1da0a3b92d0>"
      ]
     },
     "execution_count": 158,
     "metadata": {},
     "output_type": "execute_result"
    },
    {
     "data": {
      "image/png": "[encoded data removed]",
      "text/plain": [
       "<Figure size 1500x800 with 1 Axes>"
      ]
     },
     "metadata": {},
     "output_type": "display_data"
    }
   ],
   "source": [
    "chartdata.plot(kind='barh', figsize=(15,8), width=0.7, color=['orange','green','red','blue','pink'])\n",
    "\n",
    "plt.title('성별/범주형소득별 소득 평균', size=20)\n",
    "plt.ylabel('성별', size=15)\n",
    "plt.xlabel('소득 평균', size=15)\n",
    "plt.legend(loc='best', fontsize=12)"
   ]
  },
  {
   "cell_type": "code",
   "execution_count": 159,
   "id": "86c1866f",
   "metadata": {},
   "outputs": [
    {
     "data": {
      "text/html": [
       "<div>\n",
       "<style scoped>\n",
       "    .dataframe tbody tr th:only-of-type {\n",
       "        vertical-align: middle;\n",
       "    }\n",
       "\n",
       "    .dataframe tbody tr th {\n",
       "        vertical-align: top;\n",
       "    }\n",
       "\n",
       "    .dataframe thead th {\n",
       "        text-align: right;\n",
       "    }\n",
       "</style>\n",
       "<table border=\"1\" class=\"dataframe\">\n",
       "  <thead>\n",
       "    <tr style=\"text-align: right;\">\n",
       "      <th></th>\n",
       "      <th>사원명</th>\n",
       "      <th>출장지역</th>\n",
       "      <th>출장기간</th>\n",
       "      <th>부서</th>\n",
       "      <th>성별</th>\n",
       "      <th>교통비</th>\n",
       "      <th>식비</th>\n",
       "    </tr>\n",
       "  </thead>\n",
       "  <tbody>\n",
       "    <tr>\n",
       "      <th>0</th>\n",
       "      <td>윤장혁</td>\n",
       "      <td>서울</td>\n",
       "      <td>7</td>\n",
       "      <td>영업부</td>\n",
       "      <td>남자</td>\n",
       "      <td>4000</td>\n",
       "      <td>2000</td>\n",
       "    </tr>\n",
       "    <tr>\n",
       "      <th>1</th>\n",
       "      <td>서문덕</td>\n",
       "      <td>서울</td>\n",
       "      <td>6</td>\n",
       "      <td>영업부</td>\n",
       "      <td>남자</td>\n",
       "      <td>3000</td>\n",
       "      <td>3000</td>\n",
       "    </tr>\n",
       "    <tr>\n",
       "      <th>2</th>\n",
       "      <td>이성진</td>\n",
       "      <td>부산</td>\n",
       "      <td>5</td>\n",
       "      <td>영업부</td>\n",
       "      <td>남자</td>\n",
       "      <td>3000</td>\n",
       "      <td>3000</td>\n",
       "    </tr>\n",
       "    <tr>\n",
       "      <th>3</th>\n",
       "      <td>강찬혁</td>\n",
       "      <td>부산</td>\n",
       "      <td>3</td>\n",
       "      <td>영업부</td>\n",
       "      <td>남자</td>\n",
       "      <td>1000</td>\n",
       "      <td>2000</td>\n",
       "    </tr>\n",
       "    <tr>\n",
       "      <th>4</th>\n",
       "      <td>신유석</td>\n",
       "      <td>서울</td>\n",
       "      <td>5</td>\n",
       "      <td>전산부</td>\n",
       "      <td>여자</td>\n",
       "      <td>2000</td>\n",
       "      <td>2000</td>\n",
       "    </tr>\n",
       "    <tr>\n",
       "      <th>5</th>\n",
       "      <td>유지혜</td>\n",
       "      <td>서울</td>\n",
       "      <td>5</td>\n",
       "      <td>전산부</td>\n",
       "      <td>여자</td>\n",
       "      <td>4000</td>\n",
       "      <td>1000</td>\n",
       "    </tr>\n",
       "    <tr>\n",
       "      <th>6</th>\n",
       "      <td>이유리</td>\n",
       "      <td>부산</td>\n",
       "      <td>8</td>\n",
       "      <td>전산부</td>\n",
       "      <td>여자</td>\n",
       "      <td>4000</td>\n",
       "      <td>1000</td>\n",
       "    </tr>\n",
       "    <tr>\n",
       "      <th>7</th>\n",
       "      <td>선진희</td>\n",
       "      <td>부산</td>\n",
       "      <td>6</td>\n",
       "      <td>전산부</td>\n",
       "      <td>여자</td>\n",
       "      <td>1000</td>\n",
       "      <td>4000</td>\n",
       "    </tr>\n",
       "  </tbody>\n",
       "</table>\n",
       "</div>"
      ],
      "text/plain": [
       "   사원명 출장지역  출장기간   부서  성별   교통비    식비\n",
       "0  윤장혁   서울     7  영업부  남자  4000  2000\n",
       "1  서문덕   서울     6  영업부  남자  3000  3000\n",
       "2  이성진   부산     5  영업부  남자  3000  3000\n",
       "3  강찬혁   부산     3  영업부  남자  1000  2000\n",
       "4  신유석   서울     5  전산부  여자  2000  2000\n",
       "5  유지혜   서울     5  전산부  여자  4000  1000\n",
       "6  이유리   부산     8  전산부  여자  4000  1000\n",
       "7  선진희   부산     6  전산부  여자  1000  4000"
      ]
     },
     "execution_count": 159,
     "metadata": {},
     "output_type": "execute_result"
    }
   ],
   "source": [
    "payment = pd.read_csv('./../data/payment07.csv', encoding='cp949')\n",
    "payment"
   ]
  },
  {
   "cell_type": "code",
   "execution_count": 160,
   "id": "44c34303",
   "metadata": {},
   "outputs": [
    {
     "data": {
      "text/html": [
       "<div>\n",
       "<style scoped>\n",
       "    .dataframe tbody tr th:only-of-type {\n",
       "        vertical-align: middle;\n",
       "    }\n",
       "\n",
       "    .dataframe tbody tr th {\n",
       "        vertical-align: top;\n",
       "    }\n",
       "\n",
       "    .dataframe thead th {\n",
       "        text-align: right;\n",
       "    }\n",
       "</style>\n",
       "<table border=\"1\" class=\"dataframe\">\n",
       "  <thead>\n",
       "    <tr style=\"text-align: right;\">\n",
       "      <th></th>\n",
       "      <th>사원명</th>\n",
       "      <th>출장지역</th>\n",
       "      <th>출장기간</th>\n",
       "      <th>부서</th>\n",
       "      <th>성별</th>\n",
       "      <th>교통비</th>\n",
       "      <th>식비</th>\n",
       "      <th>rank</th>\n",
       "    </tr>\n",
       "  </thead>\n",
       "  <tbody>\n",
       "    <tr>\n",
       "      <th>0</th>\n",
       "      <td>윤장혁</td>\n",
       "      <td>서울</td>\n",
       "      <td>7</td>\n",
       "      <td>영업부</td>\n",
       "      <td>남자</td>\n",
       "      <td>4000</td>\n",
       "      <td>2000</td>\n",
       "      <td>1.0</td>\n",
       "    </tr>\n",
       "    <tr>\n",
       "      <th>1</th>\n",
       "      <td>서문덕</td>\n",
       "      <td>서울</td>\n",
       "      <td>6</td>\n",
       "      <td>영업부</td>\n",
       "      <td>남자</td>\n",
       "      <td>3000</td>\n",
       "      <td>3000</td>\n",
       "      <td>2.0</td>\n",
       "    </tr>\n",
       "    <tr>\n",
       "      <th>2</th>\n",
       "      <td>이성진</td>\n",
       "      <td>부산</td>\n",
       "      <td>5</td>\n",
       "      <td>영업부</td>\n",
       "      <td>남자</td>\n",
       "      <td>3000</td>\n",
       "      <td>3000</td>\n",
       "      <td>3.0</td>\n",
       "    </tr>\n",
       "    <tr>\n",
       "      <th>3</th>\n",
       "      <td>강찬혁</td>\n",
       "      <td>부산</td>\n",
       "      <td>3</td>\n",
       "      <td>영업부</td>\n",
       "      <td>남자</td>\n",
       "      <td>1000</td>\n",
       "      <td>2000</td>\n",
       "      <td>4.0</td>\n",
       "    </tr>\n",
       "    <tr>\n",
       "      <th>4</th>\n",
       "      <td>신유석</td>\n",
       "      <td>서울</td>\n",
       "      <td>5</td>\n",
       "      <td>전산부</td>\n",
       "      <td>여자</td>\n",
       "      <td>2000</td>\n",
       "      <td>2000</td>\n",
       "      <td>3.0</td>\n",
       "    </tr>\n",
       "    <tr>\n",
       "      <th>5</th>\n",
       "      <td>유지혜</td>\n",
       "      <td>서울</td>\n",
       "      <td>5</td>\n",
       "      <td>전산부</td>\n",
       "      <td>여자</td>\n",
       "      <td>4000</td>\n",
       "      <td>1000</td>\n",
       "      <td>1.0</td>\n",
       "    </tr>\n",
       "    <tr>\n",
       "      <th>6</th>\n",
       "      <td>이유리</td>\n",
       "      <td>부산</td>\n",
       "      <td>8</td>\n",
       "      <td>전산부</td>\n",
       "      <td>여자</td>\n",
       "      <td>4000</td>\n",
       "      <td>1000</td>\n",
       "      <td>2.0</td>\n",
       "    </tr>\n",
       "    <tr>\n",
       "      <th>7</th>\n",
       "      <td>선진희</td>\n",
       "      <td>부산</td>\n",
       "      <td>6</td>\n",
       "      <td>전산부</td>\n",
       "      <td>여자</td>\n",
       "      <td>1000</td>\n",
       "      <td>4000</td>\n",
       "      <td>4.0</td>\n",
       "    </tr>\n",
       "  </tbody>\n",
       "</table>\n",
       "</div>"
      ],
      "text/plain": [
       "   사원명 출장지역  출장기간   부서  성별   교통비    식비  rank\n",
       "0  윤장혁   서울     7  영업부  남자  4000  2000   1.0\n",
       "1  서문덕   서울     6  영업부  남자  3000  3000   2.0\n",
       "2  이성진   부산     5  영업부  남자  3000  3000   3.0\n",
       "3  강찬혁   부산     3  영업부  남자  1000  2000   4.0\n",
       "4  신유석   서울     5  전산부  여자  2000  2000   3.0\n",
       "5  유지혜   서울     5  전산부  여자  4000  1000   1.0\n",
       "6  이유리   부산     8  전산부  여자  4000  1000   2.0\n",
       "7  선진희   부산     6  전산부  여자  1000  4000   4.0"
      ]
     },
     "execution_count": 160,
     "metadata": {},
     "output_type": "execute_result"
    }
   ],
   "source": [
    "payment['rank']=payment.groupby('부서')['교통비'].rank(method='first', ascending=False)\n",
    "payment"
   ]
  },
  {
   "cell_type": "code",
   "execution_count": 161,
   "id": "9e5ee8d0",
   "metadata": {},
   "outputs": [
    {
     "data": {
      "text/html": [
       "<div>\n",
       "<style scoped>\n",
       "    .dataframe tbody tr th:only-of-type {\n",
       "        vertical-align: middle;\n",
       "    }\n",
       "\n",
       "    .dataframe tbody tr th {\n",
       "        vertical-align: top;\n",
       "    }\n",
       "\n",
       "    .dataframe thead th {\n",
       "        text-align: right;\n",
       "    }\n",
       "</style>\n",
       "<table border=\"1\" class=\"dataframe\">\n",
       "  <thead>\n",
       "    <tr style=\"text-align: right;\">\n",
       "      <th></th>\n",
       "      <th>사원명</th>\n",
       "      <th>출장지역</th>\n",
       "      <th>출장기간</th>\n",
       "      <th>부서</th>\n",
       "      <th>성별</th>\n",
       "      <th>교통비</th>\n",
       "      <th>식비</th>\n",
       "      <th>rank</th>\n",
       "    </tr>\n",
       "  </thead>\n",
       "  <tbody>\n",
       "    <tr>\n",
       "      <th>0</th>\n",
       "      <td>윤장혁</td>\n",
       "      <td>서울</td>\n",
       "      <td>7</td>\n",
       "      <td>영업부</td>\n",
       "      <td>남자</td>\n",
       "      <td>4000</td>\n",
       "      <td>2000</td>\n",
       "      <td>1.0</td>\n",
       "    </tr>\n",
       "    <tr>\n",
       "      <th>5</th>\n",
       "      <td>유지혜</td>\n",
       "      <td>서울</td>\n",
       "      <td>5</td>\n",
       "      <td>전산부</td>\n",
       "      <td>여자</td>\n",
       "      <td>4000</td>\n",
       "      <td>1000</td>\n",
       "      <td>1.0</td>\n",
       "    </tr>\n",
       "  </tbody>\n",
       "</table>\n",
       "</div>"
      ],
      "text/plain": [
       "   사원명 출장지역  출장기간   부서  성별   교통비    식비  rank\n",
       "0  윤장혁   서울     7  영업부  남자  4000  2000   1.0\n",
       "5  유지혜   서울     5  전산부  여자  4000  1000   1.0"
      ]
     },
     "execution_count": 161,
     "metadata": {},
     "output_type": "execute_result"
    }
   ],
   "source": [
    "result = payment[payment['rank']==1.0]\n",
    "result"
   ]
  },
  {
   "cell_type": "code",
   "execution_count": 162,
   "id": "f99e81bb",
   "metadata": {},
   "outputs": [
    {
     "data": {
      "text/html": [
       "<div>\n",
       "<style scoped>\n",
       "    .dataframe tbody tr th:only-of-type {\n",
       "        vertical-align: middle;\n",
       "    }\n",
       "\n",
       "    .dataframe tbody tr th {\n",
       "        vertical-align: top;\n",
       "    }\n",
       "\n",
       "    .dataframe thead th {\n",
       "        text-align: right;\n",
       "    }\n",
       "</style>\n",
       "<table border=\"1\" class=\"dataframe\">\n",
       "  <thead>\n",
       "    <tr style=\"text-align: right;\">\n",
       "      <th></th>\n",
       "      <th>사원명</th>\n",
       "      <th>출장지역</th>\n",
       "      <th>출장기간</th>\n",
       "      <th>부서</th>\n",
       "      <th>성별</th>\n",
       "      <th>교통비</th>\n",
       "      <th>식비</th>\n",
       "    </tr>\n",
       "  </thead>\n",
       "  <tbody>\n",
       "    <tr>\n",
       "      <th>0</th>\n",
       "      <td>윤장혁</td>\n",
       "      <td>서울</td>\n",
       "      <td>7</td>\n",
       "      <td>영업부</td>\n",
       "      <td>남자</td>\n",
       "      <td>4000</td>\n",
       "      <td>2000</td>\n",
       "    </tr>\n",
       "    <tr>\n",
       "      <th>5</th>\n",
       "      <td>유지혜</td>\n",
       "      <td>서울</td>\n",
       "      <td>5</td>\n",
       "      <td>전산부</td>\n",
       "      <td>여자</td>\n",
       "      <td>4000</td>\n",
       "      <td>1000</td>\n",
       "    </tr>\n",
       "  </tbody>\n",
       "</table>\n",
       "</div>"
      ],
      "text/plain": [
       "   사원명 출장지역  출장기간   부서  성별   교통비    식비\n",
       "0  윤장혁   서울     7  영업부  남자  4000  2000\n",
       "5  유지혜   서울     5  전산부  여자  4000  1000"
      ]
     },
     "execution_count": 162,
     "metadata": {},
     "output_type": "execute_result"
    }
   ],
   "source": [
    "result = result.drop(columns=['rank'])\n",
    "result"
   ]
  },
  {
   "cell_type": "code",
   "execution_count": null,
   "id": "1e3e7004",
   "metadata": {},
   "outputs": [],
   "source": []
  }
 ],
 "metadata": {
  "kernelspec": {
   "display_name": "Python 3 (ipykernel)",
   "language": "python",
   "name": "python3"
  },
  "language_info": {
   "codemirror_mode": {
    "name": "ipython",
    "version": 3
   },
   "file_extension": ".py",
   "mimetype": "text/x-python",
   "name": "python",
   "nbconvert_exporter": "python",
   "pygments_lexer": "ipython3",
   "version": "3.11.2"
  }
 },
 "nbformat": 4,
 "nbformat_minor": 5
}
