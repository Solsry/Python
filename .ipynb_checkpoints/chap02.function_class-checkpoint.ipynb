{
 "cells": [
  {
   "cell_type": "markdown",
   "id": "0d8ebf4f",
   "metadata": {},
   "source": [
    "<h1><font color=\"blue\">(2일차) 내장 함수</font></h1>"
   ]
  },
  {
   "cell_type": "markdown",
   "id": "da376ae1",
   "metadata": {},
   "source": [
    "<h4><font color=\"red\">abs,sum함수.</font></h4>"
   ]
  },
  {
   "cell_type": "code",
   "execution_count": 26,
   "id": "a8092099",
   "metadata": {},
   "outputs": [
    {
     "data": {
      "text/plain": [
       "14.035668847618199"
      ]
     },
     "execution_count": 26,
     "metadata": {},
     "output_type": "execute_result"
    }
   ],
   "source": [
    "# 요소들의 절대 값은 3제곱의 총합에 루트 씌우기\n",
    "mylist = [2, -5, 4] # 루트(8 + 125 + 64)\n",
    "newlist01 = [abs(su) for su in mylist]\n",
    "newlist02 = [su**3 for su in newlist01]\n",
    "newlist03 = sum(newlist02)**0.5 #**0.5는 루트 씌우기\n",
    "newlist03"
   ]
  },
  {
   "cell_type": "markdown",
   "id": "916525d6",
   "metadata": {},
   "source": [
    "<h4><font color=\"red\">sorted 함수.</font></h4>"
   ]
  },
  {
   "cell_type": "code",
   "execution_count": 16,
   "id": "9c6cb777",
   "metadata": {},
   "outputs": [
    {
     "data": {
      "text/plain": [
       "['김훈식', '박진영', '심수철', '이은규']"
      ]
     },
     "execution_count": 16,
     "metadata": {},
     "output_type": "execute_result"
    }
   ],
   "source": [
    "humans = ['김훈식','이은규','박진영','심수철']\n",
    "result = sorted(humans) # order by asc in database\n",
    "result"
   ]
  },
  {
   "cell_type": "code",
   "execution_count": 18,
   "id": "ff9d6666",
   "metadata": {},
   "outputs": [
    {
     "data": {
      "text/plain": [
       "['이은규', '심수철', '박진영', '김훈식']"
      ]
     },
     "execution_count": 18,
     "metadata": {},
     "output_type": "execute_result"
    }
   ],
   "source": [
    "result = sorted(humans, reverse = True) # order by desc in database\n",
    "result "
   ]
  },
  {
   "cell_type": "code",
   "execution_count": 5,
   "id": "721d15e8",
   "metadata": {},
   "outputs": [
    {
     "data": {
      "text/plain": [
       "{'박진솔': 75, '김성경': 80, '김정우': 60, '이명균': 90}"
      ]
     },
     "execution_count": 5,
     "metadata": {},
     "output_type": "execute_result"
    }
   ],
   "source": [
    "students = {'박진솔':75,'김성경':80,'김정우':60,'이명균':90}\n",
    "students"
   ]
  },
  {
   "cell_type": "code",
   "execution_count": 6,
   "id": "0b3f2943",
   "metadata": {},
   "outputs": [
    {
     "data": {
      "text/plain": [
       "['김성경', '김정우', '박진솔', '이명균']"
      ]
     },
     "execution_count": 6,
     "metadata": {},
     "output_type": "execute_result"
    }
   ],
   "source": [
    "chartdata = sorted(students)\n",
    "chartdata # 사전의 key를 기반으로 오름차순 정렬이 됨"
   ]
  },
  {
   "cell_type": "code",
   "execution_count": 7,
   "id": "6ba169bb",
   "metadata": {},
   "outputs": [
    {
     "data": {
      "text/plain": [
       "['김정우', '박진솔', '김성경', '이명균']"
      ]
     },
     "execution_count": 7,
     "metadata": {},
     "output_type": "execute_result"
    }
   ],
   "source": [
    "chartdata = sorted(students, key = students.get)\n",
    "chartdata # key 매개 변수에 근거하되, 보여주는 것은 사전의 key값임"
   ]
  },
  {
   "cell_type": "code",
   "execution_count": 8,
   "id": "fd5863bd",
   "metadata": {
    "scrolled": true
   },
   "outputs": [
    {
     "data": {
      "text/plain": [
       "['김정우', '박진솔', '김성경', '이명균']"
      ]
     },
     "execution_count": 8,
     "metadata": {},
     "output_type": "execute_result"
    }
   ],
   "source": [
    "chartdata = sorted(students.keys() , key = students.get)\n",
    "chartdata"
   ]
  },
  {
   "cell_type": "code",
   "execution_count": 10,
   "id": "13124189",
   "metadata": {},
   "outputs": [
    {
     "data": {
      "text/plain": [
       "['이명균', '김성경', '박진솔', '김정우']"
      ]
     },
     "execution_count": 10,
     "metadata": {},
     "output_type": "execute_result"
    }
   ],
   "source": [
    "chartdata = sorted(students, key = students.get, reverse = True)\n",
    "chartdata # reverse=True에 의하여 내림차순으로 정렬 됨"
   ]
  },
  {
   "cell_type": "code",
   "execution_count": 13,
   "id": "433e4ffd",
   "metadata": {
    "scrolled": true
   },
   "outputs": [
    {
     "data": {
      "text/plain": [
       "[90, 80, 75, 60]"
      ]
     },
     "execution_count": 13,
     "metadata": {},
     "output_type": "execute_result"
    }
   ],
   "source": [
    "chartdata = sorted(students.values() , reverse = True)\n",
    "chartdata # 값을 가지고 역순으로 정렬"
   ]
  },
  {
   "cell_type": "markdown",
   "id": "df9be0ee",
   "metadata": {},
   "source": [
    "<h4><font color=\"red\">zip() 함수.</font></h4>"
   ]
  },
  {
   "cell_type": "code",
   "execution_count": 27,
   "id": "b41e84ae",
   "metadata": {},
   "outputs": [],
   "source": [
    "names = ['김현도','유지강','최윤희']\n",
    "ages = [10, 30, 20]\n",
    "address = ['마포','금천','용산']"
   ]
  },
  {
   "cell_type": "code",
   "execution_count": 28,
   "id": "5ccf1e2a",
   "metadata": {},
   "outputs": [
    {
     "name": "stdout",
     "output_type": "stream",
     "text": [
      "tuple 인덱싱 활용\n",
      "이름 : 김현도, 나이 : 10, 주소 : 마포\n",
      "이름 : 유지강, 나이 : 30, 주소 : 금천\n",
      "이름 : 최윤희, 나이 : 20, 주소 : 용산\n"
     ]
    }
   ],
   "source": [
    "print('tuple 인덱싱 활용')\n",
    "for item in zip(names, ages, address):\n",
    "    message = '이름 : {}, 나이 : {}, 주소 : {}'\n",
    "    print(message.format(item[0],item[1],item[2]))"
   ]
  },
  {
   "cell_type": "code",
   "execution_count": 25,
   "id": "3e8a8a4e",
   "metadata": {},
   "outputs": [
    {
     "name": "stdout",
     "output_type": "stream",
     "text": [
      "for 구문에 변수 이름 직접 작성\n",
      "이름 : 김현도, 나이 : 10, 주소 : 마포\n",
      "이름 : 유지강, 나이 : 30, 주소 : 금천\n",
      "이름 : 최윤희, 나이 : 20, 주소 : 용산\n"
     ]
    }
   ],
   "source": [
    "print('for 구문에 변수 이름 직접 작성')\n",
    "for names, ages, address in zip(names, ages, address):\n",
    "    message = '이름 : {}, 나이 : {}, 주소 : {}'\n",
    "    print(message.format(names, ages, address))"
   ]
  },
  {
   "cell_type": "code",
   "execution_count": 24,
   "id": "cfe27dd1",
   "metadata": {},
   "outputs": [
    {
     "name": "stdout",
     "output_type": "stream",
     "text": [
      "(('김현도', 10, '마포'), ('유지강', 30, '금천'), ('최윤희', 20, '용산'))\n"
     ]
    }
   ],
   "source": [
    "a = ['김현도','유지강','최윤희']\n",
    "b = [10, 30, 20]\n",
    "c = ['마포','금천','용산']\n",
    "\n",
    "x = zip(a,b,c)\n",
    "print(tuple(x))"
   ]
  },
  {
   "cell_type": "markdown",
   "id": "2382ac0d",
   "metadata": {},
   "source": [
    "<h1><font color=\"blue\">(3일차) 클래스</font></h1>"
   ]
  },
  {
   "cell_type": "markdown",
   "id": "cc7caad5",
   "metadata": {},
   "source": [
    "<h4><font color=\"red\">사칙 연산.</font></h4>"
   ]
  },
  {
   "cell_type": "code",
   "execution_count": null,
   "id": "9513bd96",
   "metadata": {},
   "outputs": [],
   "source": []
  },
  {
   "cell_type": "code",
   "execution_count": null,
   "id": "5601c434",
   "metadata": {},
   "outputs": [],
   "source": []
  },
  {
   "cell_type": "code",
   "execution_count": null,
   "id": "14d6b7b2",
   "metadata": {},
   "outputs": [],
   "source": []
  },
  {
   "cell_type": "code",
   "execution_count": null,
   "id": "7b640d82",
   "metadata": {},
   "outputs": [],
   "source": []
  }
 ],
 "metadata": {
  "kernelspec": {
   "display_name": "Python 3 (ipykernel)",
   "language": "python",
   "name": "python3"
  },
  "language_info": {
   "codemirror_mode": {
    "name": "ipython",
    "version": 3
   },
   "file_extension": ".py",
   "mimetype": "text/x-python",
   "name": "python",
   "nbconvert_exporter": "python",
   "pygments_lexer": "ipython3",
   "version": "3.11.2"
  }
 },
 "nbformat": 4,
 "nbformat_minor": 5
}
