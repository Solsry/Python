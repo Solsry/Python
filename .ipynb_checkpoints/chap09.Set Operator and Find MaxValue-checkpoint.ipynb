{
 "cells": [
  {
   "cell_type": "markdown",
   "id": "2a611017",
   "metadata": {},
   "source": [
    "<h1><font color=\"blue\">집합 연산과 최대값 찾기 \n",
    " </font></h1>"
   ]
  },
  {
   "cell_type": "markdown",
   "id": "5b03d23e",
   "metadata": {},
   "source": [
    "<h2><font color=\"red\">색인의 집합 연산 \n",
    "</font></h2>"
   ]
  },
  {
   "cell_type": "markdown",
   "id": "611f6105",
   "metadata": {},
   "source": [
    "<h3><font color=\"green\"> 가전 제품 데이터\n",
    "</font></h3>"
   ]
  },
  {
   "cell_type": "markdown",
   "id": "09165640",
   "metadata": {},
   "source": [
    "<h6><font color=\"BlueViolet\">1) 1번 파일 살펴 보기\n",
    "\n",
    "</font></h6>"
   ]
  },
  {
   "cell_type": "code",
   "execution_count": 1,
   "id": "2d59a7b6",
   "metadata": {},
   "outputs": [],
   "source": [
    "import pandas as pd\n",
    "import numpy as np"
   ]
  },
  {
   "cell_type": "code",
   "execution_count": 3,
   "id": "586b3806",
   "metadata": {
    "scrolled": false
   },
   "outputs": [
    {
     "data": {
      "text/html": [
       "<div>\n",
       "<style scoped>\n",
       "    .dataframe tbody tr th:only-of-type {\n",
       "        vertical-align: middle;\n",
       "    }\n",
       "\n",
       "    .dataframe tbody tr th {\n",
       "        vertical-align: top;\n",
       "    }\n",
       "\n",
       "    .dataframe thead th {\n",
       "        text-align: right;\n",
       "    }\n",
       "</style>\n",
       "<table border=\"1\" class=\"dataframe\">\n",
       "  <thead>\n",
       "    <tr style=\"text-align: right;\">\n",
       "      <th></th>\n",
       "      <th>분기</th>\n",
       "      <th>일생산량</th>\n",
       "      <th>불량품</th>\n",
       "    </tr>\n",
       "    <tr>\n",
       "      <th>제품명</th>\n",
       "      <th></th>\n",
       "      <th></th>\n",
       "      <th></th>\n",
       "    </tr>\n",
       "  </thead>\n",
       "  <tbody>\n",
       "    <tr>\n",
       "      <th>미니오븐</th>\n",
       "      <td>1</td>\n",
       "      <td>85</td>\n",
       "      <td>24</td>\n",
       "    </tr>\n",
       "    <tr>\n",
       "      <th>전기밥솥</th>\n",
       "      <td>1</td>\n",
       "      <td>85</td>\n",
       "      <td>36</td>\n",
       "    </tr>\n",
       "    <tr>\n",
       "      <th>후라이팬</th>\n",
       "      <td>1</td>\n",
       "      <td>90</td>\n",
       "      <td>48</td>\n",
       "    </tr>\n",
       "    <tr>\n",
       "      <th>전자레인지</th>\n",
       "      <td>1</td>\n",
       "      <td>85</td>\n",
       "      <td>29</td>\n",
       "    </tr>\n",
       "    <tr>\n",
       "      <th>미니냉장고</th>\n",
       "      <td>1</td>\n",
       "      <td>65</td>\n",
       "      <td>19</td>\n",
       "    </tr>\n",
       "    <tr>\n",
       "      <th>선풍기</th>\n",
       "      <td>1</td>\n",
       "      <td>70</td>\n",
       "      <td>43</td>\n",
       "    </tr>\n",
       "  </tbody>\n",
       "</table>\n",
       "</div>"
      ],
      "text/plain": [
       "       분기  일생산량  불량품\n",
       "제품명                 \n",
       "미니오븐    1    85   24\n",
       "전기밥솥    1    85   36\n",
       "후라이팬    1    90   48\n",
       "전자레인지   1    85   29\n",
       "미니냉장고   1    65   19\n",
       "선풍기     1    70   43"
      ]
     },
     "execution_count": 3,
     "metadata": {},
     "output_type": "execute_result"
    }
   ],
   "source": [
    "homeapp01 = pd.read_csv('./../data/가전제품01.csv', index_col = '제품명', encoding='cp949')\n",
    "homeapp01"
   ]
  },
  {
   "cell_type": "code",
   "execution_count": 9,
   "id": "c66aa962",
   "metadata": {},
   "outputs": [
    {
     "data": {
      "text/plain": [
       "Index(['미니오븐', '전기밥솥', '후라이팬', '전자레인지', '미니냉장고', '선풍기'], dtype='object', name='제품명')"
      ]
     },
     "execution_count": 9,
     "metadata": {},
     "output_type": "execute_result"
    }
   ],
   "source": [
    "homeapp01idx=homeapp01.index\n",
    "homeapp01idx"
   ]
  },
  {
   "cell_type": "code",
   "execution_count": 11,
   "id": "a82b1af1",
   "metadata": {
    "scrolled": true
   },
   "outputs": [
    {
     "name": "stdout",
     "output_type": "stream",
     "text": [
      "미니냉장고\n",
      "후라이팬\n",
      "6\n"
     ]
    }
   ],
   "source": [
    "print(homeapp01idx.min())\n",
    "print(homeapp01idx.max())\n",
    "print(homeapp01idx.size)"
   ]
  },
  {
   "cell_type": "code",
   "execution_count": null,
   "id": "c6f03123",
   "metadata": {},
   "outputs": [],
   "source": [
    "# homeapp01idx[1] = '전기 밥솥'"
   ]
  },
  {
   "cell_type": "code",
   "execution_count": 15,
   "id": "640b6c73",
   "metadata": {
    "scrolled": true
   },
   "outputs": [
    {
     "data": {
      "text/html": [
       "<div>\n",
       "<style scoped>\n",
       "    .dataframe tbody tr th:only-of-type {\n",
       "        vertical-align: middle;\n",
       "    }\n",
       "\n",
       "    .dataframe tbody tr th {\n",
       "        vertical-align: top;\n",
       "    }\n",
       "\n",
       "    .dataframe thead th {\n",
       "        text-align: right;\n",
       "    }\n",
       "</style>\n",
       "<table border=\"1\" class=\"dataframe\">\n",
       "  <thead>\n",
       "    <tr style=\"text-align: right;\">\n",
       "      <th></th>\n",
       "      <th>분기</th>\n",
       "      <th>일생산량</th>\n",
       "      <th>불량품</th>\n",
       "    </tr>\n",
       "    <tr>\n",
       "      <th>제품명</th>\n",
       "      <th></th>\n",
       "      <th></th>\n",
       "      <th></th>\n",
       "    </tr>\n",
       "  </thead>\n",
       "  <tbody>\n",
       "    <tr>\n",
       "      <th>미니오븐제품</th>\n",
       "      <td>1</td>\n",
       "      <td>85</td>\n",
       "      <td>24</td>\n",
       "    </tr>\n",
       "    <tr>\n",
       "      <th>전기밥솥제품</th>\n",
       "      <td>1</td>\n",
       "      <td>85</td>\n",
       "      <td>36</td>\n",
       "    </tr>\n",
       "    <tr>\n",
       "      <th>후라이팬제품</th>\n",
       "      <td>1</td>\n",
       "      <td>90</td>\n",
       "      <td>48</td>\n",
       "    </tr>\n",
       "    <tr>\n",
       "      <th>전자레인지제품</th>\n",
       "      <td>1</td>\n",
       "      <td>85</td>\n",
       "      <td>29</td>\n",
       "    </tr>\n",
       "    <tr>\n",
       "      <th>미니냉장고제품</th>\n",
       "      <td>1</td>\n",
       "      <td>65</td>\n",
       "      <td>19</td>\n",
       "    </tr>\n",
       "    <tr>\n",
       "      <th>선풍기제품</th>\n",
       "      <td>1</td>\n",
       "      <td>70</td>\n",
       "      <td>43</td>\n",
       "    </tr>\n",
       "  </tbody>\n",
       "</table>\n",
       "</div>"
      ],
      "text/plain": [
       "         분기  일생산량  불량품\n",
       "제품명                   \n",
       "미니오븐제품    1    85   24\n",
       "전기밥솥제품    1    85   36\n",
       "후라이팬제품    1    90   48\n",
       "전자레인지제품   1    85   29\n",
       "미니냉장고제품   1    65   19\n",
       "선풍기제품     1    70   43"
      ]
     },
     "execution_count": 15,
     "metadata": {},
     "output_type": "execute_result"
    }
   ],
   "source": [
    "newindex = homeapp01idx + '제품'\n",
    "homeapp01.index = newindex\n",
    "homeapp01"
   ]
  },
  {
   "cell_type": "code",
   "execution_count": 16,
   "id": "790a06f0",
   "metadata": {
    "scrolled": true
   },
   "outputs": [
    {
     "data": {
      "text/plain": [
       "array([False,  True,  True,  True, False, False])"
      ]
     },
     "execution_count": 16,
     "metadata": {},
     "output_type": "execute_result"
    }
   ],
   "source": [
    "result = homeapp01idx > '자'\n",
    "result"
   ]
  },
  {
   "cell_type": "code",
   "execution_count": 17,
   "id": "7dcadd08",
   "metadata": {},
   "outputs": [
    {
     "data": {
      "text/html": [
       "<div>\n",
       "<style scoped>\n",
       "    .dataframe tbody tr th:only-of-type {\n",
       "        vertical-align: middle;\n",
       "    }\n",
       "\n",
       "    .dataframe tbody tr th {\n",
       "        vertical-align: top;\n",
       "    }\n",
       "\n",
       "    .dataframe thead th {\n",
       "        text-align: right;\n",
       "    }\n",
       "</style>\n",
       "<table border=\"1\" class=\"dataframe\">\n",
       "  <thead>\n",
       "    <tr style=\"text-align: right;\">\n",
       "      <th></th>\n",
       "      <th>분기</th>\n",
       "      <th>일생산량</th>\n",
       "      <th>불량품</th>\n",
       "    </tr>\n",
       "    <tr>\n",
       "      <th>제품명</th>\n",
       "      <th></th>\n",
       "      <th></th>\n",
       "      <th></th>\n",
       "    </tr>\n",
       "  </thead>\n",
       "  <tbody>\n",
       "    <tr>\n",
       "      <th>전기밥솥제품</th>\n",
       "      <td>1</td>\n",
       "      <td>85</td>\n",
       "      <td>36</td>\n",
       "    </tr>\n",
       "    <tr>\n",
       "      <th>후라이팬제품</th>\n",
       "      <td>1</td>\n",
       "      <td>90</td>\n",
       "      <td>48</td>\n",
       "    </tr>\n",
       "    <tr>\n",
       "      <th>전자레인지제품</th>\n",
       "      <td>1</td>\n",
       "      <td>85</td>\n",
       "      <td>29</td>\n",
       "    </tr>\n",
       "  </tbody>\n",
       "</table>\n",
       "</div>"
      ],
      "text/plain": [
       "         분기  일생산량  불량품\n",
       "제품명                   \n",
       "전기밥솥제품    1    85   36\n",
       "후라이팬제품    1    90   48\n",
       "전자레인지제품   1    85   29"
      ]
     },
     "execution_count": 17,
     "metadata": {},
     "output_type": "execute_result"
    }
   ],
   "source": [
    "homeapp01[result]"
   ]
  },
  {
   "cell_type": "code",
   "execution_count": 5,
   "id": "3540029e",
   "metadata": {},
   "outputs": [
    {
     "data": {
      "text/plain": [
       "'전기밥솥'"
      ]
     },
     "execution_count": 5,
     "metadata": {},
     "output_type": "execute_result"
    }
   ],
   "source": [
    "home01idx[1]"
   ]
  },
  {
   "cell_type": "code",
   "execution_count": 6,
   "id": "ec0650f8",
   "metadata": {},
   "outputs": [
    {
     "data": {
      "text/plain": [
       "Index(['미니오븐', '후라이팬'], dtype='object', name='제품명')"
      ]
     },
     "execution_count": 6,
     "metadata": {},
     "output_type": "execute_result"
    }
   ],
   "source": [
    "home01idx[[0,2]]"
   ]
  },
  {
   "cell_type": "markdown",
   "id": "7930ccd9",
   "metadata": {},
   "source": [
    "<h6><font color=\"BlueViolet\">2) 2번 파일 살펴 보기\n",
    "\n",
    "</font></h6>"
   ]
  },
  {
   "cell_type": "code",
   "execution_count": 29,
   "id": "fc1db817",
   "metadata": {},
   "outputs": [
    {
     "data": {
      "text/html": [
       "<div>\n",
       "<style scoped>\n",
       "    .dataframe tbody tr th:only-of-type {\n",
       "        vertical-align: middle;\n",
       "    }\n",
       "\n",
       "    .dataframe tbody tr th {\n",
       "        vertical-align: top;\n",
       "    }\n",
       "\n",
       "    .dataframe thead th {\n",
       "        text-align: right;\n",
       "    }\n",
       "</style>\n",
       "<table border=\"1\" class=\"dataframe\">\n",
       "  <thead>\n",
       "    <tr style=\"text-align: right;\">\n",
       "      <th></th>\n",
       "      <th>분기</th>\n",
       "      <th>일생산량</th>\n",
       "      <th>불량품</th>\n",
       "    </tr>\n",
       "    <tr>\n",
       "      <th>제품명</th>\n",
       "      <th></th>\n",
       "      <th></th>\n",
       "      <th></th>\n",
       "    </tr>\n",
       "  </thead>\n",
       "  <tbody>\n",
       "    <tr>\n",
       "      <th>미니오븐</th>\n",
       "      <td>2</td>\n",
       "      <td>85</td>\n",
       "      <td>26</td>\n",
       "    </tr>\n",
       "    <tr>\n",
       "      <th>전기밥솥</th>\n",
       "      <td>2</td>\n",
       "      <td>70</td>\n",
       "      <td>39</td>\n",
       "    </tr>\n",
       "    <tr>\n",
       "      <th>믹서기</th>\n",
       "      <td>2</td>\n",
       "      <td>85</td>\n",
       "      <td>39</td>\n",
       "    </tr>\n",
       "    <tr>\n",
       "      <th>전자레인지</th>\n",
       "      <td>2</td>\n",
       "      <td>90</td>\n",
       "      <td>22</td>\n",
       "    </tr>\n",
       "    <tr>\n",
       "      <th>미니냉장고</th>\n",
       "      <td>2</td>\n",
       "      <td>90</td>\n",
       "      <td>22</td>\n",
       "    </tr>\n",
       "    <tr>\n",
       "      <th>선풍기</th>\n",
       "      <td>2</td>\n",
       "      <td>65</td>\n",
       "      <td>33</td>\n",
       "    </tr>\n",
       "  </tbody>\n",
       "</table>\n",
       "</div>"
      ],
      "text/plain": [
       "       분기  일생산량  불량품\n",
       "제품명                 \n",
       "미니오븐    2    85   26\n",
       "전기밥솥    2    70   39\n",
       "믹서기     2    85   39\n",
       "전자레인지   2    90   22\n",
       "미니냉장고   2    90   22\n",
       "선풍기     2    65   33"
      ]
     },
     "execution_count": 29,
     "metadata": {},
     "output_type": "execute_result"
    }
   ],
   "source": [
    "homeapp02 = pd.read_csv('./../data/가전제품02.csv', index_col = '제품명', encoding='cp949')\n",
    "homeapp02"
   ]
  },
  {
   "cell_type": "code",
   "execution_count": 30,
   "id": "789d38b2",
   "metadata": {},
   "outputs": [
    {
     "data": {
      "text/plain": [
       "Index(['미니오븐', '전기밥솥', '믹서기', '전자레인지', '미니냉장고', '선풍기'], dtype='object', name='제품명')"
      ]
     },
     "execution_count": 30,
     "metadata": {},
     "output_type": "execute_result"
    }
   ],
   "source": [
    "homeapp02idx = homeapp02.index\n",
    "homeapp02idx"
   ]
  },
  {
   "cell_type": "code",
   "execution_count": 21,
   "id": "cdc871af",
   "metadata": {
    "scrolled": true
   },
   "outputs": [
    {
     "name": "stdout",
     "output_type": "stream",
     "text": [
      "Index(['미니오븐', '전기밥솥', '후라이팬', '전자레인지', '미니냉장고', '선풍기'], dtype='object', name='제품명')\n"
     ]
    }
   ],
   "source": [
    "print(homeapp01idx)"
   ]
  },
  {
   "cell_type": "markdown",
   "id": "ccce1a4d",
   "metadata": {},
   "source": [
    "<h3><font color=\"green\">색인의 집합 연산\n",
    "</font></h3>"
   ]
  },
  {
   "cell_type": "code",
   "execution_count": 33,
   "id": "4efb8907",
   "metadata": {
    "scrolled": true
   },
   "outputs": [
    {
     "data": {
      "text/plain": [
       "Index(['미니냉장고', '미니오븐', '믹서기', '선풍기', '전기밥솥', '전자레인지', '후라이팬'], dtype='object', name='제품명')"
      ]
     },
     "execution_count": 33,
     "metadata": {},
     "output_type": "execute_result"
    }
   ],
   "source": [
    "# 합집합\n",
    "\n",
    "homeapp01idx.union(homeapp02idx)"
   ]
  },
  {
   "cell_type": "code",
   "execution_count": 27,
   "id": "9aa3e585",
   "metadata": {},
   "outputs": [
    {
     "data": {
      "text/plain": [
       "Index(['미니오븐', '전기밥솥', '전자레인지', '미니냉장고', '선풍기'], dtype='object', name='제품명')"
      ]
     },
     "execution_count": 27,
     "metadata": {},
     "output_type": "execute_result"
    }
   ],
   "source": [
    "# 교집합\n",
    "homeapp01idx.intersection(homeapp02idx)"
   ]
  },
  {
   "cell_type": "code",
   "execution_count": 34,
   "id": "b8940cde",
   "metadata": {},
   "outputs": [
    {
     "data": {
      "text/plain": [
       "Index(['후라이팬'], dtype='object', name='제품명')"
      ]
     },
     "execution_count": 34,
     "metadata": {},
     "output_type": "execute_result"
    }
   ],
   "source": [
    "# 차집합\n",
    "homeapp01idx.difference(homeapp02idx)"
   ]
  },
  {
   "cell_type": "code",
   "execution_count": 35,
   "id": "26a2ab70",
   "metadata": {
    "scrolled": true
   },
   "outputs": [
    {
     "data": {
      "text/plain": [
       "Index(['믹서기', '후라이팬'], dtype='object', name='제품명')"
      ]
     },
     "execution_count": 35,
     "metadata": {},
     "output_type": "execute_result"
    }
   ],
   "source": [
    "# 두 차집합의 합집합\n",
    "homeapp01idx.symmetric_difference(homeapp02idx)"
   ]
  },
  {
   "cell_type": "markdown",
   "id": "b5b539ef",
   "metadata": {},
   "source": [
    "<h2><font color=\"red\">색인의 참조 복사와 값 복사 \n",
    " \n",
    "</font></h2>"
   ]
  },
  {
   "cell_type": "markdown",
   "id": "0f5ae761",
   "metadata": {},
   "source": [
    "<h3><font color=\"green\"> 출장 내역 데이터\n",
    "</font></h3>"
   ]
  },
  {
   "cell_type": "markdown",
   "id": "351abcdd",
   "metadata": {},
   "source": [
    "<h6><font color=\"BlueViolet\">1) 참조 복사와 값 복사\n",
    "</font></h6>"
   ]
  },
  {
   "cell_type": "code",
   "execution_count": 36,
   "id": "39143991",
   "metadata": {},
   "outputs": [
    {
     "data": {
      "text/html": [
       "<div>\n",
       "<style scoped>\n",
       "    .dataframe tbody tr th:only-of-type {\n",
       "        vertical-align: middle;\n",
       "    }\n",
       "\n",
       "    .dataframe tbody tr th {\n",
       "        vertical-align: top;\n",
       "    }\n",
       "\n",
       "    .dataframe thead th {\n",
       "        text-align: right;\n",
       "    }\n",
       "</style>\n",
       "<table border=\"1\" class=\"dataframe\">\n",
       "  <thead>\n",
       "    <tr style=\"text-align: right;\">\n",
       "      <th></th>\n",
       "      <th>출장지역</th>\n",
       "      <th>교통비</th>\n",
       "    </tr>\n",
       "    <tr>\n",
       "      <th>사원명</th>\n",
       "      <th></th>\n",
       "      <th></th>\n",
       "    </tr>\n",
       "  </thead>\n",
       "  <tbody>\n",
       "    <tr>\n",
       "      <th>윤장혁</th>\n",
       "      <td>서울</td>\n",
       "      <td>4000</td>\n",
       "    </tr>\n",
       "    <tr>\n",
       "      <th>서문덕</th>\n",
       "      <td>서울</td>\n",
       "      <td>2000</td>\n",
       "    </tr>\n",
       "    <tr>\n",
       "      <th>이성진</th>\n",
       "      <td>부산</td>\n",
       "      <td>3000</td>\n",
       "    </tr>\n",
       "    <tr>\n",
       "      <th>강찬혁</th>\n",
       "      <td>부산</td>\n",
       "      <td>1000</td>\n",
       "    </tr>\n",
       "  </tbody>\n",
       "</table>\n",
       "</div>"
      ],
      "text/plain": [
       "    출장지역   교통비\n",
       "사원명           \n",
       "윤장혁   서울  4000\n",
       "서문덕   서울  2000\n",
       "이성진   부산  3000\n",
       "강찬혁   부산  1000"
      ]
     },
     "execution_count": 36,
     "metadata": {},
     "output_type": "execute_result"
    }
   ],
   "source": [
    "payment = pd.read_csv('./../data/payment06.csv', index_col = '사원명', encoding='cp949')\n",
    "payment"
   ]
  },
  {
   "cell_type": "code",
   "execution_count": 38,
   "id": "5ed4a5f0",
   "metadata": {},
   "outputs": [
    {
     "data": {
      "text/html": [
       "<div>\n",
       "<style scoped>\n",
       "    .dataframe tbody tr th:only-of-type {\n",
       "        vertical-align: middle;\n",
       "    }\n",
       "\n",
       "    .dataframe tbody tr th {\n",
       "        vertical-align: top;\n",
       "    }\n",
       "\n",
       "    .dataframe thead th {\n",
       "        text-align: right;\n",
       "    }\n",
       "</style>\n",
       "<table border=\"1\" class=\"dataframe\">\n",
       "  <thead>\n",
       "    <tr style=\"text-align: right;\">\n",
       "      <th></th>\n",
       "      <th>교통비</th>\n",
       "    </tr>\n",
       "    <tr>\n",
       "      <th>사원명</th>\n",
       "      <th></th>\n",
       "    </tr>\n",
       "  </thead>\n",
       "  <tbody>\n",
       "    <tr>\n",
       "      <th>윤장혁</th>\n",
       "      <td>4000</td>\n",
       "    </tr>\n",
       "    <tr>\n",
       "      <th>서문덕</th>\n",
       "      <td>2000</td>\n",
       "    </tr>\n",
       "    <tr>\n",
       "      <th>이성진</th>\n",
       "      <td>3000</td>\n",
       "    </tr>\n",
       "    <tr>\n",
       "      <th>강찬혁</th>\n",
       "      <td>1000</td>\n",
       "    </tr>\n",
       "  </tbody>\n",
       "</table>\n",
       "</div>"
      ],
      "text/plain": [
       "      교통비\n",
       "사원명      \n",
       "윤장혁  4000\n",
       "서문덕  2000\n",
       "이성진  3000\n",
       "강찬혁  1000"
      ]
     },
     "execution_count": 38,
     "metadata": {},
     "output_type": "execute_result"
    }
   ],
   "source": [
    "# 참조 복사\n",
    "traffic01 = payment['교통비']\n",
    "traffic01.to_frame()"
   ]
  },
  {
   "cell_type": "code",
   "execution_count": 39,
   "id": "841e3815",
   "metadata": {},
   "outputs": [
    {
     "data": {
      "text/html": [
       "<div>\n",
       "<style scoped>\n",
       "    .dataframe tbody tr th:only-of-type {\n",
       "        vertical-align: middle;\n",
       "    }\n",
       "\n",
       "    .dataframe tbody tr th {\n",
       "        vertical-align: top;\n",
       "    }\n",
       "\n",
       "    .dataframe thead th {\n",
       "        text-align: right;\n",
       "    }\n",
       "</style>\n",
       "<table border=\"1\" class=\"dataframe\">\n",
       "  <thead>\n",
       "    <tr style=\"text-align: right;\">\n",
       "      <th></th>\n",
       "      <th>교통비</th>\n",
       "    </tr>\n",
       "    <tr>\n",
       "      <th>사원명</th>\n",
       "      <th></th>\n",
       "    </tr>\n",
       "  </thead>\n",
       "  <tbody>\n",
       "    <tr>\n",
       "      <th>윤장혁</th>\n",
       "      <td>4000</td>\n",
       "    </tr>\n",
       "    <tr>\n",
       "      <th>서문덕</th>\n",
       "      <td>2000</td>\n",
       "    </tr>\n",
       "    <tr>\n",
       "      <th>이성진</th>\n",
       "      <td>3000</td>\n",
       "    </tr>\n",
       "    <tr>\n",
       "      <th>강찬혁</th>\n",
       "      <td>1000</td>\n",
       "    </tr>\n",
       "  </tbody>\n",
       "</table>\n",
       "</div>"
      ],
      "text/plain": [
       "      교통비\n",
       "사원명      \n",
       "윤장혁  4000\n",
       "서문덕  2000\n",
       "이성진  3000\n",
       "강찬혁  1000"
      ]
     },
     "execution_count": 39,
     "metadata": {},
     "output_type": "execute_result"
    }
   ],
   "source": [
    "traffic02 = payment['교통비']\n",
    "traffic02.to_frame()"
   ]
  },
  {
   "cell_type": "code",
   "execution_count": 40,
   "id": "1e5af48a",
   "metadata": {},
   "outputs": [
    {
     "data": {
      "text/plain": [
       "True"
      ]
     },
     "execution_count": 40,
     "metadata": {},
     "output_type": "execute_result"
    }
   ],
   "source": [
    "traffic01 is traffic02"
   ]
  },
  {
   "cell_type": "code",
   "execution_count": null,
   "id": "3be3aa63",
   "metadata": {},
   "outputs": [],
   "source": [
    "# 값 복사"
   ]
  },
  {
   "cell_type": "code",
   "execution_count": 41,
   "id": "38bce316",
   "metadata": {},
   "outputs": [
    {
     "data": {
      "text/html": [
       "<div>\n",
       "<style scoped>\n",
       "    .dataframe tbody tr th:only-of-type {\n",
       "        vertical-align: middle;\n",
       "    }\n",
       "\n",
       "    .dataframe tbody tr th {\n",
       "        vertical-align: top;\n",
       "    }\n",
       "\n",
       "    .dataframe thead th {\n",
       "        text-align: right;\n",
       "    }\n",
       "</style>\n",
       "<table border=\"1\" class=\"dataframe\">\n",
       "  <thead>\n",
       "    <tr style=\"text-align: right;\">\n",
       "      <th></th>\n",
       "      <th>교통비</th>\n",
       "    </tr>\n",
       "    <tr>\n",
       "      <th>사원명</th>\n",
       "      <th></th>\n",
       "    </tr>\n",
       "  </thead>\n",
       "  <tbody>\n",
       "    <tr>\n",
       "      <th>윤장혁</th>\n",
       "      <td>4000</td>\n",
       "    </tr>\n",
       "    <tr>\n",
       "      <th>서문덕</th>\n",
       "      <td>2000</td>\n",
       "    </tr>\n",
       "    <tr>\n",
       "      <th>이성진</th>\n",
       "      <td>3000</td>\n",
       "    </tr>\n",
       "    <tr>\n",
       "      <th>강찬혁</th>\n",
       "      <td>1000</td>\n",
       "    </tr>\n",
       "  </tbody>\n",
       "</table>\n",
       "</div>"
      ],
      "text/plain": [
       "      교통비\n",
       "사원명      \n",
       "윤장혁  4000\n",
       "서문덕  2000\n",
       "이성진  3000\n",
       "강찬혁  1000"
      ]
     },
     "execution_count": 41,
     "metadata": {},
     "output_type": "execute_result"
    }
   ],
   "source": [
    "traffic01 = payment['교통비'].copy()\n",
    "traffic01.to_frame()"
   ]
  },
  {
   "cell_type": "code",
   "execution_count": 42,
   "id": "93ca11a4",
   "metadata": {},
   "outputs": [
    {
     "data": {
      "text/html": [
       "<div>\n",
       "<style scoped>\n",
       "    .dataframe tbody tr th:only-of-type {\n",
       "        vertical-align: middle;\n",
       "    }\n",
       "\n",
       "    .dataframe tbody tr th {\n",
       "        vertical-align: top;\n",
       "    }\n",
       "\n",
       "    .dataframe thead th {\n",
       "        text-align: right;\n",
       "    }\n",
       "</style>\n",
       "<table border=\"1\" class=\"dataframe\">\n",
       "  <thead>\n",
       "    <tr style=\"text-align: right;\">\n",
       "      <th></th>\n",
       "      <th>교통비</th>\n",
       "    </tr>\n",
       "    <tr>\n",
       "      <th>사원명</th>\n",
       "      <th></th>\n",
       "    </tr>\n",
       "  </thead>\n",
       "  <tbody>\n",
       "    <tr>\n",
       "      <th>윤장혁</th>\n",
       "      <td>4000</td>\n",
       "    </tr>\n",
       "    <tr>\n",
       "      <th>서문덕</th>\n",
       "      <td>2000</td>\n",
       "    </tr>\n",
       "    <tr>\n",
       "      <th>이성진</th>\n",
       "      <td>3000</td>\n",
       "    </tr>\n",
       "    <tr>\n",
       "      <th>강찬혁</th>\n",
       "      <td>1000</td>\n",
       "    </tr>\n",
       "  </tbody>\n",
       "</table>\n",
       "</div>"
      ],
      "text/plain": [
       "      교통비\n",
       "사원명      \n",
       "윤장혁  4000\n",
       "서문덕  2000\n",
       "이성진  3000\n",
       "강찬혁  1000"
      ]
     },
     "execution_count": 42,
     "metadata": {},
     "output_type": "execute_result"
    }
   ],
   "source": [
    "traffic02 = payment['교통비'].copy()\n",
    "traffic02.to_frame()"
   ]
  },
  {
   "cell_type": "code",
   "execution_count": 43,
   "id": "8619a9c1",
   "metadata": {},
   "outputs": [
    {
     "data": {
      "text/plain": [
       "False"
      ]
     },
     "execution_count": 43,
     "metadata": {},
     "output_type": "execute_result"
    }
   ],
   "source": [
    "traffic01 is traffic02"
   ]
  },
  {
   "cell_type": "code",
   "execution_count": 44,
   "id": "7dbdc3e7",
   "metadata": {},
   "outputs": [
    {
     "data": {
      "text/html": [
       "<div>\n",
       "<style scoped>\n",
       "    .dataframe tbody tr th:only-of-type {\n",
       "        vertical-align: middle;\n",
       "    }\n",
       "\n",
       "    .dataframe tbody tr th {\n",
       "        vertical-align: top;\n",
       "    }\n",
       "\n",
       "    .dataframe thead th {\n",
       "        text-align: right;\n",
       "    }\n",
       "</style>\n",
       "<table border=\"1\" class=\"dataframe\">\n",
       "  <thead>\n",
       "    <tr style=\"text-align: right;\">\n",
       "      <th></th>\n",
       "      <th>교통비</th>\n",
       "    </tr>\n",
       "    <tr>\n",
       "      <th>사원명</th>\n",
       "      <th></th>\n",
       "    </tr>\n",
       "  </thead>\n",
       "  <tbody>\n",
       "    <tr>\n",
       "      <th>강찬혁</th>\n",
       "      <td>1000</td>\n",
       "    </tr>\n",
       "    <tr>\n",
       "      <th>서문덕</th>\n",
       "      <td>2000</td>\n",
       "    </tr>\n",
       "    <tr>\n",
       "      <th>윤장혁</th>\n",
       "      <td>4000</td>\n",
       "    </tr>\n",
       "    <tr>\n",
       "      <th>이성진</th>\n",
       "      <td>3000</td>\n",
       "    </tr>\n",
       "  </tbody>\n",
       "</table>\n",
       "</div>"
      ],
      "text/plain": [
       "      교통비\n",
       "사원명      \n",
       "강찬혁  1000\n",
       "서문덕  2000\n",
       "윤장혁  4000\n",
       "이성진  3000"
      ]
     },
     "execution_count": 44,
     "metadata": {},
     "output_type": "execute_result"
    }
   ],
   "source": [
    "traffic01 = traffic01.sort_index()\n",
    "traffic01.to_frame()"
   ]
  },
  {
   "cell_type": "code",
   "execution_count": 45,
   "id": "e0c2fd68",
   "metadata": {},
   "outputs": [
    {
     "data": {
      "text/html": [
       "<div>\n",
       "<style scoped>\n",
       "    .dataframe tbody tr th:only-of-type {\n",
       "        vertical-align: middle;\n",
       "    }\n",
       "\n",
       "    .dataframe tbody tr th {\n",
       "        vertical-align: top;\n",
       "    }\n",
       "\n",
       "    .dataframe thead th {\n",
       "        text-align: right;\n",
       "    }\n",
       "</style>\n",
       "<table border=\"1\" class=\"dataframe\">\n",
       "  <thead>\n",
       "    <tr style=\"text-align: right;\">\n",
       "      <th></th>\n",
       "      <th>교통비</th>\n",
       "    </tr>\n",
       "    <tr>\n",
       "      <th>사원명</th>\n",
       "      <th></th>\n",
       "    </tr>\n",
       "  </thead>\n",
       "  <tbody>\n",
       "    <tr>\n",
       "      <th>윤장혁</th>\n",
       "      <td>4000</td>\n",
       "    </tr>\n",
       "    <tr>\n",
       "      <th>서문덕</th>\n",
       "      <td>2000</td>\n",
       "    </tr>\n",
       "    <tr>\n",
       "      <th>이성진</th>\n",
       "      <td>3000</td>\n",
       "    </tr>\n",
       "    <tr>\n",
       "      <th>강찬혁</th>\n",
       "      <td>1000</td>\n",
       "    </tr>\n",
       "  </tbody>\n",
       "</table>\n",
       "</div>"
      ],
      "text/plain": [
       "      교통비\n",
       "사원명      \n",
       "윤장혁  4000\n",
       "서문덕  2000\n",
       "이성진  3000\n",
       "강찬혁  1000"
      ]
     },
     "execution_count": 45,
     "metadata": {},
     "output_type": "execute_result"
    }
   ],
   "source": [
    "traffic02.to_frame()"
   ]
  },
  {
   "cell_type": "markdown",
   "id": "82662391",
   "metadata": {},
   "source": [
    "<h2><font color=\"red\">특정 그룹 별 최대 값 찾기 \n",
    "</font></h2>"
   ]
  },
  {
   "cell_type": "markdown",
   "id": "65874572",
   "metadata": {},
   "source": [
    "<h3><font color=\"green\"> 가전 제품 데이터\n",
    "</font></h3>"
   ]
  },
  {
   "cell_type": "code",
   "execution_count": 47,
   "id": "6b749857",
   "metadata": {},
   "outputs": [
    {
     "data": {
      "text/html": [
       "<div>\n",
       "<style scoped>\n",
       "    .dataframe tbody tr th:only-of-type {\n",
       "        vertical-align: middle;\n",
       "    }\n",
       "\n",
       "    .dataframe tbody tr th {\n",
       "        vertical-align: top;\n",
       "    }\n",
       "\n",
       "    .dataframe thead th {\n",
       "        text-align: right;\n",
       "    }\n",
       "</style>\n",
       "<table border=\"1\" class=\"dataframe\">\n",
       "  <thead>\n",
       "    <tr style=\"text-align: right;\">\n",
       "      <th></th>\n",
       "      <th>제품명</th>\n",
       "      <th>분기</th>\n",
       "      <th>일생산량</th>\n",
       "      <th>생산일수</th>\n",
       "      <th>총생산량</th>\n",
       "      <th>불량품</th>\n",
       "      <th>출고량</th>\n",
       "    </tr>\n",
       "  </thead>\n",
       "  <tbody>\n",
       "    <tr>\n",
       "      <th>0</th>\n",
       "      <td>미니오븐</td>\n",
       "      <td>1</td>\n",
       "      <td>85</td>\n",
       "      <td>20</td>\n",
       "      <td>6000</td>\n",
       "      <td>24</td>\n",
       "      <td>50</td>\n",
       "    </tr>\n",
       "    <tr>\n",
       "      <th>1</th>\n",
       "      <td>전기밥솥</td>\n",
       "      <td>1</td>\n",
       "      <td>85</td>\n",
       "      <td>25</td>\n",
       "      <td>9000</td>\n",
       "      <td>36</td>\n",
       "      <td>80</td>\n",
       "    </tr>\n",
       "    <tr>\n",
       "      <th>2</th>\n",
       "      <td>믹서기</td>\n",
       "      <td>1</td>\n",
       "      <td>90</td>\n",
       "      <td>25</td>\n",
       "      <td>12000</td>\n",
       "      <td>48</td>\n",
       "      <td>80</td>\n",
       "    </tr>\n",
       "    <tr>\n",
       "      <th>3</th>\n",
       "      <td>전자레인지</td>\n",
       "      <td>1</td>\n",
       "      <td>85</td>\n",
       "      <td>25</td>\n",
       "      <td>7200</td>\n",
       "      <td>29</td>\n",
       "      <td>50</td>\n",
       "    </tr>\n",
       "    <tr>\n",
       "      <th>4</th>\n",
       "      <td>미니냉장고</td>\n",
       "      <td>1</td>\n",
       "      <td>65</td>\n",
       "      <td>25</td>\n",
       "      <td>4800</td>\n",
       "      <td>19</td>\n",
       "      <td>65</td>\n",
       "    </tr>\n",
       "  </tbody>\n",
       "</table>\n",
       "</div>"
      ],
      "text/plain": [
       "     제품명  분기  일생산량  생산일수   총생산량  불량품  출고량\n",
       "0   미니오븐   1    85    20   6000   24   50\n",
       "1   전기밥솥   1    85    25   9000   36   80\n",
       "2    믹서기   1    90    25  12000   48   80\n",
       "3  전자레인지   1    85    25   7200   29   50\n",
       "4  미니냉장고   1    65    25   4800   19   65"
      ]
     },
     "execution_count": 47,
     "metadata": {},
     "output_type": "execute_result"
    }
   ],
   "source": [
    "homeapp = pd.read_csv('./../data/가전제품.csv', encoding='cp949')\n",
    "homeapp.head()"
   ]
  },
  {
   "cell_type": "markdown",
   "id": "8d50365a",
   "metadata": {},
   "source": [
    "<h6><font color=\"BlueViolet\">1) 가전 제품별 최대 값 구하기\n",
    "</font></h6>"
   ]
  },
  {
   "cell_type": "code",
   "execution_count": 48,
   "id": "ff3851ee",
   "metadata": {},
   "outputs": [
    {
     "data": {
      "text/html": [
       "<div>\n",
       "<style scoped>\n",
       "    .dataframe tbody tr th:only-of-type {\n",
       "        vertical-align: middle;\n",
       "    }\n",
       "\n",
       "    .dataframe tbody tr th {\n",
       "        vertical-align: top;\n",
       "    }\n",
       "\n",
       "    .dataframe thead th {\n",
       "        text-align: right;\n",
       "    }\n",
       "</style>\n",
       "<table border=\"1\" class=\"dataframe\">\n",
       "  <thead>\n",
       "    <tr style=\"text-align: right;\">\n",
       "      <th></th>\n",
       "      <th>제품명</th>\n",
       "      <th>총생산량</th>\n",
       "    </tr>\n",
       "  </thead>\n",
       "  <tbody>\n",
       "    <tr>\n",
       "      <th>0</th>\n",
       "      <td>미니오븐</td>\n",
       "      <td>6000</td>\n",
       "    </tr>\n",
       "    <tr>\n",
       "      <th>1</th>\n",
       "      <td>전기밥솥</td>\n",
       "      <td>9000</td>\n",
       "    </tr>\n",
       "    <tr>\n",
       "      <th>2</th>\n",
       "      <td>믹서기</td>\n",
       "      <td>12000</td>\n",
       "    </tr>\n",
       "    <tr>\n",
       "      <th>3</th>\n",
       "      <td>전자레인지</td>\n",
       "      <td>7200</td>\n",
       "    </tr>\n",
       "    <tr>\n",
       "      <th>4</th>\n",
       "      <td>미니냉장고</td>\n",
       "      <td>4800</td>\n",
       "    </tr>\n",
       "    <tr>\n",
       "      <th>5</th>\n",
       "      <td>선풍기</td>\n",
       "      <td>10800</td>\n",
       "    </tr>\n",
       "    <tr>\n",
       "      <th>6</th>\n",
       "      <td>미니오븐</td>\n",
       "      <td>4960</td>\n",
       "    </tr>\n",
       "    <tr>\n",
       "      <th>7</th>\n",
       "      <td>전기밥솥</td>\n",
       "      <td>11160</td>\n",
       "    </tr>\n",
       "    <tr>\n",
       "      <th>8</th>\n",
       "      <td>믹서기</td>\n",
       "      <td>12800</td>\n",
       "    </tr>\n",
       "    <tr>\n",
       "      <th>9</th>\n",
       "      <td>전자레인지</td>\n",
       "      <td>7680</td>\n",
       "    </tr>\n",
       "  </tbody>\n",
       "</table>\n",
       "</div>"
      ],
      "text/plain": [
       "     제품명   총생산량\n",
       "0   미니오븐   6000\n",
       "1   전기밥솥   9000\n",
       "2    믹서기  12000\n",
       "3  전자레인지   7200\n",
       "4  미니냉장고   4800\n",
       "5    선풍기  10800\n",
       "6   미니오븐   4960\n",
       "7   전기밥솥  11160\n",
       "8    믹서기  12800\n",
       "9  전자레인지   7680"
      ]
     },
     "execution_count": 48,
     "metadata": {},
     "output_type": "execute_result"
    }
   ],
   "source": [
    "name_qty = homeapp[['제품명','총생산량']]\n",
    "name_qty.head(10)"
   ]
  },
  {
   "cell_type": "code",
   "execution_count": 49,
   "id": "f51bf59d",
   "metadata": {},
   "outputs": [
    {
     "data": {
      "text/html": [
       "<div>\n",
       "<style scoped>\n",
       "    .dataframe tbody tr th:only-of-type {\n",
       "        vertical-align: middle;\n",
       "    }\n",
       "\n",
       "    .dataframe tbody tr th {\n",
       "        vertical-align: top;\n",
       "    }\n",
       "\n",
       "    .dataframe thead th {\n",
       "        text-align: right;\n",
       "    }\n",
       "</style>\n",
       "<table border=\"1\" class=\"dataframe\">\n",
       "  <thead>\n",
       "    <tr style=\"text-align: right;\">\n",
       "      <th></th>\n",
       "      <th>제품명</th>\n",
       "      <th>총생산량</th>\n",
       "    </tr>\n",
       "  </thead>\n",
       "  <tbody>\n",
       "    <tr>\n",
       "      <th>16</th>\n",
       "      <td>미니냉장고</td>\n",
       "      <td>12400</td>\n",
       "    </tr>\n",
       "    <tr>\n",
       "      <th>10</th>\n",
       "      <td>미니냉장고</td>\n",
       "      <td>5120</td>\n",
       "    </tr>\n",
       "    <tr>\n",
       "      <th>22</th>\n",
       "      <td>미니냉장고</td>\n",
       "      <td>4960</td>\n",
       "    </tr>\n",
       "    <tr>\n",
       "      <th>4</th>\n",
       "      <td>미니냉장고</td>\n",
       "      <td>4800</td>\n",
       "    </tr>\n",
       "    <tr>\n",
       "      <th>12</th>\n",
       "      <td>미니오븐</td>\n",
       "      <td>6200</td>\n",
       "    </tr>\n",
       "    <tr>\n",
       "      <th>18</th>\n",
       "      <td>미니오븐</td>\n",
       "      <td>6200</td>\n",
       "    </tr>\n",
       "    <tr>\n",
       "      <th>0</th>\n",
       "      <td>미니오븐</td>\n",
       "      <td>6000</td>\n",
       "    </tr>\n",
       "    <tr>\n",
       "      <th>6</th>\n",
       "      <td>미니오븐</td>\n",
       "      <td>4960</td>\n",
       "    </tr>\n",
       "    <tr>\n",
       "      <th>8</th>\n",
       "      <td>믹서기</td>\n",
       "      <td>12800</td>\n",
       "    </tr>\n",
       "    <tr>\n",
       "      <th>14</th>\n",
       "      <td>믹서기</td>\n",
       "      <td>12400</td>\n",
       "    </tr>\n",
       "  </tbody>\n",
       "</table>\n",
       "</div>"
      ],
      "text/plain": [
       "      제품명   총생산량\n",
       "16  미니냉장고  12400\n",
       "10  미니냉장고   5120\n",
       "22  미니냉장고   4960\n",
       "4   미니냉장고   4800\n",
       "12   미니오븐   6200\n",
       "18   미니오븐   6200\n",
       "0    미니오븐   6000\n",
       "6    미니오븐   4960\n",
       "8     믹서기  12800\n",
       "14    믹서기  12400"
      ]
     },
     "execution_count": 49,
     "metadata": {},
     "output_type": "execute_result"
    }
   ],
   "source": [
    "# ascending True:오름차 / False:내림차\n",
    "name_qty = name_qty.sort_values(['제품명','총생산량'], ascending=[True,False]) \n",
    "name_qty.head(10)"
   ]
  },
  {
   "cell_type": "code",
   "execution_count": 50,
   "id": "ccc8dba3",
   "metadata": {
    "scrolled": true
   },
   "outputs": [
    {
     "data": {
      "text/html": [
       "<div>\n",
       "<style scoped>\n",
       "    .dataframe tbody tr th:only-of-type {\n",
       "        vertical-align: middle;\n",
       "    }\n",
       "\n",
       "    .dataframe tbody tr th {\n",
       "        vertical-align: top;\n",
       "    }\n",
       "\n",
       "    .dataframe thead th {\n",
       "        text-align: right;\n",
       "    }\n",
       "</style>\n",
       "<table border=\"1\" class=\"dataframe\">\n",
       "  <thead>\n",
       "    <tr style=\"text-align: right;\">\n",
       "      <th></th>\n",
       "      <th>제품명</th>\n",
       "      <th>총생산량</th>\n",
       "    </tr>\n",
       "  </thead>\n",
       "  <tbody>\n",
       "    <tr>\n",
       "      <th>16</th>\n",
       "      <td>미니냉장고</td>\n",
       "      <td>12400</td>\n",
       "    </tr>\n",
       "    <tr>\n",
       "      <th>12</th>\n",
       "      <td>미니오븐</td>\n",
       "      <td>6200</td>\n",
       "    </tr>\n",
       "    <tr>\n",
       "      <th>8</th>\n",
       "      <td>믹서기</td>\n",
       "      <td>12800</td>\n",
       "    </tr>\n",
       "    <tr>\n",
       "      <th>11</th>\n",
       "      <td>선풍기</td>\n",
       "      <td>11520</td>\n",
       "    </tr>\n",
       "    <tr>\n",
       "      <th>7</th>\n",
       "      <td>전기밥솥</td>\n",
       "      <td>11160</td>\n",
       "    </tr>\n",
       "    <tr>\n",
       "      <th>21</th>\n",
       "      <td>전자레인지</td>\n",
       "      <td>9600</td>\n",
       "    </tr>\n",
       "  </tbody>\n",
       "</table>\n",
       "</div>"
      ],
      "text/plain": [
       "      제품명   총생산량\n",
       "16  미니냉장고  12400\n",
       "12   미니오븐   6200\n",
       "8     믹서기  12800\n",
       "11    선풍기  11520\n",
       "7    전기밥솥  11160\n",
       "21  전자레인지   9600"
      ]
     },
     "execution_count": 50,
     "metadata": {},
     "output_type": "execute_result"
    }
   ],
   "source": [
    "# 중복(duplicates) 제거하고 1 개만 보여 주기 : drop_duplicates(subset='컬럼_이름')\n",
    "max_value = name_qty.drop_duplicates(subset = '제품명')\n",
    "max_value"
   ]
  },
  {
   "cell_type": "code",
   "execution_count": 52,
   "id": "c58cccb2",
   "metadata": {},
   "outputs": [
    {
     "data": {
      "text/html": [
       "<div>\n",
       "<style scoped>\n",
       "    .dataframe tbody tr th:only-of-type {\n",
       "        vertical-align: middle;\n",
       "    }\n",
       "\n",
       "    .dataframe tbody tr th {\n",
       "        vertical-align: top;\n",
       "    }\n",
       "\n",
       "    .dataframe thead th {\n",
       "        text-align: right;\n",
       "    }\n",
       "</style>\n",
       "<table border=\"1\" class=\"dataframe\">\n",
       "  <thead>\n",
       "    <tr style=\"text-align: right;\">\n",
       "      <th></th>\n",
       "      <th>총생산량</th>\n",
       "    </tr>\n",
       "    <tr>\n",
       "      <th>제품명</th>\n",
       "      <th></th>\n",
       "    </tr>\n",
       "  </thead>\n",
       "  <tbody>\n",
       "    <tr>\n",
       "      <th>미니냉장고</th>\n",
       "      <td>12400</td>\n",
       "    </tr>\n",
       "    <tr>\n",
       "      <th>미니오븐</th>\n",
       "      <td>6200</td>\n",
       "    </tr>\n",
       "    <tr>\n",
       "      <th>믹서기</th>\n",
       "      <td>12800</td>\n",
       "    </tr>\n",
       "    <tr>\n",
       "      <th>선풍기</th>\n",
       "      <td>11520</td>\n",
       "    </tr>\n",
       "    <tr>\n",
       "      <th>전기밥솥</th>\n",
       "      <td>11160</td>\n",
       "    </tr>\n",
       "    <tr>\n",
       "      <th>전자레인지</th>\n",
       "      <td>9600</td>\n",
       "    </tr>\n",
       "  </tbody>\n",
       "</table>\n",
       "</div>"
      ],
      "text/plain": [
       "        총생산량\n",
       "제품명         \n",
       "미니냉장고  12400\n",
       "미니오븐    6200\n",
       "믹서기    12800\n",
       "선풍기    11520\n",
       "전기밥솥   11160\n",
       "전자레인지   9600"
      ]
     },
     "execution_count": 52,
     "metadata": {},
     "output_type": "execute_result"
    }
   ],
   "source": [
    "max_value = max_value.set_index('제품명')\n",
    "max_value"
   ]
  },
  {
   "cell_type": "code",
   "execution_count": 55,
   "id": "694427f1",
   "metadata": {},
   "outputs": [
    {
     "data": {
      "text/html": [
       "<div>\n",
       "<style scoped>\n",
       "    .dataframe tbody tr th:only-of-type {\n",
       "        vertical-align: middle;\n",
       "    }\n",
       "\n",
       "    .dataframe tbody tr th {\n",
       "        vertical-align: top;\n",
       "    }\n",
       "\n",
       "    .dataframe thead th {\n",
       "        text-align: right;\n",
       "    }\n",
       "</style>\n",
       "<table border=\"1\" class=\"dataframe\">\n",
       "  <thead>\n",
       "    <tr style=\"text-align: right;\">\n",
       "      <th></th>\n",
       "      <th>총생산량</th>\n",
       "    </tr>\n",
       "    <tr>\n",
       "      <th>제품명</th>\n",
       "      <th></th>\n",
       "    </tr>\n",
       "  </thead>\n",
       "  <tbody>\n",
       "    <tr>\n",
       "      <th>믹서기</th>\n",
       "      <td>12800</td>\n",
       "    </tr>\n",
       "    <tr>\n",
       "      <th>미니냉장고</th>\n",
       "      <td>12400</td>\n",
       "    </tr>\n",
       "    <tr>\n",
       "      <th>선풍기</th>\n",
       "      <td>11520</td>\n",
       "    </tr>\n",
       "    <tr>\n",
       "      <th>전기밥솥</th>\n",
       "      <td>11160</td>\n",
       "    </tr>\n",
       "    <tr>\n",
       "      <th>전자레인지</th>\n",
       "      <td>9600</td>\n",
       "    </tr>\n",
       "    <tr>\n",
       "      <th>미니오븐</th>\n",
       "      <td>6200</td>\n",
       "    </tr>\n",
       "  </tbody>\n",
       "</table>\n",
       "</div>"
      ],
      "text/plain": [
       "        총생산량\n",
       "제품명         \n",
       "믹서기    12800\n",
       "미니냉장고  12400\n",
       "선풍기    11520\n",
       "전기밥솥   11160\n",
       "전자레인지   9600\n",
       "미니오븐    6200"
      ]
     },
     "execution_count": 55,
     "metadata": {},
     "output_type": "execute_result"
    }
   ],
   "source": [
    "chartdata01 = max_value.copy().sort_values(by='총생산량', ascending=False)\n",
    "chartdata01"
   ]
  },
  {
   "cell_type": "code",
   "execution_count": 53,
   "id": "5fe40f29",
   "metadata": {},
   "outputs": [],
   "source": [
    "import matplotlib.pyplot as plt\n",
    "plt.rc('font', family='malgun Gothic')"
   ]
  },
  {
   "cell_type": "code",
   "execution_count": 59,
   "id": "af0c1042",
   "metadata": {
    "scrolled": true
   },
   "outputs": [
    {
     "data": {
      "text/plain": [
       "Text(0.5, 1.0, '제품별 총생산량 최대 값')"
      ]
     },
     "execution_count": 59,
     "metadata": {},
     "output_type": "execute_result"
    },
    {
     "data": {
      "image/png": "[encoded data removed]",
      "text/plain": [
       "<Figure size 640x480 with 1 Axes>"
      ]
     },
     "metadata": {},
     "output_type": "display_data"
    }
   ],
   "source": [
    "chartdata01.plot(kind='bar', rot=0 , use_index=True, grid=True, legend=False, \\\n",
    "                 ylim=[0, 15000], table=False)\n",
    "plt.xlabel('제품명')\n",
    "plt.ylabel('총생산량')\n",
    "plt.title('제품별 총생산량 최대 값')"
   ]
  },
  {
   "cell_type": "code",
   "execution_count": 60,
   "id": "49c11fa4",
   "metadata": {},
   "outputs": [
    {
     "data": {
      "text/html": [
       "<div>\n",
       "<style scoped>\n",
       "    .dataframe tbody tr th:only-of-type {\n",
       "        vertical-align: middle;\n",
       "    }\n",
       "\n",
       "    .dataframe tbody tr th {\n",
       "        vertical-align: top;\n",
       "    }\n",
       "\n",
       "    .dataframe thead th {\n",
       "        text-align: right;\n",
       "    }\n",
       "</style>\n",
       "<table border=\"1\" class=\"dataframe\">\n",
       "  <thead>\n",
       "    <tr style=\"text-align: right;\">\n",
       "      <th></th>\n",
       "      <th>분기</th>\n",
       "      <th>일생산량</th>\n",
       "      <th>생산일수</th>\n",
       "      <th>총생산량</th>\n",
       "      <th>불량품</th>\n",
       "      <th>출고량</th>\n",
       "    </tr>\n",
       "    <tr>\n",
       "      <th>제품명</th>\n",
       "      <th></th>\n",
       "      <th></th>\n",
       "      <th></th>\n",
       "      <th></th>\n",
       "      <th></th>\n",
       "      <th></th>\n",
       "    </tr>\n",
       "  </thead>\n",
       "  <tbody>\n",
       "    <tr>\n",
       "      <th>미니오븐</th>\n",
       "      <td>1</td>\n",
       "      <td>85</td>\n",
       "      <td>20</td>\n",
       "      <td>6000</td>\n",
       "      <td>24</td>\n",
       "      <td>50</td>\n",
       "    </tr>\n",
       "    <tr>\n",
       "      <th>전기밥솥</th>\n",
       "      <td>1</td>\n",
       "      <td>85</td>\n",
       "      <td>25</td>\n",
       "      <td>9000</td>\n",
       "      <td>36</td>\n",
       "      <td>80</td>\n",
       "    </tr>\n",
       "    <tr>\n",
       "      <th>믹서기</th>\n",
       "      <td>1</td>\n",
       "      <td>90</td>\n",
       "      <td>25</td>\n",
       "      <td>12000</td>\n",
       "      <td>48</td>\n",
       "      <td>80</td>\n",
       "    </tr>\n",
       "    <tr>\n",
       "      <th>전자레인지</th>\n",
       "      <td>1</td>\n",
       "      <td>85</td>\n",
       "      <td>25</td>\n",
       "      <td>7200</td>\n",
       "      <td>29</td>\n",
       "      <td>50</td>\n",
       "    </tr>\n",
       "    <tr>\n",
       "      <th>미니냉장고</th>\n",
       "      <td>1</td>\n",
       "      <td>65</td>\n",
       "      <td>25</td>\n",
       "      <td>4800</td>\n",
       "      <td>19</td>\n",
       "      <td>65</td>\n",
       "    </tr>\n",
       "    <tr>\n",
       "      <th>선풍기</th>\n",
       "      <td>1</td>\n",
       "      <td>70</td>\n",
       "      <td>25</td>\n",
       "      <td>10800</td>\n",
       "      <td>43</td>\n",
       "      <td>55</td>\n",
       "    </tr>\n",
       "    <tr>\n",
       "      <th>미니오븐</th>\n",
       "      <td>2</td>\n",
       "      <td>85</td>\n",
       "      <td>20</td>\n",
       "      <td>4960</td>\n",
       "      <td>26</td>\n",
       "      <td>55</td>\n",
       "    </tr>\n",
       "    <tr>\n",
       "      <th>전기밥솥</th>\n",
       "      <td>2</td>\n",
       "      <td>70</td>\n",
       "      <td>20</td>\n",
       "      <td>11160</td>\n",
       "      <td>39</td>\n",
       "      <td>65</td>\n",
       "    </tr>\n",
       "    <tr>\n",
       "      <th>믹서기</th>\n",
       "      <td>2</td>\n",
       "      <td>85</td>\n",
       "      <td>25</td>\n",
       "      <td>12800</td>\n",
       "      <td>39</td>\n",
       "      <td>80</td>\n",
       "    </tr>\n",
       "    <tr>\n",
       "      <th>전자레인지</th>\n",
       "      <td>2</td>\n",
       "      <td>90</td>\n",
       "      <td>20</td>\n",
       "      <td>7680</td>\n",
       "      <td>22</td>\n",
       "      <td>60</td>\n",
       "    </tr>\n",
       "  </tbody>\n",
       "</table>\n",
       "</div>"
      ],
      "text/plain": [
       "       분기  일생산량  생산일수   총생산량  불량품  출고량\n",
       "제품명                                   \n",
       "미니오븐    1    85    20   6000   24   50\n",
       "전기밥솥    1    85    25   9000   36   80\n",
       "믹서기     1    90    25  12000   48   80\n",
       "전자레인지   1    85    25   7200   29   50\n",
       "미니냉장고   1    65    25   4800   19   65\n",
       "선풍기     1    70    25  10800   43   55\n",
       "미니오븐    2    85    20   4960   26   55\n",
       "전기밥솥    2    70    20  11160   39   65\n",
       "믹서기     2    85    25  12800   39   80\n",
       "전자레인지   2    90    20   7680   22   60"
      ]
     },
     "execution_count": 60,
     "metadata": {},
     "output_type": "execute_result"
    }
   ],
   "source": [
    "# 원본 DataFrame에 최대 값 열 생성\n",
    "homeapp = homeapp.set_index('제품명')\n",
    "homeapp.head(10)"
   ]
  },
  {
   "cell_type": "code",
   "execution_count": 61,
   "id": "0cfba766",
   "metadata": {},
   "outputs": [
    {
     "data": {
      "text/html": [
       "<div>\n",
       "<style scoped>\n",
       "    .dataframe tbody tr th:only-of-type {\n",
       "        vertical-align: middle;\n",
       "    }\n",
       "\n",
       "    .dataframe tbody tr th {\n",
       "        vertical-align: top;\n",
       "    }\n",
       "\n",
       "    .dataframe thead th {\n",
       "        text-align: right;\n",
       "    }\n",
       "</style>\n",
       "<table border=\"1\" class=\"dataframe\">\n",
       "  <thead>\n",
       "    <tr style=\"text-align: right;\">\n",
       "      <th></th>\n",
       "      <th>분기</th>\n",
       "      <th>일생산량</th>\n",
       "      <th>생산일수</th>\n",
       "      <th>총생산량</th>\n",
       "      <th>불량품</th>\n",
       "      <th>출고량</th>\n",
       "      <th>총생산량_최대값</th>\n",
       "    </tr>\n",
       "    <tr>\n",
       "      <th>제품명</th>\n",
       "      <th></th>\n",
       "      <th></th>\n",
       "      <th></th>\n",
       "      <th></th>\n",
       "      <th></th>\n",
       "      <th></th>\n",
       "      <th></th>\n",
       "    </tr>\n",
       "  </thead>\n",
       "  <tbody>\n",
       "    <tr>\n",
       "      <th>미니오븐</th>\n",
       "      <td>1</td>\n",
       "      <td>85</td>\n",
       "      <td>20</td>\n",
       "      <td>6000</td>\n",
       "      <td>24</td>\n",
       "      <td>50</td>\n",
       "      <td>6200</td>\n",
       "    </tr>\n",
       "    <tr>\n",
       "      <th>전기밥솥</th>\n",
       "      <td>1</td>\n",
       "      <td>85</td>\n",
       "      <td>25</td>\n",
       "      <td>9000</td>\n",
       "      <td>36</td>\n",
       "      <td>80</td>\n",
       "      <td>11160</td>\n",
       "    </tr>\n",
       "    <tr>\n",
       "      <th>믹서기</th>\n",
       "      <td>1</td>\n",
       "      <td>90</td>\n",
       "      <td>25</td>\n",
       "      <td>12000</td>\n",
       "      <td>48</td>\n",
       "      <td>80</td>\n",
       "      <td>12800</td>\n",
       "    </tr>\n",
       "    <tr>\n",
       "      <th>전자레인지</th>\n",
       "      <td>1</td>\n",
       "      <td>85</td>\n",
       "      <td>25</td>\n",
       "      <td>7200</td>\n",
       "      <td>29</td>\n",
       "      <td>50</td>\n",
       "      <td>9600</td>\n",
       "    </tr>\n",
       "    <tr>\n",
       "      <th>미니냉장고</th>\n",
       "      <td>1</td>\n",
       "      <td>65</td>\n",
       "      <td>25</td>\n",
       "      <td>4800</td>\n",
       "      <td>19</td>\n",
       "      <td>65</td>\n",
       "      <td>12400</td>\n",
       "    </tr>\n",
       "    <tr>\n",
       "      <th>선풍기</th>\n",
       "      <td>1</td>\n",
       "      <td>70</td>\n",
       "      <td>25</td>\n",
       "      <td>10800</td>\n",
       "      <td>43</td>\n",
       "      <td>55</td>\n",
       "      <td>11520</td>\n",
       "    </tr>\n",
       "    <tr>\n",
       "      <th>미니오븐</th>\n",
       "      <td>2</td>\n",
       "      <td>85</td>\n",
       "      <td>20</td>\n",
       "      <td>4960</td>\n",
       "      <td>26</td>\n",
       "      <td>55</td>\n",
       "      <td>6200</td>\n",
       "    </tr>\n",
       "    <tr>\n",
       "      <th>전기밥솥</th>\n",
       "      <td>2</td>\n",
       "      <td>70</td>\n",
       "      <td>20</td>\n",
       "      <td>11160</td>\n",
       "      <td>39</td>\n",
       "      <td>65</td>\n",
       "      <td>11160</td>\n",
       "    </tr>\n",
       "    <tr>\n",
       "      <th>믹서기</th>\n",
       "      <td>2</td>\n",
       "      <td>85</td>\n",
       "      <td>25</td>\n",
       "      <td>12800</td>\n",
       "      <td>39</td>\n",
       "      <td>80</td>\n",
       "      <td>12800</td>\n",
       "    </tr>\n",
       "    <tr>\n",
       "      <th>전자레인지</th>\n",
       "      <td>2</td>\n",
       "      <td>90</td>\n",
       "      <td>20</td>\n",
       "      <td>7680</td>\n",
       "      <td>22</td>\n",
       "      <td>60</td>\n",
       "      <td>9600</td>\n",
       "    </tr>\n",
       "  </tbody>\n",
       "</table>\n",
       "</div>"
      ],
      "text/plain": [
       "       분기  일생산량  생산일수   총생산량  불량품  출고량  총생산량_최대값\n",
       "제품명                                             \n",
       "미니오븐    1    85    20   6000   24   50      6200\n",
       "전기밥솥    1    85    25   9000   36   80     11160\n",
       "믹서기     1    90    25  12000   48   80     12800\n",
       "전자레인지   1    85    25   7200   29   50      9600\n",
       "미니냉장고   1    65    25   4800   19   65     12400\n",
       "선풍기     1    70    25  10800   43   55     11520\n",
       "미니오븐    2    85    20   4960   26   55      6200\n",
       "전기밥솥    2    70    20  11160   39   65     11160\n",
       "믹서기     2    85    25  12800   39   80     12800\n",
       "전자레인지   2    90    20   7680   22   60      9600"
      ]
     },
     "execution_count": 61,
     "metadata": {},
     "output_type": "execute_result"
    }
   ],
   "source": [
    "pd.options.display.max_columns = 10\n",
    "homeapp['총생산량_최대값'] = max_value['총생산량']\n",
    "homeapp.head(10)"
   ]
  },
  {
   "cell_type": "code",
   "execution_count": 63,
   "id": "45a8102a",
   "metadata": {},
   "outputs": [
    {
     "data": {
      "text/html": [
       "<div>\n",
       "<style scoped>\n",
       "    .dataframe tbody tr th:only-of-type {\n",
       "        vertical-align: middle;\n",
       "    }\n",
       "\n",
       "    .dataframe tbody tr th {\n",
       "        vertical-align: top;\n",
       "    }\n",
       "\n",
       "    .dataframe thead th {\n",
       "        text-align: right;\n",
       "    }\n",
       "</style>\n",
       "<table border=\"1\" class=\"dataframe\">\n",
       "  <thead>\n",
       "    <tr style=\"text-align: right;\">\n",
       "      <th></th>\n",
       "      <th>분기</th>\n",
       "      <th>일생산량</th>\n",
       "      <th>생산일수</th>\n",
       "      <th>총생산량</th>\n",
       "      <th>불량품</th>\n",
       "      <th>출고량</th>\n",
       "      <th>총생산량_최대값</th>\n",
       "      <th>rate</th>\n",
       "    </tr>\n",
       "    <tr>\n",
       "      <th>제품명</th>\n",
       "      <th></th>\n",
       "      <th></th>\n",
       "      <th></th>\n",
       "      <th></th>\n",
       "      <th></th>\n",
       "      <th></th>\n",
       "      <th></th>\n",
       "      <th></th>\n",
       "    </tr>\n",
       "  </thead>\n",
       "  <tbody>\n",
       "    <tr>\n",
       "      <th>미니오븐</th>\n",
       "      <td>1</td>\n",
       "      <td>85</td>\n",
       "      <td>20</td>\n",
       "      <td>6000</td>\n",
       "      <td>24</td>\n",
       "      <td>50</td>\n",
       "      <td>6200</td>\n",
       "      <td>96.774194</td>\n",
       "    </tr>\n",
       "    <tr>\n",
       "      <th>전기밥솥</th>\n",
       "      <td>1</td>\n",
       "      <td>85</td>\n",
       "      <td>25</td>\n",
       "      <td>9000</td>\n",
       "      <td>36</td>\n",
       "      <td>80</td>\n",
       "      <td>11160</td>\n",
       "      <td>80.645161</td>\n",
       "    </tr>\n",
       "    <tr>\n",
       "      <th>믹서기</th>\n",
       "      <td>1</td>\n",
       "      <td>90</td>\n",
       "      <td>25</td>\n",
       "      <td>12000</td>\n",
       "      <td>48</td>\n",
       "      <td>80</td>\n",
       "      <td>12800</td>\n",
       "      <td>93.750000</td>\n",
       "    </tr>\n",
       "    <tr>\n",
       "      <th>전자레인지</th>\n",
       "      <td>1</td>\n",
       "      <td>85</td>\n",
       "      <td>25</td>\n",
       "      <td>7200</td>\n",
       "      <td>29</td>\n",
       "      <td>50</td>\n",
       "      <td>9600</td>\n",
       "      <td>75.000000</td>\n",
       "    </tr>\n",
       "    <tr>\n",
       "      <th>미니냉장고</th>\n",
       "      <td>1</td>\n",
       "      <td>65</td>\n",
       "      <td>25</td>\n",
       "      <td>4800</td>\n",
       "      <td>19</td>\n",
       "      <td>65</td>\n",
       "      <td>12400</td>\n",
       "      <td>38.709677</td>\n",
       "    </tr>\n",
       "    <tr>\n",
       "      <th>선풍기</th>\n",
       "      <td>1</td>\n",
       "      <td>70</td>\n",
       "      <td>25</td>\n",
       "      <td>10800</td>\n",
       "      <td>43</td>\n",
       "      <td>55</td>\n",
       "      <td>11520</td>\n",
       "      <td>93.750000</td>\n",
       "    </tr>\n",
       "    <tr>\n",
       "      <th>미니오븐</th>\n",
       "      <td>2</td>\n",
       "      <td>85</td>\n",
       "      <td>20</td>\n",
       "      <td>4960</td>\n",
       "      <td>26</td>\n",
       "      <td>55</td>\n",
       "      <td>6200</td>\n",
       "      <td>80.000000</td>\n",
       "    </tr>\n",
       "    <tr>\n",
       "      <th>전기밥솥</th>\n",
       "      <td>2</td>\n",
       "      <td>70</td>\n",
       "      <td>20</td>\n",
       "      <td>11160</td>\n",
       "      <td>39</td>\n",
       "      <td>65</td>\n",
       "      <td>11160</td>\n",
       "      <td>100.000000</td>\n",
       "    </tr>\n",
       "    <tr>\n",
       "      <th>믹서기</th>\n",
       "      <td>2</td>\n",
       "      <td>85</td>\n",
       "      <td>25</td>\n",
       "      <td>12800</td>\n",
       "      <td>39</td>\n",
       "      <td>80</td>\n",
       "      <td>12800</td>\n",
       "      <td>100.000000</td>\n",
       "    </tr>\n",
       "    <tr>\n",
       "      <th>전자레인지</th>\n",
       "      <td>2</td>\n",
       "      <td>90</td>\n",
       "      <td>20</td>\n",
       "      <td>7680</td>\n",
       "      <td>22</td>\n",
       "      <td>60</td>\n",
       "      <td>9600</td>\n",
       "      <td>80.000000</td>\n",
       "    </tr>\n",
       "  </tbody>\n",
       "</table>\n",
       "</div>"
      ],
      "text/plain": [
       "       분기  일생산량  생산일수   총생산량  불량품  출고량  총생산량_최대값        rate\n",
       "제품명                                                         \n",
       "미니오븐    1    85    20   6000   24   50      6200   96.774194\n",
       "전기밥솥    1    85    25   9000   36   80     11160   80.645161\n",
       "믹서기     1    90    25  12000   48   80     12800   93.750000\n",
       "전자레인지   1    85    25   7200   29   50      9600   75.000000\n",
       "미니냉장고   1    65    25   4800   19   65     12400   38.709677\n",
       "선풍기     1    70    25  10800   43   55     11520   93.750000\n",
       "미니오븐    2    85    20   4960   26   55      6200   80.000000\n",
       "전기밥솥    2    70    20  11160   39   65     11160  100.000000\n",
       "믹서기     2    85    25  12800   39   80     12800  100.000000\n",
       "전자레인지   2    90    20   7680   22   60      9600   80.000000"
      ]
     },
     "execution_count": 63,
     "metadata": {},
     "output_type": "execute_result"
    }
   ],
   "source": [
    "homeapp['rate'] = 100 * homeapp['총생산량'] / homeapp['총생산량_최대값']\n",
    "homeapp.head(10)"
   ]
  },
  {
   "cell_type": "code",
   "execution_count": 64,
   "id": "15606f98",
   "metadata": {
    "scrolled": false
   },
   "outputs": [
    {
     "data": {
      "text/html": [
       "<div>\n",
       "<style scoped>\n",
       "    .dataframe tbody tr th:only-of-type {\n",
       "        vertical-align: middle;\n",
       "    }\n",
       "\n",
       "    .dataframe tbody tr th {\n",
       "        vertical-align: top;\n",
       "    }\n",
       "\n",
       "    .dataframe thead th {\n",
       "        text-align: right;\n",
       "    }\n",
       "</style>\n",
       "<table border=\"1\" class=\"dataframe\">\n",
       "  <thead>\n",
       "    <tr style=\"text-align: right;\">\n",
       "      <th></th>\n",
       "      <th>분기</th>\n",
       "      <th>일생산량</th>\n",
       "      <th>생산일수</th>\n",
       "      <th>총생산량</th>\n",
       "      <th>불량품</th>\n",
       "      <th>출고량</th>\n",
       "      <th>총생산량_최대값</th>\n",
       "      <th>rate</th>\n",
       "    </tr>\n",
       "    <tr>\n",
       "      <th>제품명</th>\n",
       "      <th></th>\n",
       "      <th></th>\n",
       "      <th></th>\n",
       "      <th></th>\n",
       "      <th></th>\n",
       "      <th></th>\n",
       "      <th></th>\n",
       "      <th></th>\n",
       "    </tr>\n",
       "  </thead>\n",
       "  <tbody>\n",
       "    <tr>\n",
       "      <th>미니냉장고</th>\n",
       "      <td>1</td>\n",
       "      <td>65</td>\n",
       "      <td>25</td>\n",
       "      <td>4800</td>\n",
       "      <td>19</td>\n",
       "      <td>65</td>\n",
       "      <td>12400</td>\n",
       "      <td>38.709677</td>\n",
       "    </tr>\n",
       "    <tr>\n",
       "      <th>미니냉장고</th>\n",
       "      <td>3</td>\n",
       "      <td>90</td>\n",
       "      <td>25</td>\n",
       "      <td>12400</td>\n",
       "      <td>17</td>\n",
       "      <td>75</td>\n",
       "      <td>12400</td>\n",
       "      <td>100.000000</td>\n",
       "    </tr>\n",
       "    <tr>\n",
       "      <th>미니냉장고</th>\n",
       "      <td>2</td>\n",
       "      <td>90</td>\n",
       "      <td>25</td>\n",
       "      <td>5120</td>\n",
       "      <td>22</td>\n",
       "      <td>60</td>\n",
       "      <td>12400</td>\n",
       "      <td>41.290323</td>\n",
       "    </tr>\n",
       "    <tr>\n",
       "      <th>미니냉장고</th>\n",
       "      <td>4</td>\n",
       "      <td>85</td>\n",
       "      <td>20</td>\n",
       "      <td>4960</td>\n",
       "      <td>17</td>\n",
       "      <td>50</td>\n",
       "      <td>12400</td>\n",
       "      <td>40.000000</td>\n",
       "    </tr>\n",
       "    <tr>\n",
       "      <th>미니오븐</th>\n",
       "      <td>1</td>\n",
       "      <td>85</td>\n",
       "      <td>20</td>\n",
       "      <td>6000</td>\n",
       "      <td>24</td>\n",
       "      <td>50</td>\n",
       "      <td>6200</td>\n",
       "      <td>96.774194</td>\n",
       "    </tr>\n",
       "    <tr>\n",
       "      <th>미니오븐</th>\n",
       "      <td>4</td>\n",
       "      <td>80</td>\n",
       "      <td>25</td>\n",
       "      <td>6200</td>\n",
       "      <td>47</td>\n",
       "      <td>80</td>\n",
       "      <td>6200</td>\n",
       "      <td>100.000000</td>\n",
       "    </tr>\n",
       "    <tr>\n",
       "      <th>미니오븐</th>\n",
       "      <td>2</td>\n",
       "      <td>85</td>\n",
       "      <td>20</td>\n",
       "      <td>4960</td>\n",
       "      <td>26</td>\n",
       "      <td>55</td>\n",
       "      <td>6200</td>\n",
       "      <td>80.000000</td>\n",
       "    </tr>\n",
       "    <tr>\n",
       "      <th>미니오븐</th>\n",
       "      <td>3</td>\n",
       "      <td>95</td>\n",
       "      <td>20</td>\n",
       "      <td>6200</td>\n",
       "      <td>31</td>\n",
       "      <td>65</td>\n",
       "      <td>6200</td>\n",
       "      <td>100.000000</td>\n",
       "    </tr>\n",
       "    <tr>\n",
       "      <th>믹서기</th>\n",
       "      <td>4</td>\n",
       "      <td>80</td>\n",
       "      <td>25</td>\n",
       "      <td>6400</td>\n",
       "      <td>43</td>\n",
       "      <td>95</td>\n",
       "      <td>12800</td>\n",
       "      <td>50.000000</td>\n",
       "    </tr>\n",
       "    <tr>\n",
       "      <th>믹서기</th>\n",
       "      <td>1</td>\n",
       "      <td>90</td>\n",
       "      <td>25</td>\n",
       "      <td>12000</td>\n",
       "      <td>48</td>\n",
       "      <td>80</td>\n",
       "      <td>12800</td>\n",
       "      <td>93.750000</td>\n",
       "    </tr>\n",
       "  </tbody>\n",
       "</table>\n",
       "</div>"
      ],
      "text/plain": [
       "       분기  일생산량  생산일수   총생산량  불량품  출고량  총생산량_최대값        rate\n",
       "제품명                                                         \n",
       "미니냉장고   1    65    25   4800   19   65     12400   38.709677\n",
       "미니냉장고   3    90    25  12400   17   75     12400  100.000000\n",
       "미니냉장고   2    90    25   5120   22   60     12400   41.290323\n",
       "미니냉장고   4    85    20   4960   17   50     12400   40.000000\n",
       "미니오븐    1    85    20   6000   24   50      6200   96.774194\n",
       "미니오븐    4    80    25   6200   47   80      6200  100.000000\n",
       "미니오븐    2    85    20   4960   26   55      6200   80.000000\n",
       "미니오븐    3    95    20   6200   31   65      6200  100.000000\n",
       "믹서기     4    80    25   6400   43   95     12800   50.000000\n",
       "믹서기     1    90    25  12000   48   80     12800   93.750000"
      ]
     },
     "execution_count": 64,
     "metadata": {},
     "output_type": "execute_result"
    }
   ],
   "source": [
    "homeapp.sort_index().head(10)"
   ]
  },
  {
   "cell_type": "code",
   "execution_count": 65,
   "id": "cfe294e7",
   "metadata": {},
   "outputs": [
    {
     "data": {
      "text/html": [
       "<div>\n",
       "<style scoped>\n",
       "    .dataframe tbody tr th:only-of-type {\n",
       "        vertical-align: middle;\n",
       "    }\n",
       "\n",
       "    .dataframe tbody tr th {\n",
       "        vertical-align: top;\n",
       "    }\n",
       "\n",
       "    .dataframe thead th {\n",
       "        text-align: right;\n",
       "    }\n",
       "</style>\n",
       "<table border=\"1\" class=\"dataframe\">\n",
       "  <thead>\n",
       "    <tr style=\"text-align: right;\">\n",
       "      <th></th>\n",
       "      <th>분기</th>\n",
       "      <th>일생산량</th>\n",
       "      <th>생산일수</th>\n",
       "      <th>총생산량</th>\n",
       "      <th>불량품</th>\n",
       "      <th>출고량</th>\n",
       "      <th>총생산량_최대값</th>\n",
       "      <th>rate</th>\n",
       "    </tr>\n",
       "    <tr>\n",
       "      <th>제품명</th>\n",
       "      <th></th>\n",
       "      <th></th>\n",
       "      <th></th>\n",
       "      <th></th>\n",
       "      <th></th>\n",
       "      <th></th>\n",
       "      <th></th>\n",
       "      <th></th>\n",
       "    </tr>\n",
       "  </thead>\n",
       "  <tbody>\n",
       "  </tbody>\n",
       "</table>\n",
       "</div>"
      ],
      "text/plain": [
       "Empty DataFrame\n",
       "Columns: [분기, 일생산량, 생산일수, 총생산량, 불량품, 출고량, 총생산량_최대값, rate]\n",
       "Index: []"
      ]
     },
     "execution_count": 65,
     "metadata": {},
     "output_type": "execute_result"
    }
   ],
   "source": [
    "homeapp.query('총생산량 > 총생산량_최대값')"
   ]
  },
  {
   "cell_type": "markdown",
   "id": "685ff4ec",
   "metadata": {},
   "source": [
    "<h2><font color=\"red\">열마다 최대 값을 가지는 행 정보 찾기 \n",
    "\n",
    "</font></h2>"
   ]
  },
  {
   "cell_type": "markdown",
   "id": "71fecd73",
   "metadata": {},
   "source": [
    "<h3><font color=\"green\"> 개인 신상 데이터\n",
    "\n",
    "</font></h3>"
   ]
  },
  {
   "cell_type": "code",
   "execution_count": 2,
   "id": "3cf3e90a",
   "metadata": {},
   "outputs": [
    {
     "data": {
      "text/html": [
       "<div>\n",
       "<style scoped>\n",
       "    .dataframe tbody tr th:only-of-type {\n",
       "        vertical-align: middle;\n",
       "    }\n",
       "\n",
       "    .dataframe tbody tr th {\n",
       "        vertical-align: top;\n",
       "    }\n",
       "\n",
       "    .dataframe thead th {\n",
       "        text-align: right;\n",
       "    }\n",
       "</style>\n",
       "<table border=\"1\" class=\"dataframe\">\n",
       "  <thead>\n",
       "    <tr style=\"text-align: right;\">\n",
       "      <th></th>\n",
       "      <th>muscle</th>\n",
       "      <th>height</th>\n",
       "      <th>grade</th>\n",
       "      <th>gender</th>\n",
       "      <th>marriage</th>\n",
       "    </tr>\n",
       "    <tr>\n",
       "      <th>name</th>\n",
       "      <th></th>\n",
       "      <th></th>\n",
       "      <th></th>\n",
       "      <th></th>\n",
       "      <th></th>\n",
       "    </tr>\n",
       "  </thead>\n",
       "  <tbody>\n",
       "    <tr>\n",
       "      <th>김구</th>\n",
       "      <td>70</td>\n",
       "      <td>50</td>\n",
       "      <td>40</td>\n",
       "      <td>M</td>\n",
       "      <td>1</td>\n",
       "    </tr>\n",
       "    <tr>\n",
       "      <th>이순신</th>\n",
       "      <td>60</td>\n",
       "      <td>70</td>\n",
       "      <td>90</td>\n",
       "      <td>M</td>\n",
       "      <td>1</td>\n",
       "    </tr>\n",
       "    <tr>\n",
       "      <th>신사임당</th>\n",
       "      <td>갑을</td>\n",
       "      <td>80</td>\n",
       "      <td>60</td>\n",
       "      <td>F</td>\n",
       "      <td>1</td>\n",
       "    </tr>\n",
       "    <tr>\n",
       "      <th>강감찬</th>\n",
       "      <td>90</td>\n",
       "      <td>병정</td>\n",
       "      <td>50</td>\n",
       "      <td>M</td>\n",
       "      <td>0</td>\n",
       "    </tr>\n",
       "    <tr>\n",
       "      <th>유관순</th>\n",
       "      <td>60</td>\n",
       "      <td>60</td>\n",
       "      <td>60</td>\n",
       "      <td>F</td>\n",
       "      <td>0</td>\n",
       "    </tr>\n",
       "  </tbody>\n",
       "</table>\n",
       "</div>"
      ],
      "text/plain": [
       "     muscle height  grade gender  marriage\n",
       "name                                      \n",
       "김구       70     50     40      M         1\n",
       "이순신      60     70     90      M         1\n",
       "신사임당     갑을     80     60      F         1\n",
       "강감찬      90     병정     50      M         0\n",
       "유관순      60     60     60      F         0"
      ]
     },
     "execution_count": 2,
     "metadata": {},
     "output_type": "execute_result"
    }
   ],
   "source": [
    "likelyhood = pd.read_csv('./../data/likelyhood03.csv' , index_col = 'name' , encoding = 'cp949')\n",
    "likelyhood"
   ]
  },
  {
   "cell_type": "code",
   "execution_count": 3,
   "id": "54b59dcd",
   "metadata": {},
   "outputs": [
    {
     "data": {
      "text/plain": [
       "muscle      object\n",
       "height      object\n",
       "grade        int64\n",
       "gender      object\n",
       "marriage     int64\n",
       "dtype: object"
      ]
     },
     "execution_count": 3,
     "metadata": {},
     "output_type": "execute_result"
    }
   ],
   "source": [
    "likelyhood.dtypes"
   ]
  },
  {
   "cell_type": "code",
   "execution_count": 4,
   "id": "4e5ba7b5",
   "metadata": {},
   "outputs": [
    {
     "data": {
      "text/plain": [
       "60    2\n",
       "70    1\n",
       "갑을    1\n",
       "90    1\n",
       "Name: muscle, dtype: int64"
      ]
     },
     "execution_count": 4,
     "metadata": {},
     "output_type": "execute_result"
    }
   ],
   "source": [
    "likelyhood.muscle.value_counts()"
   ]
  },
  {
   "cell_type": "code",
   "execution_count": 9,
   "id": "1160d438",
   "metadata": {},
   "outputs": [],
   "source": [
    "likelyhood['muscle'] = pd.to_numeric(likelyhood.muscle, errors='coerce')\n",
    "likelyhood['height'] = pd.to_numeric(likelyhood.height, errors='coerce')"
   ]
  },
  {
   "cell_type": "code",
   "execution_count": 10,
   "id": "f0148177",
   "metadata": {},
   "outputs": [
    {
     "data": {
      "text/html": [
       "<div>\n",
       "<style scoped>\n",
       "    .dataframe tbody tr th:only-of-type {\n",
       "        vertical-align: middle;\n",
       "    }\n",
       "\n",
       "    .dataframe tbody tr th {\n",
       "        vertical-align: top;\n",
       "    }\n",
       "\n",
       "    .dataframe thead th {\n",
       "        text-align: right;\n",
       "    }\n",
       "</style>\n",
       "<table border=\"1\" class=\"dataframe\">\n",
       "  <thead>\n",
       "    <tr style=\"text-align: right;\">\n",
       "      <th></th>\n",
       "      <th>muscle</th>\n",
       "      <th>height</th>\n",
       "      <th>grade</th>\n",
       "      <th>gender</th>\n",
       "      <th>marriage</th>\n",
       "    </tr>\n",
       "    <tr>\n",
       "      <th>name</th>\n",
       "      <th></th>\n",
       "      <th></th>\n",
       "      <th></th>\n",
       "      <th></th>\n",
       "      <th></th>\n",
       "    </tr>\n",
       "  </thead>\n",
       "  <tbody>\n",
       "    <tr>\n",
       "      <th>김구</th>\n",
       "      <td>70.0</td>\n",
       "      <td>50.0</td>\n",
       "      <td>40</td>\n",
       "      <td>M</td>\n",
       "      <td>1</td>\n",
       "    </tr>\n",
       "    <tr>\n",
       "      <th>이순신</th>\n",
       "      <td>60.0</td>\n",
       "      <td>70.0</td>\n",
       "      <td>90</td>\n",
       "      <td>M</td>\n",
       "      <td>1</td>\n",
       "    </tr>\n",
       "    <tr>\n",
       "      <th>신사임당</th>\n",
       "      <td>NaN</td>\n",
       "      <td>80.0</td>\n",
       "      <td>60</td>\n",
       "      <td>F</td>\n",
       "      <td>1</td>\n",
       "    </tr>\n",
       "    <tr>\n",
       "      <th>강감찬</th>\n",
       "      <td>90.0</td>\n",
       "      <td>NaN</td>\n",
       "      <td>50</td>\n",
       "      <td>M</td>\n",
       "      <td>0</td>\n",
       "    </tr>\n",
       "    <tr>\n",
       "      <th>유관순</th>\n",
       "      <td>60.0</td>\n",
       "      <td>60.0</td>\n",
       "      <td>60</td>\n",
       "      <td>F</td>\n",
       "      <td>0</td>\n",
       "    </tr>\n",
       "  </tbody>\n",
       "</table>\n",
       "</div>"
      ],
      "text/plain": [
       "      muscle  height  grade gender  marriage\n",
       "name                                        \n",
       "김구      70.0    50.0     40      M         1\n",
       "이순신     60.0    70.0     90      M         1\n",
       "신사임당     NaN    80.0     60      F         1\n",
       "강감찬     90.0     NaN     50      M         0\n",
       "유관순     60.0    60.0     60      F         0"
      ]
     },
     "execution_count": 10,
     "metadata": {},
     "output_type": "execute_result"
    }
   ],
   "source": [
    "likelyhood"
   ]
  },
  {
   "cell_type": "code",
   "execution_count": 11,
   "id": "543ff740",
   "metadata": {},
   "outputs": [
    {
     "data": {
      "text/plain": [
       "muscle      float64\n",
       "height      float64\n",
       "grade         int64\n",
       "gender       object\n",
       "marriage      int64\n",
       "dtype: object"
      ]
     },
     "execution_count": 11,
     "metadata": {},
     "output_type": "execute_result"
    }
   ],
   "source": [
    "likelyhood.dtypes"
   ]
  },
  {
   "cell_type": "code",
   "execution_count": 12,
   "id": "d9619562",
   "metadata": {
    "scrolled": true
   },
   "outputs": [
    {
     "name": "stdout",
     "output_type": "stream",
     "text": [
      "<class 'pandas.core.frame.DataFrame'>\n",
      "Index: 5 entries, 김구 to 유관순\n",
      "Data columns (total 5 columns):\n",
      " #   Column    Non-Null Count  Dtype  \n",
      "---  ------    --------------  -----  \n",
      " 0   muscle    4 non-null      float64\n",
      " 1   height    4 non-null      float64\n",
      " 2   grade     5 non-null      int64  \n",
      " 3   gender    5 non-null      object \n",
      " 4   marriage  5 non-null      int64  \n",
      "dtypes: float64(2), int64(2), object(1)\n",
      "memory usage: 240.0+ bytes\n"
     ]
    }
   ],
   "source": [
    "likelyhood.info()"
   ]
  },
  {
   "cell_type": "code",
   "execution_count": 15,
   "id": "b6cdd2a3",
   "metadata": {},
   "outputs": [
    {
     "data": {
      "text/html": [
       "<div>\n",
       "<style scoped>\n",
       "    .dataframe tbody tr th:only-of-type {\n",
       "        vertical-align: middle;\n",
       "    }\n",
       "\n",
       "    .dataframe tbody tr th {\n",
       "        vertical-align: top;\n",
       "    }\n",
       "\n",
       "    .dataframe thead th {\n",
       "        text-align: right;\n",
       "    }\n",
       "</style>\n",
       "<table border=\"1\" class=\"dataframe\">\n",
       "  <thead>\n",
       "    <tr style=\"text-align: right;\">\n",
       "      <th></th>\n",
       "      <th>muscle</th>\n",
       "      <th>height</th>\n",
       "      <th>grade</th>\n",
       "      <th>marriage</th>\n",
       "    </tr>\n",
       "    <tr>\n",
       "      <th>name</th>\n",
       "      <th></th>\n",
       "      <th></th>\n",
       "      <th></th>\n",
       "      <th></th>\n",
       "    </tr>\n",
       "  </thead>\n",
       "  <tbody>\n",
       "    <tr>\n",
       "      <th>김구</th>\n",
       "      <td>70.0</td>\n",
       "      <td>50.0</td>\n",
       "      <td>40</td>\n",
       "      <td>1</td>\n",
       "    </tr>\n",
       "    <tr>\n",
       "      <th>이순신</th>\n",
       "      <td>60.0</td>\n",
       "      <td>70.0</td>\n",
       "      <td>90</td>\n",
       "      <td>1</td>\n",
       "    </tr>\n",
       "    <tr>\n",
       "      <th>신사임당</th>\n",
       "      <td>NaN</td>\n",
       "      <td>80.0</td>\n",
       "      <td>60</td>\n",
       "      <td>1</td>\n",
       "    </tr>\n",
       "    <tr>\n",
       "      <th>강감찬</th>\n",
       "      <td>90.0</td>\n",
       "      <td>NaN</td>\n",
       "      <td>50</td>\n",
       "      <td>0</td>\n",
       "    </tr>\n",
       "    <tr>\n",
       "      <th>유관순</th>\n",
       "      <td>60.0</td>\n",
       "      <td>60.0</td>\n",
       "      <td>60</td>\n",
       "      <td>0</td>\n",
       "    </tr>\n",
       "  </tbody>\n",
       "</table>\n",
       "</div>"
      ],
      "text/plain": [
       "      muscle  height  grade  marriage\n",
       "name                                 \n",
       "김구      70.0    50.0     40         1\n",
       "이순신     60.0    70.0     90         1\n",
       "신사임당     NaN    80.0     60         1\n",
       "강감찬     90.0     NaN     50         0\n",
       "유관순     60.0    60.0     60         0"
      ]
     },
     "execution_count": 15,
     "metadata": {},
     "output_type": "execute_result"
    }
   ],
   "source": [
    "likelyhood_numeric = likelyhood.select_dtypes(include=[np.number])\n",
    "likelyhood_numeric"
   ]
  },
  {
   "cell_type": "code",
   "execution_count": 16,
   "id": "2d79b1a3",
   "metadata": {},
   "outputs": [
    {
     "data": {
      "text/plain": [
       "muscle      3\n",
       "height      4\n",
       "grade       4\n",
       "marriage    2\n",
       "dtype: int64"
      ]
     },
     "execution_count": 16,
     "metadata": {},
     "output_type": "execute_result"
    }
   ],
   "source": [
    "likelyhood_numeric.nunique()"
   ]
  },
  {
   "cell_type": "code",
   "execution_count": 18,
   "id": "c1fd32b1",
   "metadata": {},
   "outputs": [
    {
     "data": {
      "text/plain": [
       "muscle      False\n",
       "height      False\n",
       "grade       False\n",
       "marriage     True\n",
       "dtype: bool"
      ]
     },
     "execution_count": 18,
     "metadata": {},
     "output_type": "execute_result"
    }
   ],
   "source": [
    "criteria = likelyhood_numeric.nunique() == 2\n",
    "criteria"
   ]
  },
  {
   "cell_type": "code",
   "execution_count": 21,
   "id": "f66b1312",
   "metadata": {},
   "outputs": [
    {
     "data": {
      "text/plain": [
       "['marriage']"
      ]
     },
     "execution_count": 21,
     "metadata": {},
     "output_type": "execute_result"
    }
   ],
   "source": [
    "dropped_columns = likelyhood_numeric.columns[criteria].tolist()\n",
    "dropped_columns # 제거된 열 리스트"
   ]
  },
  {
   "cell_type": "code",
   "execution_count": 23,
   "id": "c5d0cde7",
   "metadata": {},
   "outputs": [
    {
     "data": {
      "text/html": [
       "<div>\n",
       "<style scoped>\n",
       "    .dataframe tbody tr th:only-of-type {\n",
       "        vertical-align: middle;\n",
       "    }\n",
       "\n",
       "    .dataframe tbody tr th {\n",
       "        vertical-align: top;\n",
       "    }\n",
       "\n",
       "    .dataframe thead th {\n",
       "        text-align: right;\n",
       "    }\n",
       "</style>\n",
       "<table border=\"1\" class=\"dataframe\">\n",
       "  <thead>\n",
       "    <tr style=\"text-align: right;\">\n",
       "      <th></th>\n",
       "      <th>muscle</th>\n",
       "      <th>height</th>\n",
       "      <th>grade</th>\n",
       "    </tr>\n",
       "    <tr>\n",
       "      <th>name</th>\n",
       "      <th></th>\n",
       "      <th></th>\n",
       "      <th></th>\n",
       "    </tr>\n",
       "  </thead>\n",
       "  <tbody>\n",
       "    <tr>\n",
       "      <th>김구</th>\n",
       "      <td>70.0</td>\n",
       "      <td>50.0</td>\n",
       "      <td>40</td>\n",
       "    </tr>\n",
       "    <tr>\n",
       "      <th>이순신</th>\n",
       "      <td>60.0</td>\n",
       "      <td>70.0</td>\n",
       "      <td>90</td>\n",
       "    </tr>\n",
       "    <tr>\n",
       "      <th>신사임당</th>\n",
       "      <td>NaN</td>\n",
       "      <td>80.0</td>\n",
       "      <td>60</td>\n",
       "    </tr>\n",
       "    <tr>\n",
       "      <th>강감찬</th>\n",
       "      <td>90.0</td>\n",
       "      <td>NaN</td>\n",
       "      <td>50</td>\n",
       "    </tr>\n",
       "    <tr>\n",
       "      <th>유관순</th>\n",
       "      <td>60.0</td>\n",
       "      <td>60.0</td>\n",
       "      <td>60</td>\n",
       "    </tr>\n",
       "  </tbody>\n",
       "</table>\n",
       "</div>"
      ],
      "text/plain": [
       "      muscle  height  grade\n",
       "name                       \n",
       "김구      70.0    50.0     40\n",
       "이순신     60.0    70.0     90\n",
       "신사임당     NaN    80.0     60\n",
       "강감찬     90.0     NaN     50\n",
       "유관순     60.0    60.0     60"
      ]
     },
     "execution_count": 23,
     "metadata": {},
     "output_type": "execute_result"
    }
   ],
   "source": [
    "numeric_cols = likelyhood_numeric.drop(labels=dropped_columns, axis = 'columns')\n",
    "numeric_cols"
   ]
  },
  {
   "cell_type": "code",
   "execution_count": 25,
   "id": "e9a206ee",
   "metadata": {},
   "outputs": [
    {
     "data": {
      "text/plain": [
       "muscle     강감찬\n",
       "height    신사임당\n",
       "grade      이순신\n",
       "dtype: object"
      ]
     },
     "execution_count": 25,
     "metadata": {},
     "output_type": "execute_result"
    }
   ],
   "source": [
    "max_columns = numeric_cols.idxmax()\n",
    "max_columns"
   ]
  },
  {
   "cell_type": "code",
   "execution_count": 26,
   "id": "b2f7403a",
   "metadata": {},
   "outputs": [
    {
     "data": {
      "text/plain": [
       "array(['강감찬', '신사임당', '이순신'], dtype=object)"
      ]
     },
     "execution_count": 26,
     "metadata": {},
     "output_type": "execute_result"
    }
   ],
   "source": [
    "unique_max = max_columns.unique()\n",
    "unique_max"
   ]
  },
  {
   "cell_type": "code",
   "execution_count": 27,
   "id": "be44ccd2",
   "metadata": {},
   "outputs": [
    {
     "data": {
      "text/html": [
       "<div>\n",
       "<style scoped>\n",
       "    .dataframe tbody tr th:only-of-type {\n",
       "        vertical-align: middle;\n",
       "    }\n",
       "\n",
       "    .dataframe tbody tr th {\n",
       "        vertical-align: top;\n",
       "    }\n",
       "\n",
       "    .dataframe thead th {\n",
       "        text-align: right;\n",
       "    }\n",
       "</style>\n",
       "<table border=\"1\" class=\"dataframe\">\n",
       "  <thead>\n",
       "    <tr style=\"text-align: right;\">\n",
       "      <th></th>\n",
       "      <th>muscle</th>\n",
       "      <th>height</th>\n",
       "      <th>grade</th>\n",
       "    </tr>\n",
       "    <tr>\n",
       "      <th>name</th>\n",
       "      <th></th>\n",
       "      <th></th>\n",
       "      <th></th>\n",
       "    </tr>\n",
       "  </thead>\n",
       "  <tbody>\n",
       "    <tr>\n",
       "      <th>강감찬</th>\n",
       "      <td>90.0</td>\n",
       "      <td>NaN</td>\n",
       "      <td>50</td>\n",
       "    </tr>\n",
       "    <tr>\n",
       "      <th>신사임당</th>\n",
       "      <td>NaN</td>\n",
       "      <td>80.0</td>\n",
       "      <td>60</td>\n",
       "    </tr>\n",
       "    <tr>\n",
       "      <th>이순신</th>\n",
       "      <td>60.0</td>\n",
       "      <td>70.0</td>\n",
       "      <td>90</td>\n",
       "    </tr>\n",
       "  </tbody>\n",
       "</table>\n",
       "</div>"
      ],
      "text/plain": [
       "      muscle  height  grade\n",
       "name                       \n",
       "강감찬     90.0     NaN     50\n",
       "신사임당     NaN    80.0     60\n",
       "이순신     60.0    70.0     90"
      ]
     },
     "execution_count": 27,
     "metadata": {},
     "output_type": "execute_result"
    }
   ],
   "source": [
    "numeric_cols.loc[unique_max]"
   ]
  },
  {
   "cell_type": "code",
   "execution_count": null,
   "id": "f096b12e",
   "metadata": {},
   "outputs": [],
   "source": [
    "# Test\n",
    "'''\n",
    "색인의 참조 복사와 값 복사   \n",
    "   '가전제품02.csv' 파일에 대하여 참조 복사 및 값 복사를 테스트 해보세요.\n",
    "   '참조 복사'를 하면 1번째 파일이 변경되면 2번째 파일도 변경된 결과를 보여 줘야 합니다.\n",
    "   '값 복사'를 하면 1번째 파일 변경되어도 2번째 파일에는 영향이 없어야 합니다.\n",
    "'''"
   ]
  },
  {
   "cell_type": "code",
   "execution_count": 31,
   "id": "1e776c94",
   "metadata": {},
   "outputs": [
    {
     "data": {
      "text/html": [
       "<div>\n",
       "<style scoped>\n",
       "    .dataframe tbody tr th:only-of-type {\n",
       "        vertical-align: middle;\n",
       "    }\n",
       "\n",
       "    .dataframe tbody tr th {\n",
       "        vertical-align: top;\n",
       "    }\n",
       "\n",
       "    .dataframe thead th {\n",
       "        text-align: right;\n",
       "    }\n",
       "</style>\n",
       "<table border=\"1\" class=\"dataframe\">\n",
       "  <thead>\n",
       "    <tr style=\"text-align: right;\">\n",
       "      <th></th>\n",
       "      <th>분기</th>\n",
       "      <th>일생산량</th>\n",
       "      <th>불량품</th>\n",
       "    </tr>\n",
       "    <tr>\n",
       "      <th>제품명</th>\n",
       "      <th></th>\n",
       "      <th></th>\n",
       "      <th></th>\n",
       "    </tr>\n",
       "  </thead>\n",
       "  <tbody>\n",
       "    <tr>\n",
       "      <th>미니오븐</th>\n",
       "      <td>2</td>\n",
       "      <td>85</td>\n",
       "      <td>26</td>\n",
       "    </tr>\n",
       "    <tr>\n",
       "      <th>전기밥솥</th>\n",
       "      <td>2</td>\n",
       "      <td>70</td>\n",
       "      <td>39</td>\n",
       "    </tr>\n",
       "    <tr>\n",
       "      <th>믹서기</th>\n",
       "      <td>2</td>\n",
       "      <td>85</td>\n",
       "      <td>39</td>\n",
       "    </tr>\n",
       "    <tr>\n",
       "      <th>전자레인지</th>\n",
       "      <td>2</td>\n",
       "      <td>90</td>\n",
       "      <td>22</td>\n",
       "    </tr>\n",
       "    <tr>\n",
       "      <th>미니냉장고</th>\n",
       "      <td>2</td>\n",
       "      <td>90</td>\n",
       "      <td>22</td>\n",
       "    </tr>\n",
       "    <tr>\n",
       "      <th>선풍기</th>\n",
       "      <td>2</td>\n",
       "      <td>65</td>\n",
       "      <td>33</td>\n",
       "    </tr>\n",
       "  </tbody>\n",
       "</table>\n",
       "</div>"
      ],
      "text/plain": [
       "       분기  일생산량  불량품\n",
       "제품명                 \n",
       "미니오븐    2    85   26\n",
       "전기밥솥    2    70   39\n",
       "믹서기     2    85   39\n",
       "전자레인지   2    90   22\n",
       "미니냉장고   2    90   22\n",
       "선풍기     2    65   33"
      ]
     },
     "execution_count": 31,
     "metadata": {},
     "output_type": "execute_result"
    }
   ],
   "source": [
    "homeapp02"
   ]
  },
  {
   "cell_type": "code",
   "execution_count": null,
   "id": "680e86de",
   "metadata": {},
   "outputs": [],
   "source": []
  }
 ],
 "metadata": {
  "kernelspec": {
   "display_name": "Python 3 (ipykernel)",
   "language": "python",
   "name": "python3"
  },
  "language_info": {
   "codemirror_mode": {
    "name": "ipython",
    "version": 3
   },
   "file_extension": ".py",
   "mimetype": "text/x-python",
   "name": "python",
   "nbconvert_exporter": "python",
   "pygments_lexer": "ipython3",
   "version": "3.11.2"
  }
 },
 "nbformat": 4,
 "nbformat_minor": 5
}
