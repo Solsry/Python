{
 "cells": [
  {
   "cell_type": "code",
   "execution_count": 1,
   "id": "102ecaaf",
   "metadata": {},
   "outputs": [],
   "source": [
    "import pandas as pd"
   ]
  },
  {
   "cell_type": "code",
   "execution_count": null,
   "id": "47f34125",
   "metadata": {},
   "outputs": [],
   "source": [
    "'''\n",
    "\n",
    "다음 물음에 답하시오.\n",
    "-------------------------------------------------------------------------------------------\n",
    "문제 1. \n",
    "\n",
    "다음을 이용하여 myseries01 이라는 시리즈를 만드세요.\n",
    "    myindex01 = ['박진솔','김성경','이명균','이정상']\n",
    "    mylist01 = [10,30,40,20]\n",
    "-------------------------------------------------------------------------------------------\n",
    "문제 2.\n",
    "\n",
    "다음을 이용하여 myseries02 이라는 시리즈를 만드세요.\n",
    "    myindex02 = ['박진솔','김성경','이명균','이정상']\n",
    "    mylist02 = [30,50,30,40]\n",
    "-------------------------------------------------------------------------------------------   \n",
    "문제 3.   \n",
    "\n",
    "myseries01 시리즈에 대한 통계 정보를 확인해 보세요\n",
    "-------------------------------------------------------------------------------------------\n",
    "문제 4.\n",
    "\n",
    "myseries01 시리즈와 myseries02 시리즈를 합쳐 주세요.\n",
    "단, 누락된 데이터가 존재시 myseries01는 기본 값으로 30을,  myseries02는 40으로 채워 주세요.\n",
    "-------------------------------------------------------------------------------------------\n",
    "문제 5.\n",
    "\n",
    "문제 4에서 만들어진 시리즈를 이용하여 막대 그래프 만드세요.\n",
    "-------------------------------------------------------------------------------------------\n",
    "'''"
   ]
  },
  {
   "cell_type": "code",
   "execution_count": 2,
   "id": "7d2d027e",
   "metadata": {},
   "outputs": [],
   "source": [
    "myindex01 = ['박진솔','김성경','이명균','이정상']\n",
    "mylist01 = [10,30,40,20]\n",
    "\n",
    "myindex02 = ['박진솔','김성경','이명균','김창식']\n",
    "mylist02 = [30,50,30,40]\n",
    "\n",
    "myseries01 = pd.Series(data=mylist01 , index=myindex01)\n",
    "myseries02 = pd.Series(data=mylist02 , index=myindex02)"
   ]
  },
  {
   "cell_type": "code",
   "execution_count": 3,
   "id": "17ec5a04",
   "metadata": {},
   "outputs": [
    {
     "data": {
      "text/html": [
       "<div>\n",
       "<style scoped>\n",
       "    .dataframe tbody tr th:only-of-type {\n",
       "        vertical-align: middle;\n",
       "    }\n",
       "\n",
       "    .dataframe tbody tr th {\n",
       "        vertical-align: top;\n",
       "    }\n",
       "\n",
       "    .dataframe thead th {\n",
       "        text-align: right;\n",
       "    }\n",
       "</style>\n",
       "<table border=\"1\" class=\"dataframe\">\n",
       "  <thead>\n",
       "    <tr style=\"text-align: right;\">\n",
       "      <th></th>\n",
       "      <th>0</th>\n",
       "    </tr>\n",
       "  </thead>\n",
       "  <tbody>\n",
       "    <tr>\n",
       "      <th>박진솔</th>\n",
       "      <td>10</td>\n",
       "    </tr>\n",
       "    <tr>\n",
       "      <th>김성경</th>\n",
       "      <td>30</td>\n",
       "    </tr>\n",
       "    <tr>\n",
       "      <th>이명균</th>\n",
       "      <td>40</td>\n",
       "    </tr>\n",
       "    <tr>\n",
       "      <th>이정상</th>\n",
       "      <td>20</td>\n",
       "    </tr>\n",
       "  </tbody>\n",
       "</table>\n",
       "</div>"
      ],
      "text/plain": [
       "      0\n",
       "박진솔  10\n",
       "김성경  30\n",
       "이명균  40\n",
       "이정상  20"
      ]
     },
     "execution_count": 3,
     "metadata": {},
     "output_type": "execute_result"
    }
   ],
   "source": [
    "myseries01.to_frame()"
   ]
  },
  {
   "cell_type": "code",
   "execution_count": 4,
   "id": "e9e1f7b9",
   "metadata": {},
   "outputs": [
    {
     "data": {
      "text/html": [
       "<div>\n",
       "<style scoped>\n",
       "    .dataframe tbody tr th:only-of-type {\n",
       "        vertical-align: middle;\n",
       "    }\n",
       "\n",
       "    .dataframe tbody tr th {\n",
       "        vertical-align: top;\n",
       "    }\n",
       "\n",
       "    .dataframe thead th {\n",
       "        text-align: right;\n",
       "    }\n",
       "</style>\n",
       "<table border=\"1\" class=\"dataframe\">\n",
       "  <thead>\n",
       "    <tr style=\"text-align: right;\">\n",
       "      <th></th>\n",
       "      <th>0</th>\n",
       "    </tr>\n",
       "  </thead>\n",
       "  <tbody>\n",
       "    <tr>\n",
       "      <th>박진솔</th>\n",
       "      <td>30</td>\n",
       "    </tr>\n",
       "    <tr>\n",
       "      <th>김성경</th>\n",
       "      <td>50</td>\n",
       "    </tr>\n",
       "    <tr>\n",
       "      <th>이명균</th>\n",
       "      <td>30</td>\n",
       "    </tr>\n",
       "    <tr>\n",
       "      <th>김창식</th>\n",
       "      <td>40</td>\n",
       "    </tr>\n",
       "  </tbody>\n",
       "</table>\n",
       "</div>"
      ],
      "text/plain": [
       "      0\n",
       "박진솔  30\n",
       "김성경  50\n",
       "이명균  30\n",
       "김창식  40"
      ]
     },
     "execution_count": 4,
     "metadata": {},
     "output_type": "execute_result"
    }
   ],
   "source": [
    "myseries02.to_frame()"
   ]
  },
  {
   "cell_type": "code",
   "execution_count": 5,
   "id": "04b56cd6",
   "metadata": {
    "scrolled": true
   },
   "outputs": [
    {
     "data": {
      "text/plain": [
       "김성경    80.0\n",
       "김창식     NaN\n",
       "박진솔    40.0\n",
       "이명균    70.0\n",
       "이정상     NaN\n",
       "dtype: float64"
      ]
     },
     "execution_count": 5,
     "metadata": {},
     "output_type": "execute_result"
    }
   ],
   "source": [
    "newseries = myseries01 + myseries02\n",
    "newseries"
   ]
  },
  {
   "cell_type": "code",
   "execution_count": null,
   "id": "c1dd458b",
   "metadata": {},
   "outputs": [],
   "source": []
  },
  {
   "cell_type": "code",
   "execution_count": null,
   "id": "1312ae85",
   "metadata": {},
   "outputs": [],
   "source": []
  },
  {
   "cell_type": "code",
   "execution_count": 22,
   "id": "786bad1c",
   "metadata": {},
   "outputs": [],
   "source": [
    "import matplotlib.pyplot as plt\n",
    "plt.rc('font', family='Malgun Gothic') # 맑은 고딕체(한글 안 깨지게)"
   ]
  },
  {
   "cell_type": "code",
   "execution_count": 23,
   "id": "25ea8a26",
   "metadata": {},
   "outputs": [
    {
     "data": {
      "text/plain": [
       "Text(0.5, 1.0, '시험 점수 막대 그래프')"
      ]
     },
     "execution_count": 23,
     "metadata": {},
     "output_type": "execute_result"
    },
    {
     "data": {
      "image/png": "[encoded data removed]",
      "text/plain": [
       "<Figure size 640x480 with 1 Axes>"
      ]
     },
     "metadata": {},
     "output_type": "display_data"
    }
   ],
   "source": [
    "newseries.plot(kind='bar', grid=False , rot=0, color=['BlueViolet','CornflowerBlue','DarkOrange','Aqua','BlanchedAlmond'])\n",
    "plt.xlabel('이름')\n",
    "plt.ylabel('시험 점수')\n",
    "plt.title('시험 점수 막대 그래프')"
   ]
  },
  {
   "cell_type": "code",
   "execution_count": null,
   "id": "3b7eb907",
   "metadata": {},
   "outputs": [],
   "source": []
  }
 ],
 "metadata": {
  "kernelspec": {
   "display_name": "Python 3 (ipykernel)",
   "language": "python",
   "name": "python3"
  },
  "language_info": {
   "codemirror_mode": {
    "name": "ipython",
    "version": 3
   },
   "file_extension": ".py",
   "mimetype": "text/x-python",
   "name": "python",
   "nbconvert_exporter": "python",
   "pygments_lexer": "ipython3",
   "version": "3.11.2"
  }
 },
 "nbformat": 4,
 "nbformat_minor": 5
}
