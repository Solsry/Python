{
 "cells": [
  {
   "cell_type": "markdown",
   "id": "c3962dfb",
   "metadata": {},
   "source": [
    "<h1><font color=\"blue\">시리즈(Series)</font></h1>"
   ]
  },
  {
   "cell_type": "markdown",
   "id": "3e19d640",
   "metadata": {},
   "source": [
    "<h4><font color=\"red\">시리즈 생성하기</font></h4>"
   ]
  },
  {
   "cell_type": "code",
   "execution_count": 1,
   "id": "76508230",
   "metadata": {},
   "outputs": [],
   "source": [
    "import pandas as pd"
   ]
  },
  {
   "cell_type": "code",
   "execution_count": 2,
   "id": "10038d2d",
   "metadata": {},
   "outputs": [],
   "source": [
    "# 파이썬 range() 이용하기"
   ]
  },
  {
   "cell_type": "code",
   "execution_count": 3,
   "id": "ad21fb65",
   "metadata": {},
   "outputs": [
    {
     "data": {
      "text/plain": [
       "0     1\n",
       "1     2\n",
       "2     3\n",
       "3     4\n",
       "4     5\n",
       "5     6\n",
       "6     7\n",
       "7     8\n",
       "8     9\n",
       "9    10\n",
       "dtype: int64"
      ]
     },
     "execution_count": 3,
     "metadata": {},
     "output_type": "execute_result"
    }
   ],
   "source": [
    "myrange = range(1,11)\n",
    "myseries01 = pd.Series(myrange)\n",
    "myseries01"
   ]
  },
  {
   "cell_type": "code",
   "execution_count": 4,
   "id": "ac7b8cd0",
   "metadata": {},
   "outputs": [],
   "source": [
    "# 파이썬 list 이용하기"
   ]
  },
  {
   "cell_type": "code",
   "execution_count": 5,
   "id": "e9e2c67b",
   "metadata": {},
   "outputs": [
    {
     "data": {
      "text/plain": [
       "0    55\n",
       "1    66\n",
       "2    77\n",
       "dtype: int64"
      ]
     },
     "execution_count": 5,
     "metadata": {},
     "output_type": "execute_result"
    }
   ],
   "source": [
    "myseries01 = pd.Series([55,66,77])\n",
    "myseries01"
   ]
  },
  {
   "cell_type": "code",
   "execution_count": 6,
   "id": "09db40d9",
   "metadata": {},
   "outputs": [],
   "source": [
    "# 파이썬 list 이용하기  (행, 색인 부여하기)"
   ]
  },
  {
   "cell_type": "code",
   "execution_count": 9,
   "id": "a88a7baa",
   "metadata": {},
   "outputs": [
    {
     "data": {
      "text/plain": [
       "김만철    10\n",
       "이순희    50\n",
       "강유철    80\n",
       "심수봉    30\n",
       "dtype: int64"
      ]
     },
     "execution_count": 9,
     "metadata": {},
     "output_type": "execute_result"
    }
   ],
   "source": [
    "mylist01 = [10, 50, 80, 30]\n",
    "myseries01 = pd.Series(mylist01, index=['김만철','이순희','강유철','심수봉'])\n",
    "myseries01"
   ]
  },
  {
   "cell_type": "code",
   "execution_count": 10,
   "id": "e31eaa05",
   "metadata": {},
   "outputs": [],
   "source": [
    "# 파이썬 dict 이용하기\n",
    "# key는 index에, value는 값으로 들어갑니다."
   ]
  },
  {
   "cell_type": "code",
   "execution_count": 12,
   "id": "6fd531c9",
   "metadata": {},
   "outputs": [
    {
     "data": {
      "text/plain": [
       "서울     50\n",
       "워싱턴    30\n",
       "베이징    60\n",
       "dtype: int64"
      ]
     },
     "execution_count": 12,
     "metadata": {},
     "output_type": "execute_result"
    }
   ],
   "source": [
    "mydict = {'서울':50,'워싱턴':30,'베이징':60}\n",
    "myseries01 = pd.Series(mydict)\n",
    "myseries01"
   ]
  },
  {
   "cell_type": "code",
   "execution_count": 13,
   "id": "206e688d",
   "metadata": {},
   "outputs": [
    {
     "data": {
      "text/plain": [
       "\"타입 확인하기 : <class 'pandas.core.series.Series'>\""
      ]
     },
     "execution_count": 13,
     "metadata": {},
     "output_type": "execute_result"
    }
   ],
   "source": [
    "'타입 확인하기 : ' + str(type(myseries01))"
   ]
  },
  {
   "cell_type": "code",
   "execution_count": 15,
   "id": "3b7a9c1e",
   "metadata": {},
   "outputs": [],
   "source": [
    "myseries01.index.name = '신용도'\n",
    "myseries01.name = '도시별 신용도'"
   ]
  },
  {
   "cell_type": "code",
   "execution_count": 17,
   "id": "f0826e2b",
   "metadata": {},
   "outputs": [
    {
     "data": {
      "text/plain": [
       "\"색인 정보 확인하기 : Index(['서울', '워싱턴', '베이징'], dtype='object', name='신용도')\""
      ]
     },
     "execution_count": 17,
     "metadata": {},
     "output_type": "execute_result"
    }
   ],
   "source": [
    "'색인 정보 확인하기 : ' + str(myseries01.index)"
   ]
  },
  {
   "cell_type": "code",
   "execution_count": 20,
   "id": "5127f4a0",
   "metadata": {},
   "outputs": [
    {
     "data": {
      "text/plain": [
       "'시리즈 이름 확인 : 도시별 신용도'"
      ]
     },
     "execution_count": 20,
     "metadata": {},
     "output_type": "execute_result"
    }
   ],
   "source": [
    "'시리즈 이름 확인 : ' + str(myseries01.name)"
   ]
  },
  {
   "cell_type": "code",
   "execution_count": 21,
   "id": "15203abc",
   "metadata": {},
   "outputs": [
    {
     "data": {
      "text/plain": [
       "'시리즈의 값 확인 : [50 30 60]'"
      ]
     },
     "execution_count": 21,
     "metadata": {},
     "output_type": "execute_result"
    }
   ],
   "source": [
    "'시리즈의 값 확인 : ' + str(myseries01.values)"
   ]
  },
  {
   "cell_type": "code",
   "execution_count": 22,
   "id": "95a6a521",
   "metadata": {},
   "outputs": [],
   "source": [
    "# 반복하여 출력하기"
   ]
  },
  {
   "cell_type": "code",
   "execution_count": 28,
   "id": "c340796d",
   "metadata": {},
   "outputs": [
    {
     "name": "stdout",
     "output_type": "stream",
     "text": [
      "색인 :서울 / 값 : 50\n",
      "색인 :워싱턴 / 값 : 30\n",
      "색인 :베이징 / 값 : 60\n"
     ]
    }
   ],
   "source": [
    "for idx in myseries01.index :\n",
    "    print('색인 :' + idx + ' / 값 : ' + str(myseries01[idx]))"
   ]
  },
  {
   "cell_type": "code",
   "execution_count": 29,
   "id": "24f687df",
   "metadata": {},
   "outputs": [
    {
     "name": "stdout",
     "output_type": "stream",
     "text": [
      "데이터 타입 확인 : int64\n",
      "누락된 데이터가 있나요 ? : False\n",
      "모든 항목이 unique 한가요 ? : True\n",
      "요소 개수 : 3\n"
     ]
    }
   ],
   "source": [
    "print('데이터 타입 확인 : ' + str(myseries01.dtype))\n",
    "print('누락된 데이터가 있나요 ? : ' + str(myseries01.hasnans)) # isNan = Not a Number /임의의 누락된 데이터가 있다면 True가 나옴\n",
    "print('모든 항목이 unique 한가요 ? : ' + str(myseries01.is_unique)) # is 나오면 true, false\n",
    "print('요소 개수 : ' + str(myseries01.size))"
   ]
  },
  {
   "cell_type": "code",
   "execution_count": 32,
   "id": "dd718daf",
   "metadata": {},
   "outputs": [],
   "source": [
    "###"
   ]
  },
  {
   "cell_type": "code",
   "execution_count": 30,
   "id": "ff181a87",
   "metadata": {},
   "outputs": [
    {
     "data": {
      "text/plain": [
       "신용도\n",
       "서울     50\n",
       "워싱턴    30\n",
       "베이징    60\n",
       "Name: 도시별 신용도, dtype: int64"
      ]
     },
     "execution_count": 30,
     "metadata": {},
     "output_type": "execute_result"
    }
   ],
   "source": [
    "myseries01"
   ]
  },
  {
   "cell_type": "code",
   "execution_count": 31,
   "id": "1d45e78a",
   "metadata": {},
   "outputs": [],
   "source": [
    "#색인 값 바꾸는 방법"
   ]
  },
  {
   "cell_type": "code",
   "execution_count": 33,
   "id": "9aba81c7",
   "metadata": {
    "scrolled": true
   },
   "outputs": [
    {
     "name": "stdout",
     "output_type": "stream",
     "text": [
      "색인 변경된 결과\n"
     ]
    },
    {
     "data": {
      "text/plain": [
       "서울    50\n",
       "파리    30\n",
       "런던    60\n",
       "Name: 도시별 신용도, dtype: int64"
      ]
     },
     "execution_count": 33,
     "metadata": {},
     "output_type": "execute_result"
    }
   ],
   "source": [
    "myseries01.index=['서울','파리','런던']\n",
    "print('색인 변경된 결과')\n",
    "myseries01"
   ]
  },
  {
   "cell_type": "code",
   "execution_count": null,
   "id": "dcfd7aa5",
   "metadata": {},
   "outputs": [],
   "source": [
    "##"
   ]
  },
  {
   "cell_type": "markdown",
   "id": "d98cae52",
   "metadata": {},
   "source": [
    "<h4><font color=\"red\">시리즈 읽기 / 쓰기</font></h4>"
   ]
  },
  {
   "cell_type": "code",
   "execution_count": 36,
   "id": "81a6c872",
   "metadata": {},
   "outputs": [
    {
     "data": {
      "text/html": [
       "<div>\n",
       "<style scoped>\n",
       "    .dataframe tbody tr th:only-of-type {\n",
       "        vertical-align: middle;\n",
       "    }\n",
       "\n",
       "    .dataframe tbody tr th {\n",
       "        vertical-align: top;\n",
       "    }\n",
       "\n",
       "    .dataframe thead th {\n",
       "        text-align: right;\n",
       "    }\n",
       "</style>\n",
       "<table border=\"1\" class=\"dataframe\">\n",
       "  <thead>\n",
       "    <tr style=\"text-align: right;\">\n",
       "      <th></th>\n",
       "      <th>0</th>\n",
       "    </tr>\n",
       "    <tr>\n",
       "      <th>도시명</th>\n",
       "      <th></th>\n",
       "    </tr>\n",
       "  </thead>\n",
       "  <tbody>\n",
       "    <tr>\n",
       "      <th>서울</th>\n",
       "      <td>60</td>\n",
       "    </tr>\n",
       "    <tr>\n",
       "      <th>부산</th>\n",
       "      <td>30</td>\n",
       "    </tr>\n",
       "    <tr>\n",
       "      <th>광주</th>\n",
       "      <td>50</td>\n",
       "    </tr>\n",
       "    <tr>\n",
       "      <th>대구</th>\n",
       "      <td>40</td>\n",
       "    </tr>\n",
       "    <tr>\n",
       "      <th>대전</th>\n",
       "      <td>10</td>\n",
       "    </tr>\n",
       "  </tbody>\n",
       "</table>\n",
       "</div>"
      ],
      "text/plain": [
       "      0\n",
       "도시명    \n",
       "서울   60\n",
       "부산   30\n",
       "광주   50\n",
       "대구   40\n",
       "대전   10"
      ]
     },
     "execution_count": 36,
     "metadata": {},
     "output_type": "execute_result"
    }
   ],
   "source": [
    "mylist02 = [60,30,50,40,10]\n",
    "myindex02 = ['서울','부산','광주','대구','대전']\n",
    "myseries02 = pd.Series(data=mylist02, index=myindex02)\n",
    "myseries02.index.name='도시명'\n",
    "\n",
    "# 이쁘게 만들기 위해서 프레임속성 사용\n",
    "myseries02.to_frame()"
   ]
  },
  {
   "cell_type": "markdown",
   "id": "c2206111",
   "metadata": {},
   "source": [
    "<h4><font color=\"green\">시리즈의 값 읽어오기</font></h4>"
   ]
  },
  {
   "cell_type": "markdown",
   "id": "c335182b",
   "metadata": {},
   "source": [
    "<h6><font color=\"BlueViolet\">1) 문자열 label 사용</font></h6>"
   ]
  },
  {
   "cell_type": "code",
   "execution_count": 41,
   "id": "fc04a815",
   "metadata": {},
   "outputs": [
    {
     "name": "stdout",
     "output_type": "stream",
     "text": [
      "색인의 이름으로 값 읽기(scalar 반환)\n",
      "30\n"
     ]
    }
   ],
   "source": [
    "print('색인의 이름으로 값 읽기(scalar 반환)')\n",
    "print(myseries02['부산'])"
   ]
  },
  {
   "cell_type": "code",
   "execution_count": 42,
   "id": "c0567962",
   "metadata": {},
   "outputs": [
    {
     "name": "stdout",
     "output_type": "stream",
     "text": [
      "색인의 이름으로 값 읽기(Series 반환)\n",
      "도시명\n",
      "부산    30\n",
      "dtype: int64\n"
     ]
    }
   ],
   "source": [
    "print('색인의 이름으로 값 읽기(Series 반환)')\n",
    "print(myseries02[['부산']])"
   ]
  },
  {
   "cell_type": "code",
   "execution_count": 44,
   "id": "30e6c290",
   "metadata": {},
   "outputs": [
    {
     "name": "stdout",
     "output_type": "stream",
     "text": [
      "라벨 이름으로 슬라이싱\n",
      "도시명\n",
      "부산    30\n",
      "광주    50\n",
      "대구    40\n",
      "dtype: int64\n"
     ]
    }
   ],
   "source": [
    "print('라벨 이름으로 슬라이싱')\n",
    "print(myseries02['부산':'대구']) # 문자열 label :  from<= 범위 <= to"
   ]
  },
  {
   "cell_type": "code",
   "execution_count": 45,
   "id": "aa2e1b9e",
   "metadata": {},
   "outputs": [
    {
     "name": "stdout",
     "output_type": "stream",
     "text": [
      "여러 개의 색인 이름으로 데이터 읽기\n",
      "도시명\n",
      "부산    30\n",
      "대전    10\n",
      "dtype: int64\n"
     ]
    }
   ],
   "source": [
    "print('여러 개의 색인 이름으로 데이터 읽기')\n",
    "print(myseries02[['부산','대전']])"
   ]
  },
  {
   "cell_type": "markdown",
   "id": "07aa2daf",
   "metadata": {},
   "source": [
    "<h6><font color=\"BlueViolet\">2) 숫자형 label 사용</font></h6>"
   ]
  },
  {
   "cell_type": "code",
   "execution_count": 46,
   "id": "29e590c4",
   "metadata": {},
   "outputs": [
    {
     "name": "stdout",
     "output_type": "stream",
     "text": [
      "정수를 이용한 데이터 읽기\n",
      "도시명\n",
      "광주    50\n",
      "dtype: int64\n"
     ]
    }
   ],
   "source": [
    "print('정수를 이용한 데이터 읽기')\n",
    "print(myseries02[[2]])"
   ]
  },
  {
   "cell_type": "code",
   "execution_count": 47,
   "id": "c77360fe",
   "metadata": {
    "scrolled": true
   },
   "outputs": [
    {
     "name": "stdout",
     "output_type": "stream",
     "text": [
      "서로 떨어진 데이터 읽기\n",
      "도시명\n",
      "서울    60\n",
      "광주    50\n",
      "대전    10\n",
      "dtype: int64\n"
     ]
    }
   ],
   "source": [
    "print('서로 떨어진 데이터 읽기')\n",
    "print(myseries02[0:5:2])"
   ]
  },
  {
   "cell_type": "code",
   "execution_count": 48,
   "id": "9c0efbb5",
   "metadata": {},
   "outputs": [
    {
     "name": "stdout",
     "output_type": "stream",
     "text": [
      "슬라이싱 사용하기\n",
      "도시명\n",
      "부산    30\n",
      "광주    50\n",
      "대구    40\n",
      "dtype: int64\n"
     ]
    }
   ],
   "source": [
    "print('슬라이싱 사용하기')\n",
    "print(myseries02[1:4])"
   ]
  },
  {
   "cell_type": "markdown",
   "id": "e9e1c533",
   "metadata": {},
   "source": [
    "<h4><font color=\"green\">시리즈의 값 기록하기</font></h4>"
   ]
  },
  {
   "cell_type": "code",
   "execution_count": 50,
   "id": "92e1317b",
   "metadata": {},
   "outputs": [
    {
     "data": {
      "text/plain": [
       "도시명\n",
       "서울    22\n",
       "부산    30\n",
       "광주    33\n",
       "대구    22\n",
       "대전    55\n",
       "dtype: int64"
      ]
     },
     "execution_count": 50,
     "metadata": {},
     "output_type": "execute_result"
    }
   ],
   "source": [
    "myseries02[2] = 33\n",
    "myseries02[3:5] = 55\n",
    "myseries02[['서울','대구']] = 22\n",
    "myseries02"
   ]
  },
  {
   "cell_type": "code",
   "execution_count": 51,
   "id": "0c07755f",
   "metadata": {},
   "outputs": [
    {
     "name": "stdout",
     "output_type": "stream",
     "text": [
      "홀수 번째 요소만 66으로 변경하기\n"
     ]
    },
    {
     "data": {
      "text/plain": [
       "도시명\n",
       "서울    22\n",
       "부산    66\n",
       "광주    33\n",
       "대구    66\n",
       "대전    55\n",
       "dtype: int64"
      ]
     },
     "execution_count": 51,
     "metadata": {},
     "output_type": "execute_result"
    }
   ],
   "source": [
    "print('홀수 번째 요소만 66으로 변경하기')\n",
    "myseries02[1::2] = 66\n",
    "myseries02"
   ]
  },
  {
   "cell_type": "code",
   "execution_count": 53,
   "id": "7b6f4f7a",
   "metadata": {},
   "outputs": [
    {
     "name": "stdout",
     "output_type": "stream",
     "text": [
      "50보다 작은 데이터만 추출하기\n"
     ]
    },
    {
     "data": {
      "text/plain": [
       "도시명\n",
       "서울    22\n",
       "광주    33\n",
       "dtype: int64"
      ]
     },
     "execution_count": 53,
     "metadata": {},
     "output_type": "execute_result"
    }
   ],
   "source": [
    "print('50보다 작은 데이터만 추출하기')\n",
    "result = myseries02[myseries02 < 50]\n",
    "result"
   ]
  },
  {
   "cell_type": "markdown",
   "id": "dff4ab5e",
   "metadata": {},
   "source": [
    "<h4><font color=\"red\">시리즈 연산하기</font></h4>"
   ]
  },
  {
   "cell_type": "markdown",
   "id": "36a2fbed",
   "metadata": {},
   "source": [
    "<h4><font color=\"green\">1) series 만들기</font></h4>"
   ]
  },
  {
   "cell_type": "code",
   "execution_count": 55,
   "id": "fe101d97",
   "metadata": {},
   "outputs": [],
   "source": [
    "mylist31 = [20,40,50,30]\n",
    "myindex31 = ['박진솔','김정우','이명균','이정상']\n",
    "\n",
    "mylist32 = [50,10,40,20]\n",
    "myindex32 = ['박진솔','김정우','이명균','김성경']\n",
    "\n",
    "myseries31 = pd.Series(data=mylist31, index=myindex31)\n",
    "myseries32 = pd.Series(data=mylist32, index=myindex32)"
   ]
  },
  {
   "cell_type": "code",
   "execution_count": 57,
   "id": "8598c54a",
   "metadata": {},
   "outputs": [
    {
     "name": "stdout",
     "output_type": "stream",
     "text": [
      "1번 시리즈\n"
     ]
    },
    {
     "data": {
      "text/html": [
       "<div>\n",
       "<style scoped>\n",
       "    .dataframe tbody tr th:only-of-type {\n",
       "        vertical-align: middle;\n",
       "    }\n",
       "\n",
       "    .dataframe tbody tr th {\n",
       "        vertical-align: top;\n",
       "    }\n",
       "\n",
       "    .dataframe thead th {\n",
       "        text-align: right;\n",
       "    }\n",
       "</style>\n",
       "<table border=\"1\" class=\"dataframe\">\n",
       "  <thead>\n",
       "    <tr style=\"text-align: right;\">\n",
       "      <th></th>\n",
       "      <th>0</th>\n",
       "    </tr>\n",
       "  </thead>\n",
       "  <tbody>\n",
       "    <tr>\n",
       "      <th>박진솔</th>\n",
       "      <td>20</td>\n",
       "    </tr>\n",
       "    <tr>\n",
       "      <th>김정우</th>\n",
       "      <td>40</td>\n",
       "    </tr>\n",
       "    <tr>\n",
       "      <th>이명균</th>\n",
       "      <td>50</td>\n",
       "    </tr>\n",
       "    <tr>\n",
       "      <th>이정상</th>\n",
       "      <td>30</td>\n",
       "    </tr>\n",
       "  </tbody>\n",
       "</table>\n",
       "</div>"
      ],
      "text/plain": [
       "      0\n",
       "박진솔  20\n",
       "김정우  40\n",
       "이명균  50\n",
       "이정상  30"
      ]
     },
     "execution_count": 57,
     "metadata": {},
     "output_type": "execute_result"
    }
   ],
   "source": [
    "print('1번 시리즈')\n",
    "myseries31.to_frame()"
   ]
  },
  {
   "cell_type": "code",
   "execution_count": 58,
   "id": "ec1f41e4",
   "metadata": {
    "scrolled": true
   },
   "outputs": [
    {
     "name": "stdout",
     "output_type": "stream",
     "text": [
      "2번 시리즈\n"
     ]
    },
    {
     "data": {
      "text/html": [
       "<div>\n",
       "<style scoped>\n",
       "    .dataframe tbody tr th:only-of-type {\n",
       "        vertical-align: middle;\n",
       "    }\n",
       "\n",
       "    .dataframe tbody tr th {\n",
       "        vertical-align: top;\n",
       "    }\n",
       "\n",
       "    .dataframe thead th {\n",
       "        text-align: right;\n",
       "    }\n",
       "</style>\n",
       "<table border=\"1\" class=\"dataframe\">\n",
       "  <thead>\n",
       "    <tr style=\"text-align: right;\">\n",
       "      <th></th>\n",
       "      <th>0</th>\n",
       "    </tr>\n",
       "  </thead>\n",
       "  <tbody>\n",
       "    <tr>\n",
       "      <th>박진솔</th>\n",
       "      <td>50</td>\n",
       "    </tr>\n",
       "    <tr>\n",
       "      <th>김정우</th>\n",
       "      <td>10</td>\n",
       "    </tr>\n",
       "    <tr>\n",
       "      <th>이명균</th>\n",
       "      <td>40</td>\n",
       "    </tr>\n",
       "    <tr>\n",
       "      <th>김성경</th>\n",
       "      <td>20</td>\n",
       "    </tr>\n",
       "  </tbody>\n",
       "</table>\n",
       "</div>"
      ],
      "text/plain": [
       "      0\n",
       "박진솔  50\n",
       "김정우  10\n",
       "이명균  40\n",
       "김성경  20"
      ]
     },
     "execution_count": 58,
     "metadata": {},
     "output_type": "execute_result"
    }
   ],
   "source": [
    "print('2번 시리즈')\n",
    "myseries32.to_frame()"
   ]
  },
  {
   "cell_type": "markdown",
   "id": "6073c2d9",
   "metadata": {},
   "source": [
    "<h4><font color=\"green\">2) series와 scalar의 산술 연산</font></h4>"
   ]
  },
  {
   "cell_type": "code",
   "execution_count": 60,
   "id": "5e468afe",
   "metadata": {
    "scrolled": true
   },
   "outputs": [
    {
     "name": "stdout",
     "output_type": "stream",
     "text": [
      "시리즈 더하기 연산\n",
      "박진솔    30\n",
      "김정우    50\n",
      "이명균    60\n",
      "이정상    40\n",
      "dtype: int64\n"
     ]
    }
   ],
   "source": [
    "su=10\n",
    "print('시리즈 더하기 연산')\n",
    "print(myseries31 + su)"
   ]
  },
  {
   "cell_type": "code",
   "execution_count": 61,
   "id": "046ea875",
   "metadata": {},
   "outputs": [
    {
     "name": "stdout",
     "output_type": "stream",
     "text": [
      "add 메소드 사용\n",
      "박진솔    30\n",
      "김정우    50\n",
      "이명균    60\n",
      "이정상    40\n",
      "dtype: int64\n"
     ]
    }
   ],
   "source": [
    "print('add 메소드 사용')\n",
    "print(myseries31.add(su))"
   ]
  },
  {
   "cell_type": "code",
   "execution_count": 62,
   "id": "981bdc17",
   "metadata": {
    "scrolled": true
   },
   "outputs": [
    {
     "name": "stdout",
     "output_type": "stream",
     "text": [
      "시리즈 뺄샘 연산\n",
      "박진솔    10\n",
      "김정우    30\n",
      "이명균    40\n",
      "이정상    20\n",
      "dtype: int64\n"
     ]
    }
   ],
   "source": [
    "su=10\n",
    "print('시리즈 뺄샘 연산')\n",
    "print(myseries31 - su)"
   ]
  },
  {
   "cell_type": "code",
   "execution_count": 63,
   "id": "5808e30a",
   "metadata": {},
   "outputs": [
    {
     "name": "stdout",
     "output_type": "stream",
     "text": [
      "add 메소드 사용\n",
      "박진솔    10\n",
      "김정우    30\n",
      "이명균    40\n",
      "이정상    20\n",
      "dtype: int64\n"
     ]
    }
   ],
   "source": [
    "print('sub 메소드 사용')\n",
    "print(myseries31.sub(su))"
   ]
  },
  {
   "cell_type": "code",
   "execution_count": 64,
   "id": "563f42ba",
   "metadata": {},
   "outputs": [
    {
     "name": "stdout",
     "output_type": "stream",
     "text": [
      "시리즈 관계 연산\n",
      "박진솔    False\n",
      "김정우     True\n",
      "이명균     True\n",
      "이정상    False\n",
      "dtype: bool\n"
     ]
    }
   ],
   "source": [
    "su=40\n",
    "print('시리즈 관계 연산')\n",
    "print(myseries31 >= su)"
   ]
  },
  {
   "cell_type": "code",
   "execution_count": 65,
   "id": "1d1f7107",
   "metadata": {},
   "outputs": [
    {
     "data": {
      "text/plain": [
       "김정우    40\n",
       "이명균    50\n",
       "dtype: int64"
      ]
     },
     "execution_count": 65,
     "metadata": {},
     "output_type": "execute_result"
    }
   ],
   "source": [
    "myseries31[myseries31 >= su]"
   ]
  },
  {
   "cell_type": "code",
   "execution_count": 66,
   "id": "5cdc18b7",
   "metadata": {
    "scrolled": true
   },
   "outputs": [
    {
     "name": "stdout",
     "output_type": "stream",
     "text": [
      "40보다 큰가요?\n",
      "박진솔    False\n",
      "김정우    False\n",
      "이명균     True\n",
      "이정상    False\n",
      "dtype: bool\n"
     ]
    }
   ],
   "source": [
    "print('40보다 큰가요?')\n",
    "print(myseries31.gt(su)) # Greater than of series and other"
   ]
  },
  {
   "cell_type": "code",
   "execution_count": 67,
   "id": "46f75fd3",
   "metadata": {
    "scrolled": true
   },
   "outputs": [
    {
     "name": "stdout",
     "output_type": "stream",
     "text": [
      "40인가요?\n",
      "박진솔    False\n",
      "김정우     True\n",
      "이명균    False\n",
      "이정상    False\n",
      "dtype: bool\n"
     ]
    }
   ],
   "source": [
    "print('40인가요?')\n",
    "print(myseries31.eq(su))"
   ]
  },
  {
   "cell_type": "markdown",
   "id": "a8a97366",
   "metadata": {},
   "source": [
    "<h4><font color=\"green\">3) series간의 산술 연산</font></h4>"
   ]
  },
  {
   "cell_type": "code",
   "execution_count": 68,
   "id": "fca94a14",
   "metadata": {},
   "outputs": [
    {
     "name": "stdout",
     "output_type": "stream",
     "text": [
      "한쪽에만 있는 데이터는 NaN으로 처리됨\n"
     ]
    },
    {
     "data": {
      "text/plain": [
       "김성경     NaN\n",
       "김정우    50.0\n",
       "박진솔    70.0\n",
       "이명균    90.0\n",
       "이정상     NaN\n",
       "dtype: float64"
      ]
     },
     "execution_count": 68,
     "metadata": {},
     "output_type": "execute_result"
    }
   ],
   "source": [
    "print('한쪽에만 있는 데이터는 NaN으로 처리됨')\n",
    "newseries = myseries31 + myseries32\n",
    "newseries"
   ]
  },
  {
   "cell_type": "code",
   "execution_count": 69,
   "id": "81b1c330",
   "metadata": {},
   "outputs": [
    {
     "name": "stdout",
     "output_type": "stream",
     "text": [
      "뺄셈 처리\n"
     ]
    },
    {
     "data": {
      "text/plain": [
       "김성경     NaN\n",
       "김정우    30.0\n",
       "박진솔   -30.0\n",
       "이명균    10.0\n",
       "이정상     NaN\n",
       "dtype: float64"
      ]
     },
     "execution_count": 69,
     "metadata": {},
     "output_type": "execute_result"
    }
   ],
   "source": [
    "print('뺄셈 처리')\n",
    "newseries = myseries31.sub(myseries32)\n",
    "newseries"
   ]
  },
  {
   "cell_type": "code",
   "execution_count": 70,
   "id": "29e5faff",
   "metadata": {},
   "outputs": [
    {
     "name": "stdout",
     "output_type": "stream",
     "text": [
      "뺄셈 처리\n"
     ]
    },
    {
     "data": {
      "text/plain": [
       "김성경   -20.0\n",
       "김정우    30.0\n",
       "박진솔   -30.0\n",
       "이명균    10.0\n",
       "이정상    30.0\n",
       "dtype: float64"
      ]
     },
     "execution_count": 70,
     "metadata": {},
     "output_type": "execute_result"
    }
   ],
   "source": [
    "print('뺄셈 처리')\n",
    "newseries = myseries31.sub(myseries32, fill_value=0)\n",
    "newseries"
   ]
  },
  {
   "cell_type": "code",
   "execution_count": 71,
   "id": "55921841",
   "metadata": {},
   "outputs": [
    {
     "name": "stdout",
     "output_type": "stream",
     "text": [
      "곱셈 처리\n"
     ]
    },
    {
     "data": {
      "text/plain": [
       "김성경      20.0\n",
       "김정우     400.0\n",
       "박진솔    1000.0\n",
       "이명균    2000.0\n",
       "이정상      30.0\n",
       "dtype: float64"
      ]
     },
     "execution_count": 71,
     "metadata": {},
     "output_type": "execute_result"
    }
   ],
   "source": [
    "print('곱셈 처리')\n",
    "newseries = myseries31.mul(myseries32, fill_value=1)\n",
    "newseries"
   ]
  },
  {
   "cell_type": "markdown",
   "id": "b745ea96",
   "metadata": {},
   "source": [
    "<h1><font color=\"blue\">유일 값과 빈도 파악, 색인 필터링</font></h1>"
   ]
  },
  {
   "cell_type": "code",
   "execution_count": 73,
   "id": "8c88f3cc",
   "metadata": {},
   "outputs": [
    {
     "data": {
      "text/plain": [
       "0    서울\n",
       "1    부산\n",
       "2    대구\n",
       "3    대전\n",
       "4    서울\n",
       "5    부산\n",
       "6    대구\n",
       "7    서울\n",
       "8    부산\n",
       "9    서울\n",
       "dtype: object"
      ]
     },
     "execution_count": 73,
     "metadata": {},
     "output_type": "execute_result"
    }
   ],
   "source": [
    "mylist04 = ['서울','부산','대구','대전','서울','부산','대구','서울','부산','서울']\n",
    "myseries04 = pd.Series(data=mylist04)\n",
    "myseries04"
   ]
  },
  {
   "cell_type": "markdown",
   "id": "4c1fbfc7",
   "metadata": {},
   "source": [
    "<h4><font color=\"green\">1) 유일한 값 확인하기</font></h4>"
   ]
  },
  {
   "cell_type": "code",
   "execution_count": 74,
   "id": "ce85a7ff",
   "metadata": {},
   "outputs": [
    {
     "data": {
      "text/plain": [
       "array(['서울', '부산', '대구', '대전'], dtype=object)"
      ]
     },
     "execution_count": 74,
     "metadata": {},
     "output_type": "execute_result"
    }
   ],
   "source": [
    "myunique04 = myseries04.unique()\n",
    "myunique04"
   ]
  },
  {
   "cell_type": "markdown",
   "id": "16dfa200",
   "metadata": {},
   "source": [
    "<h4><font color=\"green\">2) 빈도 수 파악하기</font></h4>"
   ]
  },
  {
   "cell_type": "code",
   "execution_count": 75,
   "id": "f655be5f",
   "metadata": {},
   "outputs": [
    {
     "name": "stdout",
     "output_type": "stream",
     "text": [
      "항목별 빈도 개수\n",
      "서울    4\n",
      "부산    3\n",
      "대구    2\n",
      "대전    1\n",
      "dtype: int64\n"
     ]
    }
   ],
   "source": [
    "print('항목별 빈도 개수')\n",
    "print(myseries04.value_counts())"
   ]
  },
  {
   "cell_type": "code",
   "execution_count": 76,
   "id": "310235fb",
   "metadata": {},
   "outputs": [
    {
     "name": "stdout",
     "output_type": "stream",
     "text": [
      "항목별 빈도 개수\n",
      "서울    0.4\n",
      "부산    0.3\n",
      "대구    0.2\n",
      "대전    0.1\n",
      "dtype: float64\n"
     ]
    }
   ],
   "source": [
    "print('항목별 빈도 개수')\n",
    "print(myseries04.value_counts(normalize=True))"
   ]
  },
  {
   "cell_type": "markdown",
   "id": "bc2ea7b1",
   "metadata": {},
   "source": [
    "<h4><font color=\"green\">3) 색인 필터링 하기</font></h4>"
   ]
  },
  {
   "cell_type": "code",
   "execution_count": 78,
   "id": "f48c7764",
   "metadata": {},
   "outputs": [
    {
     "name": "stdout",
     "output_type": "stream",
     "text": [
      "0    False\n",
      "1     True\n",
      "2     True\n",
      "3    False\n",
      "4    False\n",
      "5     True\n",
      "6     True\n",
      "7    False\n",
      "8     True\n",
      "9    False\n",
      "dtype: bool\n"
     ]
    }
   ],
   "source": [
    "filter04 = myseries04.isin(['부산','대구'])\n",
    "print(filter04)"
   ]
  },
  {
   "cell_type": "code",
   "execution_count": 79,
   "id": "8c8a36c0",
   "metadata": {},
   "outputs": [
    {
     "name": "stdout",
     "output_type": "stream",
     "text": [
      "1    부산\n",
      "2    대구\n",
      "5    부산\n",
      "6    대구\n",
      "8    부산\n",
      "dtype: object\n"
     ]
    }
   ],
   "source": [
    "print(myseries04[filter04])"
   ]
  },
  {
   "cell_type": "markdown",
   "id": "13138b16",
   "metadata": {},
   "source": [
    "<h1><font color=\"blue\">통계 함수 사용</font></h1>"
   ]
  },
  {
   "cell_type": "code",
   "execution_count": 81,
   "id": "c3621451",
   "metadata": {},
   "outputs": [],
   "source": [
    "import numpy as np"
   ]
  },
  {
   "cell_type": "code",
   "execution_count": 82,
   "id": "8fc188e0",
   "metadata": {},
   "outputs": [
    {
     "name": "stdout",
     "output_type": "stream",
     "text": [
      "0    11.0\n",
      "1    22.0\n",
      "2    33.0\n",
      "3    44.0\n",
      "4     NaN\n",
      "dtype: float64\n"
     ]
    }
   ],
   "source": [
    "mylist05 = [11,22,33,44,np.nan]\n",
    "myseries05 = pd.Series(mylist05)\n",
    "print(myseries05)"
   ]
  },
  {
   "cell_type": "markdown",
   "id": "79549cdd",
   "metadata": {},
   "source": [
    "<h4><font color=\"red\">통계 함수</font></h4>"
   ]
  },
  {
   "cell_type": "code",
   "execution_count": 84,
   "id": "f68ecc85",
   "metadata": {},
   "outputs": [
    {
     "name": "stdout",
     "output_type": "stream",
     "text": [
      "sum() 함수 : 110.0\n",
      "mean() 함수 : 27.5\n",
      "min() 함수 : 11.0\n",
      "max() 함수 : 44.0\n",
      "std() 함수 : 14.200938936093861\n"
     ]
    }
   ],
   "source": [
    "print('sum() 함수 : ' + str(myseries05.sum())) # 총합\n",
    "print('mean() 함수 : ' + str(myseries05.mean())) # 평균\n",
    "print('min() 함수 : ' + str(myseries05.min())) # 최소값\n",
    "print('max() 함수 : ' + str(myseries05.max()))# 최대값\n",
    "print('std() 함수 : ' + str(myseries05.std())) # 표준편차"
   ]
  },
  {
   "cell_type": "code",
   "execution_count": 85,
   "id": "81c180d7",
   "metadata": {
    "scrolled": true
   },
   "outputs": [
    {
     "data": {
      "text/plain": [
       "0    False\n",
       "1    False\n",
       "2     True\n",
       "3     True\n",
       "4    False\n",
       "dtype: bool"
      ]
     },
     "execution_count": 85,
     "metadata": {},
     "output_type": "execute_result"
    }
   ],
   "source": [
    "result = myseries05 > myseries05.mean()\n",
    "result"
   ]
  },
  {
   "cell_type": "code",
   "execution_count": 86,
   "id": "ce601b7a",
   "metadata": {
    "scrolled": true
   },
   "outputs": [
    {
     "name": "stdout",
     "output_type": "stream",
     "text": [
      "평균 보다 큰 데이터\n"
     ]
    },
    {
     "data": {
      "text/plain": [
       "2    33.0\n",
       "3    44.0\n",
       "dtype: float64"
      ]
     },
     "execution_count": 86,
     "metadata": {},
     "output_type": "execute_result"
    }
   ],
   "source": [
    "print('평균 보다 큰 데이터')\n",
    "myseries05[result]"
   ]
  },
  {
   "cell_type": "markdown",
   "id": "4dc0db8d",
   "metadata": {},
   "source": [
    "<h4><font color=\"red\">재색인과 삭제 기능</font></h4>"
   ]
  },
  {
   "cell_type": "markdown",
   "id": "3bc38f4d",
   "metadata": {},
   "source": [
    "<h4><font color=\"green\">1) 재색인 하기</font></h4>"
   ]
  },
  {
   "cell_type": "code",
   "execution_count": 88,
   "id": "9fd73e81",
   "metadata": {},
   "outputs": [
    {
     "data": {
      "text/plain": [
       "김한석    75\n",
       "이유림    65\n",
       "최훈철    85\n",
       "강유섭    45\n",
       "dtype: int64"
      ]
     },
     "execution_count": 88,
     "metadata": {},
     "output_type": "execute_result"
    }
   ],
   "source": [
    "myindex06 = ['김한석','이유림','최훈철','강유섭']\n",
    "mylist06 = [75,65,85,45]\n",
    "myseries06 = pd.Series(data=mylist06, index=myindex06)\n",
    "myseries06"
   ]
  },
  {
   "cell_type": "code",
   "execution_count": 92,
   "id": "eb6fc3e8",
   "metadata": {},
   "outputs": [
    {
     "name": "stdout",
     "output_type": "stream",
     "text": [
      "이전에 존재하지 않던 색인 목록 : ['심주영']\n"
     ]
    }
   ],
   "source": [
    "newmyindex06 = ['김한석','이유림','최훈철','강유섭','심주영']\n",
    "\n",
    "data=list() # empty list\n",
    "for item in newmyindex06:\n",
    "    if item not in myindex06:\n",
    "        data.append(item)\n",
    "\n",
    "print('이전에 존재하지 않던 색인 목록 : ' + str(data))"
   ]
  },
  {
   "cell_type": "markdown",
   "id": "9f1cb98e",
   "metadata": {},
   "source": [
    "<h4><font color=\"BlueViolet\">재색인 기본!</font></h4>"
   ]
  },
  {
   "cell_type": "code",
   "execution_count": 95,
   "id": "f7ac9c46",
   "metadata": {
    "scrolled": true
   },
   "outputs": [
    {
     "name": "stdout",
     "output_type": "stream",
     "text": [
      "신규 색인으로 reindex() 메소드 사용하기\n",
      "김한석    75.0\n",
      "이유림    65.0\n",
      "최훈철    85.0\n",
      "강유섭    45.0\n",
      "심주영     NaN\n",
      "dtype: float64\n"
     ]
    }
   ],
   "source": [
    "result06 = myseries06.reindex(index=newmyindex06)\n",
    "print('신규 색인으로 reindex() 메소드 사용하기')\n",
    "print(result06)"
   ]
  },
  {
   "cell_type": "markdown",
   "id": "0178b186",
   "metadata": {},
   "source": [
    "<h4><font color=\"BlueViolet\">fill_value 매개 변수 사용</font></h4>"
   ]
  },
  {
   "cell_type": "code",
   "execution_count": 97,
   "id": "b8501f7c",
   "metadata": {
    "scrolled": false
   },
   "outputs": [
    {
     "name": "stdout",
     "output_type": "stream",
     "text": [
      "김한석    75\n",
      "이유림    65\n",
      "최훈철    85\n",
      "강유섭    45\n",
      "심주영    30\n",
      "dtype: int64\n"
     ]
    }
   ],
   "source": [
    "# reindex 사용하기(fill_value 사용)\n",
    "newmyindex06 = ['김한석','이유림','최훈철','강유섭','심주영']\n",
    "result06 = myseries06.reindex(index=newmyindex06, fill_value = 30)\n",
    "print(result06)"
   ]
  },
  {
   "cell_type": "markdown",
   "id": "2a373b5d",
   "metadata": {},
   "source": [
    "<h4><font color=\"BlueViolet\">보간법을 사용한 재색인</font></h4>"
   ]
  },
  {
   "cell_type": "code",
   "execution_count": 98,
   "id": "76fdc26f",
   "metadata": {},
   "outputs": [
    {
     "data": {
      "text/plain": [
       "2     사과\n",
       "5      배\n",
       "8    오렌지\n",
       "dtype: object"
      ]
     },
     "execution_count": 98,
     "metadata": {},
     "output_type": "execute_result"
    }
   ],
   "source": [
    "mylist06=['사과','배','오렌지']\n",
    "myindex06 = [2,5,8]\n",
    "myseries06 = pd.Series(data=mylist06, index=myindex06)\n",
    "myseries06"
   ]
  },
  {
   "cell_type": "code",
   "execution_count": 101,
   "id": "0a3acce7",
   "metadata": {},
   "outputs": [
    {
     "data": {
      "text/plain": [
       "0    NaN\n",
       "1    NaN\n",
       "2     사과\n",
       "3     사과\n",
       "4     사과\n",
       "5      배\n",
       "6      배\n",
       "7      배\n",
       "8    오렌지\n",
       "9    오렌지\n",
       "dtype: object"
      ]
     },
     "execution_count": 101,
     "metadata": {},
     "output_type": "execute_result"
    }
   ],
   "source": [
    "result06 = myseries06.reindex(range(10), method='ffill') # front fill\n",
    "result06"
   ]
  },
  {
   "cell_type": "code",
   "execution_count": 102,
   "id": "17ad744a",
   "metadata": {},
   "outputs": [
    {
     "data": {
      "text/plain": [
       "0     사과\n",
       "1     사과\n",
       "2     사과\n",
       "3      배\n",
       "4      배\n",
       "5      배\n",
       "6    오렌지\n",
       "7    오렌지\n",
       "8    오렌지\n",
       "9    NaN\n",
       "dtype: object"
      ]
     },
     "execution_count": 102,
     "metadata": {},
     "output_type": "execute_result"
    }
   ],
   "source": [
    "result06 = myseries06.reindex(range(10), method='bfill') # back fill\n",
    "result06"
   ]
  },
  {
   "cell_type": "markdown",
   "id": "cb7aa7d5",
   "metadata": {},
   "source": [
    "<h4><font color=\"green\">2) 색인 삭제하기</font></h4>"
   ]
  },
  {
   "cell_type": "code",
   "execution_count": 103,
   "id": "913c93de",
   "metadata": {},
   "outputs": [
    {
     "data": {
      "text/plain": [
       "0     사과\n",
       "1     사과\n",
       "2     사과\n",
       "3      배\n",
       "4      배\n",
       "5      배\n",
       "6    오렌지\n",
       "7    오렌지\n",
       "8    오렌지\n",
       "9    NaN\n",
       "dtype: object"
      ]
     },
     "execution_count": 103,
     "metadata": {},
     "output_type": "execute_result"
    }
   ],
   "source": [
    "result06"
   ]
  },
  {
   "cell_type": "code",
   "execution_count": 104,
   "id": "3184139f",
   "metadata": {},
   "outputs": [
    {
     "data": {
      "text/plain": [
       "0     사과\n",
       "1     사과\n",
       "3      배\n",
       "4      배\n",
       "5      배\n",
       "6    오렌지\n",
       "7    오렌지\n",
       "8    오렌지\n",
       "9    NaN\n",
       "dtype: object"
      ]
     },
     "execution_count": 104,
     "metadata": {},
     "output_type": "execute_result"
    }
   ],
   "source": [
    "newdata = result06.drop([2])\n",
    "newdata"
   ]
  },
  {
   "cell_type": "code",
   "execution_count": 106,
   "id": "b909d70d",
   "metadata": {
    "scrolled": true
   },
   "outputs": [
    {
     "data": {
      "text/plain": [
       "1     사과\n",
       "2     사과\n",
       "3      배\n",
       "5      배\n",
       "6    오렌지\n",
       "9    NaN\n",
       "dtype: object"
      ]
     },
     "execution_count": 106,
     "metadata": {},
     "output_type": "execute_result"
    }
   ],
   "source": [
    "# 서로 떨어진 색인들 여러개 삭제하기\n",
    "newdata = result06.drop([0,4,7,8])\n",
    "newdata"
   ]
  },
  {
   "cell_type": "markdown",
   "id": "35054f3e",
   "metadata": {},
   "source": [
    "<h1><font color=\"blue\">Series를 이용한 차트 그리기</font></h1>"
   ]
  },
  {
   "cell_type": "markdown",
   "id": "b619ee77",
   "metadata": {},
   "source": [
    "<h4><font color=\"green\">데이터 준비</font></h4>"
   ]
  },
  {
   "cell_type": "code",
   "execution_count": 128,
   "id": "6ac09616",
   "metadata": {},
   "outputs": [
    {
     "data": {
      "text/html": [
       "<div>\n",
       "<style scoped>\n",
       "    .dataframe tbody tr th:only-of-type {\n",
       "        vertical-align: middle;\n",
       "    }\n",
       "\n",
       "    .dataframe tbody tr th {\n",
       "        vertical-align: top;\n",
       "    }\n",
       "\n",
       "    .dataframe thead th {\n",
       "        text-align: right;\n",
       "    }\n",
       "</style>\n",
       "<table border=\"1\" class=\"dataframe\">\n",
       "  <thead>\n",
       "    <tr style=\"text-align: right;\">\n",
       "      <th></th>\n",
       "      <th>0</th>\n",
       "    </tr>\n",
       "  </thead>\n",
       "  <tbody>\n",
       "    <tr>\n",
       "      <th>서울</th>\n",
       "      <td>60</td>\n",
       "    </tr>\n",
       "    <tr>\n",
       "      <th>부산</th>\n",
       "      <td>30</td>\n",
       "    </tr>\n",
       "    <tr>\n",
       "      <th>광주</th>\n",
       "      <td>50</td>\n",
       "    </tr>\n",
       "    <tr>\n",
       "      <th>대구</th>\n",
       "      <td>40</td>\n",
       "    </tr>\n",
       "    <tr>\n",
       "      <th>대전</th>\n",
       "      <td>10</td>\n",
       "    </tr>\n",
       "  </tbody>\n",
       "</table>\n",
       "</div>"
      ],
      "text/plain": [
       "     0\n",
       "서울  60\n",
       "부산  30\n",
       "광주  50\n",
       "대구  40\n",
       "대전  10"
      ]
     },
     "execution_count": 128,
     "metadata": {},
     "output_type": "execute_result"
    }
   ],
   "source": [
    "mylist02 = [60,30,50,40,10]\n",
    "myindex02 = ['서울','부산','광주','대구','대전']\n",
    "myseries02 = pd.Series(data=mylist02, index=myindex02)\n",
    "myseries02.to_frame()"
   ]
  },
  {
   "cell_type": "markdown",
   "id": "17f1b8b5",
   "metadata": {},
   "source": [
    "<h4><font color=\"green\">1) 꺽은 선 그리기</font></h4>"
   ]
  },
  {
   "cell_type": "code",
   "execution_count": 129,
   "id": "24b4a26c",
   "metadata": {},
   "outputs": [],
   "source": [
    "import matplotlib.pyplot as plt\n",
    "plt.rc('font', family='Malgun Gothic') # 맑은 고딕체(한글 안 깨지게)"
   ]
  },
  {
   "cell_type": "code",
   "execution_count": 134,
   "id": "b1aeeb78",
   "metadata": {},
   "outputs": [
    {
     "data": {
      "text/plain": [
       "Text(0.5, 1.0, '도시별 실적 꺽은선 그래프')"
      ]
     },
     "execution_count": 134,
     "metadata": {},
     "output_type": "execute_result"
    },
    {
     "data": {
      "image/png": "[encoded data removed]",
      "text/plain": [
       "<Figure size 640x480 with 1 Axes>"
      ]
     },
     "metadata": {},
     "output_type": "display_data"
    }
   ],
   "source": [
    "# 꺽은선 그래프 나타내기\n",
    "myseries02.plot(kind='line', grid=True, rot=0 , ylim=[0,100])\n",
    "plt.xlabel('도시 이름')\n",
    "plt.ylabel('실적')\n",
    "plt.title('도시별 실적 꺽은선 그래프')\n",
    "#, use_index=False 추가 하면 색인 안 쓴다는 의미\n",
    "# grid=True / , rot=0 / 색인 기울기  , ylim=[0,100] / y축 0부터 100까지"
   ]
  },
  {
   "cell_type": "markdown",
   "id": "4c8692c8",
   "metadata": {},
   "source": [
    "<h4><font color=\"green\">2) 막대 그래프</font></h4>"
   ]
  },
  {
   "cell_type": "code",
   "execution_count": 141,
   "id": "244f7470",
   "metadata": {
    "scrolled": false
   },
   "outputs": [
    {
     "data": {
      "text/plain": [
       "Text(0.5, 1.0, '도시별 실적 막대 그래프')"
      ]
     },
     "execution_count": 141,
     "metadata": {},
     "output_type": "execute_result"
    },
    {
     "data": {
      "image/png": "[encoded data removed]",
      "text/plain": [
       "<Figure size 640x480 with 1 Axes>"
      ]
     },
     "metadata": {},
     "output_type": "display_data"
    }
   ],
   "source": [
    "# 막대 그래프 나타내기\n",
    "myseries02.plot(kind='bar', grid=False , rot=0, color=['BlueViolet','CornflowerBlue','DarkOrange','Aqua','BlanchedAlmond'])\n",
    "plt.xlabel('도시 이름')\n",
    "plt.ylabel('실적')\n",
    "plt.title('도시별 실적 막대 그래프')"
   ]
  },
  {
   "cell_type": "code",
   "execution_count": null,
   "id": "29f13d54",
   "metadata": {},
   "outputs": [],
   "source": []
  },
  {
   "cell_type": "code",
   "execution_count": null,
   "id": "5d8d8054",
   "metadata": {},
   "outputs": [],
   "source": []
  },
  {
   "cell_type": "code",
   "execution_count": null,
   "id": "e714a2be",
   "metadata": {},
   "outputs": [],
   "source": []
  }
 ],
 "metadata": {
  "kernelspec": {
   "display_name": "Python 3 (ipykernel)",
   "language": "python",
   "name": "python3"
  },
  "language_info": {
   "codemirror_mode": {
    "name": "ipython",
    "version": 3
   },
   "file_extension": ".py",
   "mimetype": "text/x-python",
   "name": "python",
   "nbconvert_exporter": "python",
   "pygments_lexer": "ipython3",
   "version": "3.11.2"
  }
 },
 "nbformat": 4,
 "nbformat_minor": 5
}
