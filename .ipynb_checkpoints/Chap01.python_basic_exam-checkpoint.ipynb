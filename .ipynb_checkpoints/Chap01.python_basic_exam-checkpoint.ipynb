{
 "cells": [
  {
   "cell_type": "markdown",
   "id": "3c6575aa",
   "metadata": {},
   "source": [
    "<h1><font color=\"blue\">데이터 타입과 입출력</font></h1>"
   ]
  },
  {
   "cell_type": "markdown",
   "id": "a6022e03",
   "metadata": {},
   "source": [
    "<h4><font color=\"red\">(1일차)입출력 함수 사용하기.</font></h4>"
   ]
  },
  {
   "cell_type": "code",
   "execution_count": null,
   "id": "0db97fe7",
   "metadata": {},
   "outputs": [],
   "source": [
    "# 이름과 나이를 입력 받고, 5년 뒤의 나이를 출력하는 프로그램을 작성하세요."
   ]
  },
  {
   "cell_type": "code",
   "execution_count": null,
   "id": "160e8786",
   "metadata": {},
   "outputs": [],
   "source": [
    "name = input('이름 입력 : ')\n",
    "age = int(input('나이 입력 : '))"
   ]
  },
  {
   "cell_type": "code",
   "execution_count": null,
   "id": "26e54fb7",
   "metadata": {},
   "outputs": [],
   "source": [
    "passyear = 5\n",
    "message = '{}님의 {}년 뒤 나이는 {}세 입니다.'\n",
    "print(message.format(name,passyear,(passyear + age)))"
   ]
  },
  {
   "cell_type": "code",
   "execution_count": null,
   "id": "0cdba876",
   "metadata": {},
   "outputs": [],
   "source": [
    "# 상품의 이름과 가격 및 할인율을 입력 받으세요.\n",
    "# 이름 및 원가 및 할인된 금액을 출력해 보세요. "
   ]
  },
  {
   "cell_type": "code",
   "execution_count": null,
   "id": "f976c79a",
   "metadata": {},
   "outputs": [],
   "source": [
    "name = input('품목 : ')\n",
    "price = int(input('가격 : '))\n",
    "discount = float(input('할인율 : '))"
   ]
  },
  {
   "cell_type": "code",
   "execution_count": null,
   "id": "0cd17985",
   "metadata": {},
   "outputs": [],
   "source": [
    "message = '품목 : {}, 가격 : {}, 할인된 가격 : {}'\n",
    "print(message.format(name, format(price, ','), (price * discount)))"
   ]
  },
  {
   "cell_type": "code",
   "execution_count": null,
   "id": "6e051be7",
   "metadata": {},
   "outputs": [],
   "source": [
    "# 정수 1개를 입력 받고, 3의 배수인지 아닌지를 판단해 보세요."
   ]
  },
  {
   "cell_type": "code",
   "execution_count": null,
   "id": "e1dd68b7",
   "metadata": {},
   "outputs": [],
   "source": [
    "jungsu = int(input('정수 1개 입력 : '))"
   ]
  },
  {
   "cell_type": "code",
   "execution_count": null,
   "id": "48a3bfeb",
   "metadata": {},
   "outputs": [],
   "source": [
    "if jungsu%3 == 0 :\n",
    "    result = '3의 배수입니다.'\n",
    "else :\n",
    "    result = '3의 배수가 아닙니다.'"
   ]
  },
  {
   "cell_type": "code",
   "execution_count": null,
   "id": "01d4d9aa",
   "metadata": {},
   "outputs": [],
   "source": [
    "message = '정수 {}는 {}'\n",
    "print(message.format(jungsu,result))"
   ]
  },
  {
   "cell_type": "code",
   "execution_count": null,
   "id": "90c4a587",
   "metadata": {},
   "outputs": [],
   "source": [
    "# 이름과 급여를 입력 받고, 연봉이 어느 등급인지 판단해 보세요.\n",
    "# 연봉 = 급여 * 12\n",
    "# 연봉이 5000원 이상이면 'A',3000원 이상이면 'B', 3000원 미만이면 'C'로 분류해 보세요."
   ]
  },
  {
   "cell_type": "code",
   "execution_count": null,
   "id": "bad38761",
   "metadata": {},
   "outputs": [],
   "source": [
    "name = input('이름을 입력 하세요. : ')\n",
    "salary = int(input('급여를 입력 하세요. :'))\n",
    "an_salary = 12 * salary"
   ]
  },
  {
   "cell_type": "code",
   "execution_count": null,
   "id": "28dbc003",
   "metadata": {},
   "outputs": [],
   "source": [
    "if an_salary >= 5000 :\n",
    "    grade = 'A'\n",
    "elif an_salary >= 3000 :\n",
    "    grade = 'B'\n",
    "else :\n",
    "    grade = 'C'"
   ]
  },
  {
   "cell_type": "code",
   "execution_count": null,
   "id": "2e960546",
   "metadata": {},
   "outputs": [],
   "source": [
    "message = '{}님의 연봉은 {}만원이며, 연봉은 {}등급 입니다.'\n",
    "print(message.format(name, format(an_salary,',<h1><font color=\"blue\">데이터 타입과 입출력</font></h1>\n",
    "\n",
    "<h4><font color=\"red\">입출력 함수 사용하기.</font></h4>'), grade))"
   ]
  },
  {
   "cell_type": "markdown",
   "id": "3efad294",
   "metadata": {},
   "source": [
    "<h1><font color=\"blue\">집합 자료형</font></h1>"
   ]
  },
  {
   "cell_type": "markdown",
   "id": "4f33190e",
   "metadata": {},
   "source": [
    "<h4><font color=\"red\">(1일차)리스트 실습.</font></h4>"
   ]
  },
  {
   "cell_type": "code",
   "execution_count": null,
   "id": "6bfdb597",
   "metadata": {},
   "outputs": [],
   "source": [
    "# + 기호를 사용하면 list를 합칠 수 있습니다.\n",
    "# 인덱스값을 3으로 나누었을 때 나머지가 1인 요소들만 출력해 보세요.\n",
    "list_a = ['최용대','신성현','이원조']\n",
    "list_b = ['윤미래','강나리','황진수']\n",
    "\n",
    "list = list_a + list_b\n",
    "print(list)"
   ]
  },
  {
   "cell_type": "code",
   "execution_count": null,
   "id": "dfc6124d",
   "metadata": {},
   "outputs": [],
   "source": [
    "print(type(list))"
   ]
  },
  {
   "cell_type": "code",
   "execution_count": null,
   "id": "06aeb41d",
   "metadata": {},
   "outputs": [],
   "source": [
    "print(list[1::3])"
   ]
  },
  {
   "cell_type": "code",
   "execution_count": null,
   "id": "fc6bb084",
   "metadata": {},
   "outputs": [],
   "source": [
    "# 다음 사전에서 '영어'를 제외한 시험 점수들의 총합을 구해 보세요.\n",
    "dictionary = {'kor':85, 'eng':70, 'math':50}"
   ]
  },
  {
   "cell_type": "code",
   "execution_count": null,
   "id": "7ce09a1f",
   "metadata": {},
   "outputs": [],
   "source": [
    "total = 0\n",
    "for key in dictionary.keys():\n",
    "    if key != 'eng':\n",
    "        total += dictionary[key]\n",
    "        \n",
    "print('총합 : %d' % (total))"
   ]
  },
  {
   "cell_type": "markdown",
   "id": "eeab8da5",
   "metadata": {},
   "source": [
    "<h4><font color=\"red\">(1일차)튜플 실습.</font></h4>"
   ]
  },
  {
   "cell_type": "code",
   "execution_count": null,
   "id": "a884fe7c",
   "metadata": {},
   "outputs": [],
   "source": [
    "# 다음 데이터를 사전으로 변경해 보세요.\n",
    "fruits = [('딸기',10),('토마토',20),('오렌지',30)]\n",
    "\n",
    "# 최종 결과 : dictionary = {'딸기',10,'토마토',20,'오렌지',30}"
   ]
  },
  {
   "cell_type": "code",
   "execution_count": null,
   "id": "4a535b80",
   "metadata": {},
   "outputs": [],
   "source": [
    "\n",
    "\n",
    "message = 'dictionary = '\n",
    "for (key,value) in list.items():\n",
    "    print(format.(message.format(key, value)))"
   ]
  },
  {
   "cell_type": "code",
   "execution_count": null,
   "id": "2dd34529",
   "metadata": {},
   "outputs": [],
   "source": [
    "print('item() 메소드는 key와 values를 한번에 보여 줍니다.')\n",
    "message = '과목 {}의 점수 : {}'\n",
    "\n",
    "for (key, value) in dictionary.items():\n",
    "    print(message.format(key, value))"
   ]
  },
  {
   "cell_type": "markdown",
   "id": "d9b9cb7a",
   "metadata": {},
   "source": [
    "<h1><font color=\"blue\">(2일차) 반복문</font></h1>"
   ]
  },
  {
   "cell_type": "markdown",
   "id": "8e9ecc5e",
   "metadata": {},
   "source": [
    "<h4><font color=\"red\">(2일차)문자열 실습.</font></h4>"
   ]
  },
  {
   "cell_type": "code",
   "execution_count": null,
   "id": "dc07d3e5",
   "metadata": {},
   "outputs": [],
   "source": [
    "# To live or die, that is the question\n",
    "# 3의 배수일 때만 대문자로 바꾸고, answkdufdmf rufgkqgkf Eo @로 연결해 보세요"
   ]
  },
  {
   "cell_type": "code",
   "execution_count": null,
   "id": "ed65982a",
   "metadata": {},
   "outputs": [],
   "source": [
    "mystring = 'To live or die that is the question'\n",
    "mystring"
   ]
  },
  {
   "cell_type": "code",
   "execution_count": null,
   "id": "dadf9eb8",
   "metadata": {},
   "outputs": [],
   "source": [
    "mylist = mystring.split()\n",
    "print(type(mylist))\n",
    "mylist"
   ]
  },
  {
   "cell_type": "code",
   "execution_count": null,
   "id": "c862ff82",
   "metadata": {},
   "outputs": [],
   "source": [
    "for idx in range(len(mylist)):\n",
    "    if idx % 3 == 0:\n",
    "        mylist[idx] = mylist[idx].upper()\n",
    "    else :\n",
    "        mylist[idx] = mylist[idx].lower()\n",
    "\n",
    "mylist"
   ]
  },
  {
   "cell_type": "code",
   "execution_count": null,
   "id": "9fda8475",
   "metadata": {},
   "outputs": [],
   "source": [
    "result = '@'.join(mylist)\n",
    "result"
   ]
  },
  {
   "cell_type": "code",
   "execution_count": null,
   "id": "099ac425",
   "metadata": {},
   "outputs": [],
   "source": [
    "for idx in range(len(mylist)):\n",
    "    if idx % 3 == 0 :\n",
    "        mylist[idx] = mylist[idx].upper()\n",
    "    elif idx % 3 == 1:\n",
    "        mylist[idx] = mylist[idx].capitalize()\n",
    "    else :\n",
    "        mylist[idx] = mylist[idx].lower()\n",
    "        \n",
    "mylist"
   ]
  },
  {
   "cell_type": "markdown",
   "id": "8d33cb36",
   "metadata": {},
   "source": [
    "<h4><font color=\"red\">List comprehension.</font></h4>"
   ]
  },
  {
   "cell_type": "code",
   "execution_count": null,
   "id": "32a527fb",
   "metadata": {},
   "outputs": [],
   "source": [
    "# 75점 이상만 추출해 보세요.\n",
    "jumsu = [75,80,60,55,90,70]\n",
    "newJumsu = [val for val in jumsu if val >= 75]\n",
    "newJumsu"
   ]
  },
  {
   "cell_type": "markdown",
   "id": "5a5ad445",
   "metadata": {},
   "source": [
    "<h4><font color=\"red\">Dict comprehension.</font></h4>"
   ]
  },
  {
   "cell_type": "code",
   "execution_count": null,
   "id": "66fab9f5",
   "metadata": {},
   "outputs": [],
   "source": [
    "# 다음을 이용하여 사전을 만들어 보세요.\n",
    "students = ['박진솔','김성경','이정상','김정우']\n",
    "jumsu = [90, 80, 70, 60]\n",
    "\n",
    "newDict = {key : value for key, value in zip(students, jumsu)}\n",
    "newDict"
   ]
  },
  {
   "cell_type": "code",
   "execution_count": null,
   "id": "8bf6afeb",
   "metadata": {},
   "outputs": [],
   "source": [
    "# 다음을 이용하여 75점 이상인 사람만 추출하여 사전을 만들어 보세요.\n",
    "students = ['박진솔','김성경','이정상','김정우']\n",
    "jumsu = [90, 80, 70, 60]\n",
    "\n",
    "newDict = {key : value for key, value in zip(students, jumsu) if value >= 75}\n",
    "newDict"
   ]
  },
  {
   "cell_type": "code",
   "execution_count": 1,
   "id": "c2dff6e4",
   "metadata": {},
   "outputs": [],
   "source": [
    "# bottle = 5로 변경후, 입금한 금액 만큼 한번에 여러잔 판매 가능 하도록 변경해 보세요."
   ]
  },
  {
   "cell_type": "code",
   "execution_count": 2,
   "id": "52203497",
   "metadata": {},
   "outputs": [
    {
     "name": "stdout",
     "output_type": "stream",
     "text": [
      " 우유 판매 가능 수량 : 5\n",
      " 단가 : 1000\n",
      "돈을 넣어 주세요 :2500\n",
      "개인 컵이 있나요? (있음(1), 없음(0)) :0\n",
      "우유 2병을 판매를 합니다.\n",
      "500을 손님에게 거슬러 줍니다.\n",
      "우유 판매 가능 수량 : 3\n",
      "돈을 넣어 주세요 :3500\n",
      "개인 컵이 있나요? (있음(1), 없음(0)) :0\n",
      "우유 3병을 판매를 합니다.\n",
      "500을 손님에게 거슬러 줍니다.\n",
      "우유가 소진 되어서 판매를 중지합니다.\n"
     ]
    }
   ],
   "source": [
    "product = '우유'\n",
    "bottle = 5\n",
    "price = 1000\n",
    "discount = 100\n",
    "\n",
    "print(' %s 판매 가능 수량 : %d' % (product, bottle))\n",
    "print(' 단가 : %d' % (price))\n",
    "\n",
    "while True:\n",
    "    money = int(input('돈을 넣어 주세요 :'))\n",
    "    \n",
    "    # 프로그래밍에서 0은 거짓 , 0이 아니면 참 입니다.\n",
    "    hasMyCup = bool(int(input('개인 컵이 있나요? (있음(1), 없음(0)) :')))\n",
    "    \n",
    "    if money == price :\n",
    "        print('%s 1병을 판매를 합니다.' % (product))\n",
    "        bottle -= 1\n",
    "        if hasMyCup :\n",
    "            change = discount\n",
    "            print('%d을 손님에게 거슬러 줍니다.' % (change))\n",
    "        \n",
    "    elif money > price :\n",
    "        mybottle = int(money/price) # 내가 구매할 수 있는 병 개수\n",
    "        \n",
    "        if mybottle > bottle :\n",
    "            mybottle = bottle\n",
    "            \n",
    "        print('%s %d병을 판매를 합니다.' % (product,mybottle))\n",
    "        bottle -= mybottle\n",
    "        \n",
    "        # 거스름돈 = 낸돈 - 구매한 병 개수 * 단가\n",
    "        change = money - mybottle * price\n",
    "        \n",
    "        if hasMyCup :\n",
    "            change += discount\n",
    "        print('%d을 손님에게 거슬러 줍니다.' % (change))\n",
    "        \n",
    "    else :\n",
    "         print('금액이 부족하여 %s를 판매할 수 없습니다.' % (product))\n",
    "            \n",
    "    # end if\n",
    "    \n",
    "    if bottle == 0:\n",
    "        print('%s가 소진 되어서 판매를 중지합니다.' % (product))\n",
    "        break\n",
    "    else :\n",
    "        print('%s 판매 가능 수량 : %d' % (product, bottle))\n",
    "# while True"
   ]
  },
  {
   "cell_type": "code",
   "execution_count": null,
   "id": "00d6b1e9",
   "metadata": {},
   "outputs": [],
   "source": [
    "# 1부터 50까지의 정수와 comprehension을 사용하여 다음을 구해 보세요.\n",
    "# 3의 배수의 총합과 3의 배수의 아닌 수의 총합을 빼시오\n",
    "mylist = [item for item in range(1,51)]\n",
    "A = [idx for idx in mylist if idx %3 == 0 ]\n",
    "B = [idx for idx in mylist if idx %3 != 0 ]\n",
    "result = sum(B)- sum(A)\n",
    "result"
   ]
  },
  {
   "cell_type": "code",
   "execution_count": null,
   "id": "19695e58",
   "metadata": {},
   "outputs": [],
   "source": [
    "''' # 외따음표 3개\n",
    "안녕하세요\n",
    "'''"
   ]
  },
  {
   "cell_type": "code",
   "execution_count": null,
   "id": "c30e9dc4",
   "metadata": {},
   "outputs": [],
   "source": []
  },
  {
   "cell_type": "code",
   "execution_count": null,
   "id": "b0872ec5",
   "metadata": {},
   "outputs": [],
   "source": []
  },
  {
   "cell_type": "code",
   "execution_count": null,
   "id": "30a998e9",
   "metadata": {},
   "outputs": [],
   "source": []
  },
  {
   "cell_type": "code",
   "execution_count": null,
   "id": "57b29df4",
   "metadata": {},
   "outputs": [],
   "source": []
  },
  {
   "cell_type": "code",
   "execution_count": null,
   "id": "7afc8f36",
   "metadata": {},
   "outputs": [],
   "source": []
  },
  {
   "cell_type": "code",
   "execution_count": null,
   "id": "36940e8f",
   "metadata": {},
   "outputs": [],
   "source": []
  },
  {
   "cell_type": "code",
   "execution_count": null,
   "id": "a8a75821",
   "metadata": {},
   "outputs": [],
   "source": []
  }
 ],
 "metadata": {
  "kernelspec": {
   "display_name": "Python 3 (ipykernel)",
   "language": "python",
   "name": "python3"
  },
  "language_info": {
   "codemirror_mode": {
    "name": "ipython",
    "version": 3
   },
   "file_extension": ".py",
   "mimetype": "text/x-python",
   "name": "python",
   "nbconvert_exporter": "python",
   "pygments_lexer": "ipython3",
   "version": "3.11.2"
  }
 },
 "nbformat": 4,
 "nbformat_minor": 5
}
