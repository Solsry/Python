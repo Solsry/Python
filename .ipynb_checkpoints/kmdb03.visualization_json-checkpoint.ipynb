{
 "cells": [
  {
   "cell_type": "markdown",
   "id": "b1b47a53",
   "metadata": {},
   "source": [
    "<h1><font color=\"blue\">영화 진흥 위원회 Open API\n",
    " </font></h1>"
   ]
  },
  {
   "cell_type": "markdown",
   "id": "0fc30f17",
   "metadata": {},
   "source": [
    "<h2><font color=\"red\">제공 서비스) 영화 목록\n",
    " \n",
    "</font></h2>"
   ]
  },
  {
   "cell_type": "code",
   "execution_count": 1,
   "id": "298339ad",
   "metadata": {},
   "outputs": [],
   "source": [
    "import pandas as pd\n",
    "dataInFolder = './../data/'"
   ]
  },
  {
   "cell_type": "code",
   "execution_count": 2,
   "id": "e60bf74b",
   "metadata": {
    "scrolled": true
   },
   "outputs": [
    {
     "data": {
      "text/html": [
       "<div>\n",
       "<style scoped>\n",
       "    .dataframe tbody tr th:only-of-type {\n",
       "        vertical-align: middle;\n",
       "    }\n",
       "\n",
       "    .dataframe tbody tr th {\n",
       "        vertical-align: top;\n",
       "    }\n",
       "\n",
       "    .dataframe thead th {\n",
       "        text-align: right;\n",
       "    }\n",
       "</style>\n",
       "<table border=\"1\" class=\"dataframe\">\n",
       "  <thead>\n",
       "    <tr style=\"text-align: right;\">\n",
       "      <th></th>\n",
       "      <th>companys</th>\n",
       "      <th>directors</th>\n",
       "      <th>genreAlt</th>\n",
       "      <th>movieCd</th>\n",
       "      <th>movieNm</th>\n",
       "      <th>movieNmEn</th>\n",
       "      <th>nationAlt</th>\n",
       "      <th>openDt</th>\n",
       "      <th>prdtStatNm</th>\n",
       "      <th>prdtYear</th>\n",
       "      <th>repGenreNm</th>\n",
       "      <th>repNationNm</th>\n",
       "      <th>typeNm</th>\n",
       "    </tr>\n",
       "  </thead>\n",
       "  <tbody>\n",
       "    <tr>\n",
       "      <th>0</th>\n",
       "      <td>[]</td>\n",
       "      <td>[{'peopleNm': '야자키 히토시'}]</td>\n",
       "      <td>드라마</td>\n",
       "      <td>20231123</td>\n",
       "      <td>사쿠라</td>\n",
       "      <td>SAKURA</td>\n",
       "      <td>일본</td>\n",
       "      <td>20230401</td>\n",
       "      <td>개봉</td>\n",
       "      <td>2020</td>\n",
       "      <td>드라마</td>\n",
       "      <td>일본</td>\n",
       "      <td>장편</td>\n",
       "    </tr>\n",
       "    <tr>\n",
       "      <th>1</th>\n",
       "      <td>[{'companyCd': '20216342', 'companyNm': '(주)옥토...</td>\n",
       "      <td>[{'peopleNm': '이병헌'}]</td>\n",
       "      <td>코미디,드라마</td>\n",
       "      <td>20198482</td>\n",
       "      <td>드림</td>\n",
       "      <td>Dream</td>\n",
       "      <td>한국</td>\n",
       "      <td>20230426</td>\n",
       "      <td>개봉예정</td>\n",
       "      <td>2020</td>\n",
       "      <td>코미디</td>\n",
       "      <td>한국</td>\n",
       "      <td>장편</td>\n",
       "    </tr>\n",
       "    <tr>\n",
       "      <th>2</th>\n",
       "      <td>[]</td>\n",
       "      <td>[{'peopleNm': '이세원'}]</td>\n",
       "      <td>드라마</td>\n",
       "      <td>20206184</td>\n",
       "      <td>민족</td>\n",
       "      <td>Diaspora</td>\n",
       "      <td>한국</td>\n",
       "      <td>20230301</td>\n",
       "      <td>개봉</td>\n",
       "      <td>2020</td>\n",
       "      <td>드라마</td>\n",
       "      <td>한국</td>\n",
       "      <td>장편</td>\n",
       "    </tr>\n",
       "    <tr>\n",
       "      <th>3</th>\n",
       "      <td>[{'companyCd': '20239677', 'companyNm': '(주)영화...</td>\n",
       "      <td>[{'peopleNm': '박성광'}]</td>\n",
       "      <td>코미디,액션</td>\n",
       "      <td>20210544</td>\n",
       "      <td>웅남이</td>\n",
       "      <td>woongnami</td>\n",
       "      <td>한국</td>\n",
       "      <td>20230322</td>\n",
       "      <td>개봉</td>\n",
       "      <td>2023</td>\n",
       "      <td>코미디</td>\n",
       "      <td>한국</td>\n",
       "      <td>장편</td>\n",
       "    </tr>\n",
       "    <tr>\n",
       "      <th>4</th>\n",
       "      <td>[{'companyCd': '20100332', 'companyNm': '(주)영화...</td>\n",
       "      <td>[{'peopleNm': '홍상수'}]</td>\n",
       "      <td>드라마</td>\n",
       "      <td>20230777</td>\n",
       "      <td>물안에서</td>\n",
       "      <td>in water</td>\n",
       "      <td>한국</td>\n",
       "      <td>20230412</td>\n",
       "      <td>개봉예정</td>\n",
       "      <td>2023</td>\n",
       "      <td>드라마</td>\n",
       "      <td>한국</td>\n",
       "      <td>장편</td>\n",
       "    </tr>\n",
       "  </tbody>\n",
       "</table>\n",
       "</div>"
      ],
      "text/plain": [
       "                                            companys  \\\n",
       "0                                                 []   \n",
       "1  [{'companyCd': '20216342', 'companyNm': '(주)옥토...   \n",
       "2                                                 []   \n",
       "3  [{'companyCd': '20239677', 'companyNm': '(주)영화...   \n",
       "4  [{'companyCd': '20100332', 'companyNm': '(주)영화...   \n",
       "\n",
       "                   directors genreAlt   movieCd movieNm  movieNmEn nationAlt  \\\n",
       "0  [{'peopleNm': '야자키 히토시'}]      드라마  20231123     사쿠라     SAKURA        일본   \n",
       "1      [{'peopleNm': '이병헌'}]  코미디,드라마  20198482      드림      Dream        한국   \n",
       "2      [{'peopleNm': '이세원'}]      드라마  20206184     민족    Diaspora        한국   \n",
       "3      [{'peopleNm': '박성광'}]   코미디,액션  20210544     웅남이  woongnami        한국   \n",
       "4      [{'peopleNm': '홍상수'}]      드라마  20230777    물안에서   in water        한국   \n",
       "\n",
       "     openDt prdtStatNm  prdtYear repGenreNm repNationNm typeNm  \n",
       "0  20230401         개봉      2020        드라마          일본     장편  \n",
       "1  20230426       개봉예정      2020        코미디          한국     장편  \n",
       "2  20230301         개봉      2020        드라마          한국     장편  \n",
       "3  20230322         개봉      2023        코미디          한국     장편  \n",
       "4  20230412       개봉예정      2023        드라마          한국     장편  "
      ]
     },
     "execution_count": 2,
     "metadata": {},
     "output_type": "execute_result"
    }
   ],
   "source": [
    "kmdb = pd.read_json(dataInFolder + 'kmdb_get_movie_list(2022~2023).json')\n",
    "kmdb.head()"
   ]
  },
  {
   "cell_type": "code",
   "execution_count": 3,
   "id": "3a897637",
   "metadata": {},
   "outputs": [
    {
     "data": {
      "text/plain": [
       "Index(['companys', 'directors', 'genreAlt', 'movieCd', 'movieNm', 'movieNmEn',\n",
       "       'nationAlt', 'openDt', 'prdtStatNm', 'prdtYear', 'repGenreNm',\n",
       "       'repNationNm', 'typeNm'],\n",
       "      dtype='object')"
      ]
     },
     "execution_count": 3,
     "metadata": {},
     "output_type": "execute_result"
    }
   ],
   "source": [
    "kmdb.columns"
   ]
  },
  {
   "cell_type": "code",
   "execution_count": 4,
   "id": "e989c9b9",
   "metadata": {},
   "outputs": [
    {
     "data": {
      "text/html": [
       "<div>\n",
       "<style scoped>\n",
       "    .dataframe tbody tr th:only-of-type {\n",
       "        vertical-align: middle;\n",
       "    }\n",
       "\n",
       "    .dataframe tbody tr th {\n",
       "        vertical-align: top;\n",
       "    }\n",
       "\n",
       "    .dataframe thead th {\n",
       "        text-align: right;\n",
       "    }\n",
       "</style>\n",
       "<table border=\"1\" class=\"dataframe\">\n",
       "  <thead>\n",
       "    <tr style=\"text-align: right;\">\n",
       "      <th></th>\n",
       "      <th>제작사</th>\n",
       "      <th>영화감독</th>\n",
       "      <th>영화장르(전체)</th>\n",
       "      <th>영화코드</th>\n",
       "      <th>영화명(국문)</th>\n",
       "      <th>영화명(영문)</th>\n",
       "      <th>제작국가(전체)</th>\n",
       "      <th>개봉일</th>\n",
       "      <th>제작상태</th>\n",
       "      <th>제작연도</th>\n",
       "      <th>대표 장르명</th>\n",
       "      <th>대표 제작국가명</th>\n",
       "      <th>영화유형</th>\n",
       "    </tr>\n",
       "  </thead>\n",
       "  <tbody>\n",
       "    <tr>\n",
       "      <th>0</th>\n",
       "      <td>[]</td>\n",
       "      <td>[{'peopleNm': '야자키 히토시'}]</td>\n",
       "      <td>드라마</td>\n",
       "      <td>20231123</td>\n",
       "      <td>사쿠라</td>\n",
       "      <td>SAKURA</td>\n",
       "      <td>일본</td>\n",
       "      <td>20230401</td>\n",
       "      <td>개봉</td>\n",
       "      <td>2020</td>\n",
       "      <td>드라마</td>\n",
       "      <td>일본</td>\n",
       "      <td>장편</td>\n",
       "    </tr>\n",
       "    <tr>\n",
       "      <th>1</th>\n",
       "      <td>[{'companyCd': '20216342', 'companyNm': '(주)옥토...</td>\n",
       "      <td>[{'peopleNm': '이병헌'}]</td>\n",
       "      <td>코미디,드라마</td>\n",
       "      <td>20198482</td>\n",
       "      <td>드림</td>\n",
       "      <td>Dream</td>\n",
       "      <td>한국</td>\n",
       "      <td>20230426</td>\n",
       "      <td>개봉예정</td>\n",
       "      <td>2020</td>\n",
       "      <td>코미디</td>\n",
       "      <td>한국</td>\n",
       "      <td>장편</td>\n",
       "    </tr>\n",
       "    <tr>\n",
       "      <th>2</th>\n",
       "      <td>[]</td>\n",
       "      <td>[{'peopleNm': '이세원'}]</td>\n",
       "      <td>드라마</td>\n",
       "      <td>20206184</td>\n",
       "      <td>민족</td>\n",
       "      <td>Diaspora</td>\n",
       "      <td>한국</td>\n",
       "      <td>20230301</td>\n",
       "      <td>개봉</td>\n",
       "      <td>2020</td>\n",
       "      <td>드라마</td>\n",
       "      <td>한국</td>\n",
       "      <td>장편</td>\n",
       "    </tr>\n",
       "    <tr>\n",
       "      <th>3</th>\n",
       "      <td>[{'companyCd': '20239677', 'companyNm': '(주)영화...</td>\n",
       "      <td>[{'peopleNm': '박성광'}]</td>\n",
       "      <td>코미디,액션</td>\n",
       "      <td>20210544</td>\n",
       "      <td>웅남이</td>\n",
       "      <td>woongnami</td>\n",
       "      <td>한국</td>\n",
       "      <td>20230322</td>\n",
       "      <td>개봉</td>\n",
       "      <td>2023</td>\n",
       "      <td>코미디</td>\n",
       "      <td>한국</td>\n",
       "      <td>장편</td>\n",
       "    </tr>\n",
       "    <tr>\n",
       "      <th>4</th>\n",
       "      <td>[{'companyCd': '20100332', 'companyNm': '(주)영화...</td>\n",
       "      <td>[{'peopleNm': '홍상수'}]</td>\n",
       "      <td>드라마</td>\n",
       "      <td>20230777</td>\n",
       "      <td>물안에서</td>\n",
       "      <td>in water</td>\n",
       "      <td>한국</td>\n",
       "      <td>20230412</td>\n",
       "      <td>개봉예정</td>\n",
       "      <td>2023</td>\n",
       "      <td>드라마</td>\n",
       "      <td>한국</td>\n",
       "      <td>장편</td>\n",
       "    </tr>\n",
       "  </tbody>\n",
       "</table>\n",
       "</div>"
      ],
      "text/plain": [
       "                                                 제작사  \\\n",
       "0                                                 []   \n",
       "1  [{'companyCd': '20216342', 'companyNm': '(주)옥토...   \n",
       "2                                                 []   \n",
       "3  [{'companyCd': '20239677', 'companyNm': '(주)영화...   \n",
       "4  [{'companyCd': '20100332', 'companyNm': '(주)영화...   \n",
       "\n",
       "                        영화감독 영화장르(전체)      영화코드 영화명(국문)    영화명(영문) 제작국가(전체)  \\\n",
       "0  [{'peopleNm': '야자키 히토시'}]      드라마  20231123     사쿠라     SAKURA       일본   \n",
       "1      [{'peopleNm': '이병헌'}]  코미디,드라마  20198482      드림      Dream       한국   \n",
       "2      [{'peopleNm': '이세원'}]      드라마  20206184     민족    Diaspora       한국   \n",
       "3      [{'peopleNm': '박성광'}]   코미디,액션  20210544     웅남이  woongnami       한국   \n",
       "4      [{'peopleNm': '홍상수'}]      드라마  20230777    물안에서   in water       한국   \n",
       "\n",
       "        개봉일  제작상태  제작연도 대표 장르명 대표 제작국가명 영화유형  \n",
       "0  20230401    개봉  2020    드라마       일본   장편  \n",
       "1  20230426  개봉예정  2020    코미디       한국   장편  \n",
       "2  20230301    개봉  2020    드라마       한국   장편  \n",
       "3  20230322    개봉  2023    코미디       한국   장편  \n",
       "4  20230412  개봉예정  2023    드라마       한국   장편  "
      ]
     },
     "execution_count": 4,
     "metadata": {},
     "output_type": "execute_result"
    }
   ],
   "source": [
    "column_dict = {'movieCd':'영화코드', \n",
    "'movieNm':'영화명(국문)', \n",
    "'movieNmEn':'영화명(영문)', \n",
    "'prdtYear':'제작연도', \n",
    "'openDt':'개봉일', \n",
    "'typeNm':'영화유형', \n",
    "'prdtStatNm':'제작상태', \n",
    "'nationAlt':'제작국가(전체)', \n",
    "'genreAlt':'영화장르(전체)', \n",
    "'repNationNm':'대표 제작국가명', \n",
    "'repGenreNm':'대표 장르명', \n",
    "'directors':'영화감독', \n",
    "'peopleNm':'영화감독명', \n",
    "'companys':'제작사', \n",
    "'companyCd':'제작사 코드', \n",
    "'companyNm':'제작사명', }\n",
    "kmdb = kmdb.rename(columns=column_dict)\n",
    "kmdb.head()"
   ]
  },
  {
   "cell_type": "code",
   "execution_count": 5,
   "id": "7c259a09",
   "metadata": {
    "scrolled": false
   },
   "outputs": [
    {
     "data": {
      "text/plain": [
       "Index(['제작사', '영화감독', '영화장르(전체)', '영화코드', '영화명(국문)', '영화명(영문)', '제작국가(전체)',\n",
       "       '개봉일', '제작상태', '제작연도', '대표 장르명', '대표 제작국가명', '영화유형'],\n",
       "      dtype='object')"
      ]
     },
     "execution_count": 5,
     "metadata": {},
     "output_type": "execute_result"
    }
   ],
   "source": [
    "kmdb.columns"
   ]
  },
  {
   "cell_type": "markdown",
   "id": "9c1ca29c",
   "metadata": {},
   "source": [
    "<h5><font color=\"green\">파생 컬럼 및 순서 변경\n",
    " \n",
    "</font></h5>"
   ]
  },
  {
   "cell_type": "code",
   "execution_count": 6,
   "id": "217c2bf4",
   "metadata": {
    "scrolled": true
   },
   "outputs": [
    {
     "data": {
      "text/html": [
       "<div>\n",
       "<style scoped>\n",
       "    .dataframe tbody tr th:only-of-type {\n",
       "        vertical-align: middle;\n",
       "    }\n",
       "\n",
       "    .dataframe tbody tr th {\n",
       "        vertical-align: top;\n",
       "    }\n",
       "\n",
       "    .dataframe thead th {\n",
       "        text-align: right;\n",
       "    }\n",
       "</style>\n",
       "<table border=\"1\" class=\"dataframe\">\n",
       "  <thead>\n",
       "    <tr style=\"text-align: right;\">\n",
       "      <th></th>\n",
       "      <th>제작사</th>\n",
       "      <th>영화감독</th>\n",
       "      <th>영화장르(전체)</th>\n",
       "      <th>영화코드</th>\n",
       "      <th>영화명(국문)</th>\n",
       "      <th>영화명(영문)</th>\n",
       "      <th>제작국가(전체)</th>\n",
       "      <th>개봉일</th>\n",
       "      <th>제작상태</th>\n",
       "      <th>제작연도</th>\n",
       "      <th>대표 장르명</th>\n",
       "      <th>대표 제작국가명</th>\n",
       "      <th>영화유형</th>\n",
       "      <th>개봉년도</th>\n",
       "      <th>개봉년월</th>\n",
       "    </tr>\n",
       "  </thead>\n",
       "  <tbody>\n",
       "    <tr>\n",
       "      <th>0</th>\n",
       "      <td>[]</td>\n",
       "      <td>[{'peopleNm': '야자키 히토시'}]</td>\n",
       "      <td>드라마</td>\n",
       "      <td>20231123</td>\n",
       "      <td>사쿠라</td>\n",
       "      <td>SAKURA</td>\n",
       "      <td>일본</td>\n",
       "      <td>20230401</td>\n",
       "      <td>개봉</td>\n",
       "      <td>2020</td>\n",
       "      <td>드라마</td>\n",
       "      <td>일본</td>\n",
       "      <td>장편</td>\n",
       "      <td>2023</td>\n",
       "      <td>202304</td>\n",
       "    </tr>\n",
       "    <tr>\n",
       "      <th>1</th>\n",
       "      <td>[{'companyCd': '20216342', 'companyNm': '(주)옥토...</td>\n",
       "      <td>[{'peopleNm': '이병헌'}]</td>\n",
       "      <td>코미디,드라마</td>\n",
       "      <td>20198482</td>\n",
       "      <td>드림</td>\n",
       "      <td>Dream</td>\n",
       "      <td>한국</td>\n",
       "      <td>20230426</td>\n",
       "      <td>개봉예정</td>\n",
       "      <td>2020</td>\n",
       "      <td>코미디</td>\n",
       "      <td>한국</td>\n",
       "      <td>장편</td>\n",
       "      <td>2023</td>\n",
       "      <td>202304</td>\n",
       "    </tr>\n",
       "    <tr>\n",
       "      <th>2</th>\n",
       "      <td>[]</td>\n",
       "      <td>[{'peopleNm': '이세원'}]</td>\n",
       "      <td>드라마</td>\n",
       "      <td>20206184</td>\n",
       "      <td>민족</td>\n",
       "      <td>Diaspora</td>\n",
       "      <td>한국</td>\n",
       "      <td>20230301</td>\n",
       "      <td>개봉</td>\n",
       "      <td>2020</td>\n",
       "      <td>드라마</td>\n",
       "      <td>한국</td>\n",
       "      <td>장편</td>\n",
       "      <td>2023</td>\n",
       "      <td>202303</td>\n",
       "    </tr>\n",
       "    <tr>\n",
       "      <th>3</th>\n",
       "      <td>[{'companyCd': '20239677', 'companyNm': '(주)영화...</td>\n",
       "      <td>[{'peopleNm': '박성광'}]</td>\n",
       "      <td>코미디,액션</td>\n",
       "      <td>20210544</td>\n",
       "      <td>웅남이</td>\n",
       "      <td>woongnami</td>\n",
       "      <td>한국</td>\n",
       "      <td>20230322</td>\n",
       "      <td>개봉</td>\n",
       "      <td>2023</td>\n",
       "      <td>코미디</td>\n",
       "      <td>한국</td>\n",
       "      <td>장편</td>\n",
       "      <td>2023</td>\n",
       "      <td>202303</td>\n",
       "    </tr>\n",
       "    <tr>\n",
       "      <th>4</th>\n",
       "      <td>[{'companyCd': '20100332', 'companyNm': '(주)영화...</td>\n",
       "      <td>[{'peopleNm': '홍상수'}]</td>\n",
       "      <td>드라마</td>\n",
       "      <td>20230777</td>\n",
       "      <td>물안에서</td>\n",
       "      <td>in water</td>\n",
       "      <td>한국</td>\n",
       "      <td>20230412</td>\n",
       "      <td>개봉예정</td>\n",
       "      <td>2023</td>\n",
       "      <td>드라마</td>\n",
       "      <td>한국</td>\n",
       "      <td>장편</td>\n",
       "      <td>2023</td>\n",
       "      <td>202304</td>\n",
       "    </tr>\n",
       "  </tbody>\n",
       "</table>\n",
       "</div>"
      ],
      "text/plain": [
       "                                                 제작사  \\\n",
       "0                                                 []   \n",
       "1  [{'companyCd': '20216342', 'companyNm': '(주)옥토...   \n",
       "2                                                 []   \n",
       "3  [{'companyCd': '20239677', 'companyNm': '(주)영화...   \n",
       "4  [{'companyCd': '20100332', 'companyNm': '(주)영화...   \n",
       "\n",
       "                        영화감독 영화장르(전체)      영화코드 영화명(국문)    영화명(영문) 제작국가(전체)  \\\n",
       "0  [{'peopleNm': '야자키 히토시'}]      드라마  20231123     사쿠라     SAKURA       일본   \n",
       "1      [{'peopleNm': '이병헌'}]  코미디,드라마  20198482      드림      Dream       한국   \n",
       "2      [{'peopleNm': '이세원'}]      드라마  20206184     민족    Diaspora       한국   \n",
       "3      [{'peopleNm': '박성광'}]   코미디,액션  20210544     웅남이  woongnami       한국   \n",
       "4      [{'peopleNm': '홍상수'}]      드라마  20230777    물안에서   in water       한국   \n",
       "\n",
       "        개봉일  제작상태  제작연도 대표 장르명 대표 제작국가명 영화유형  개봉년도    개봉년월  \n",
       "0  20230401    개봉  2020    드라마       일본   장편  2023  202304  \n",
       "1  20230426  개봉예정  2020    코미디       한국   장편  2023  202304  \n",
       "2  20230301    개봉  2020    드라마       한국   장편  2023  202303  \n",
       "3  20230322    개봉  2023    코미디       한국   장편  2023  202303  \n",
       "4  20230412  개봉예정  2023    드라마       한국   장편  2023  202304  "
      ]
     },
     "execution_count": 6,
     "metadata": {},
     "output_type": "execute_result"
    }
   ],
   "source": [
    "openYear = [str(item)[0:4] for item in kmdb['개봉일'].values]\n",
    "kmdb['개봉년도'] = openYear\n",
    "kmdb['개봉년월'] =  [str(item)[0:6] for item in kmdb['개봉일'].values]\n",
    "kmdb.head()"
   ]
  },
  {
   "cell_type": "code",
   "execution_count": 7,
   "id": "973271a2",
   "metadata": {
    "scrolled": true
   },
   "outputs": [
    {
     "data": {
      "text/plain": [
       "False"
      ]
     },
     "execution_count": 7,
     "metadata": {},
     "output_type": "execute_result"
    }
   ],
   "source": [
    "column01 = ['영화코드', '영화명(국문)', '영화명(영문)', '제작사', '영화감독', '영화장르(전체)', '제작국가(전체)',\n",
    "       '개봉일', '제작상태', '제작연도', '대표 장르명', '대표 제작국가명', '영화유형']\n",
    "myordering = column01\n",
    "myordering\n",
    "\n",
    "# 누락된 컬럼이 없는지 확인하기\n",
    "result = set(kmdb.columns) == set(myordering)\n",
    "result"
   ]
  },
  {
   "cell_type": "code",
   "execution_count": 33,
   "id": "d5437ca9",
   "metadata": {
    "scrolled": false
   },
   "outputs": [
    {
     "data": {
      "text/html": [
       "<div>\n",
       "<style scoped>\n",
       "    .dataframe tbody tr th:only-of-type {\n",
       "        vertical-align: middle;\n",
       "    }\n",
       "\n",
       "    .dataframe tbody tr th {\n",
       "        vertical-align: top;\n",
       "    }\n",
       "\n",
       "    .dataframe thead th {\n",
       "        text-align: right;\n",
       "    }\n",
       "</style>\n",
       "<table border=\"1\" class=\"dataframe\">\n",
       "  <thead>\n",
       "    <tr style=\"text-align: right;\">\n",
       "      <th></th>\n",
       "      <th>영화코드</th>\n",
       "      <th>영화명(국문)</th>\n",
       "      <th>영화명(영문)</th>\n",
       "      <th>제작사</th>\n",
       "      <th>영화감독</th>\n",
       "      <th>영화장르(전체)</th>\n",
       "      <th>제작국가(전체)</th>\n",
       "      <th>개봉일</th>\n",
       "      <th>제작상태</th>\n",
       "      <th>제작연도</th>\n",
       "      <th>대표 장르명</th>\n",
       "      <th>대표 제작국가명</th>\n",
       "      <th>영화유형</th>\n",
       "    </tr>\n",
       "  </thead>\n",
       "  <tbody>\n",
       "    <tr>\n",
       "      <th>0</th>\n",
       "      <td>20231123</td>\n",
       "      <td>사쿠라</td>\n",
       "      <td>SAKURA</td>\n",
       "      <td>[]</td>\n",
       "      <td>[{'peopleNm': '야자키 히토시'}]</td>\n",
       "      <td>드라마</td>\n",
       "      <td>일본</td>\n",
       "      <td>20230401</td>\n",
       "      <td>개봉</td>\n",
       "      <td>2020</td>\n",
       "      <td>드라마</td>\n",
       "      <td>일본</td>\n",
       "      <td>장편</td>\n",
       "    </tr>\n",
       "    <tr>\n",
       "      <th>1</th>\n",
       "      <td>20198482</td>\n",
       "      <td>드림</td>\n",
       "      <td>Dream</td>\n",
       "      <td>[{'companyCd': '20216342', 'companyNm': '(주)옥토...</td>\n",
       "      <td>[{'peopleNm': '이병헌'}]</td>\n",
       "      <td>코미디,드라마</td>\n",
       "      <td>한국</td>\n",
       "      <td>20230426</td>\n",
       "      <td>개봉예정</td>\n",
       "      <td>2020</td>\n",
       "      <td>코미디</td>\n",
       "      <td>한국</td>\n",
       "      <td>장편</td>\n",
       "    </tr>\n",
       "    <tr>\n",
       "      <th>2</th>\n",
       "      <td>20206184</td>\n",
       "      <td>민족</td>\n",
       "      <td>Diaspora</td>\n",
       "      <td>[]</td>\n",
       "      <td>[{'peopleNm': '이세원'}]</td>\n",
       "      <td>드라마</td>\n",
       "      <td>한국</td>\n",
       "      <td>20230301</td>\n",
       "      <td>개봉</td>\n",
       "      <td>2020</td>\n",
       "      <td>드라마</td>\n",
       "      <td>한국</td>\n",
       "      <td>장편</td>\n",
       "    </tr>\n",
       "    <tr>\n",
       "      <th>3</th>\n",
       "      <td>20210544</td>\n",
       "      <td>웅남이</td>\n",
       "      <td>woongnami</td>\n",
       "      <td>[{'companyCd': '20239677', 'companyNm': '(주)영화...</td>\n",
       "      <td>[{'peopleNm': '박성광'}]</td>\n",
       "      <td>코미디,액션</td>\n",
       "      <td>한국</td>\n",
       "      <td>20230322</td>\n",
       "      <td>개봉</td>\n",
       "      <td>2023</td>\n",
       "      <td>코미디</td>\n",
       "      <td>한국</td>\n",
       "      <td>장편</td>\n",
       "    </tr>\n",
       "    <tr>\n",
       "      <th>4</th>\n",
       "      <td>20230777</td>\n",
       "      <td>물안에서</td>\n",
       "      <td>in water</td>\n",
       "      <td>[{'companyCd': '20100332', 'companyNm': '(주)영화...</td>\n",
       "      <td>[{'peopleNm': '홍상수'}]</td>\n",
       "      <td>드라마</td>\n",
       "      <td>한국</td>\n",
       "      <td>20230412</td>\n",
       "      <td>개봉예정</td>\n",
       "      <td>2023</td>\n",
       "      <td>드라마</td>\n",
       "      <td>한국</td>\n",
       "      <td>장편</td>\n",
       "    </tr>\n",
       "  </tbody>\n",
       "</table>\n",
       "</div>"
      ],
      "text/plain": [
       "       영화코드 영화명(국문)    영화명(영문)  \\\n",
       "0  20231123     사쿠라     SAKURA   \n",
       "1  20198482      드림      Dream   \n",
       "2  20206184     민족    Diaspora   \n",
       "3  20210544     웅남이  woongnami   \n",
       "4  20230777    물안에서   in water   \n",
       "\n",
       "                                                 제작사  \\\n",
       "0                                                 []   \n",
       "1  [{'companyCd': '20216342', 'companyNm': '(주)옥토...   \n",
       "2                                                 []   \n",
       "3  [{'companyCd': '20239677', 'companyNm': '(주)영화...   \n",
       "4  [{'companyCd': '20100332', 'companyNm': '(주)영화...   \n",
       "\n",
       "                        영화감독 영화장르(전체) 제작국가(전체)       개봉일  제작상태  제작연도 대표 장르명  \\\n",
       "0  [{'peopleNm': '야자키 히토시'}]      드라마       일본  20230401    개봉  2020    드라마   \n",
       "1      [{'peopleNm': '이병헌'}]  코미디,드라마       한국  20230426  개봉예정  2020    코미디   \n",
       "2      [{'peopleNm': '이세원'}]      드라마       한국  20230301    개봉  2020    드라마   \n",
       "3      [{'peopleNm': '박성광'}]   코미디,액션       한국  20230322    개봉  2023    코미디   \n",
       "4      [{'peopleNm': '홍상수'}]      드라마       한국  20230412  개봉예정  2023    드라마   \n",
       "\n",
       "  대표 제작국가명 영화유형  \n",
       "0       일본   장편  \n",
       "1       한국   장편  \n",
       "2       한국   장편  \n",
       "3       한국   장편  \n",
       "4       한국   장편  "
      ]
     },
     "execution_count": 33,
     "metadata": {},
     "output_type": "execute_result"
    }
   ],
   "source": [
    "kmdb = kmdb[myordering]\n",
    "kmdb.head()"
   ]
  },
  {
   "cell_type": "markdown",
   "id": "f430c0be",
   "metadata": {},
   "source": [
    "<h5><font color=\"green\">파이 그래프\n",
    "</font></h5>"
   ]
  },
  {
   "cell_type": "code",
   "execution_count": 34,
   "id": "fae7d95e",
   "metadata": {},
   "outputs": [
    {
     "data": {
      "text/plain": [
       "array(['드라마', '코미디', '성인물(에로)', '판타지', '액션', '공포(호러)', '전쟁', '다큐멘터리',\n",
       "       '가족', '멜로/로맨스', '애니메이션', '스릴러', '범죄', '공연', '기타', '미스터리', '뮤지컬',\n",
       "       'SF', '어드벤처', '사극', '서부극(웨스턴)'], dtype=object)"
      ]
     },
     "execution_count": 34,
     "metadata": {},
     "output_type": "execute_result"
    }
   ],
   "source": [
    "kmdb['대표 장르명'].unique()"
   ]
  },
  {
   "cell_type": "code",
   "execution_count": 36,
   "id": "ae91bd65",
   "metadata": {},
   "outputs": [
    {
     "data": {
      "text/plain": [
       "array(['드라마', '코미디', '판타지', '액션'], dtype=object)"
      ]
     },
     "execution_count": 36,
     "metadata": {},
     "output_type": "execute_result"
    }
   ],
   "source": [
    "genre_filter=['드라마','코미디','판타지','액션']\n",
    "genre_result = kmdb[kmdb['대표 장르명'].isin(genre_filter)]\n",
    "genre_result['대표 장르명'].unique()"
   ]
  },
  {
   "cell_type": "code",
   "execution_count": 42,
   "id": "fd6e8466",
   "metadata": {
    "scrolled": false
   },
   "outputs": [
    {
     "data": {
      "text/html": [
       "<div>\n",
       "<style scoped>\n",
       "    .dataframe tbody tr th:only-of-type {\n",
       "        vertical-align: middle;\n",
       "    }\n",
       "\n",
       "    .dataframe tbody tr th {\n",
       "        vertical-align: top;\n",
       "    }\n",
       "\n",
       "    .dataframe thead th {\n",
       "        text-align: right;\n",
       "    }\n",
       "</style>\n",
       "<table border=\"1\" class=\"dataframe\">\n",
       "  <thead>\n",
       "    <tr style=\"text-align: right;\">\n",
       "      <th></th>\n",
       "      <th>대표 장르명</th>\n",
       "    </tr>\n",
       "  </thead>\n",
       "  <tbody>\n",
       "    <tr>\n",
       "      <th>드라마</th>\n",
       "      <td>258</td>\n",
       "    </tr>\n",
       "    <tr>\n",
       "      <th>액션</th>\n",
       "      <td>175</td>\n",
       "    </tr>\n",
       "    <tr>\n",
       "      <th>코미디</th>\n",
       "      <td>40</td>\n",
       "    </tr>\n",
       "    <tr>\n",
       "      <th>판타지</th>\n",
       "      <td>12</td>\n",
       "    </tr>\n",
       "  </tbody>\n",
       "</table>\n",
       "</div>"
      ],
      "text/plain": [
       "     대표 장르명\n",
       "드라마     258\n",
       "액션      175\n",
       "코미디      40\n",
       "판타지      12"
      ]
     },
     "execution_count": 42,
     "metadata": {},
     "output_type": "execute_result"
    }
   ],
   "source": [
    "chartdata = genre_result['대표 장르명'].value_counts()\n",
    "chartdata.to_frame()"
   ]
  },
  {
   "cell_type": "code",
   "execution_count": 45,
   "id": "30c6653b",
   "metadata": {},
   "outputs": [
    {
     "data": {
      "image/png": "[encoded data removed]",
      "text/plain": [
       "<Figure size 600x600 with 1 Axes>"
      ]
     },
     "metadata": {},
     "output_type": "display_data"
    }
   ],
   "source": [
    "import matplotlib.pyplot as plt\n",
    "import pandas as pd\n",
    "from matplotlib import font_manager, rc\n",
    "\n",
    "# Set Korean font\n",
    "font_path = 'C:/Windows/Fonts/malgun.ttf'  # Replace with your font file path\n",
    "font_name = font_manager.FontProperties(fname=font_path).get_name()\n",
    "rc('font', family=font_name)\n",
    "\n",
    "# Filter and count genres\n",
    "genre_filter=['드라마','코미디','판타지','액션']\n",
    "genre_result = kmdb[kmdb['대표 장르명'].isin(genre_filter)]\n",
    "chartdata = genre_result['대표 장르명'].value_counts()\n",
    "\n",
    "# Create pie chart\n",
    "colors = ['#F7BDC4', '#BDC3C7', '#C3B3E3', '#A9DF9E']\n",
    "explode = [0.05] * len(chartdata)\n",
    "chartdata.plot(kind='pie', y='대표 장르명', autopct='%1.1f%%', \n",
    "               startangle=90, figsize=(6, 6), colors=colors, \n",
    "               explode=explode, textprops={'fontsize': 14, 'color': 'black'})\n",
    "plt.title('대표 장르명 파이 그래프', fontsize=16)\n",
    "\n",
    "plt.show()"
   ]
  },
  {
   "cell_type": "code",
   "execution_count": 46,
   "id": "f6be9f93",
   "metadata": {},
   "outputs": [
    {
     "data": {
      "text/plain": [
       "array(['드라마', '코미디', '스릴러', '범죄', '뮤지컬'], dtype=object)"
      ]
     },
     "execution_count": 46,
     "metadata": {},
     "output_type": "execute_result"
    }
   ],
   "source": [
    "genre_filter=['드라마','범죄','코미디','스릴러','뮤지컬']\n",
    "genre_result02 = kmdb[kmdb['대표 장르명'].isin(genre_filter)]\n",
    "genre_result02['대표 장르명'].unique()"
   ]
  },
  {
   "cell_type": "code",
   "execution_count": 48,
   "id": "9c1829ed",
   "metadata": {
    "scrolled": true
   },
   "outputs": [
    {
     "data": {
      "text/html": [
       "<div>\n",
       "<style scoped>\n",
       "    .dataframe tbody tr th:only-of-type {\n",
       "        vertical-align: middle;\n",
       "    }\n",
       "\n",
       "    .dataframe tbody tr th {\n",
       "        vertical-align: top;\n",
       "    }\n",
       "\n",
       "    .dataframe thead th {\n",
       "        text-align: right;\n",
       "    }\n",
       "</style>\n",
       "<table border=\"1\" class=\"dataframe\">\n",
       "  <thead>\n",
       "    <tr style=\"text-align: right;\">\n",
       "      <th></th>\n",
       "      <th>대표 장르명</th>\n",
       "    </tr>\n",
       "  </thead>\n",
       "  <tbody>\n",
       "    <tr>\n",
       "      <th>드라마</th>\n",
       "      <td>258</td>\n",
       "    </tr>\n",
       "    <tr>\n",
       "      <th>스릴러</th>\n",
       "      <td>41</td>\n",
       "    </tr>\n",
       "    <tr>\n",
       "      <th>코미디</th>\n",
       "      <td>40</td>\n",
       "    </tr>\n",
       "    <tr>\n",
       "      <th>범죄</th>\n",
       "      <td>39</td>\n",
       "    </tr>\n",
       "    <tr>\n",
       "      <th>뮤지컬</th>\n",
       "      <td>15</td>\n",
       "    </tr>\n",
       "  </tbody>\n",
       "</table>\n",
       "</div>"
      ],
      "text/plain": [
       "     대표 장르명\n",
       "드라마     258\n",
       "스릴러      41\n",
       "코미디      40\n",
       "범죄       39\n",
       "뮤지컬      15"
      ]
     },
     "execution_count": 48,
     "metadata": {},
     "output_type": "execute_result"
    }
   ],
   "source": [
    "chartdata = genre_result02['대표 장르명'].value_counts()\n",
    "chartdata.to_frame()"
   ]
  },
  {
   "cell_type": "code",
   "execution_count": 49,
   "id": "cdd5fec1",
   "metadata": {},
   "outputs": [
    {
     "data": {
      "image/png": "[encoded data removed]",
      "text/plain": [
       "<Figure size 640x480 with 1 Axes>"
      ]
     },
     "metadata": {},
     "output_type": "display_data"
    }
   ],
   "source": [
    "import matplotlib.pyplot as plt\n",
    "import pandas as pd\n",
    "from matplotlib import font_manager, rc\n",
    "\n",
    "# Set Korean font\n",
    "font_path = 'C:/Windows/Fonts/malgun.ttf'  # Replace with your font file path\n",
    "font_name = font_manager.FontProperties(fname=font_path).get_name()\n",
    "rc('font', family=font_name)\n",
    "\n",
    "# Filter and count genres\n",
    "genre_filter=['드라마','범죄','코미디','스릴러','뮤지컬']\n",
    "genre_result02 = kmdb[kmdb['대표 장르명'].isin(genre_filter)]\n",
    "chartdata = genre_result02['대표 장르명'].value_counts()\n",
    "\n",
    "# Create bar chart\n",
    "plt.bar(chartdata.index, chartdata.values, color='#2E86C1')\n",
    "plt.title('장르 분포', fontsize=16)\n",
    "plt.xlabel('장르', fontsize=14)\n",
    "plt.ylabel('작품 수', fontsize=14)\n",
    "plt.xticks(fontsize=12, rotation=45)\n",
    "plt.yticks(fontsize=12)\n",
    "\n",
    "plt.show()"
   ]
  },
  {
   "cell_type": "code",
   "execution_count": 50,
   "id": "6e751f48",
   "metadata": {
    "scrolled": true
   },
   "outputs": [
    {
     "data": {
      "text/plain": [
       "array(['일본', '한국', '중국', '영국', '미국', '프랑스', '캐나다', '이스라엘', '독일', '스페인',\n",
       "       '덴마크', '벨기에', '대만', '홍콩', '오스트리아 ', '기타', '러시아', '호주', '핀란드',\n",
       "       '노르웨이', '스위스', '아일랜드', '네덜란드', '아이슬란드', '헝가리', '이집트', '브라질',\n",
       "       '인도네시아', '베트남', '에스토니아', '필리핀', '우크라이나', '페루', '카자흐스탄', '루마니아',\n",
       "       '이탈리아', '우루과이', '뉴질랜드', '남아프리카공화국', '폴란드'], dtype=object)"
      ]
     },
     "execution_count": 50,
     "metadata": {},
     "output_type": "execute_result"
    }
   ],
   "source": [
    "kmdb['대표 제작국가명'].unique()"
   ]
  },
  {
   "cell_type": "code",
   "execution_count": 53,
   "id": "028214ce",
   "metadata": {},
   "outputs": [
    {
     "data": {
      "text/plain": [
       "array(['일본', '한국', '중국', '영국'], dtype=object)"
      ]
     },
     "execution_count": 53,
     "metadata": {},
     "output_type": "execute_result"
    }
   ],
   "source": [
    "genre_filter=['일본', '한국', '중국', '영국']\n",
    "genre_result03 = kmdb[kmdb['대표 제작국가명'].isin(genre_filter)]\n",
    "genre_result03['대표 제작국가명'].unique()"
   ]
  },
  {
   "cell_type": "code",
   "execution_count": 60,
   "id": "26d48d9c",
   "metadata": {},
   "outputs": [
    {
     "data": {
      "text/html": [
       "<div>\n",
       "<style scoped>\n",
       "    .dataframe tbody tr th:only-of-type {\n",
       "        vertical-align: middle;\n",
       "    }\n",
       "\n",
       "    .dataframe tbody tr th {\n",
       "        vertical-align: top;\n",
       "    }\n",
       "\n",
       "    .dataframe thead th {\n",
       "        text-align: right;\n",
       "    }\n",
       "</style>\n",
       "<table border=\"1\" class=\"dataframe\">\n",
       "  <thead>\n",
       "    <tr style=\"text-align: right;\">\n",
       "      <th></th>\n",
       "      <th>대표 제작국가명</th>\n",
       "    </tr>\n",
       "  </thead>\n",
       "  <tbody>\n",
       "    <tr>\n",
       "      <th>영국</th>\n",
       "      <td>52</td>\n",
       "    </tr>\n",
       "    <tr>\n",
       "      <th>일본</th>\n",
       "      <td>974</td>\n",
       "    </tr>\n",
       "    <tr>\n",
       "      <th>중국</th>\n",
       "      <td>50</td>\n",
       "    </tr>\n",
       "    <tr>\n",
       "      <th>한국</th>\n",
       "      <td>1054</td>\n",
       "    </tr>\n",
       "  </tbody>\n",
       "</table>\n",
       "</div>"
      ],
      "text/plain": [
       "    대표 제작국가명\n",
       "영국        52\n",
       "일본       974\n",
       "중국        50\n",
       "한국      1054"
      ]
     },
     "execution_count": 60,
     "metadata": {},
     "output_type": "execute_result"
    }
   ],
   "source": [
    "chartdata = genre_result03['대표 제작국가명'].value_counts().sort_index()\n",
    "chartdata.to_frame()"
   ]
  },
  {
   "cell_type": "code",
   "execution_count": 59,
   "id": "1b40f576",
   "metadata": {
    "scrolled": true
   },
   "outputs": [
    {
     "data": {
      "image/png": "[encoded data removed]",
      "text/plain": [
       "<Figure size 640x480 with 1 Axes>"
      ]
     },
     "metadata": {},
     "output_type": "display_data"
    }
   ],
   "source": [
    "import matplotlib.pyplot as plt\n",
    "import matplotlib.font_manager as fm\n",
    "\n",
    "\n",
    "# 대표 제작국가명이 일본, 한국, 중국, 영국인 데이터 필터링\n",
    "genre_filter=['일본', '한국', '중국', '영국']\n",
    "genre_result03 = kmdb[kmdb['대표 제작국가명'].isin(genre_filter)]\n",
    "\n",
    "# 국가별 빈도 수 계산\n",
    "chartdata = genre_result03['대표 제작국가명'].value_counts().sort_index()\n",
    "\n",
    "# 폰트 설정\n",
    "font_path = 'C:/Windows/Fonts/malgun.ttf'\n",
    "fontprop = fm.FontProperties(fname=font_path, size=12)\n",
    "\n",
    "# 색상 설정\n",
    "colors = plt.cm.Set3(range(len(chartdata)))\n",
    "\n",
    "# 수평 막대 그래프 그리기\n",
    "plt.barh(chartdata.index, chartdata.values, color=colors)\n",
    "plt.title('대표 제작국가명 빈도수', fontproperties=fontprop)\n",
    "plt.xlabel('빈도 수', fontproperties=fontprop)\n",
    "plt.ylabel('국가명', fontproperties=fontprop)\n",
    "plt.xticks(fontproperties=fontprop)\n",
    "plt.yticks(fontproperties=fontprop)\n",
    "plt.show()"
   ]
  },
  {
   "cell_type": "code",
   "execution_count": null,
   "id": "7c21ff30",
   "metadata": {},
   "outputs": [],
   "source": []
  },
  {
   "cell_type": "code",
   "execution_count": 67,
   "id": "124d8af0",
   "metadata": {},
   "outputs": [
    {
     "name": "stderr",
     "output_type": "stream",
     "text": [
      "C:\\Users\\kosmo\\AppData\\Local\\Temp\\ipykernel_7772\\1918907556.py:24: UserWarning: FixedFormatter should only be used together with FixedLocator\n",
      "  axes[0].set_xticklabels(chartdata_country.index, fontsize=12)\n",
      "C:\\Users\\kosmo\\AppData\\Local\\Temp\\ipykernel_7772\\1918907556.py:31: UserWarning: FixedFormatter should only be used together with FixedLocator\n",
      "  axes[1].set_xticklabels(chartdata_genre.index, fontsize=12, rotation=45, ha='right')\n",
      "C:\\Python.311\\Lib\\site-packages\\IPython\\core\\pylabtools.py:152: UserWarning: Glyph 51068 (\\N{HANGUL SYLLABLE IL}) missing from current font.\n",
      "  fig.canvas.print_figure(bytes_io, **kw)\n",
      "C:\\Python.311\\Lib\\site-packages\\IPython\\core\\pylabtools.py:152: UserWarning: Glyph 48376 (\\N{HANGUL SYLLABLE BON}) missing from current font.\n",
      "  fig.canvas.print_figure(bytes_io, **kw)\n",
      "C:\\Python.311\\Lib\\site-packages\\IPython\\core\\pylabtools.py:152: UserWarning: Glyph 54620 (\\N{HANGUL SYLLABLE HAN}) missing from current font.\n",
      "  fig.canvas.print_figure(bytes_io, **kw)\n",
      "C:\\Python.311\\Lib\\site-packages\\IPython\\core\\pylabtools.py:152: UserWarning: Glyph 44397 (\\N{HANGUL SYLLABLE GUG}) missing from current font.\n",
      "  fig.canvas.print_figure(bytes_io, **kw)\n",
      "C:\\Python.311\\Lib\\site-packages\\IPython\\core\\pylabtools.py:152: UserWarning: Glyph 45824 (\\N{HANGUL SYLLABLE DAE}) missing from current font.\n",
      "  fig.canvas.print_figure(bytes_io, **kw)\n",
      "C:\\Python.311\\Lib\\site-packages\\IPython\\core\\pylabtools.py:152: UserWarning: Glyph 54364 (\\N{HANGUL SYLLABLE PYO}) missing from current font.\n",
      "  fig.canvas.print_figure(bytes_io, **kw)\n",
      "C:\\Python.311\\Lib\\site-packages\\IPython\\core\\pylabtools.py:152: UserWarning: Glyph 51228 (\\N{HANGUL SYLLABLE JE}) missing from current font.\n",
      "  fig.canvas.print_figure(bytes_io, **kw)\n",
      "C:\\Python.311\\Lib\\site-packages\\IPython\\core\\pylabtools.py:152: UserWarning: Glyph 51089 (\\N{HANGUL SYLLABLE JAG}) missing from current font.\n",
      "  fig.canvas.print_figure(bytes_io, **kw)\n",
      "C:\\Python.311\\Lib\\site-packages\\IPython\\core\\pylabtools.py:152: UserWarning: Glyph 44032 (\\N{HANGUL SYLLABLE GA}) missing from current font.\n",
      "  fig.canvas.print_figure(bytes_io, **kw)\n",
      "C:\\Python.311\\Lib\\site-packages\\IPython\\core\\pylabtools.py:152: UserWarning: Glyph 47749 (\\N{HANGUL SYLLABLE MYEONG}) missing from current font.\n",
      "  fig.canvas.print_figure(bytes_io, **kw)\n",
      "C:\\Python.311\\Lib\\site-packages\\IPython\\core\\pylabtools.py:152: UserWarning: Glyph 48712 (\\N{HANGUL SYLLABLE BIN}) missing from current font.\n",
      "  fig.canvas.print_figure(bytes_io, **kw)\n",
      "C:\\Python.311\\Lib\\site-packages\\IPython\\core\\pylabtools.py:152: UserWarning: Glyph 46020 (\\N{HANGUL SYLLABLE DO}) missing from current font.\n",
      "  fig.canvas.print_figure(bytes_io, **kw)\n",
      "C:\\Python.311\\Lib\\site-packages\\IPython\\core\\pylabtools.py:152: UserWarning: Glyph 49688 (\\N{HANGUL SYLLABLE SU}) missing from current font.\n",
      "  fig.canvas.print_figure(bytes_io, **kw)\n",
      "C:\\Python.311\\Lib\\site-packages\\IPython\\core\\pylabtools.py:152: UserWarning: Glyph 50689 (\\N{HANGUL SYLLABLE YEONG}) missing from current font.\n",
      "  fig.canvas.print_figure(bytes_io, **kw)\n",
      "C:\\Python.311\\Lib\\site-packages\\IPython\\core\\pylabtools.py:152: UserWarning: Glyph 54868 (\\N{HANGUL SYLLABLE HWA}) missing from current font.\n",
      "  fig.canvas.print_figure(bytes_io, **kw)\n",
      "C:\\Python.311\\Lib\\site-packages\\IPython\\core\\pylabtools.py:152: UserWarning: Glyph 46300 (\\N{HANGUL SYLLABLE DEU}) missing from current font.\n",
      "  fig.canvas.print_figure(bytes_io, **kw)\n",
      "C:\\Python.311\\Lib\\site-packages\\IPython\\core\\pylabtools.py:152: UserWarning: Glyph 46972 (\\N{HANGUL SYLLABLE RA}) missing from current font.\n",
      "  fig.canvas.print_figure(bytes_io, **kw)\n",
      "C:\\Python.311\\Lib\\site-packages\\IPython\\core\\pylabtools.py:152: UserWarning: Glyph 47560 (\\N{HANGUL SYLLABLE MA}) missing from current font.\n",
      "  fig.canvas.print_figure(bytes_io, **kw)\n",
      "C:\\Python.311\\Lib\\site-packages\\IPython\\core\\pylabtools.py:152: UserWarning: Glyph 50528 (\\N{HANGUL SYLLABLE AE}) missing from current font.\n",
      "  fig.canvas.print_figure(bytes_io, **kw)\n",
      "C:\\Python.311\\Lib\\site-packages\\IPython\\core\\pylabtools.py:152: UserWarning: Glyph 45768 (\\N{HANGUL SYLLABLE NI}) missing from current font.\n",
      "  fig.canvas.print_figure(bytes_io, **kw)\n",
      "C:\\Python.311\\Lib\\site-packages\\IPython\\core\\pylabtools.py:152: UserWarning: Glyph 47700 (\\N{HANGUL SYLLABLE ME}) missing from current font.\n",
      "  fig.canvas.print_figure(bytes_io, **kw)\n",
      "C:\\Python.311\\Lib\\site-packages\\IPython\\core\\pylabtools.py:152: UserWarning: Glyph 51060 (\\N{HANGUL SYLLABLE I}) missing from current font.\n",
      "  fig.canvas.print_figure(bytes_io, **kw)\n",
      "C:\\Python.311\\Lib\\site-packages\\IPython\\core\\pylabtools.py:152: UserWarning: Glyph 49496 (\\N{HANGUL SYLLABLE SYEON}) missing from current font.\n",
      "  fig.canvas.print_figure(bytes_io, **kw)\n",
      "C:\\Python.311\\Lib\\site-packages\\IPython\\core\\pylabtools.py:152: UserWarning: Glyph 49828 (\\N{HANGUL SYLLABLE SEU}) missing from current font.\n",
      "  fig.canvas.print_figure(bytes_io, **kw)\n",
      "C:\\Python.311\\Lib\\site-packages\\IPython\\core\\pylabtools.py:152: UserWarning: Glyph 47540 (\\N{HANGUL SYLLABLE RIL}) missing from current font.\n",
      "  fig.canvas.print_figure(bytes_io, **kw)\n",
      "C:\\Python.311\\Lib\\site-packages\\IPython\\core\\pylabtools.py:152: UserWarning: Glyph 47084 (\\N{HANGUL SYLLABLE REO}) missing from current font.\n",
      "  fig.canvas.print_figure(bytes_io, **kw)\n",
      "C:\\Python.311\\Lib\\site-packages\\IPython\\core\\pylabtools.py:152: UserWarning: Glyph 53076 (\\N{HANGUL SYLLABLE KO}) missing from current font.\n",
      "  fig.canvas.print_figure(bytes_io, **kw)\n",
      "C:\\Python.311\\Lib\\site-packages\\IPython\\core\\pylabtools.py:152: UserWarning: Glyph 48120 (\\N{HANGUL SYLLABLE MI}) missing from current font.\n",
      "  fig.canvas.print_figure(bytes_io, **kw)\n",
      "C:\\Python.311\\Lib\\site-packages\\IPython\\core\\pylabtools.py:152: UserWarning: Glyph 46356 (\\N{HANGUL SYLLABLE DI}) missing from current font.\n",
      "  fig.canvas.print_figure(bytes_io, **kw)\n",
      "C:\\Python.311\\Lib\\site-packages\\IPython\\core\\pylabtools.py:152: UserWarning: Glyph 48276 (\\N{HANGUL SYLLABLE BEOM}) missing from current font.\n",
      "  fig.canvas.print_figure(bytes_io, **kw)\n",
      "C:\\Python.311\\Lib\\site-packages\\IPython\\core\\pylabtools.py:152: UserWarning: Glyph 51396 (\\N{HANGUL SYLLABLE JOE}) missing from current font.\n",
      "  fig.canvas.print_figure(bytes_io, **kw)\n",
      "C:\\Python.311\\Lib\\site-packages\\IPython\\core\\pylabtools.py:152: UserWarning: Glyph 48036 (\\N{HANGUL SYLLABLE MYU}) missing from current font.\n",
      "  fig.canvas.print_figure(bytes_io, **kw)\n",
      "C:\\Python.311\\Lib\\site-packages\\IPython\\core\\pylabtools.py:152: UserWarning: Glyph 51648 (\\N{HANGUL SYLLABLE JI}) missing from current font.\n",
      "  fig.canvas.print_figure(bytes_io, **kw)\n",
      "C:\\Python.311\\Lib\\site-packages\\IPython\\core\\pylabtools.py:152: UserWarning: Glyph 52972 (\\N{HANGUL SYLLABLE KEOL}) missing from current font.\n",
      "  fig.canvas.print_figure(bytes_io, **kw)\n",
      "C:\\Python.311\\Lib\\site-packages\\IPython\\core\\pylabtools.py:152: UserWarning: Glyph 51109 (\\N{HANGUL SYLLABLE JANG}) missing from current font.\n",
      "  fig.canvas.print_figure(bytes_io, **kw)\n",
      "C:\\Python.311\\Lib\\site-packages\\IPython\\core\\pylabtools.py:152: UserWarning: Glyph 47476 (\\N{HANGUL SYLLABLE REU}) missing from current font.\n",
      "  fig.canvas.print_figure(bytes_io, **kw)\n"
     ]
    },
    {
     "data": {
      "image/png": "[encoded data removed]",
      "text/plain": [
       "<Figure size 1200x500 with 2 Axes>"
      ]
     },
     "metadata": {},
     "output_type": "display_data"
    }
   ],
   "source": [
    "import matplotlib.pyplot as plt\n",
    "import seaborn as sns\n",
    "import pandas as pd\n",
    "\n",
    "# 대표 제작국가명이 '한국', '일본'이고 대표 장르명이 '드라마', '애니메이션', '범죄', '코미디', '스릴러', '뮤지컬'인 데이터 필터링\n",
    "genre_filter = ['일본', '한국']\n",
    "genre_result03 = kmdb[kmdb['대표 제작국가명'].isin(genre_filter)]\n",
    "\n",
    "genre_filter = ['드라마', '애니메이션', '범죄', '코미디', '스릴러', '뮤지컬']\n",
    "genre_result02 = kmdb[kmdb['대표 장르명'].isin(genre_filter)]\n",
    "\n",
    "# 각 데이터프레임에서 대표 제작국가명과 대표 장르명에 대한 빈도 수를 계산하여 데이터프레임 생성\n",
    "chartdata_country = genre_result03['대표 제작국가명'].value_counts().sort_index().to_frame()\n",
    "chartdata_genre = genre_result02['대표 장르명'].value_counts().to_frame()\n",
    "\n",
    "# 데이터프레임을 시각화\n",
    "fig, axes = plt.subplots(nrows=1, ncols=2, figsize=(12, 5))\n",
    "\n",
    "# 대표 제작국가명에 대한 다변량 막대 그래프 생성\n",
    "axes[0].bar(chartdata_country.index, chartdata_country['대표 제작국가명'], color=['#4287f5', '#e33b3b'])\n",
    "axes[0].set_xlabel('대표 제작국가명')\n",
    "axes[0].set_ylabel('빈도 수')\n",
    "axes[0].set_title('한국, 일본 영화 빈도 수')\n",
    "axes[0].set_xticklabels(chartdata_country.index, fontsize=12)\n",
    "\n",
    "# 대표 장르명에 대한 다변량 막대 그래프 생성\n",
    "axes[1].bar(chartdata_genre.index, chartdata_genre['대표 장르명'], color=sns.color_palette('Set2'))\n",
    "axes[1].set_xlabel('대표 장르명')\n",
    "axes[1].set_ylabel('빈도 수')\n",
    "axes[1].set_title('드라마, 애니메이션, 범죄, 코미디, 스릴러, 뮤지컬 영화 빈도 수')\n",
    "axes[1].set_xticklabels(chartdata_genre.index, fontsize=12, rotation=45, ha='right')\n",
    "\n",
    "plt.show()\n"
   ]
  },
  {
   "cell_type": "code",
   "execution_count": 12,
   "id": "0c9ce1be",
   "metadata": {},
   "outputs": [
    {
     "data": {
      "image/png": "[encoded data removed]",
      "text/plain": [
       "<Figure size 1000x600 with 2 Axes>"
      ]
     },
     "metadata": {},
     "output_type": "display_data"
    }
   ],
   "source": [
    "import pandas as pd\n",
    "import matplotlib.pyplot as plt\n",
    "from matplotlib import font_manager, rc\n",
    "plt.rcParams['axes.unicode_minus'] = False\n",
    "\n",
    "# 한글 폰트 설정\n",
    "font_path = \"C:/Windows/Fonts/malgun.ttf\"\n",
    "font = font_manager.FontProperties(fname=font_path).get_name()\n",
    "rc('font', family=font)\n",
    "\n",
    "\n",
    "\n",
    "# 필터링\n",
    "genre_filter=['일본', '한국']\n",
    "genre_result03 = kmdb[kmdb['대표 제작국가명'].isin(genre_filter)]\n",
    "chartdata03 = genre_result03['대표 제작국가명'].value_counts().sort_index()\n",
    "\n",
    "genre_filter=['드라마','애니메이션','범죄','코미디','스릴러','뮤지컬']\n",
    "genre_result02 = kmdb[kmdb['대표 장르명'].isin(genre_filter)]\n",
    "chartdata02 = genre_result02['대표 장르명'].value_counts().sort_index()\n",
    "\n",
    "# 그래프 설정\n",
    "fig, ax = plt.subplots(figsize=(10,6))\n",
    "\n",
    "# 막대 그래프 그리기\n",
    "ax.bar(chartdata03.index, chartdata03, color=['#FFA07A', '#87CEFA'])\n",
    "\n",
    "ax2 = ax.twinx()\n",
    "ax2.bar(chartdata02.index, chartdata02, alpha=0.5, color=['#F08080', '#00CED1', '#FF69B4', '#1E90FF', '#32CD32', '#BA55D3'])\n",
    "\n",
    "# 축 라벨 설정\n",
    "ax.set_xlabel('국가', fontsize=16)\n",
    "ax.set_ylabel('영화 수', fontsize=16)\n",
    "ax2.set_ylabel('영화 수', fontsize=16)\n",
    "\n",
    "# 타이틀 설정\n",
    "plt.title('한국과 일본의 대표 제작국가명과 대표 장르명에 따른 영화 수', fontsize=20)\n",
    "\n",
    "# 범례 설정\n",
    "ax.legend(['대표 제작국가명'], fontsize=12, loc='upper left')\n",
    "ax2.legend(['드라마', '애니메이션', '범죄', '코미디', '스릴러', '뮤지컬'], fontsize=12, loc='upper right')\n",
    "\n",
    "# 그래프 출력\n",
    "plt.show()"
   ]
  },
  {
   "cell_type": "code",
   "execution_count": 71,
   "id": "fefe4f92",
   "metadata": {},
   "outputs": [
    {
     "name": "stdout",
     "output_type": "stream",
     "text": [
      "대표 제작 국가 이름 : ['한국' '미국' '일본']\n",
      "대표 장르 이름 : ['코미디' '범죄' '스릴러' '뮤지컬']\n"
     ]
    }
   ],
   "source": [
    "nation = ['한국','일본','미국']\n",
    "result = kmdb[kmdb['대표 제작국가명'].isin(nation)]\n",
    "\n",
    "genre = ['범죄','코미디','스릴러','뮤지컬']\n",
    "result = result[result['대표 장르명'].isin(genre)] \n",
    "\n",
    "print('대표 제작 국가 이름 : ', end = '')\n",
    "print(result['대표 제작국가명'].unique())\n",
    "\n",
    "print('대표 장르 이름 : ', end = '')\n",
    "print(result['대표 장르명'].unique())"
   ]
  },
  {
   "cell_type": "code",
   "execution_count": 72,
   "id": "cfe616f6",
   "metadata": {
    "scrolled": true
   },
   "outputs": [
    {
     "data": {
      "text/html": [
       "<div>\n",
       "<style scoped>\n",
       "    .dataframe tbody tr th:only-of-type {\n",
       "        vertical-align: middle;\n",
       "    }\n",
       "\n",
       "    .dataframe tbody tr th {\n",
       "        vertical-align: top;\n",
       "    }\n",
       "\n",
       "    .dataframe thead th {\n",
       "        text-align: right;\n",
       "    }\n",
       "</style>\n",
       "<table border=\"1\" class=\"dataframe\">\n",
       "  <thead>\n",
       "    <tr style=\"text-align: right;\">\n",
       "      <th></th>\n",
       "      <th>대표 제작국가명</th>\n",
       "      <th>대표 장르명</th>\n",
       "      <th>cnt</th>\n",
       "    </tr>\n",
       "  </thead>\n",
       "  <tbody>\n",
       "    <tr>\n",
       "      <th>0</th>\n",
       "      <td>미국</td>\n",
       "      <td>범죄</td>\n",
       "      <td>14</td>\n",
       "    </tr>\n",
       "    <tr>\n",
       "      <th>1</th>\n",
       "      <td>미국</td>\n",
       "      <td>스릴러</td>\n",
       "      <td>15</td>\n",
       "    </tr>\n",
       "    <tr>\n",
       "      <th>2</th>\n",
       "      <td>미국</td>\n",
       "      <td>코미디</td>\n",
       "      <td>4</td>\n",
       "    </tr>\n",
       "    <tr>\n",
       "      <th>3</th>\n",
       "      <td>일본</td>\n",
       "      <td>스릴러</td>\n",
       "      <td>5</td>\n",
       "    </tr>\n",
       "    <tr>\n",
       "      <th>4</th>\n",
       "      <td>일본</td>\n",
       "      <td>코미디</td>\n",
       "      <td>3</td>\n",
       "    </tr>\n",
       "    <tr>\n",
       "      <th>5</th>\n",
       "      <td>한국</td>\n",
       "      <td>뮤지컬</td>\n",
       "      <td>13</td>\n",
       "    </tr>\n",
       "    <tr>\n",
       "      <th>6</th>\n",
       "      <td>한국</td>\n",
       "      <td>범죄</td>\n",
       "      <td>16</td>\n",
       "    </tr>\n",
       "    <tr>\n",
       "      <th>7</th>\n",
       "      <td>한국</td>\n",
       "      <td>스릴러</td>\n",
       "      <td>6</td>\n",
       "    </tr>\n",
       "    <tr>\n",
       "      <th>8</th>\n",
       "      <td>한국</td>\n",
       "      <td>코미디</td>\n",
       "      <td>19</td>\n",
       "    </tr>\n",
       "  </tbody>\n",
       "</table>\n",
       "</div>"
      ],
      "text/plain": [
       "  대표 제작국가명 대표 장르명  cnt\n",
       "0       미국     범죄   14\n",
       "1       미국    스릴러   15\n",
       "2       미국    코미디    4\n",
       "3       일본    스릴러    5\n",
       "4       일본    코미디    3\n",
       "5       한국    뮤지컬   13\n",
       "6       한국     범죄   16\n",
       "7       한국    스릴러    6\n",
       "8       한국    코미디   19"
      ]
     },
     "execution_count": 72,
     "metadata": {},
     "output_type": "execute_result"
    }
   ],
   "source": [
    "resultGroup = result.groupby(['대표 제작국가명','대표 장르명'])['대표 제작국가명']\n",
    "barChartData = resultGroup.count().to_frame()\n",
    "barChartData = barChartData.rename(columns={'대표 제작국가명':'cnt'})\n",
    "barChartData.reset_index()"
   ]
  },
  {
   "cell_type": "markdown",
   "id": "eb6c13c1",
   "metadata": {},
   "source": [
    "<h5><font color=\"green\">'개봉년월'컬럼에 대한 꺽은 선 그래프\n",
    "</font></h5>"
   ]
  },
  {
   "cell_type": "code",
   "execution_count": 8,
   "id": "bf3f7fc9",
   "metadata": {},
   "outputs": [
    {
     "data": {
      "text/plain": [
       "array(['202304', '202303', '202301', '202302', '202201', '202210',\n",
       "       '202205', '202211', '202212', '202209', '202208', '202207',\n",
       "       '202206', '202202', '202204', '202203'], dtype=object)"
      ]
     },
     "execution_count": 8,
     "metadata": {},
     "output_type": "execute_result"
    }
   ],
   "source": [
    "kmdb['개봉년월'].unique()"
   ]
  },
  {
   "cell_type": "code",
   "execution_count": 20,
   "id": "d53fdb7e",
   "metadata": {},
   "outputs": [
    {
     "data": {
      "text/html": [
       "<div>\n",
       "<style scoped>\n",
       "    .dataframe tbody tr th:only-of-type {\n",
       "        vertical-align: middle;\n",
       "    }\n",
       "\n",
       "    .dataframe tbody tr th {\n",
       "        vertical-align: top;\n",
       "    }\n",
       "\n",
       "    .dataframe thead th {\n",
       "        text-align: right;\n",
       "    }\n",
       "</style>\n",
       "<table border=\"1\" class=\"dataframe\">\n",
       "  <thead>\n",
       "    <tr style=\"text-align: right;\">\n",
       "      <th></th>\n",
       "      <th></th>\n",
       "      <th>개봉년월</th>\n",
       "    </tr>\n",
       "    <tr>\n",
       "      <th>대표 제작국가명</th>\n",
       "      <th>개봉년월</th>\n",
       "      <th></th>\n",
       "    </tr>\n",
       "  </thead>\n",
       "  <tbody>\n",
       "    <tr>\n",
       "      <th rowspan=\"5\" valign=\"top\">미국</th>\n",
       "      <th>202201</th>\n",
       "      <td>15</td>\n",
       "    </tr>\n",
       "    <tr>\n",
       "      <th>202202</th>\n",
       "      <td>20</td>\n",
       "    </tr>\n",
       "    <tr>\n",
       "      <th>202203</th>\n",
       "      <td>16</td>\n",
       "    </tr>\n",
       "    <tr>\n",
       "      <th>202204</th>\n",
       "      <td>16</td>\n",
       "    </tr>\n",
       "    <tr>\n",
       "      <th>202205</th>\n",
       "      <td>16</td>\n",
       "    </tr>\n",
       "  </tbody>\n",
       "</table>\n",
       "</div>"
      ],
      "text/plain": [
       "                 개봉년월\n",
       "대표 제작국가명 개봉년월        \n",
       "미국       202201    15\n",
       "         202202    20\n",
       "         202203    16\n",
       "         202204    16\n",
       "         202205    16"
      ]
     },
     "execution_count": 20,
     "metadata": {},
     "output_type": "execute_result"
    }
   ],
   "source": [
    "nation = ['한국','일본','미국']\n",
    "result = kmdb[kmdb['대표 제작국가명'].isin(nation)]\n",
    "\n",
    "nation_chart = result.groupby(['대표 제작국가명','개봉년월'])['개봉년월']\n",
    "nation_chart = nation_chart.count().to_frame()\n",
    "# nation_chart = nation_chart.rename(columns={'개봉년월':'cnt'})\n",
    "nation_chart.head()"
   ]
  },
  {
   "cell_type": "code",
   "execution_count": 18,
   "id": "8a6488d6",
   "metadata": {
    "scrolled": true
   },
   "outputs": [
    {
     "data": {
      "text/plain": [
       "Text(0.5, 1.0, '개봉 년월 꺽은 선 실적')"
      ]
     },
     "execution_count": 18,
     "metadata": {},
     "output_type": "execute_result"
    },
    {
     "data": {
      "image/png": "[encoded data removed]",
      "text/plain": [
       "<Figure size 1000x700 with 1 Axes>"
      ]
     },
     "metadata": {},
     "output_type": "display_data"
    }
   ],
   "source": [
    "open_chart.plot(kind='line',figsize=(10,7), grid=True, use_index=True, rot=30, marker='o')\n",
    "plt.xlabel('개봉년월')\n",
    "plt.ylabel('건수')\n",
    "plt.title('개봉 년월 꺽은 선 실적')"
   ]
  },
  {
   "cell_type": "markdown",
   "id": "84350887",
   "metadata": {},
   "source": [
    "<h5><font color=\"green\">꺽은 선 그래프\n",
    "</font></h5>\n",
    "<br/> 제작 국가 '미국','일본','한국'에 대하여 '개봉년월' 컬럼에 대한 꺽은 선 그래프를 그립니다."
   ]
  },
  {
   "cell_type": "code",
   "execution_count": null,
   "id": "085a76d2",
   "metadata": {},
   "outputs": [],
   "source": [
    "openMonth = kmdb.groupby('개봉년월')['개봉년월']\n",
    "open_chart = openMonth.count()\n",
    "open_chart.to_frame()"
   ]
  },
  {
   "cell_type": "code",
   "execution_count": null,
   "id": "113c6ce0",
   "metadata": {},
   "outputs": [],
   "source": [
    "open_chart.plot(kind='line',figsize=(10,7), grid=True, use_index=True, rot=30, marker='o')\n",
    "plt.xlabel('개봉년월')\n",
    "plt.ylabel('건수')\n",
    "plt.title('개봉 년월 꺽은 선 실적')"
   ]
  },
  {
   "cell_type": "code",
   "execution_count": null,
   "id": "89ab94f7",
   "metadata": {},
   "outputs": [],
   "source": [
    "# 대륙별 데이터 파악\n"
   ]
  },
  {
   "cell_type": "code",
   "execution_count": 26,
   "id": "d606a612",
   "metadata": {},
   "outputs": [
    {
     "name": "stdout",
     "output_type": "stream",
     "text": [
      "일본:\n",
      "한국:\n",
      "중국:\n",
      "영국:\n",
      "미국:\n",
      "프랑스:\n",
      "캐나다:\n",
      "이스라엘:\n",
      "독일:\n",
      "스페인:\n",
      "덴마크:\n",
      "벨기에:\n",
      "대만:\n",
      "홍콩:\n",
      "오스트리아 :\n",
      "기타:\n",
      "러시아:\n",
      "호주:\n",
      "핀란드:\n",
      "노르웨이:\n",
      "스위스:\n",
      "아일랜드:\n",
      "네덜란드:\n",
      "아이슬란드:\n",
      "헝가리:\n",
      "이집트:\n",
      "브라질:\n",
      "인도네시아:\n",
      "베트남:\n",
      "에스토니아:\n",
      "필리핀:\n",
      "우크라이나:\n",
      "페루:\n",
      "카자흐스탄:\n",
      "루마니아:\n",
      "이탈리아:\n",
      "우루과이:\n",
      "뉴질랜드:\n",
      "남아프리카공화국:\n",
      "폴란드:\n"
     ]
    }
   ],
   "source": [
    "nationlist = kmdb['대표 제작국가명'].unique()\n",
    "for nation in nationlist :\n",
    "    print(nation + ':')"
   ]
  },
  {
   "cell_type": "code",
   "execution_count": 36,
   "id": "035f052a",
   "metadata": {},
   "outputs": [
    {
     "name": "stdout",
     "output_type": "stream",
     "text": [
      "<class '_io.TextIOWrapper'>\n"
     ]
    },
    {
     "data": {
      "text/plain": [
       "{'일본': '아시아',\n",
       " '한국': '아시아',\n",
       " '중국': '아시아',\n",
       " '영국': '유럽',\n",
       " '미국': '유럽',\n",
       " '프랑스': '유럽',\n",
       " '캐나다': '유럽',\n",
       " '이스라엘': '아시아',\n",
       " '독일': '유럽',\n",
       " '스페인': '유럽',\n",
       " '덴마크': '유럽',\n",
       " '벨기에': '유럽',\n",
       " '대만': '아시아',\n",
       " '홍콩': '아시아',\n",
       " '오스트리아 ': '아시아',\n",
       " '기타': '기타',\n",
       " '러시아': '유럽',\n",
       " '호주': '오세아니아',\n",
       " '핀란드': '유럽',\n",
       " '노르웨이': '유럽',\n",
       " '스위스': '유럽',\n",
       " '아일랜드': '유럽',\n",
       " '네덜란드': '유럽',\n",
       " '아이슬란드': '유럽',\n",
       " '헝가리': '유럽',\n",
       " '이집트': '아프리카',\n",
       " '브라질': '남미',\n",
       " '인도네시아': '아시아',\n",
       " '베트남': '아시아',\n",
       " '에스토니아': '유럽',\n",
       " '필리핀': '아시아',\n",
       " '우크라이나': '유럽',\n",
       " '페루': '남미',\n",
       " '카자흐스탄': '아시아',\n",
       " '루마니아': '유럽',\n",
       " '이탈리아': '유럽',\n",
       " '우루과이': '남미',\n",
       " '뉴질랜드': '오세아니아',\n",
       " '남아프리카공화국': '아프리카',\n",
       " '폴란드': '유럽'}"
      ]
     },
     "execution_count": 36,
     "metadata": {},
     "output_type": "execute_result"
    }
   ],
   "source": [
    "dataInFolder = './../data/'\n",
    "region_txt = open(dataInFolder + 'region.txt','rt', encoding='UTF-8')\n",
    "print(type(region_txt))\n",
    "\n",
    "region_dict = dict() # 사전 --> '국가':'대륙이름'\n",
    "\n",
    "region_list = region_txt.readlines()\n",
    "for oneline in region_list:\n",
    "    nation = oneline.replace('\\n','').split(':')\n",
    "    region_dict[nation[0]] = nation[1]\n",
    "#end for\n",
    "\n",
    "region_dict"
   ]
  },
  {
   "cell_type": "code",
   "execution_count": 42,
   "id": "50334a5b",
   "metadata": {},
   "outputs": [
    {
     "data": {
      "text/html": [
       "<div>\n",
       "<style scoped>\n",
       "    .dataframe tbody tr th:only-of-type {\n",
       "        vertical-align: middle;\n",
       "    }\n",
       "\n",
       "    .dataframe tbody tr th {\n",
       "        vertical-align: top;\n",
       "    }\n",
       "\n",
       "    .dataframe thead th {\n",
       "        text-align: right;\n",
       "    }\n",
       "</style>\n",
       "<table border=\"1\" class=\"dataframe\">\n",
       "  <thead>\n",
       "    <tr style=\"text-align: right;\">\n",
       "      <th></th>\n",
       "      <th>대표 제작국가명</th>\n",
       "      <th>대륙</th>\n",
       "    </tr>\n",
       "  </thead>\n",
       "  <tbody>\n",
       "    <tr>\n",
       "      <th>0</th>\n",
       "      <td>일본</td>\n",
       "      <td>아시아</td>\n",
       "    </tr>\n",
       "    <tr>\n",
       "      <th>1</th>\n",
       "      <td>한국</td>\n",
       "      <td>아시아</td>\n",
       "    </tr>\n",
       "    <tr>\n",
       "      <th>2</th>\n",
       "      <td>한국</td>\n",
       "      <td>아시아</td>\n",
       "    </tr>\n",
       "    <tr>\n",
       "      <th>3</th>\n",
       "      <td>한국</td>\n",
       "      <td>아시아</td>\n",
       "    </tr>\n",
       "    <tr>\n",
       "      <th>4</th>\n",
       "      <td>한국</td>\n",
       "      <td>아시아</td>\n",
       "    </tr>\n",
       "    <tr>\n",
       "      <th>...</th>\n",
       "      <td>...</td>\n",
       "      <td>...</td>\n",
       "    </tr>\n",
       "    <tr>\n",
       "      <th>2569</th>\n",
       "      <td>미국</td>\n",
       "      <td>유럽</td>\n",
       "    </tr>\n",
       "    <tr>\n",
       "      <th>2570</th>\n",
       "      <td>대만</td>\n",
       "      <td>아시아</td>\n",
       "    </tr>\n",
       "    <tr>\n",
       "      <th>2571</th>\n",
       "      <td>한국</td>\n",
       "      <td>아시아</td>\n",
       "    </tr>\n",
       "    <tr>\n",
       "      <th>2572</th>\n",
       "      <td>한국</td>\n",
       "      <td>아시아</td>\n",
       "    </tr>\n",
       "    <tr>\n",
       "      <th>2573</th>\n",
       "      <td>일본</td>\n",
       "      <td>아시아</td>\n",
       "    </tr>\n",
       "  </tbody>\n",
       "</table>\n",
       "<p>2574 rows × 2 columns</p>\n",
       "</div>"
      ],
      "text/plain": [
       "     대표 제작국가명   대륙\n",
       "0          일본  아시아\n",
       "1          한국  아시아\n",
       "2          한국  아시아\n",
       "3          한국  아시아\n",
       "4          한국  아시아\n",
       "...       ...  ...\n",
       "2569       미국   유럽\n",
       "2570       대만  아시아\n",
       "2571       한국  아시아\n",
       "2572       한국  아시아\n",
       "2573       일본  아시아\n",
       "\n",
       "[2574 rows x 2 columns]"
      ]
     },
     "execution_count": 42,
     "metadata": {},
     "output_type": "execute_result"
    }
   ],
   "source": [
    "# region_dict.get(국가명, 디폴트값)\n",
    "kmdb['대륙'] = kmdb['대표 제작국가명'].apply(lambda data : region_dict.get(data, data))\n",
    "kmdb[['대표 제작국가명','대륙']].head()"
   ]
  },
  {
   "cell_type": "code",
   "execution_count": 44,
   "id": "53081a4a",
   "metadata": {},
   "outputs": [
    {
     "data": {
      "text/plain": [
       "아시아      2110\n",
       "유럽        438\n",
       "기타         12\n",
       "오세아니아       8\n",
       "남미          4\n",
       "아프리카        2\n",
       "Name: 대륙, dtype: int64"
      ]
     },
     "execution_count": 44,
     "metadata": {},
     "output_type": "execute_result"
    }
   ],
   "source": [
    "kmdb['대륙'].value_counts()"
   ]
  },
  {
   "cell_type": "code",
   "execution_count": null,
   "id": "0ff9a2ce",
   "metadata": {},
   "outputs": [],
   "source": [
    "# '아시아','북중미','기타'에 대하여 파이 그래프 그리기"
   ]
  },
  {
   "cell_type": "code",
   "execution_count": 46,
   "id": "4885fb9d",
   "metadata": {},
   "outputs": [
    {
     "data": {
      "text/html": [
       "<div>\n",
       "<style scoped>\n",
       "    .dataframe tbody tr th:only-of-type {\n",
       "        vertical-align: middle;\n",
       "    }\n",
       "\n",
       "    .dataframe tbody tr th {\n",
       "        vertical-align: top;\n",
       "    }\n",
       "\n",
       "    .dataframe thead th {\n",
       "        text-align: right;\n",
       "    }\n",
       "</style>\n",
       "<table border=\"1\" class=\"dataframe\">\n",
       "  <thead>\n",
       "    <tr style=\"text-align: right;\">\n",
       "      <th></th>\n",
       "      <th>대륙</th>\n",
       "    </tr>\n",
       "  </thead>\n",
       "  <tbody>\n",
       "    <tr>\n",
       "      <th>아시아</th>\n",
       "      <td>2110</td>\n",
       "    </tr>\n",
       "    <tr>\n",
       "      <th>유럽</th>\n",
       "      <td>438</td>\n",
       "    </tr>\n",
       "    <tr>\n",
       "      <th>기타</th>\n",
       "      <td>12</td>\n",
       "    </tr>\n",
       "  </tbody>\n",
       "</table>\n",
       "</div>"
      ],
      "text/plain": [
       "       대륙\n",
       "아시아  2110\n",
       "유럽    438\n",
       "기타     12"
      ]
     },
     "execution_count": 46,
     "metadata": {},
     "output_type": "execute_result"
    }
   ],
   "source": [
    "continent = kmdb['대륙'].value_counts().to_frame()\n",
    "continent = continent.nlargest(3,\"대륙\") #상위 3개만 읽어오기\n",
    "continent"
   ]
  },
  {
   "cell_type": "code",
   "execution_count": 47,
   "id": "05107816",
   "metadata": {},
   "outputs": [
    {
     "data": {
      "image/png": "[encoded data removed]",
      "text/plain": [
       "<Figure size 600x600 with 1 Axes>"
      ]
     },
     "metadata": {},
     "output_type": "display_data"
    }
   ],
   "source": []
  },
  {
   "cell_type": "code",
   "execution_count": null,
   "id": "72a39c97",
   "metadata": {},
   "outputs": [],
   "source": []
  },
  {
   "cell_type": "code",
   "execution_count": null,
   "id": "02ab38ff",
   "metadata": {},
   "outputs": [],
   "source": []
  },
  {
   "cell_type": "code",
   "execution_count": null,
   "id": "c8075b7b",
   "metadata": {},
   "outputs": [],
   "source": []
  },
  {
   "cell_type": "code",
   "execution_count": null,
   "id": "300b6c4f",
   "metadata": {},
   "outputs": [],
   "source": []
  },
  {
   "cell_type": "code",
   "execution_count": null,
   "id": "9a6aee0f",
   "metadata": {},
   "outputs": [],
   "source": []
  },
  {
   "cell_type": "code",
   "execution_count": null,
   "id": "e00c045f",
   "metadata": {},
   "outputs": [],
   "source": []
  },
  {
   "cell_type": "markdown",
   "id": "41ac02d1",
   "metadata": {},
   "source": [
    "<h2><font color=\"red\">제공 서비스) 영화 상세 정보\n",
    " \n",
    "</font></h2>"
   ]
  },
  {
   "cell_type": "code",
   "execution_count": 3,
   "id": "ed77fd8e",
   "metadata": {},
   "outputs": [],
   "source": [
    "import pandas as pd\n",
    "dataInFolder = './../data/'"
   ]
  },
  {
   "cell_type": "code",
   "execution_count": 51,
   "id": "4172c44a",
   "metadata": {},
   "outputs": [
    {
     "data": {
      "text/plain": [
       "Index(['영화코드', '영화명(국문)', '영화명(영문)', '영화명(원문)', '상영시간', '제작연도', '개봉연도', '제작상태',\n",
       "       '영화유형', '국가', '장르', '감독', '배우', '상영형태 구분', '참여 영화사', '심의정보', '스텝'],\n",
       "      dtype='object')"
      ]
     },
     "execution_count": 51,
     "metadata": {},
     "output_type": "execute_result"
    }
   ],
   "source": [
    "detail = pd.read_json(dataInFolder + 'kmdb_get_movie_detail_list.json') \n",
    "\n",
    "rename_dict = {\n",
    "    'movieCd':'영화코드', 'movieNm':'영화명(국문)', 'movieNmEn':'영화명(영문)', \\\n",
    "    'movieNmOg':'영화명(원문)', 'prdtYear':'제작연도', 'showTm':'상영시간', \\\n",
    "    'openDt':'개봉연도', 'prdtStatNm':'제작상태', 'typeNm':'영화유형', \\\n",
    "    'nations':'제작국가', 'nationNm':'제작국가', 'genreNm':'장르', \\\n",
    "    'directors':'감독', 'peopleNm':'감독', 'peopleNmEn':'감독명(영문)', \\\n",
    "    'actors':'배우', 'peopleNm':'배우', 'peopleNmEn':'배우명(영문)', \\\n",
    "    'cast':'배역', 'castEn':'배역명(영문)', 'showTypes':'상영형태 구분', \\\n",
    "    'showTypeGroupNm':'상영형태 구분', 'showTypeNm':'상영형태', 'audits':'심의정보', \\\n",
    "    'auditNo':'심의번호', 'watchGradeNm':'관람등급 명칭', 'companys':'참여 영화사', \\\n",
    "    'companyCd':'참여 영화사 코드', 'companyNm':'참여 영화사', 'companyNmEn':'참여 영화사명(영문)', \n",
    "    'companyPartNm':'참여 영화사 분야', 'staffs':'스텝', 'peopleNm':'스텝', \\\n",
    "    'peopleNmEn':'스텝명(영문)', 'staffRoleNm':'스텝역할', 'nations':'국가', 'genres':'장르'}\n",
    "\n",
    "detail = detail.rename(columns=rename_dict) \n",
    "detail.columns"
   ]
  },
  {
   "cell_type": "code",
   "execution_count": 57,
   "id": "0b1b8dee",
   "metadata": {},
   "outputs": [],
   "source": [
    "# 양쪽 프레임의 '영화코드' 컬럼의 타입을 문자열로 통일합니다.\n",
    "detail['영화코드'] = detail['영화코드'].astype('str')"
   ]
  },
  {
   "cell_type": "code",
   "execution_count": 63,
   "id": "f2db9151",
   "metadata": {
    "scrolled": true
   },
   "outputs": [
    {
     "data": {
      "text/plain": [
       "Index(['제작사', '영화감독', '영화장르(전체)', '영화코드', '영화명(국문)', '영화명(영문)', '제작국가(전체)',\n",
       "       '개봉일', '제작상태', '제작연도', '대표 장르명', '대표 제작국가명', '영화유형', '개봉년도', '개봉년월',\n",
       "       '대륙', '영화명(국문)_right', '영화명(영문)_right', '영화명(원문)', '상영시간', '제작연도_right',\n",
       "       '개봉연도', '제작상태_right', '영화유형_right', '국가', '장르', '감독', '배우', '상영형태 구분',\n",
       "       '참여 영화사', '심의정보', '스텝'],\n",
       "      dtype='object')"
      ]
     },
     "execution_count": 63,
     "metadata": {},
     "output_type": "execute_result"
    }
   ],
   "source": [
    "# 동일한 이름의 컬럼이 있는 경우 오른쪽 컬럼에 '_right' 붙여주기\n",
    "mergedata = pd.merge(kmdb, detail, on='영화코드', suffixes=['','_right'])\n",
    "mergedata.columns"
   ]
  },
  {
   "cell_type": "code",
   "execution_count": 65,
   "id": "d3bb5749",
   "metadata": {},
   "outputs": [
    {
     "data": {
      "text/plain": [
       "Index(['제작사', '영화감독', '영화장르(전체)', '영화코드', '영화명(국문)', '영화명(영문)', '제작국가(전체)',\n",
       "       '개봉일', '제작상태', '제작연도', '대표 장르명', '대표 제작국가명', '영화유형', '개봉년도', '개봉년월',\n",
       "       '대륙', '영화명(원문)', '상영시간', '개봉연도', '국가', '장르', '감독', '배우', '상영형태 구분',\n",
       "       '참여 영화사', '심의정보', '스텝'],\n",
       "      dtype='object')"
      ]
     },
     "execution_count": 65,
     "metadata": {},
     "output_type": "execute_result"
    }
   ],
   "source": [
    "# 삭제할 컬럼 이름 추출하기\n",
    "delete_column = mergedata.filter(regex='_right$').columns.tolist()\n",
    "mergedata = mergedata.drop(delete_column, axis=1)\n",
    "mergedata.columns"
   ]
  },
  {
   "cell_type": "code",
   "execution_count": 69,
   "id": "af269851",
   "metadata": {},
   "outputs": [
    {
     "data": {
      "text/plain": [
       "[60,\n",
       " 61,\n",
       " 64,\n",
       " 67,\n",
       " 69,\n",
       " 70,\n",
       " 71,\n",
       " 72,\n",
       " 74,\n",
       " 78,\n",
       " 80,\n",
       " 81,\n",
       " 85,\n",
       " 86,\n",
       " 88,\n",
       " 89,\n",
       " 90,\n",
       " 91,\n",
       " 92,\n",
       " 93,\n",
       " 97,\n",
       " 100,\n",
       " 102,\n",
       " 111,\n",
       " 112,\n",
       " 115,\n",
       " 117,\n",
       " 120,\n",
       " 122,\n",
       " 123,\n",
       " 159]"
      ]
     },
     "execution_count": 69,
     "metadata": {},
     "output_type": "execute_result"
    }
   ],
   "source": [
    "sorted(mergedata['상영시간'].unique())"
   ]
  },
  {
   "cell_type": "code",
   "execution_count": 70,
   "id": "a9fab246",
   "metadata": {
    "scrolled": false
   },
   "outputs": [
    {
     "data": {
      "text/html": [
       "<div>\n",
       "<style scoped>\n",
       "    .dataframe tbody tr th:only-of-type {\n",
       "        vertical-align: middle;\n",
       "    }\n",
       "\n",
       "    .dataframe tbody tr th {\n",
       "        vertical-align: top;\n",
       "    }\n",
       "\n",
       "    .dataframe thead th {\n",
       "        text-align: right;\n",
       "    }\n",
       "</style>\n",
       "<table border=\"1\" class=\"dataframe\">\n",
       "  <thead>\n",
       "    <tr style=\"text-align: right;\">\n",
       "      <th></th>\n",
       "      <th>count</th>\n",
       "      <th>mean</th>\n",
       "      <th>std</th>\n",
       "      <th>min</th>\n",
       "      <th>25%</th>\n",
       "      <th>50%</th>\n",
       "      <th>75%</th>\n",
       "      <th>max</th>\n",
       "    </tr>\n",
       "  </thead>\n",
       "  <tbody>\n",
       "    <tr>\n",
       "      <th>상영시간</th>\n",
       "      <td>208.0</td>\n",
       "      <td>85.192308</td>\n",
       "      <td>19.717854</td>\n",
       "      <td>60.0</td>\n",
       "      <td>71.0</td>\n",
       "      <td>80.0</td>\n",
       "      <td>92.0</td>\n",
       "      <td>159.0</td>\n",
       "    </tr>\n",
       "  </tbody>\n",
       "</table>\n",
       "</div>"
      ],
      "text/plain": [
       "      count       mean        std   min   25%   50%   75%    max\n",
       "상영시간  208.0  85.192308  19.717854  60.0  71.0  80.0  92.0  159.0"
      ]
     },
     "execution_count": 70,
     "metadata": {},
     "output_type": "execute_result"
    }
   ],
   "source": [
    "mergedata['상영시간'].describe().to_frame().T"
   ]
  },
  {
   "cell_type": "code",
   "execution_count": 67,
   "id": "aa951641",
   "metadata": {},
   "outputs": [
    {
     "data": {
      "text/plain": [
       "False"
      ]
     },
     "execution_count": 67,
     "metadata": {},
     "output_type": "execute_result"
    }
   ],
   "source": [
    "mergedata['상영시간'].hasnans"
   ]
  },
  {
   "cell_type": "code",
   "execution_count": 71,
   "id": "69da6850",
   "metadata": {},
   "outputs": [
    {
     "data": {
      "text/plain": [
       "60      8\n",
       "61      4\n",
       "64      4\n",
       "67      8\n",
       "69      8\n",
       "70     16\n",
       "71     16\n",
       "72     12\n",
       "74     16\n",
       "78      4\n",
       "80     12\n",
       "81      8\n",
       "85      4\n",
       "86      4\n",
       "88      4\n",
       "89      8\n",
       "90      4\n",
       "91      4\n",
       "92     16\n",
       "93      4\n",
       "97      4\n",
       "100     4\n",
       "102     4\n",
       "111     4\n",
       "112     4\n",
       "115     4\n",
       "117     4\n",
       "120     4\n",
       "122     4\n",
       "123     4\n",
       "159     4\n",
       "Name: 상영시간, dtype: int64"
      ]
     },
     "execution_count": 71,
     "metadata": {},
     "output_type": "execute_result"
    }
   ],
   "source": [
    "mergedata['상영시간'].value_counts().sort_index()"
   ]
  },
  {
   "cell_type": "code",
   "execution_count": 75,
   "id": "5423e711",
   "metadata": {},
   "outputs": [
    {
     "data": {
      "text/html": [
       "<div>\n",
       "<style scoped>\n",
       "    .dataframe tbody tr th:only-of-type {\n",
       "        vertical-align: middle;\n",
       "    }\n",
       "\n",
       "    .dataframe tbody tr th {\n",
       "        vertical-align: top;\n",
       "    }\n",
       "\n",
       "    .dataframe thead th {\n",
       "        text-align: right;\n",
       "    }\n",
       "</style>\n",
       "<table border=\"1\" class=\"dataframe\">\n",
       "  <thead>\n",
       "    <tr style=\"text-align: right;\">\n",
       "      <th></th>\n",
       "      <th>제작사</th>\n",
       "      <th>영화감독</th>\n",
       "      <th>영화장르(전체)</th>\n",
       "      <th>영화코드</th>\n",
       "      <th>영화명(국문)</th>\n",
       "      <th>영화명(영문)</th>\n",
       "      <th>제작국가(전체)</th>\n",
       "      <th>개봉일</th>\n",
       "      <th>제작상태</th>\n",
       "      <th>제작연도</th>\n",
       "      <th>...</th>\n",
       "      <th>상영시간</th>\n",
       "      <th>개봉연도</th>\n",
       "      <th>국가</th>\n",
       "      <th>장르</th>\n",
       "      <th>감독</th>\n",
       "      <th>배우</th>\n",
       "      <th>상영형태 구분</th>\n",
       "      <th>참여 영화사</th>\n",
       "      <th>심의정보</th>\n",
       "      <th>스텝</th>\n",
       "    </tr>\n",
       "  </thead>\n",
       "  <tbody>\n",
       "    <tr>\n",
       "      <th>4</th>\n",
       "      <td>[{'companyCd': '20239677', 'companyNm': '(주)영화...</td>\n",
       "      <td>[{'peopleNm': '박성광'}]</td>\n",
       "      <td>코미디,액션</td>\n",
       "      <td>20210544</td>\n",
       "      <td>웅남이</td>\n",
       "      <td>woongnami</td>\n",
       "      <td>한국</td>\n",
       "      <td>20230322</td>\n",
       "      <td>개봉</td>\n",
       "      <td>2023</td>\n",
       "      <td>...</td>\n",
       "      <td>97</td>\n",
       "      <td>20230322</td>\n",
       "      <td>[{'nationNm': '한국'}]</td>\n",
       "      <td>[{'genreNm': '코미디'}, {'genreNm': '액션'}]</td>\n",
       "      <td>[{'peopleNm': '박성광', 'peopleNmEn': 'PARK Seong...</td>\n",
       "      <td>[{'peopleNm': '박성웅', 'peopleNmEn': 'PARK Sung-...</td>\n",
       "      <td>[{'showTypeGroupNm': '2D', 'showTypeNm': '디지털'}]</td>\n",
       "      <td>[{'companyCd': '20239677', 'companyNm': '(주)영화...</td>\n",
       "      <td>[{'auditNo': '2023-MF00680 ', 'watchGradeNm': ...</td>\n",
       "      <td>[{'peopleNm': '이안나', 'peopleNmEn': '', 'staffR...</td>\n",
       "    </tr>\n",
       "  </tbody>\n",
       "</table>\n",
       "<p>1 rows × 27 columns</p>\n",
       "</div>"
      ],
      "text/plain": [
       "                                                 제작사                   영화감독  \\\n",
       "4  [{'companyCd': '20239677', 'companyNm': '(주)영화...  [{'peopleNm': '박성광'}]   \n",
       "\n",
       "  영화장르(전체)      영화코드 영화명(국문)    영화명(영문) 제작국가(전체)       개봉일 제작상태  제작연도  ...  \\\n",
       "4   코미디,액션  20210544     웅남이  woongnami       한국  20230322   개봉  2023  ...   \n",
       "\n",
       "  상영시간      개봉연도                    국가  \\\n",
       "4   97  20230322  [{'nationNm': '한국'}]   \n",
       "\n",
       "                                        장르  \\\n",
       "4  [{'genreNm': '코미디'}, {'genreNm': '액션'}]   \n",
       "\n",
       "                                                  감독  \\\n",
       "4  [{'peopleNm': '박성광', 'peopleNmEn': 'PARK Seong...   \n",
       "\n",
       "                                                  배우  \\\n",
       "4  [{'peopleNm': '박성웅', 'peopleNmEn': 'PARK Sung-...   \n",
       "\n",
       "                                            상영형태 구분  \\\n",
       "4  [{'showTypeGroupNm': '2D', 'showTypeNm': '디지털'}]   \n",
       "\n",
       "                                              참여 영화사  \\\n",
       "4  [{'companyCd': '20239677', 'companyNm': '(주)영화...   \n",
       "\n",
       "                                                심의정보  \\\n",
       "4  [{'auditNo': '2023-MF00680 ', 'watchGradeNm': ...   \n",
       "\n",
       "                                                  스텝  \n",
       "4  [{'peopleNm': '이안나', 'peopleNmEn': '', 'staffR...  \n",
       "\n",
       "[1 rows x 27 columns]"
      ]
     },
     "execution_count": 75,
     "metadata": {},
     "output_type": "execute_result"
    }
   ],
   "source": [
    "# '웅남이'의 출연 배우 목록\n",
    "woongnam = mergedata[mergedata['영화명(국문)'] == '웅남이']\n",
    "woongnam = woongnam.head(1)\n",
    "woongnam"
   ]
  },
  {
   "cell_type": "code",
   "execution_count": 86,
   "id": "d3df45a0",
   "metadata": {},
   "outputs": [
    {
     "name": "stdout",
     "output_type": "stream",
     "text": [
      "./../data/actor_list.csv 파일 생성됨\n"
     ]
    }
   ],
   "source": [
    "actorlist = woongnam.iloc[0]['배우']\n",
    "totallist = list()\n",
    "for actor_dict in actorlist:\n",
    "    totallist.append(actor_dict)\n",
    "#end for\n",
    "\n",
    "rename_dict = {'peopleNm':'한글이름', 'peopleNmEn':'영문이름','cast':'배역','castEn':'영문배역'}\n",
    "actorFrame = pd.DataFrame(totallist)\n",
    "actorFrame = actorFrame.rename(columns=rename_dict)\n",
    "\n",
    "\n",
    "filename = dataInFolder + 'actor_list.csv'\n",
    "\n",
    "actorFrame.to_csv(filename, encoding='CP949')\n",
    "print(filename + ' 파일 생성됨')"
   ]
  },
  {
   "cell_type": "code",
   "execution_count": null,
   "id": "c1bb20ad",
   "metadata": {},
   "outputs": [],
   "source": [
    "# 영화 '대외비'와 '찬란한 나의 복수'의 배우, 스태프, 감독 목록"
   ]
  }
 ],
 "metadata": {
  "kernelspec": {
   "display_name": "Python 3 (ipykernel)",
   "language": "python",
   "name": "python3"
  },
  "language_info": {
   "codemirror_mode": {
    "name": "ipython",
    "version": 3
   },
   "file_extension": ".py",
   "mimetype": "text/x-python",
   "name": "python",
   "nbconvert_exporter": "python",
   "pygments_lexer": "ipython3",
   "version": "3.11.2"
  }
 },
 "nbformat": 4,
 "nbformat_minor": 5
}
