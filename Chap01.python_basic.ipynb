{
 "cells": [
  {
   "cell_type": "code",
   "execution_count": null,
   "id": "c014199f",
   "metadata": {},
   "outputs": [],
   "source": [
    "# ESC누르고 M 누른 후 shift+enter를 누르면 됨\n",
    "#  <h1>간단한 산술 연산</h1>"
   ]
  },
  {
   "cell_type": "markdown",
   "id": "e03a4e2d",
   "metadata": {},
   "source": [
    "<h1>(1일차) 간단한 산술 연산</h1>"
   ]
  },
  {
   "cell_type": "code",
   "execution_count": null,
   "id": "87d73abc",
   "metadata": {},
   "outputs": [],
   "source": [
    "# ESC누르고 M 누른 후 shift+enter를 누르면 됨\n",
    "# <h4><font color=\"green\">변수 a를 정의합니다.</font></h4>"
   ]
  },
  {
   "cell_type": "markdown",
   "id": "986a5f08",
   "metadata": {},
   "source": [
    "<h4><font color=\"red\">변수 a를 정의합니다.</font></h4>"
   ]
  },
  {
   "cell_type": "code",
   "execution_count": null,
   "id": "c181ea75",
   "metadata": {},
   "outputs": [],
   "source": [
    "# a를 누르면 현재 셀의 위쪽에 새로운 셀을 추가합니다.\n",
    "# b를 누르면 현재 셀의 아래에 새로운 셀을 추가합니다.(insert cell below)\n",
    "# controll + shift"
   ]
  },
  {
   "cell_type": "code",
   "execution_count": null,
   "id": "a4d49fe8",
   "metadata": {
    "scrolled": true
   },
   "outputs": [],
   "source": [
    "a=14\n",
    "a"
   ]
  },
  {
   "cell_type": "markdown",
   "id": "af5d6534",
   "metadata": {},
   "source": [
    "<h4><font color=\"red\">변수 b를 정의합니다.</font></h4>"
   ]
  },
  {
   "cell_type": "code",
   "execution_count": null,
   "id": "580d997f",
   "metadata": {},
   "outputs": [],
   "source": [
    "b=5\n",
    "b"
   ]
  },
  {
   "cell_type": "markdown",
   "id": "14917718",
   "metadata": {},
   "source": [
    "<h4><font color=\"red\">변수 c를 정의하고, a와 b의 합을 구합니다.</font></h4>"
   ]
  },
  {
   "cell_type": "code",
   "execution_count": null,
   "id": "d76a2b67",
   "metadata": {},
   "outputs": [],
   "source": [
    "c=a+b\n",
    "c"
   ]
  },
  {
   "cell_type": "code",
   "execution_count": null,
   "id": "8328e5a1",
   "metadata": {},
   "outputs": [],
   "source": [
    "#ESC + m + shfit + enter"
   ]
  },
  {
   "cell_type": "markdown",
   "id": "fa59d0b1",
   "metadata": {},
   "source": [
    "<h1><font color=\"blue\">(1일차) 데이터 타입과 입출력</font></h1>"
   ]
  },
  {
   "cell_type": "markdown",
   "id": "43d13661",
   "metadata": {},
   "source": [
    "<h4><font color=\"red\">입출력 함수 사용하기.</font></h4>"
   ]
  },
  {
   "cell_type": "code",
   "execution_count": null,
   "id": "3a4e8f16",
   "metadata": {},
   "outputs": [],
   "source": [
    "name = input('이름 입력 : ')\n",
    "address = input('주소 입력 : ')"
   ]
  },
  {
   "cell_type": "code",
   "execution_count": null,
   "id": "59c42706",
   "metadata": {},
   "outputs": [],
   "source": [
    "print('이름 : %s ' % (name))\n",
    "print('주소 : %s ' % (address))"
   ]
  },
  {
   "cell_type": "markdown",
   "id": "c2dde684",
   "metadata": {},
   "source": [
    "<h4><font color=\"red\">데이터의 형변환.</font></h4>"
   ]
  },
  {
   "cell_type": "code",
   "execution_count": null,
   "id": "ebef0191",
   "metadata": {},
   "outputs": [],
   "source": [
    "data01='11.11'\n",
    "data02='22.22'\n",
    "data03=50"
   ]
  },
  {
   "cell_type": "code",
   "execution_count": null,
   "id": "5e4b3f8e",
   "metadata": {},
   "outputs": [],
   "source": [
    "sum=data01+data02 # 문자열 결합\n",
    "sum"
   ]
  },
  {
   "cell_type": "code",
   "execution_count": null,
   "id": "e3e4e979",
   "metadata": {},
   "outputs": [],
   "source": [
    "float01=float(data01)\n",
    "float02=float(data02)\n",
    "sum=float01+float02\n",
    "sum"
   ]
  },
  {
   "cell_type": "code",
   "execution_count": null,
   "id": "e899a456",
   "metadata": {},
   "outputs": [],
   "source": [
    "float03=float(data03)\n",
    "sum=float02+float03\n",
    "sum"
   ]
  },
  {
   "cell_type": "code",
   "execution_count": null,
   "id": "ba316d7b",
   "metadata": {},
   "outputs": [],
   "source": [
    "int01=int(float01)\n",
    "int02=int(float02)\n",
    "int03=int(data03)\n",
    "sum=int01+int02+int03\n",
    "sum"
   ]
  },
  {
   "cell_type": "code",
   "execution_count": null,
   "id": "22c10099",
   "metadata": {},
   "outputs": [],
   "source": [
    "print('변수 float01의 타입 : ' + str(type(float01)))"
   ]
  },
  {
   "cell_type": "code",
   "execution_count": null,
   "id": "24ed92d7",
   "metadata": {},
   "outputs": [],
   "source": [
    "print(type(int02))\n",
    "print(type(data01))"
   ]
  },
  {
   "cell_type": "markdown",
   "id": "67444cf6",
   "metadata": {},
   "source": [
    "<h4><font color=\"red\">format 함수 사용하기.</font></h4>"
   ]
  },
  {
   "cell_type": "code",
   "execution_count": null,
   "id": "59e94d8e",
   "metadata": {},
   "outputs": [],
   "source": [
    "product = '우유'\n",
    "bottle = 5\n",
    "message = '우리 매장의 {} 재고는 총 {}개 입니다. '\n",
    "print(message.format(product,bottle))"
   ]
  },
  {
   "cell_type": "code",
   "execution_count": null,
   "id": "7163b8fe",
   "metadata": {},
   "outputs": [],
   "source": [
    "price = 1000\n",
    "cup = int(input('몇잔 마실래?'))"
   ]
  },
  {
   "cell_type": "code",
   "execution_count": null,
   "id": "13c0edb9",
   "metadata": {
    "scrolled": true
   },
   "outputs": [],
   "source": [
    "# format() 함수를 이용하여 다음과 같이 출력해 보세요.\n",
    "# 2병의 우유는 2000원에 판매 됩니다.\n",
    "message = '{}잔의 {}는 {}원에 판매됩니다. '\n",
    "print(message.format(cup, product, cup*price))"
   ]
  },
  {
   "cell_type": "markdown",
   "id": "ef44b324",
   "metadata": {},
   "source": [
    "<h1><font color=\"blue\">(1일차) 조건 판단문</font></h1>"
   ]
  },
  {
   "cell_type": "markdown",
   "id": "69f3d24e",
   "metadata": {},
   "source": [
    "<h4><font color=\"red\">미성년자 체크하기.</font></h4>"
   ]
  },
  {
   "cell_type": "code",
   "execution_count": null,
   "id": "75f70108",
   "metadata": {},
   "outputs": [],
   "source": [
    "# input() 함수는 반환 타입이 문자열(str)입니다.\n",
    "name = input('이름 입력 : ')\n",
    "age = int(input('나이 입력 : '))"
   ]
  },
  {
   "cell_type": "code",
   "execution_count": null,
   "id": "91213046",
   "metadata": {},
   "outputs": [],
   "source": [
    "if age >= 19 :\n",
    "    result = '성인'\n",
    "else :\n",
    "    result = '미성년자'"
   ]
  },
  {
   "cell_type": "code",
   "execution_count": null,
   "id": "3365adb8",
   "metadata": {},
   "outputs": [],
   "source": [
    "message = '{}님은 \\'{}\\'입니다.'\n",
    "print(message.format(name,result))"
   ]
  },
  {
   "cell_type": "markdown",
   "id": "ca32fadc",
   "metadata": {},
   "source": [
    "<h4><font color=\"red\">미성년자 체크하기.</font></h4>"
   ]
  },
  {
   "cell_type": "code",
   "execution_count": null,
   "id": "81ac6956",
   "metadata": {},
   "outputs": [],
   "source": [
    "name = input('이름 입력 : ')\n",
    "jumsu = int(input('점수 입력:'))"
   ]
  },
  {
   "cell_type": "code",
   "execution_count": null,
   "id": "e74ac41f",
   "metadata": {},
   "outputs": [],
   "source": [
    "if jumsu >= 90 :\n",
    "    result = '수'\n",
    "elif jumsu >= 80 :\n",
    "    result = '우'\n",
    "elif jumsu >= 70 :\n",
    "    result = '미'\n",
    "elif jumsu >= 60 :\n",
    "    result = '양'\n",
    "else :\n",
    "    result = '가'"
   ]
  },
  {
   "cell_type": "code",
   "execution_count": null,
   "id": "999ce882",
   "metadata": {},
   "outputs": [],
   "source": [
    "message = '\\'{}\\'님의 점수는 \\'{}\\'이며, 성적은 \\'{}\\'입니다.'\n",
    "print(message.format(name,jumsu,result))"
   ]
  },
  {
   "cell_type": "markdown",
   "id": "ce4b9230",
   "metadata": {},
   "source": [
    "<h1><font color=\"blue\">(1일차) 집합(iterable) 자료형</font></h1>"
   ]
  },
  {
   "cell_type": "markdown",
   "id": "0c9d8900",
   "metadata": {},
   "source": [
    "<h4><font color=\"red\">리스트(list) 다루기.</font></h4>"
   ]
  },
  {
   "cell_type": "code",
   "execution_count": null,
   "id": "fd6c4f42",
   "metadata": {},
   "outputs": [],
   "source": [
    "humans = ['박진솔','김성경','이정상','김정우','이명균','양인우','노유정','박지만']\n",
    "humans"
   ]
  },
  {
   "cell_type": "code",
   "execution_count": null,
   "id": "b02c21c2",
   "metadata": {},
   "outputs": [],
   "source": [
    "print(type(humans))"
   ]
  },
  {
   "cell_type": "code",
   "execution_count": null,
   "id": "a3d265e6",
   "metadata": {},
   "outputs": [],
   "source": [
    "# 인덱싱(indexing) : 인덱스를 이용하여 특정 요소를 출출하는 동작.\n",
    "humans[3] # 양수는 앞에서 카운트를 시작한다 (0 base)"
   ]
  },
  {
   "cell_type": "code",
   "execution_count": null,
   "id": "f3c7e714",
   "metadata": {},
   "outputs": [],
   "source": [
    "humans[-3] # 음수는 뒤에서 카운트를 시작한다 (1 base)"
   ]
  },
  {
   "cell_type": "code",
   "execution_count": null,
   "id": "b6ebb870",
   "metadata": {},
   "outputs": [],
   "source": [
    "# 슬라이싱(slicing) : 전체 요소에서 데이터의 일부분을 얻어 내는 동작.\n",
    "humans[1:4] # start <= 범위 < stop"
   ]
  },
  {
   "cell_type": "code",
   "execution_count": null,
   "id": "4a612d64",
   "metadata": {},
   "outputs": [],
   "source": [
    "length = len(humans)\n",
    "print('요소 개수 : {}'. format(str(length)))"
   ]
  },
  {
   "cell_type": "code",
   "execution_count": null,
   "id": "4fc4847b",
   "metadata": {},
   "outputs": [],
   "source": [
    "# humans[start:stop:step]이라는 뜻 java의 for(i=1 ; i <= 10 ; i++)\n",
    "# 변수(기본 값) : start(1), stop(요소 길이), step(1)\n",
    "humans[1:length:3]"
   ]
  },
  {
   "cell_type": "code",
   "execution_count": null,
   "id": "509906da",
   "metadata": {},
   "outputs": [],
   "source": [
    "print('3의 배수만 출력하기')\n",
    "humans[0:length:3]"
   ]
  },
  {
   "cell_type": "markdown",
   "id": "b8e928bb",
   "metadata": {},
   "source": [
    "<h4><font color=\"red\">사전(dictionary) 다루기.</font></h4>"
   ]
  },
  {
   "cell_type": "code",
   "execution_count": null,
   "id": "45ee8d49",
   "metadata": {
    "scrolled": true
   },
   "outputs": [],
   "source": [
    "dictionary = {'kor':85, 'eng':70, 'math':50} # 'key':value"
   ]
  },
  {
   "cell_type": "code",
   "execution_count": null,
   "id": "028f45b0",
   "metadata": {},
   "outputs": [],
   "source": [
    "print('사전의 key 목록 보기')\n",
    "for key in dictionary.keys():\n",
    "    print(key)"
   ]
  },
  {
   "cell_type": "code",
   "execution_count": null,
   "id": "f98a9765",
   "metadata": {},
   "outputs": [],
   "source": [
    "print('사전의 value 목록 보기')\n",
    "for value in dictionary.values():\n",
    "    print(value)"
   ]
  },
  {
   "cell_type": "code",
   "execution_count": null,
   "id": "c4f649ce",
   "metadata": {},
   "outputs": [],
   "source": [
    "print('item() 메소드는 key와 values를 한번에 보여 줍니다.')\n",
    "message = '과목 {}의 점수 : {}'\n",
    "\n",
    "for (key, value) in dictionary.items():\n",
    "    print(message.format(key, value))"
   ]
  },
  {
   "cell_type": "code",
   "execution_count": null,
   "id": "20c7ffdf",
   "metadata": {},
   "outputs": [],
   "source": [
    "subject = 'eng' # 찾을 과목\n",
    "print(subject in dictionary) # 사전에 존재 하나요?\n",
    "dictionary['eng'] # 사전에서 읽기"
   ]
  },
  {
   "cell_type": "code",
   "execution_count": null,
   "id": "3ec78b36",
   "metadata": {},
   "outputs": [],
   "source": [
    "dictionary['sci'] = 90 # # dictionary 안의 'sci'를 get(넣어)해준다.\n",
    "print(dictionary)"
   ]
  },
  {
   "cell_type": "code",
   "execution_count": null,
   "id": "22204d16",
   "metadata": {},
   "outputs": [],
   "source": [
    "if subject in dictionary:\n",
    "    print('eng 과목은 ' + str(dictionary[subject]) + '점 입니다.')\n",
    "else:\n",
    "    print(subject + ' 과목은 응시하지 않았습니다.')"
   ]
  },
  {
   "cell_type": "code",
   "execution_count": null,
   "id": "0a462867",
   "metadata": {},
   "outputs": [],
   "source": [
    "print('pop 메소드 사용하기')\n",
    "result = dictionary.pop('eng') # dictionary 안의 'eng'를 pop(추출)한다.\n",
    "\n",
    "print('pop 이후의 사전 내용 : ', dictionary)\n",
    "print('pop 결과 : ', result)"
   ]
  },
  {
   "cell_type": "code",
   "execution_count": null,
   "id": "3dd5ea30",
   "metadata": {},
   "outputs": [],
   "source": [
    "dictionary.clear()\n",
    "print('clear 이후의 사전 내용 : ', dictionary)"
   ]
  },
  {
   "cell_type": "markdown",
   "id": "1a4f0b1c",
   "metadata": {},
   "source": [
    "<h4><font color=\"red\">튜플(tuple) 다루기.</font></h4>"
   ]
  },
  {
   "cell_type": "code",
   "execution_count": null,
   "id": "d366e2ba",
   "metadata": {},
   "outputs": [],
   "source": [
    "print(type(('사과')))\n",
    "print(type(('사과',)))"
   ]
  },
  {
   "cell_type": "code",
   "execution_count": null,
   "id": "eab75ee1",
   "metadata": {},
   "outputs": [],
   "source": [
    "tuple01 = ('사과','바나나','체리')\n",
    "tuple01 += ('감',)\n",
    "tuple01"
   ]
  },
  {
   "cell_type": "code",
   "execution_count": null,
   "id": "b9cf391a",
   "metadata": {},
   "outputs": [],
   "source": [
    "tuple02 = ('사과','바나나','체리','감')\n",
    "tuple02"
   ]
  },
  {
   "cell_type": "code",
   "execution_count": null,
   "id": "d367e075",
   "metadata": {},
   "outputs": [],
   "source": [
    "if tuple01 == tuple02:\n",
    "    print('component equal')\n",
    "else :\n",
    "    print('component not equal')"
   ]
  },
  {
   "cell_type": "code",
   "execution_count": null,
   "id": "100fd553",
   "metadata": {},
   "outputs": [],
   "source": [
    "# 단순히 콤마 연결로, tuple을 만들 수 있습니다.\n",
    "tuple03 = '사과','오렌지','귤'\n",
    "tuple03"
   ]
  },
  {
   "cell_type": "code",
   "execution_count": null,
   "id": "315fffb5",
   "metadata": {},
   "outputs": [],
   "source": [
    "tuple04 = ('사과','바나나','체리')\n",
    "tuple05 = ('감','귤','밤')"
   ]
  },
  {
   "cell_type": "code",
   "execution_count": null,
   "id": "3cdff0fa",
   "metadata": {},
   "outputs": [],
   "source": [
    "print('+ 기호는 튜플을 합치는 역할을 합니다')\n",
    "mytuple = tuple04 + tuple05\n",
    "mytuple"
   ]
  },
  {
   "cell_type": "code",
   "execution_count": null,
   "id": "bf7f8a01",
   "metadata": {},
   "outputs": [],
   "source": [
    "print('* 기호는 튜플을 지정수 만큼 반복하는 역할을 합니다')\n",
    "mytuple = tuple04 * 4\n",
    "mytuple"
   ]
  },
  {
   "cell_type": "code",
   "execution_count": null,
   "id": "cc8535a1",
   "metadata": {},
   "outputs": [],
   "source": [
    "# swap 기법 : 서로 다른 두 변수의 값을 바꾸는 알고리즘\n",
    "a, b = 11, 22\n",
    "a, b = b, a\n",
    "\n",
    "print('a =',b,',b =',b)\n",
    "print('a = {} ,b = {}'.format(a,b))"
   ]
  },
  {
   "cell_type": "code",
   "execution_count": null,
   "id": "835783af",
   "metadata": {},
   "outputs": [],
   "source": [
    "# 인덱싱과 슬라이싱 역시 사용 가능합니다.\n",
    "mytuple = tuple04 + tuple05\n",
    "mytuple"
   ]
  },
  {
   "cell_type": "code",
   "execution_count": null,
   "id": "f5d68793",
   "metadata": {},
   "outputs": [],
   "source": [
    "mytuple[2]"
   ]
  },
  {
   "cell_type": "code",
   "execution_count": null,
   "id": "320e5d8a",
   "metadata": {},
   "outputs": [],
   "source": [
    "mytuple[1:4]"
   ]
  },
  {
   "cell_type": "code",
   "execution_count": null,
   "id": "96bde547",
   "metadata": {
    "scrolled": true
   },
   "outputs": [],
   "source": [
    "# tuple은 요소의 값 변경을 허용하지 않습니다.\n",
    "mytuple[0] = '배'"
   ]
  },
  {
   "cell_type": "code",
   "execution_count": null,
   "id": "cef4473b",
   "metadata": {},
   "outputs": [],
   "source": [
    "# tuple의 요소를 변경하는 절차\n",
    "# 1. list로 타입 변경\n",
    "# 2. 필요한 요소의 값을 수정\n",
    "# 3. 다시 tuple로 타입 변경\n",
    "mylist = list(mytuple)\n",
    "mylist[0] = '배'\n",
    "mylist[1] = '딸기'\n",
    "mytuple = tuple(mylist)\n",
    "mytuple"
   ]
  },
  {
   "cell_type": "code",
   "execution_count": null,
   "id": "49ea80e2",
   "metadata": {},
   "outputs": [],
   "source": [
    "for item in mytuple:\n",
    "    print(item)\n",
    "    \n",
    "mytuple"
   ]
  },
  {
   "cell_type": "code",
   "execution_count": null,
   "id": "21cbf63e",
   "metadata": {},
   "outputs": [],
   "source": [
    "mytuple += ('바나나','바나나')\n",
    "mytuple"
   ]
  },
  {
   "cell_type": "code",
   "execution_count": null,
   "id": "15147986",
   "metadata": {},
   "outputs": [],
   "source": [
    "# 숫자라서 문자로 바꿔줘야함\n",
    "finditem = '바나나'\n",
    "print('바나나 요소 개수 : ' + str(mytuple.count(finditem))) "
   ]
  },
  {
   "cell_type": "code",
   "execution_count": null,
   "id": "17317041",
   "metadata": {},
   "outputs": [],
   "source": [
    "finditem = '체리'\n",
    "print('체리는 몇 번째에 있나요? : ' + str(mytuple.index(finditem))+ '번째') "
   ]
  },
  {
   "cell_type": "markdown",
   "id": "316e6d64",
   "metadata": {},
   "source": [
    "<h4><font color=\"red\">집합(set) 다루기.</font></h4>"
   ]
  },
  {
   "cell_type": "code",
   "execution_count": null,
   "id": "62ecd74e",
   "metadata": {},
   "outputs": [],
   "source": [
    "# 집합이기 때문에 사과가 중복해서 나오지 않음\n",
    "fruits = {'사과','키위','복숭아','사과'}\n",
    "fruits"
   ]
  },
  {
   "cell_type": "code",
   "execution_count": null,
   "id": "e4618d89",
   "metadata": {},
   "outputs": [],
   "source": [
    "fruits.add('오렌지') #add\n",
    "fruits"
   ]
  },
  {
   "cell_type": "code",
   "execution_count": null,
   "id": "7501318d",
   "metadata": {},
   "outputs": [],
   "source": [
    "another = {'파인애플','망고','귤'}\n",
    "fruits.update(another) #update\n",
    "fruits"
   ]
  },
  {
   "cell_type": "code",
   "execution_count": null,
   "id": "ef9ccbbe",
   "metadata": {},
   "outputs": [],
   "source": [
    "fruits.remove('망고')\n",
    "fruits"
   ]
  },
  {
   "cell_type": "code",
   "execution_count": null,
   "id": "9662e5a0",
   "metadata": {},
   "outputs": [],
   "source": [
    "print('과일 총 개수 : %d' %(len(fruits)))"
   ]
  },
  {
   "cell_type": "code",
   "execution_count": null,
   "id": "fd1164d2",
   "metadata": {},
   "outputs": [],
   "source": [
    "finditem = '망고'\n",
    "if finditem in fruits :\n",
    "    print(finditem + '는(은) 목록에 들어 있습니다.')\n",
    "else :\n",
    "    print(finditem + '는(은) 목록에 들어 있지 않습니다.')\n",
    "    "
   ]
  },
  {
   "cell_type": "code",
   "execution_count": null,
   "id": "ab02c974",
   "metadata": {},
   "outputs": [],
   "source": [
    "for item in fruits:\n",
    "    print(item)"
   ]
  },
  {
   "cell_type": "code",
   "execution_count": null,
   "id": "cebd6d4d",
   "metadata": {},
   "outputs": [],
   "source": [
    "fruits.clear()"
   ]
  },
  {
   "cell_type": "code",
   "execution_count": null,
   "id": "a1bfad2f",
   "metadata": {},
   "outputs": [],
   "source": [
    "fruit01 = set(('사과','복숭아'))\n",
    "fruit02 = set(('키위','복숭아'))"
   ]
  },
  {
   "cell_type": "code",
   "execution_count": null,
   "id": "f75e8392",
   "metadata": {},
   "outputs": [],
   "source": [
    "# 합집합\n",
    "newset01 = fruit01.union(fruit02) \n",
    "newset01"
   ]
  },
  {
   "cell_type": "code",
   "execution_count": null,
   "id": "7ce04b31",
   "metadata": {},
   "outputs": [],
   "source": [
    "# 교집합\n",
    "newset02 = fruit01.intersection(fruit02)\n",
    "newset02"
   ]
  },
  {
   "cell_type": "code",
   "execution_count": null,
   "id": "e7f5e005",
   "metadata": {},
   "outputs": [],
   "source": [
    "# 차집합 fruite01에서 02를 뺀 것\n",
    "newset031 = fruit01.difference(fruit02)\n",
    "newset031"
   ]
  },
  {
   "cell_type": "code",
   "execution_count": null,
   "id": "28fff54f",
   "metadata": {},
   "outputs": [],
   "source": [
    "# 차집합 fruite02에서 01를 뺀 것\n",
    "newset032 = fruit02.difference(fruit01)\n",
    "newset032"
   ]
  },
  {
   "cell_type": "code",
   "execution_count": null,
   "id": "8511b62b",
   "metadata": {},
   "outputs": [],
   "source": [
    "if newset031 == newset032 :\n",
    "    print('교환 법칙 성립함')\n",
    "else :\n",
    "    print('교환 법칙 성립 안 함')"
   ]
  },
  {
   "cell_type": "code",
   "execution_count": null,
   "id": "f6a67d27",
   "metadata": {},
   "outputs": [],
   "source": [
    "# 교집합을 뺀 나머지\n",
    "newset04 = fruit01.symmetric_difference(fruit02)\n",
    "newset04"
   ]
  },
  {
   "cell_type": "code",
   "execution_count": null,
   "id": "a939d99b",
   "metadata": {},
   "outputs": [],
   "source": [
    "fruit01 = set(('사과','복숭아','키위','귤'))\n",
    "fruit02 = set(('키위','감'))\n",
    "fruit03 = set(('키위','귤'))"
   ]
  },
  {
   "cell_type": "code",
   "execution_count": null,
   "id": "b174d892",
   "metadata": {},
   "outputs": [],
   "source": [
    "result = fruit02.issubset(fruit01)\n",
    "result # fruit02의 과일들은 fruit01에 모두 포함 되어 있나요?"
   ]
  },
  {
   "cell_type": "code",
   "execution_count": null,
   "id": "c53062ec",
   "metadata": {},
   "outputs": [],
   "source": [
    "result = fruit03.issubset(fruit01)\n",
    "result"
   ]
  },
  {
   "cell_type": "code",
   "execution_count": null,
   "id": "16f4708d",
   "metadata": {},
   "outputs": [],
   "source": [
    "result = fruit01.issuperset(fruit03)\n",
    "result"
   ]
  },
  {
   "cell_type": "markdown",
   "id": "b5e0c096",
   "metadata": {},
   "source": [
    "<h1><font color=\"blue\">(2일차) 반복문</font></h1>"
   ]
  },
  {
   "cell_type": "markdown",
   "id": "f2edcb67",
   "metadata": {},
   "source": [
    "<h4><font color=\"red\">range() 함수.</font></h4>"
   ]
  },
  {
   "cell_type": "code",
   "execution_count": null,
   "id": "4eb2f890",
   "metadata": {},
   "outputs": [],
   "source": [
    "# range([start,]stop[,step])"
   ]
  },
  {
   "cell_type": "code",
   "execution_count": null,
   "id": "5f9e9be9",
   "metadata": {
    "scrolled": true
   },
   "outputs": [],
   "source": [
    "for idx in range(3):\n",
    "    print(idx)"
   ]
  },
  {
   "cell_type": "code",
   "execution_count": null,
   "id": "8fca5361",
   "metadata": {},
   "outputs": [],
   "source": [
    "for idx in range(1,3):\n",
    "    print(idx)"
   ]
  },
  {
   "cell_type": "code",
   "execution_count": null,
   "id": "3cfc7712",
   "metadata": {},
   "outputs": [],
   "source": [
    "for idx in range(1,11,3):\n",
    "    print(idx)"
   ]
  },
  {
   "cell_type": "markdown",
   "id": "f7cf1e1a",
   "metadata": {},
   "source": [
    "<h4><font color=\"red\">for반복문과 문자열 함수.</font></h4>"
   ]
  },
  {
   "cell_type": "code",
   "execution_count": null,
   "id": "a91ec75f",
   "metadata": {},
   "outputs": [],
   "source": [
    "mystring = 'What A Wonderful World'\n",
    "mystring"
   ]
  },
  {
   "cell_type": "code",
   "execution_count": null,
   "id": "b770c4a3",
   "metadata": {},
   "outputs": [],
   "source": [
    "mylist = mystring.split()\n",
    "print(type(mylist))\n",
    "mylist"
   ]
  },
  {
   "cell_type": "code",
   "execution_count": null,
   "id": "7fcb7e80",
   "metadata": {},
   "outputs": [],
   "source": [
    "for idx in range(len(mylist)):\n",
    "    if idx % 2 == 0:\n",
    "        mylist[idx] = mylist[idx].upper()\n",
    "    else:\n",
    "        mylist[idx] = mylist[idx].lower()\n",
    "#end for\n",
    "\n",
    "mylist"
   ]
  },
  {
   "cell_type": "code",
   "execution_count": null,
   "id": "203607a6",
   "metadata": {},
   "outputs": [],
   "source": [
    "result = '#'.join(mylist)\n",
    "result"
   ]
  },
  {
   "cell_type": "code",
   "execution_count": null,
   "id": "bd8dbe18",
   "metadata": {},
   "outputs": [],
   "source": [
    "# To live or die, that is the question\n",
    "# 3의 배수일 때만 대문자로 바꾸고, answkdufdmf rufgkqgkf Eo @로 연결해 보세요"
   ]
  },
  {
   "cell_type": "code",
   "execution_count": null,
   "id": "7e13f934",
   "metadata": {},
   "outputs": [],
   "source": [
    "mystring = 'To live or die that is the question'\n",
    "mystring"
   ]
  },
  {
   "cell_type": "code",
   "execution_count": null,
   "id": "2053514d",
   "metadata": {},
   "outputs": [],
   "source": [
    "mylist = mystring.split()\n",
    "print(type(mylist))\n",
    "mylist"
   ]
  },
  {
   "cell_type": "code",
   "execution_count": null,
   "id": "02cd0239",
   "metadata": {},
   "outputs": [],
   "source": [
    "for idx in range(len(mylist)):\n",
    "    if idx % 3 == 0:\n",
    "        mylist[idx] = mylist[idx].upper()\n",
    "    else :\n",
    "        mylist[idx] = mylist[idx].lower()\n",
    "\n",
    "mylist"
   ]
  },
  {
   "cell_type": "code",
   "execution_count": null,
   "id": "e81e42ea",
   "metadata": {},
   "outputs": [],
   "source": [
    "result = '@#'.join(mylist)\n",
    "result"
   ]
  },
  {
   "cell_type": "markdown",
   "id": "bfac35ab",
   "metadata": {},
   "source": [
    "<h4><font color=\"red\">while 반복문.</font></h4>"
   ]
  },
  {
   "cell_type": "code",
   "execution_count": null,
   "id": "7c52eaab",
   "metadata": {},
   "outputs": [],
   "source": [
    "# 재고 소진시 까지 판매하기\n",
    "# 개인 컵 가져 오면 100원 할인하기\n",
    "product = '우유'\n",
    "bottle = 3 # 판매 가능 수량\n",
    "price = 1000 # 단가\n",
    "discount = 100 # 개인 컵 할인 금액\n",
    "\n",
    "print(' %s 판매 가능 수량 : %d' % (product, bottle))\n",
    "print(' 단가 : %d' % (price))"
   ]
  },
  {
   "cell_type": "code",
   "execution_count": null,
   "id": "eea0b294",
   "metadata": {},
   "outputs": [],
   "source": [
    "while True:\n",
    "    money = int(input('돈을 넣어 주세요 :'))\n",
    "    \n",
    "    # 프로그래밍에서 0은 거짓 , 0이 아니면 참 입니다.\n",
    "    hasMyCup = bool(int(input('개인 컵이 있나요? (있음(1), 없음(0)) :')))\n",
    "    \n",
    "    if money == price :\n",
    "        print('%s 1병을 판매를 합니다.' % (product))\n",
    "        bottle -= 1\n",
    "        change = discount\n",
    "        print('%d을 손님에게 거슬러 줍니다.' % (change))\n",
    "        \n",
    "    elif money > price :\n",
    "        print('%s 1병을 판매를 합니다.' % (product))\n",
    "        bottle -= 1\n",
    "        change = money - price + discount\n",
    "        print('%d을 손님에게 거슬러 줍니다.' % (change))\n",
    "        \n",
    "    else :\n",
    "         print('금액이 부족하여 %s를 판매할 수 없습니다.' % (product))\n",
    "            \n",
    "    # end if\n",
    "    \n",
    "    if bottle == 0:\n",
    "        print('%s가 소진 되어서 판매를 중지합니다.' % (product))\n",
    "        break\n",
    "# while True"
   ]
  },
  {
   "cell_type": "code",
   "execution_count": null,
   "id": "6b27f9a1",
   "metadata": {},
   "outputs": [],
   "source": [
    "# 재고 소진시 까지 판매하기\n",
    "# 개인 컵 가져 오면 100원 할인하기\n",
    "product = '우유'\n",
    "bottle = 3 # 판매 가능 수량\n",
    "price = 1000 # 단가\n",
    "discount = 100 # 개인 컵 할인 금액\n",
    "\n",
    "print(' %s 판매 가능 수량 : %d' % (product, bottle))\n",
    "print(' 단가 : %d' % (price))"
   ]
  },
  {
   "cell_type": "code",
   "execution_count": null,
   "id": "5b45fbe3",
   "metadata": {},
   "outputs": [],
   "source": [
    "while True:\n",
    "    money = int(input('돈을 넣어 주세요 :'))\n",
    "    \n",
    "    # 프로그래밍에서 0은 거짓 , 0이 아니면 참 입니다.\n",
    "    hasMyCup = bool(int(input('개인 컵이 있나요? (있음(1), 없음(0)) :')))\n",
    "    \n",
    "    if money == price :\n",
    "        print('%s 1병을 판매를 합니다.' % (product))\n",
    "        bottle -= 1\n",
    "        if hasMyCup :\n",
    "            change = discount\n",
    "            print('%d을 손님에게 거슬러 줍니다.' % (change))\n",
    "        \n",
    "    elif money > price :\n",
    "        print('%s 1병을 판매를 합니다.' % (product))\n",
    "        bottle -= 1\n",
    "        change = money - price\n",
    "        if hasMyCup :\n",
    "            change += discount\n",
    "        print('%d을 손님에게 거슬러 줍니다.' % (change))\n",
    "        \n",
    "    else :\n",
    "         print('금액이 부족하여 %s를 판매할 수 없습니다.' % (product))\n",
    "            \n",
    "    # end if\n",
    "    \n",
    "    if bottle == 0:\n",
    "        print('%s가 소진 되어서 판매를 중지합니다.' % (product))\n",
    "        break\n",
    "    else :\n",
    "        print('bottle = ' + str(bottle))\n",
    "# while True"
   ]
  },
  {
   "cell_type": "markdown",
   "id": "9c58b670",
   "metadata": {},
   "source": [
    "<h4><font color=\"red\">List comprehension.</font></h4>"
   ]
  },
  {
   "cell_type": "code",
   "execution_count": null,
   "id": "90ee4885",
   "metadata": {},
   "outputs": [],
   "source": [
    "# Comprehension은 반복문 등을 사용하여 iterable(반복이 가능한) 객체를 생성해주는 문법"
   ]
  },
  {
   "cell_type": "code",
   "execution_count": 5,
   "id": "e902b130",
   "metadata": {},
   "outputs": [
    {
     "data": {
      "text/plain": [
       "[1, 2, 3, 4, 5]"
      ]
     },
     "execution_count": 5,
     "metadata": {},
     "output_type": "execute_result"
    }
   ],
   "source": [
    "mylist01 = [item for item in range(1,6)]\n",
    "mylist01"
   ]
  },
  {
   "cell_type": "code",
   "execution_count": 6,
   "id": "d7cec2b7",
   "metadata": {},
   "outputs": [
    {
     "data": {
      "text/plain": [
       "[1, 4, 9, 16, 25]"
      ]
     },
     "execution_count": 6,
     "metadata": {},
     "output_type": "execute_result"
    }
   ],
   "source": [
    "# **은 제곱인데 **2는 2제곱 **3은 3제곱이다.\n",
    "mylist02 = [item**2 for item in range(1,6)]\n",
    "mylist02"
   ]
  },
  {
   "cell_type": "code",
   "execution_count": 7,
   "id": "8f3173f0",
   "metadata": {},
   "outputs": [
    {
     "data": {
      "text/plain": [
       "[2, 4]"
      ]
     },
     "execution_count": 7,
     "metadata": {},
     "output_type": "execute_result"
    }
   ],
   "source": [
    "# 원소는 item 숫자는 idx\n",
    "mylist03 = [idx for idx in range(1,6) if idx %2 == 0]\n",
    "mylist03"
   ]
  },
  {
   "cell_type": "code",
   "execution_count": 8,
   "id": "1dfdba11",
   "metadata": {},
   "outputs": [
    {
     "data": {
      "text/plain": [
       "['박진솔님', '김성경님', '이정상님', '김정우님', '이명균님', '양인우님', '노유정님', '박지만님']"
      ]
     },
     "execution_count": 8,
     "metadata": {},
     "output_type": "execute_result"
    }
   ],
   "source": [
    "humans = ['박진솔','김성경','이정상','김정우','이명균','양인우','노유정','박지만']\n",
    "mylist04 = [saram + '님' for saram in humans]\n",
    "mylist04"
   ]
  },
  {
   "cell_type": "code",
   "execution_count": 9,
   "id": "aeb53a3a",
   "metadata": {},
   "outputs": [
    {
     "data": {
      "text/plain": [
       "['박진솔', '김정우', '노유정']"
      ]
     },
     "execution_count": 9,
     "metadata": {},
     "output_type": "execute_result"
    }
   ],
   "source": [
    "mylist05 = [humans[idx] for idx in range(len(humans)) if idx % 3 == 0]\n",
    "mylist05"
   ]
  },
  {
   "cell_type": "markdown",
   "id": "ceb527cf",
   "metadata": {},
   "source": [
    "<h4><font color=\"red\">Dict comprehension.</font></h4>"
   ]
  },
  {
   "cell_type": "code",
   "execution_count": 10,
   "id": "e4df3d30",
   "metadata": {},
   "outputs": [
    {
     "data": {
      "text/plain": [
       "{'키위': 30, '사과': 20, '복숭아': 50}"
      ]
     },
     "execution_count": 10,
     "metadata": {},
     "output_type": "execute_result"
    }
   ],
   "source": [
    "fruits = ['키위','사과','복숭아']\n",
    "stock = [30, 20, 50]\n",
    "\n",
    "mydict01 = {key:value for key, value in zip(fruits, stock)}\n",
    "mydict01"
   ]
  },
  {
   "cell_type": "code",
   "execution_count": 11,
   "id": "5c75cceb",
   "metadata": {},
   "outputs": [
    {
     "data": {
      "text/plain": [
       "[('오랜지', 10), ('귤', 20), ('망고', 30)]"
      ]
     },
     "execution_count": 11,
     "metadata": {},
     "output_type": "execute_result"
    }
   ],
   "source": [
    "fruit_tuples = [('오랜지',10),('귤',20),('망고',30)]\n",
    "fruit_tuples"
   ]
  },
  {
   "cell_type": "code",
   "execution_count": 12,
   "id": "4d3e88b1",
   "metadata": {},
   "outputs": [
    {
     "data": {
      "text/plain": [
       "{'오랜지': 10, '귤': 20, '망고': 30}"
      ]
     },
     "execution_count": 12,
     "metadata": {},
     "output_type": "execute_result"
    }
   ],
   "source": [
    "mydict02 = {item[0]:item[1] for item in fruit_tuples}\n",
    "mydict02"
   ]
  },
  {
   "cell_type": "code",
   "execution_count": 13,
   "id": "ea963074",
   "metadata": {
    "scrolled": true
   },
   "outputs": [
    {
     "data": {
      "text/plain": [
       "{'귤': 20, '망고': 30}"
      ]
     },
     "execution_count": 13,
     "metadata": {},
     "output_type": "execute_result"
    }
   ],
   "source": [
    "mydict02 = {item[0]:item[1] for item in fruit_tuples if item[1] >= 20}\n",
    "mydict02"
   ]
  },
  {
   "cell_type": "markdown",
   "id": "7b3b8b13",
   "metadata": {},
   "source": [
    "<h4><font color=\"red\">Set comprehension.</font></h4>"
   ]
  },
  {
   "cell_type": "code",
   "execution_count": 14,
   "id": "0203ea74",
   "metadata": {},
   "outputs": [
    {
     "data": {
      "text/plain": [
       "[1, 2, 3, 4]"
      ]
     },
     "execution_count": 14,
     "metadata": {},
     "output_type": "execute_result"
    }
   ],
   "source": [
    "mylist = [4, 1, 3, 2, 3, 1]\n",
    "mydict = {item for item in mylist}\n",
    "newlist = [item for item in mydict]\n",
    "newlist"
   ]
  },
  {
   "cell_type": "code",
   "execution_count": 15,
   "id": "4b8de93e",
   "metadata": {},
   "outputs": [
    {
     "name": "stdout",
     "output_type": "stream",
     "text": [
      "The existing list is:\n",
      "[1, 2, 3, 4, 5, 6, 7, 8, 9, 10]\n",
      "The Newly Created set is:\n",
      "[2, 4, 6, 8, 10]\n"
     ]
    }
   ],
   "source": [
    "mylist = [item for item in range(1, 11)]\n",
    "newSet = [item for item in mylist if item % 2 == 0]\n",
    "\n",
    "print('The existing list is:')\n",
    "print(mylist)\n",
    "print('The Newly Created set is:')\n",
    "print(newSet)"
   ]
  }
 ],
 "metadata": {
  "kernelspec": {
   "display_name": "Python 3 (ipykernel)",
   "language": "python",
   "name": "python3"
  },
  "language_info": {
   "codemirror_mode": {
    "name": "ipython",
    "version": 3
   },
   "file_extension": ".py",
   "mimetype": "text/x-python",
   "name": "python",
   "nbconvert_exporter": "python",
   "pygments_lexer": "ipython3",
   "version": "3.10.9"
  }
 },
 "nbformat": 4,
 "nbformat_minor": 5
}
