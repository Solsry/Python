{
 "cells": [
  {
   "cell_type": "markdown",
   "id": "b363ce57",
   "metadata": {},
   "source": [
    "<h1><font color=\"blue\">데이터 프레임(DataFrame)</font></h1>"
   ]
  },
  {
   "cell_type": "markdown",
   "id": "9ab37c6f",
   "metadata": {},
   "source": [
    "<h3><font color=\"red\">DataFrame의 생성과 속성 다루기</font></h3>"
   ]
  },
  {
   "cell_type": "markdown",
   "id": "1786dbcd",
   "metadata": {},
   "source": [
    "<h4><font color=\"green\"> DataFrame 생성하기</font></h4>"
   ]
  },
  {
   "cell_type": "markdown",
   "id": "f8b8953a",
   "metadata": {},
   "source": [
    "<h6><font color=\"BlueViolet\">1) DataFrame 생성</font></h6>"
   ]
  },
  {
   "cell_type": "code",
   "execution_count": 1,
   "id": "11e5ce74",
   "metadata": {},
   "outputs": [],
   "source": [
    "import pandas as pd"
   ]
  },
  {
   "cell_type": "code",
   "execution_count": 2,
   "id": "1bc4849b",
   "metadata": {
    "scrolled": true
   },
   "outputs": [
    {
     "data": {
      "text/html": [
       "<div>\n",
       "<style scoped>\n",
       "    .dataframe tbody tr th:only-of-type {\n",
       "        vertical-align: middle;\n",
       "    }\n",
       "\n",
       "    .dataframe tbody tr th {\n",
       "        vertical-align: top;\n",
       "    }\n",
       "\n",
       "    .dataframe thead th {\n",
       "        text-align: right;\n",
       "    }\n",
       "</style>\n",
       "<table border=\"1\" class=\"dataframe\">\n",
       "  <thead>\n",
       "    <tr style=\"text-align: right;\">\n",
       "      <th></th>\n",
       "      <th>이름</th>\n",
       "      <th>직업</th>\n",
       "      <th>권역</th>\n",
       "      <th>연령대</th>\n",
       "      <th>성별</th>\n",
       "    </tr>\n",
       "  </thead>\n",
       "  <tbody>\n",
       "    <tr>\n",
       "      <th>0</th>\n",
       "      <td>김철수</td>\n",
       "      <td>의사</td>\n",
       "      <td>서울</td>\n",
       "      <td>청년</td>\n",
       "      <td>남</td>\n",
       "    </tr>\n",
       "    <tr>\n",
       "      <th>1</th>\n",
       "      <td>박영희</td>\n",
       "      <td>변호사</td>\n",
       "      <td>경기</td>\n",
       "      <td>중년</td>\n",
       "      <td>여</td>\n",
       "    </tr>\n",
       "  </tbody>\n",
       "</table>\n",
       "</div>"
      ],
      "text/plain": [
       "    이름   직업  권역 연령대 성별\n",
       "0  김철수   의사  서울  청년  남\n",
       "1  박영희  변호사  경기  중년  여"
      ]
     },
     "execution_count": 2,
     "metadata": {},
     "output_type": "execute_result"
    }
   ],
   "source": [
    "humans01 = pd.DataFrame({\n",
    "    '이름':['김철수','박영희'],\n",
    "    '직업':['의사','변호사'],\n",
    "    '권역':['서울','경기'],\n",
    "    '연령대':['청년','중년'],\n",
    "    '성별':['남','여']\n",
    "})\n",
    "humans01 # 5열 2행의 데이터프레임 완성"
   ]
  },
  {
   "cell_type": "markdown",
   "id": "23203e0b",
   "metadata": {},
   "source": [
    "<h6><font color=\"BlueViolet\">2) index 매개 변수 사용하기</font></h6>"
   ]
  },
  {
   "cell_type": "code",
   "execution_count": 3,
   "id": "2d68cd84",
   "metadata": {},
   "outputs": [
    {
     "data": {
      "text/html": [
       "<div>\n",
       "<style scoped>\n",
       "    .dataframe tbody tr th:only-of-type {\n",
       "        vertical-align: middle;\n",
       "    }\n",
       "\n",
       "    .dataframe tbody tr th {\n",
       "        vertical-align: top;\n",
       "    }\n",
       "\n",
       "    .dataframe thead th {\n",
       "        text-align: right;\n",
       "    }\n",
       "</style>\n",
       "<table border=\"1\" class=\"dataframe\">\n",
       "  <thead>\n",
       "    <tr style=\"text-align: right;\">\n",
       "      <th></th>\n",
       "      <th>직업</th>\n",
       "      <th>권역</th>\n",
       "      <th>연령대</th>\n",
       "      <th>성별</th>\n",
       "    </tr>\n",
       "  </thead>\n",
       "  <tbody>\n",
       "    <tr>\n",
       "      <th>김철수</th>\n",
       "      <td>의사</td>\n",
       "      <td>서울</td>\n",
       "      <td>청년</td>\n",
       "      <td>남</td>\n",
       "    </tr>\n",
       "    <tr>\n",
       "      <th>박영희</th>\n",
       "      <td>변호사</td>\n",
       "      <td>경기</td>\n",
       "      <td>중년</td>\n",
       "      <td>여</td>\n",
       "    </tr>\n",
       "  </tbody>\n",
       "</table>\n",
       "</div>"
      ],
      "text/plain": [
       "      직업  권역 연령대 성별\n",
       "김철수   의사  서울  청년  남\n",
       "박영희  변호사  경기  중년  여"
      ]
     },
     "execution_count": 3,
     "metadata": {},
     "output_type": "execute_result"
    }
   ],
   "source": [
    "humans02 = pd.DataFrame({\n",
    "    '직업':['의사','변호사'],\n",
    "    '권역':['서울','경기'],\n",
    "    '연령대':['청년','중년'],\n",
    "    '성별':['남','여']},\n",
    "    index=['김철수','박영희']\n",
    ")\n",
    "humans02 \n",
    "# {} 괄호 열고 닫고를 조심해야함 / dict이기 때문에 안에 data만 {} 처리 해야함."
   ]
  },
  {
   "cell_type": "code",
   "execution_count": 4,
   "id": "9b18f4d8",
   "metadata": {
    "scrolled": true
   },
   "outputs": [
    {
     "data": {
      "text/html": [
       "<div>\n",
       "<style scoped>\n",
       "    .dataframe tbody tr th:only-of-type {\n",
       "        vertical-align: middle;\n",
       "    }\n",
       "\n",
       "    .dataframe tbody tr th {\n",
       "        vertical-align: top;\n",
       "    }\n",
       "\n",
       "    .dataframe thead th {\n",
       "        text-align: right;\n",
       "    }\n",
       "</style>\n",
       "<table border=\"1\" class=\"dataframe\">\n",
       "  <thead>\n",
       "    <tr style=\"text-align: right;\">\n",
       "      <th></th>\n",
       "      <th>성별</th>\n",
       "      <th>나이</th>\n",
       "      <th>직업</th>\n",
       "    </tr>\n",
       "  </thead>\n",
       "  <tbody>\n",
       "    <tr>\n",
       "      <th>김철수</th>\n",
       "      <td>남</td>\n",
       "      <td>10</td>\n",
       "      <td>의사</td>\n",
       "    </tr>\n",
       "    <tr>\n",
       "      <th>유관순</th>\n",
       "      <td>여</td>\n",
       "      <td>15</td>\n",
       "      <td>판사</td>\n",
       "    </tr>\n",
       "    <tr>\n",
       "      <th>이순신</th>\n",
       "      <td>남</td>\n",
       "      <td>20</td>\n",
       "      <td>변호사</td>\n",
       "    </tr>\n",
       "    <tr>\n",
       "      <th>황진이</th>\n",
       "      <td>여</td>\n",
       "      <td>25</td>\n",
       "      <td>학생</td>\n",
       "    </tr>\n",
       "  </tbody>\n",
       "</table>\n",
       "</div>"
      ],
      "text/plain": [
       "    성별  나이   직업\n",
       "김철수  남  10   의사\n",
       "유관순  여  15   판사\n",
       "이순신  남  20  변호사\n",
       "황진이  여  25   학생"
      ]
     },
     "execution_count": 4,
     "metadata": {},
     "output_type": "execute_result"
    }
   ],
   "source": [
    "mydata01 = {\n",
    "    '성별':['남','여','남','여'],\n",
    "    '나이':[10,15,20,25],\n",
    "    '직업':['의사','판사','변호사','학생'],\n",
    "}\n",
    "myindex01 = ['김철수','유관순','이순신','황진이']\n",
    "\n",
    "myframe01 = pd.DataFrame(mydata01, index=myindex01)\n",
    "myframe01"
   ]
  },
  {
   "cell_type": "markdown",
   "id": "89008568",
   "metadata": {},
   "source": [
    "<h6><font color=\"BlueViolet\">3) DataFrame 속성 정보</font></h6>"
   ]
  },
  {
   "cell_type": "code",
   "execution_count": 5,
   "id": "281c7b61",
   "metadata": {},
   "outputs": [
    {
     "name": "stdout",
     "output_type": "stream",
     "text": [
      "<class 'pandas.core.frame.DataFrame'>\n"
     ]
    }
   ],
   "source": [
    "print(type(myframe01 ))"
   ]
  },
  {
   "cell_type": "code",
   "execution_count": 6,
   "id": "17072463",
   "metadata": {},
   "outputs": [
    {
     "data": {
      "text/html": [
       "<div>\n",
       "<style scoped>\n",
       "    .dataframe tbody tr th:only-of-type {\n",
       "        vertical-align: middle;\n",
       "    }\n",
       "\n",
       "    .dataframe tbody tr th {\n",
       "        vertical-align: top;\n",
       "    }\n",
       "\n",
       "    .dataframe thead th {\n",
       "        text-align: right;\n",
       "    }\n",
       "</style>\n",
       "<table border=\"1\" class=\"dataframe\">\n",
       "  <thead>\n",
       "    <tr style=\"text-align: right;\">\n",
       "      <th>직원 정보</th>\n",
       "      <th>성별</th>\n",
       "      <th>나이</th>\n",
       "      <th>직업</th>\n",
       "    </tr>\n",
       "    <tr>\n",
       "      <th>직원 이름</th>\n",
       "      <th></th>\n",
       "      <th></th>\n",
       "      <th></th>\n",
       "    </tr>\n",
       "  </thead>\n",
       "  <tbody>\n",
       "    <tr>\n",
       "      <th>김철수</th>\n",
       "      <td>남</td>\n",
       "      <td>10</td>\n",
       "      <td>의사</td>\n",
       "    </tr>\n",
       "    <tr>\n",
       "      <th>유관순</th>\n",
       "      <td>여</td>\n",
       "      <td>15</td>\n",
       "      <td>판사</td>\n",
       "    </tr>\n",
       "    <tr>\n",
       "      <th>이순신</th>\n",
       "      <td>남</td>\n",
       "      <td>20</td>\n",
       "      <td>변호사</td>\n",
       "    </tr>\n",
       "    <tr>\n",
       "      <th>황진이</th>\n",
       "      <td>여</td>\n",
       "      <td>25</td>\n",
       "      <td>학생</td>\n",
       "    </tr>\n",
       "  </tbody>\n",
       "</table>\n",
       "</div>"
      ],
      "text/plain": [
       "직원 정보 성별  나이   직업\n",
       "직원 이름            \n",
       "김철수    남  10   의사\n",
       "유관순    여  15   판사\n",
       "이순신    남  20  변호사\n",
       "황진이    여  25   학생"
      ]
     },
     "execution_count": 6,
     "metadata": {},
     "output_type": "execute_result"
    }
   ],
   "source": [
    "myframe01.columns.name = '직원 정보'\n",
    "myframe01.index.name = '직원 이름'\n",
    "myframe01"
   ]
  },
  {
   "cell_type": "code",
   "execution_count": 7,
   "id": "4fd45896",
   "metadata": {},
   "outputs": [
    {
     "name": "stdout",
     "output_type": "stream",
     "text": [
      "Index(['김철수', '유관순', '이순신', '황진이'], dtype='object', name='직원 이름')\n"
     ]
    }
   ],
   "source": [
    "print(myframe01.index)"
   ]
  },
  {
   "cell_type": "code",
   "execution_count": 8,
   "id": "56dc205e",
   "metadata": {},
   "outputs": [
    {
     "name": "stdout",
     "output_type": "stream",
     "text": [
      "Index(['성별', '나이', '직업'], dtype='object', name='직원 정보')\n"
     ]
    }
   ],
   "source": [
    "print(myframe01.columns)"
   ]
  },
  {
   "cell_type": "code",
   "execution_count": 9,
   "id": "da680242",
   "metadata": {},
   "outputs": [
    {
     "name": "stdout",
     "output_type": "stream",
     "text": [
      "[['남' 10 '의사']\n",
      " ['여' 15 '판사']\n",
      " ['남' 20 '변호사']\n",
      " ['여' 25 '학생']]\n",
      "<class 'numpy.ndarray'>\n"
     ]
    }
   ],
   "source": [
    "print(myframe01.values)\n",
    "print(type(myframe01.values))"
   ]
  },
  {
   "cell_type": "code",
   "execution_count": 10,
   "id": "c0ef70c4",
   "metadata": {},
   "outputs": [
    {
     "name": "stdout",
     "output_type": "stream",
     "text": [
      "직원 정보\n",
      "성별    object\n",
      "나이     int64\n",
      "직업    object\n",
      "dtype: object\n"
     ]
    }
   ],
   "source": [
    "print(myframe01.dtypes)"
   ]
  },
  {
   "cell_type": "code",
   "execution_count": 11,
   "id": "f76937c6",
   "metadata": {},
   "outputs": [
    {
     "data": {
      "text/html": [
       "<div>\n",
       "<style scoped>\n",
       "    .dataframe tbody tr th:only-of-type {\n",
       "        vertical-align: middle;\n",
       "    }\n",
       "\n",
       "    .dataframe tbody tr th {\n",
       "        vertical-align: top;\n",
       "    }\n",
       "\n",
       "    .dataframe thead th {\n",
       "        text-align: right;\n",
       "    }\n",
       "</style>\n",
       "<table border=\"1\" class=\"dataframe\">\n",
       "  <thead>\n",
       "    <tr style=\"text-align: right;\">\n",
       "      <th>직원 이름</th>\n",
       "      <th>김철수</th>\n",
       "      <th>유관순</th>\n",
       "      <th>이순신</th>\n",
       "      <th>황진이</th>\n",
       "    </tr>\n",
       "    <tr>\n",
       "      <th>직원 정보</th>\n",
       "      <th></th>\n",
       "      <th></th>\n",
       "      <th></th>\n",
       "      <th></th>\n",
       "    </tr>\n",
       "  </thead>\n",
       "  <tbody>\n",
       "    <tr>\n",
       "      <th>성별</th>\n",
       "      <td>남</td>\n",
       "      <td>여</td>\n",
       "      <td>남</td>\n",
       "      <td>여</td>\n",
       "    </tr>\n",
       "    <tr>\n",
       "      <th>나이</th>\n",
       "      <td>10</td>\n",
       "      <td>15</td>\n",
       "      <td>20</td>\n",
       "      <td>25</td>\n",
       "    </tr>\n",
       "    <tr>\n",
       "      <th>직업</th>\n",
       "      <td>의사</td>\n",
       "      <td>판사</td>\n",
       "      <td>변호사</td>\n",
       "      <td>학생</td>\n",
       "    </tr>\n",
       "  </tbody>\n",
       "</table>\n",
       "</div>"
      ],
      "text/plain": [
       "직원 이름 김철수 유관순  이순신 황진이\n",
       "직원 정보                 \n",
       "성별      남   여    남   여\n",
       "나이     10  15   20  25\n",
       "직업     의사  판사  변호사  학생"
      ]
     },
     "execution_count": 11,
     "metadata": {},
     "output_type": "execute_result"
    }
   ],
   "source": [
    "myframe01.T"
   ]
  },
  {
   "cell_type": "code",
   "execution_count": 12,
   "id": "d2802d3b",
   "metadata": {},
   "outputs": [
    {
     "data": {
      "text/html": [
       "<div>\n",
       "<style scoped>\n",
       "    .dataframe tbody tr th:only-of-type {\n",
       "        vertical-align: middle;\n",
       "    }\n",
       "\n",
       "    .dataframe tbody tr th {\n",
       "        vertical-align: top;\n",
       "    }\n",
       "\n",
       "    .dataframe thead th {\n",
       "        text-align: right;\n",
       "    }\n",
       "</style>\n",
       "<table border=\"1\" class=\"dataframe\">\n",
       "  <thead>\n",
       "    <tr style=\"text-align: right;\">\n",
       "      <th></th>\n",
       "      <th>직업</th>\n",
       "      <th>성별</th>\n",
       "      <th>나이</th>\n",
       "    </tr>\n",
       "  </thead>\n",
       "  <tbody>\n",
       "    <tr>\n",
       "      <th>김철수</th>\n",
       "      <td>의사</td>\n",
       "      <td>남</td>\n",
       "      <td>10</td>\n",
       "    </tr>\n",
       "    <tr>\n",
       "      <th>유관순</th>\n",
       "      <td>판사</td>\n",
       "      <td>여</td>\n",
       "      <td>15</td>\n",
       "    </tr>\n",
       "    <tr>\n",
       "      <th>이순신</th>\n",
       "      <td>변호사</td>\n",
       "      <td>남</td>\n",
       "      <td>20</td>\n",
       "    </tr>\n",
       "    <tr>\n",
       "      <th>황진이</th>\n",
       "      <td>학생</td>\n",
       "      <td>여</td>\n",
       "      <td>25</td>\n",
       "    </tr>\n",
       "  </tbody>\n",
       "</table>\n",
       "</div>"
      ],
      "text/plain": [
       "      직업 성별  나이\n",
       "김철수   의사  남  10\n",
       "유관순   판사  여  15\n",
       "이순신  변호사  남  20\n",
       "황진이   학생  여  25"
      ]
     },
     "execution_count": 12,
     "metadata": {},
     "output_type": "execute_result"
    }
   ],
   "source": [
    "mycolumns01 = ['직업','성별','나이']\n",
    "newframe = pd.DataFrame(myframe01, index=myindex01, columns=mycolumns01)\n",
    "newframe"
   ]
  },
  {
   "cell_type": "markdown",
   "id": "2616f356",
   "metadata": {},
   "source": [
    "<h3><font color=\"red\">DataFrame의 읽기와 쓰기</font></h3>"
   ]
  },
  {
   "cell_type": "markdown",
   "id": "11ceefcc",
   "metadata": {},
   "source": [
    "<h4><font color=\"green\"> 영업 사원 실적표 DataFrame 생성</font></h4>"
   ]
  },
  {
   "cell_type": "code",
   "execution_count": 13,
   "id": "ec27ae11",
   "metadata": {},
   "outputs": [],
   "source": [
    "myindex02 = ['최유식','윤선협','유관철','심형식','연규희']\n",
    "mycolumns02 = ['중구','용산구','마포구','노원구','은평구']"
   ]
  },
  {
   "cell_type": "code",
   "execution_count": 14,
   "id": "a2145dee",
   "metadata": {},
   "outputs": [
    {
     "name": "stdout",
     "output_type": "stream",
     "text": [
      "[10, 20, 30, 40, 50, 60, 70, 80, 90, 100, 110, 120, 130, 140, 150, 160, 170, 180, 190, 200, 210, 220, 230, 240, 250]\n"
     ]
    }
   ],
   "source": [
    "mylist02 = list(10*onedata for onedata in range(1, 26))\n",
    "print(mylist02)"
   ]
  },
  {
   "cell_type": "markdown",
   "id": "5d9fa98d",
   "metadata": {},
   "source": [
    "<h4><font color=\"green\">DataFrame 읽기</font></h4>"
   ]
  },
  {
   "cell_type": "code",
   "execution_count": 15,
   "id": "92e53826",
   "metadata": {},
   "outputs": [],
   "source": [
    "import numpy as np"
   ]
  },
  {
   "cell_type": "code",
   "execution_count": 16,
   "id": "0c8067bf",
   "metadata": {
    "scrolled": false
   },
   "outputs": [
    {
     "data": {
      "text/html": [
       "<div>\n",
       "<style scoped>\n",
       "    .dataframe tbody tr th:only-of-type {\n",
       "        vertical-align: middle;\n",
       "    }\n",
       "\n",
       "    .dataframe tbody tr th {\n",
       "        vertical-align: top;\n",
       "    }\n",
       "\n",
       "    .dataframe thead th {\n",
       "        text-align: right;\n",
       "    }\n",
       "</style>\n",
       "<table border=\"1\" class=\"dataframe\">\n",
       "  <thead>\n",
       "    <tr style=\"text-align: right;\">\n",
       "      <th></th>\n",
       "      <th>중구</th>\n",
       "      <th>용산구</th>\n",
       "      <th>마포구</th>\n",
       "      <th>노원구</th>\n",
       "      <th>은평구</th>\n",
       "    </tr>\n",
       "  </thead>\n",
       "  <tbody>\n",
       "    <tr>\n",
       "      <th>최유식</th>\n",
       "      <td>10</td>\n",
       "      <td>20</td>\n",
       "      <td>30</td>\n",
       "      <td>40</td>\n",
       "      <td>50</td>\n",
       "    </tr>\n",
       "    <tr>\n",
       "      <th>윤선협</th>\n",
       "      <td>60</td>\n",
       "      <td>70</td>\n",
       "      <td>80</td>\n",
       "      <td>90</td>\n",
       "      <td>100</td>\n",
       "    </tr>\n",
       "    <tr>\n",
       "      <th>유관철</th>\n",
       "      <td>110</td>\n",
       "      <td>120</td>\n",
       "      <td>130</td>\n",
       "      <td>140</td>\n",
       "      <td>150</td>\n",
       "    </tr>\n",
       "    <tr>\n",
       "      <th>심형식</th>\n",
       "      <td>160</td>\n",
       "      <td>170</td>\n",
       "      <td>180</td>\n",
       "      <td>190</td>\n",
       "      <td>200</td>\n",
       "    </tr>\n",
       "    <tr>\n",
       "      <th>연규희</th>\n",
       "      <td>210</td>\n",
       "      <td>220</td>\n",
       "      <td>230</td>\n",
       "      <td>240</td>\n",
       "      <td>250</td>\n",
       "    </tr>\n",
       "  </tbody>\n",
       "</table>\n",
       "</div>"
      ],
      "text/plain": [
       "      중구  용산구  마포구  노원구  은평구\n",
       "최유식   10   20   30   40   50\n",
       "윤선협   60   70   80   90  100\n",
       "유관철  110  120  130  140  150\n",
       "심형식  160  170  180  190  200\n",
       "연규희  210  220  230  240  250"
      ]
     },
     "execution_count": 16,
     "metadata": {},
     "output_type": "execute_result"
    }
   ],
   "source": [
    "myframe02 = pd.DataFrame(np.reshape(mylist02, (5,5)),\\\n",
    "                         index=myindex02 , columns=mycolumns02)\n",
    "myframe02"
   ]
  },
  {
   "cell_type": "markdown",
   "id": "70055f0e",
   "metadata": {},
   "source": [
    "<h6><font color=\"BlueViolet\">iloc속성 사용</font></h6>"
   ]
  },
  {
   "cell_type": "code",
   "execution_count": 17,
   "id": "401ce871",
   "metadata": {
    "scrolled": true
   },
   "outputs": [
    {
     "data": {
      "text/plain": [
       "중구      60\n",
       "용산구     70\n",
       "마포구     80\n",
       "노원구     90\n",
       "은평구    100\n",
       "Name: 윤선협, dtype: int32"
      ]
     },
     "execution_count": 17,
     "metadata": {},
     "output_type": "execute_result"
    }
   ],
   "source": [
    "result = myframe02.iloc[1] #loc = location\n",
    "result"
   ]
  },
  {
   "cell_type": "code",
   "execution_count": 18,
   "id": "f82cb0c2",
   "metadata": {},
   "outputs": [
    {
     "data": {
      "text/html": [
       "<div>\n",
       "<style scoped>\n",
       "    .dataframe tbody tr th:only-of-type {\n",
       "        vertical-align: middle;\n",
       "    }\n",
       "\n",
       "    .dataframe tbody tr th {\n",
       "        vertical-align: top;\n",
       "    }\n",
       "\n",
       "    .dataframe thead th {\n",
       "        text-align: right;\n",
       "    }\n",
       "</style>\n",
       "<table border=\"1\" class=\"dataframe\">\n",
       "  <thead>\n",
       "    <tr style=\"text-align: right;\">\n",
       "      <th></th>\n",
       "      <th>중구</th>\n",
       "      <th>용산구</th>\n",
       "      <th>마포구</th>\n",
       "      <th>노원구</th>\n",
       "      <th>은평구</th>\n",
       "    </tr>\n",
       "  </thead>\n",
       "  <tbody>\n",
       "    <tr>\n",
       "      <th>윤선협</th>\n",
       "      <td>60</td>\n",
       "      <td>70</td>\n",
       "      <td>80</td>\n",
       "      <td>90</td>\n",
       "      <td>100</td>\n",
       "    </tr>\n",
       "    <tr>\n",
       "      <th>심형식</th>\n",
       "      <td>160</td>\n",
       "      <td>170</td>\n",
       "      <td>180</td>\n",
       "      <td>190</td>\n",
       "      <td>200</td>\n",
       "    </tr>\n",
       "  </tbody>\n",
       "</table>\n",
       "</div>"
      ],
      "text/plain": [
       "      중구  용산구  마포구  노원구  은평구\n",
       "윤선협   60   70   80   90  100\n",
       "심형식  160  170  180  190  200"
      ]
     },
     "execution_count": 18,
     "metadata": {},
     "output_type": "execute_result"
    }
   ],
   "source": [
    "result = myframe02.iloc[[1,3]]\n",
    "result"
   ]
  },
  {
   "cell_type": "code",
   "execution_count": 19,
   "id": "c98914d5",
   "metadata": {},
   "outputs": [
    {
     "data": {
      "text/html": [
       "<div>\n",
       "<style scoped>\n",
       "    .dataframe tbody tr th:only-of-type {\n",
       "        vertical-align: middle;\n",
       "    }\n",
       "\n",
       "    .dataframe tbody tr th {\n",
       "        vertical-align: top;\n",
       "    }\n",
       "\n",
       "    .dataframe thead th {\n",
       "        text-align: right;\n",
       "    }\n",
       "</style>\n",
       "<table border=\"1\" class=\"dataframe\">\n",
       "  <thead>\n",
       "    <tr style=\"text-align: right;\">\n",
       "      <th></th>\n",
       "      <th>중구</th>\n",
       "      <th>용산구</th>\n",
       "      <th>마포구</th>\n",
       "      <th>노원구</th>\n",
       "      <th>은평구</th>\n",
       "    </tr>\n",
       "  </thead>\n",
       "  <tbody>\n",
       "    <tr>\n",
       "      <th>최유식</th>\n",
       "      <td>10</td>\n",
       "      <td>20</td>\n",
       "      <td>30</td>\n",
       "      <td>40</td>\n",
       "      <td>50</td>\n",
       "    </tr>\n",
       "    <tr>\n",
       "      <th>유관철</th>\n",
       "      <td>110</td>\n",
       "      <td>120</td>\n",
       "      <td>130</td>\n",
       "      <td>140</td>\n",
       "      <td>150</td>\n",
       "    </tr>\n",
       "    <tr>\n",
       "      <th>연규희</th>\n",
       "      <td>210</td>\n",
       "      <td>220</td>\n",
       "      <td>230</td>\n",
       "      <td>240</td>\n",
       "      <td>250</td>\n",
       "    </tr>\n",
       "  </tbody>\n",
       "</table>\n",
       "</div>"
      ],
      "text/plain": [
       "      중구  용산구  마포구  노원구  은평구\n",
       "최유식   10   20   30   40   50\n",
       "유관철  110  120  130  140  150\n",
       "연규희  210  220  230  240  250"
      ]
     },
     "execution_count": 19,
     "metadata": {},
     "output_type": "execute_result"
    }
   ],
   "source": [
    "result = myframe02.iloc[0::2]\n",
    "result"
   ]
  },
  {
   "cell_type": "code",
   "execution_count": 20,
   "id": "f8087514",
   "metadata": {},
   "outputs": [
    {
     "data": {
      "text/plain": [
       "중구     210\n",
       "용산구    220\n",
       "마포구    230\n",
       "노원구    240\n",
       "은평구    250\n",
       "Name: 연규희, dtype: int32"
      ]
     },
     "execution_count": 20,
     "metadata": {},
     "output_type": "execute_result"
    }
   ],
   "source": [
    "result = myframe02.loc['연규희']\n",
    "result"
   ]
  },
  {
   "cell_type": "code",
   "execution_count": 21,
   "id": "cc3f2da7",
   "metadata": {},
   "outputs": [
    {
     "data": {
      "text/html": [
       "<div>\n",
       "<style scoped>\n",
       "    .dataframe tbody tr th:only-of-type {\n",
       "        vertical-align: middle;\n",
       "    }\n",
       "\n",
       "    .dataframe tbody tr th {\n",
       "        vertical-align: top;\n",
       "    }\n",
       "\n",
       "    .dataframe thead th {\n",
       "        text-align: right;\n",
       "    }\n",
       "</style>\n",
       "<table border=\"1\" class=\"dataframe\">\n",
       "  <thead>\n",
       "    <tr style=\"text-align: right;\">\n",
       "      <th></th>\n",
       "      <th>중구</th>\n",
       "      <th>용산구</th>\n",
       "      <th>마포구</th>\n",
       "      <th>노원구</th>\n",
       "      <th>은평구</th>\n",
       "    </tr>\n",
       "  </thead>\n",
       "  <tbody>\n",
       "    <tr>\n",
       "      <th>연규희</th>\n",
       "      <td>210</td>\n",
       "      <td>220</td>\n",
       "      <td>230</td>\n",
       "      <td>240</td>\n",
       "      <td>250</td>\n",
       "    </tr>\n",
       "  </tbody>\n",
       "</table>\n",
       "</div>"
      ],
      "text/plain": [
       "      중구  용산구  마포구  노원구  은평구\n",
       "연규희  210  220  230  240  250"
      ]
     },
     "execution_count": 21,
     "metadata": {},
     "output_type": "execute_result"
    }
   ],
   "source": [
    "result = myframe02.loc[['연규희']]\n",
    "result"
   ]
  },
  {
   "cell_type": "code",
   "execution_count": 22,
   "id": "5bdb7afb",
   "metadata": {
    "scrolled": true
   },
   "outputs": [
    {
     "data": {
      "text/html": [
       "<div>\n",
       "<style scoped>\n",
       "    .dataframe tbody tr th:only-of-type {\n",
       "        vertical-align: middle;\n",
       "    }\n",
       "\n",
       "    .dataframe tbody tr th {\n",
       "        vertical-align: top;\n",
       "    }\n",
       "\n",
       "    .dataframe thead th {\n",
       "        text-align: right;\n",
       "    }\n",
       "</style>\n",
       "<table border=\"1\" class=\"dataframe\">\n",
       "  <thead>\n",
       "    <tr style=\"text-align: right;\">\n",
       "      <th></th>\n",
       "      <th>중구</th>\n",
       "      <th>용산구</th>\n",
       "      <th>마포구</th>\n",
       "      <th>노원구</th>\n",
       "      <th>은평구</th>\n",
       "    </tr>\n",
       "  </thead>\n",
       "  <tbody>\n",
       "    <tr>\n",
       "      <th>유관철</th>\n",
       "      <td>110</td>\n",
       "      <td>120</td>\n",
       "      <td>130</td>\n",
       "      <td>140</td>\n",
       "      <td>150</td>\n",
       "    </tr>\n",
       "    <tr>\n",
       "      <th>심형식</th>\n",
       "      <td>160</td>\n",
       "      <td>170</td>\n",
       "      <td>180</td>\n",
       "      <td>190</td>\n",
       "      <td>200</td>\n",
       "    </tr>\n",
       "  </tbody>\n",
       "</table>\n",
       "</div>"
      ],
      "text/plain": [
       "      중구  용산구  마포구  노원구  은평구\n",
       "유관철  110  120  130  140  150\n",
       "심형식  160  170  180  190  200"
      ]
     },
     "execution_count": 22,
     "metadata": {},
     "output_type": "execute_result"
    }
   ],
   "source": [
    "result = myframe02.loc[['유관철','심형식']]\n",
    "result"
   ]
  },
  {
   "cell_type": "markdown",
   "id": "86ef80fa",
   "metadata": {},
   "source": [
    "<h6><font color=\"BlueViolet\">1) 복원 추출</font></h6>"
   ]
  },
  {
   "cell_type": "code",
   "execution_count": 23,
   "id": "e3631719",
   "metadata": {},
   "outputs": [
    {
     "data": {
      "text/plain": [
       "array(['연규희', '유관철', '윤선협'], dtype=object)"
      ]
     },
     "execution_count": 23,
     "metadata": {},
     "output_type": "execute_result"
    }
   ],
   "source": [
    "mytarget02 = np.random.choice(myframe02.index, 3)\n",
    "mytarget02"
   ]
  },
  {
   "cell_type": "code",
   "execution_count": 24,
   "id": "39413727",
   "metadata": {
    "scrolled": true
   },
   "outputs": [
    {
     "data": {
      "text/html": [
       "<div>\n",
       "<style scoped>\n",
       "    .dataframe tbody tr th:only-of-type {\n",
       "        vertical-align: middle;\n",
       "    }\n",
       "\n",
       "    .dataframe tbody tr th {\n",
       "        vertical-align: top;\n",
       "    }\n",
       "\n",
       "    .dataframe thead th {\n",
       "        text-align: right;\n",
       "    }\n",
       "</style>\n",
       "<table border=\"1\" class=\"dataframe\">\n",
       "  <thead>\n",
       "    <tr style=\"text-align: right;\">\n",
       "      <th></th>\n",
       "      <th>중구</th>\n",
       "      <th>용산구</th>\n",
       "      <th>마포구</th>\n",
       "      <th>노원구</th>\n",
       "      <th>은평구</th>\n",
       "    </tr>\n",
       "  </thead>\n",
       "  <tbody>\n",
       "    <tr>\n",
       "      <th>연규희</th>\n",
       "      <td>210</td>\n",
       "      <td>220</td>\n",
       "      <td>230</td>\n",
       "      <td>240</td>\n",
       "      <td>250</td>\n",
       "    </tr>\n",
       "    <tr>\n",
       "      <th>유관철</th>\n",
       "      <td>110</td>\n",
       "      <td>120</td>\n",
       "      <td>130</td>\n",
       "      <td>140</td>\n",
       "      <td>150</td>\n",
       "    </tr>\n",
       "    <tr>\n",
       "      <th>윤선협</th>\n",
       "      <td>60</td>\n",
       "      <td>70</td>\n",
       "      <td>80</td>\n",
       "      <td>90</td>\n",
       "      <td>100</td>\n",
       "    </tr>\n",
       "  </tbody>\n",
       "</table>\n",
       "</div>"
      ],
      "text/plain": [
       "      중구  용산구  마포구  노원구  은평구\n",
       "연규희  210  220  230  240  250\n",
       "유관철  110  120  130  140  150\n",
       "윤선협   60   70   80   90  100"
      ]
     },
     "execution_count": 24,
     "metadata": {},
     "output_type": "execute_result"
    }
   ],
   "source": [
    "result02= myframe02.loc[mytarget02]\n",
    "result02"
   ]
  },
  {
   "cell_type": "markdown",
   "id": "bf25b3fb",
   "metadata": {},
   "source": [
    "<h6><font color=\"BlueViolet\">2) 행과 열 동시에 추출하기</font></h6>"
   ]
  },
  {
   "cell_type": "code",
   "execution_count": 25,
   "id": "ea25350e",
   "metadata": {},
   "outputs": [
    {
     "data": {
      "text/html": [
       "<div>\n",
       "<style scoped>\n",
       "    .dataframe tbody tr th:only-of-type {\n",
       "        vertical-align: middle;\n",
       "    }\n",
       "\n",
       "    .dataframe tbody tr th {\n",
       "        vertical-align: top;\n",
       "    }\n",
       "\n",
       "    .dataframe thead th {\n",
       "        text-align: right;\n",
       "    }\n",
       "</style>\n",
       "<table border=\"1\" class=\"dataframe\">\n",
       "  <thead>\n",
       "    <tr style=\"text-align: right;\">\n",
       "      <th></th>\n",
       "      <th>노원구</th>\n",
       "    </tr>\n",
       "  </thead>\n",
       "  <tbody>\n",
       "    <tr>\n",
       "      <th>유관철</th>\n",
       "      <td>140</td>\n",
       "    </tr>\n",
       "  </tbody>\n",
       "</table>\n",
       "</div>"
      ],
      "text/plain": [
       "     노원구\n",
       "유관철  140"
      ]
     },
     "execution_count": 25,
     "metadata": {},
     "output_type": "execute_result"
    }
   ],
   "source": [
    "result02 = myframe02.loc[['유관철'],['노원구']]\n",
    "result02"
   ]
  },
  {
   "cell_type": "code",
   "execution_count": 26,
   "id": "94936b51",
   "metadata": {},
   "outputs": [
    {
     "data": {
      "text/html": [
       "<div>\n",
       "<style scoped>\n",
       "    .dataframe tbody tr th:only-of-type {\n",
       "        vertical-align: middle;\n",
       "    }\n",
       "\n",
       "    .dataframe tbody tr th {\n",
       "        vertical-align: top;\n",
       "    }\n",
       "\n",
       "    .dataframe thead th {\n",
       "        text-align: right;\n",
       "    }\n",
       "</style>\n",
       "<table border=\"1\" class=\"dataframe\">\n",
       "  <thead>\n",
       "    <tr style=\"text-align: right;\">\n",
       "      <th></th>\n",
       "      <th>용산구</th>\n",
       "      <th>마포구</th>\n",
       "    </tr>\n",
       "  </thead>\n",
       "  <tbody>\n",
       "    <tr>\n",
       "      <th>연규희</th>\n",
       "      <td>220</td>\n",
       "      <td>230</td>\n",
       "    </tr>\n",
       "    <tr>\n",
       "      <th>심형식</th>\n",
       "      <td>170</td>\n",
       "      <td>180</td>\n",
       "    </tr>\n",
       "  </tbody>\n",
       "</table>\n",
       "</div>"
      ],
      "text/plain": [
       "     용산구  마포구\n",
       "연규희  220  230\n",
       "심형식  170  180"
      ]
     },
     "execution_count": 26,
     "metadata": {},
     "output_type": "execute_result"
    }
   ],
   "source": [
    "result02 = myframe02.loc[['연규희','심형식'],['용산구','마포구']]\n",
    "result02"
   ]
  },
  {
   "cell_type": "markdown",
   "id": "eae84f12",
   "metadata": {},
   "source": [
    "<h6><font color=\"BlueViolet\">3) 관계 연산을 이용한 Boolean indexing</font></h6>"
   ]
  },
  {
   "cell_type": "code",
   "execution_count": 27,
   "id": "3db84b13",
   "metadata": {},
   "outputs": [
    {
     "data": {
      "text/html": [
       "<div>\n",
       "<style scoped>\n",
       "    .dataframe tbody tr th:only-of-type {\n",
       "        vertical-align: middle;\n",
       "    }\n",
       "\n",
       "    .dataframe tbody tr th {\n",
       "        vertical-align: top;\n",
       "    }\n",
       "\n",
       "    .dataframe thead th {\n",
       "        text-align: right;\n",
       "    }\n",
       "</style>\n",
       "<table border=\"1\" class=\"dataframe\">\n",
       "  <thead>\n",
       "    <tr style=\"text-align: right;\">\n",
       "      <th></th>\n",
       "      <th>0</th>\n",
       "    </tr>\n",
       "  </thead>\n",
       "  <tbody>\n",
       "    <tr>\n",
       "      <th>0</th>\n",
       "      <td>False</td>\n",
       "    </tr>\n",
       "    <tr>\n",
       "      <th>1</th>\n",
       "      <td>True</td>\n",
       "    </tr>\n",
       "    <tr>\n",
       "      <th>2</th>\n",
       "      <td>True</td>\n",
       "    </tr>\n",
       "    <tr>\n",
       "      <th>3</th>\n",
       "      <td>False</td>\n",
       "    </tr>\n",
       "    <tr>\n",
       "      <th>4</th>\n",
       "      <td>True</td>\n",
       "    </tr>\n",
       "  </tbody>\n",
       "</table>\n",
       "</div>"
      ],
      "text/plain": [
       "       0\n",
       "0  False\n",
       "1   True\n",
       "2   True\n",
       "3  False\n",
       "4   True"
      ]
     },
     "execution_count": 27,
     "metadata": {},
     "output_type": "execute_result"
    }
   ],
   "source": [
    "bollTest = [False, True, True, False, True]\n",
    "pd.DataFrame(bollTest)"
   ]
  },
  {
   "cell_type": "code",
   "execution_count": 28,
   "id": "642b75e4",
   "metadata": {},
   "outputs": [
    {
     "data": {
      "text/html": [
       "<div>\n",
       "<style scoped>\n",
       "    .dataframe tbody tr th:only-of-type {\n",
       "        vertical-align: middle;\n",
       "    }\n",
       "\n",
       "    .dataframe tbody tr th {\n",
       "        vertical-align: top;\n",
       "    }\n",
       "\n",
       "    .dataframe thead th {\n",
       "        text-align: right;\n",
       "    }\n",
       "</style>\n",
       "<table border=\"1\" class=\"dataframe\">\n",
       "  <thead>\n",
       "    <tr style=\"text-align: right;\">\n",
       "      <th></th>\n",
       "      <th>중구</th>\n",
       "      <th>용산구</th>\n",
       "      <th>마포구</th>\n",
       "      <th>노원구</th>\n",
       "      <th>은평구</th>\n",
       "    </tr>\n",
       "  </thead>\n",
       "  <tbody>\n",
       "    <tr>\n",
       "      <th>윤선협</th>\n",
       "      <td>60</td>\n",
       "      <td>70</td>\n",
       "      <td>80</td>\n",
       "      <td>90</td>\n",
       "      <td>100</td>\n",
       "    </tr>\n",
       "    <tr>\n",
       "      <th>유관철</th>\n",
       "      <td>110</td>\n",
       "      <td>120</td>\n",
       "      <td>130</td>\n",
       "      <td>140</td>\n",
       "      <td>150</td>\n",
       "    </tr>\n",
       "    <tr>\n",
       "      <th>연규희</th>\n",
       "      <td>210</td>\n",
       "      <td>220</td>\n",
       "      <td>230</td>\n",
       "      <td>240</td>\n",
       "      <td>250</td>\n",
       "    </tr>\n",
       "  </tbody>\n",
       "</table>\n",
       "</div>"
      ],
      "text/plain": [
       "      중구  용산구  마포구  노원구  은평구\n",
       "윤선협   60   70   80   90  100\n",
       "유관철  110  120  130  140  150\n",
       "연규희  210  220  230  240  250"
      ]
     },
     "execution_count": 28,
     "metadata": {},
     "output_type": "execute_result"
    }
   ],
   "source": [
    "result02 = myframe02.loc[bollTest]\n",
    "result02"
   ]
  },
  {
   "cell_type": "code",
   "execution_count": 29,
   "id": "79532c56",
   "metadata": {},
   "outputs": [
    {
     "data": {
      "text/html": [
       "<div>\n",
       "<style scoped>\n",
       "    .dataframe tbody tr th:only-of-type {\n",
       "        vertical-align: middle;\n",
       "    }\n",
       "\n",
       "    .dataframe tbody tr th {\n",
       "        vertical-align: top;\n",
       "    }\n",
       "\n",
       "    .dataframe thead th {\n",
       "        text-align: right;\n",
       "    }\n",
       "</style>\n",
       "<table border=\"1\" class=\"dataframe\">\n",
       "  <thead>\n",
       "    <tr style=\"text-align: right;\">\n",
       "      <th></th>\n",
       "      <th>중구</th>\n",
       "      <th>용산구</th>\n",
       "      <th>마포구</th>\n",
       "      <th>노원구</th>\n",
       "      <th>은평구</th>\n",
       "    </tr>\n",
       "  </thead>\n",
       "  <tbody>\n",
       "    <tr>\n",
       "      <th>최유식</th>\n",
       "      <td>10</td>\n",
       "      <td>20</td>\n",
       "      <td>30</td>\n",
       "      <td>40</td>\n",
       "      <td>50</td>\n",
       "    </tr>\n",
       "    <tr>\n",
       "      <th>윤선협</th>\n",
       "      <td>60</td>\n",
       "      <td>70</td>\n",
       "      <td>80</td>\n",
       "      <td>90</td>\n",
       "      <td>100</td>\n",
       "    </tr>\n",
       "  </tbody>\n",
       "</table>\n",
       "</div>"
      ],
      "text/plain": [
       "     중구  용산구  마포구  노원구  은평구\n",
       "최유식  10   20   30   40   50\n",
       "윤선협  60   70   80   90  100"
      ]
     },
     "execution_count": 29,
     "metadata": {},
     "output_type": "execute_result"
    }
   ],
   "source": [
    "gu = '중구'\n",
    "su = 70\n",
    "\n",
    "result02 = myframe02.loc[myframe02[gu] <= su]\n",
    "result02"
   ]
  },
  {
   "cell_type": "code",
   "execution_count": 30,
   "id": "2255ba10",
   "metadata": {
    "scrolled": true
   },
   "outputs": [
    {
     "data": {
      "text/html": [
       "<div>\n",
       "<style scoped>\n",
       "    .dataframe tbody tr th:only-of-type {\n",
       "        vertical-align: middle;\n",
       "    }\n",
       "\n",
       "    .dataframe tbody tr th {\n",
       "        vertical-align: top;\n",
       "    }\n",
       "\n",
       "    .dataframe thead th {\n",
       "        text-align: right;\n",
       "    }\n",
       "</style>\n",
       "<table border=\"1\" class=\"dataframe\">\n",
       "  <thead>\n",
       "    <tr style=\"text-align: right;\">\n",
       "      <th></th>\n",
       "      <th>중구</th>\n",
       "      <th>용산구</th>\n",
       "      <th>마포구</th>\n",
       "      <th>노원구</th>\n",
       "      <th>은평구</th>\n",
       "    </tr>\n",
       "  </thead>\n",
       "  <tbody>\n",
       "    <tr>\n",
       "      <th>유관철</th>\n",
       "      <td>110</td>\n",
       "      <td>120</td>\n",
       "      <td>130</td>\n",
       "      <td>140</td>\n",
       "      <td>150</td>\n",
       "    </tr>\n",
       "  </tbody>\n",
       "</table>\n",
       "</div>"
      ],
      "text/plain": [
       "      중구  용산구  마포구  노원구  은평구\n",
       "유관철  110  120  130  140  150"
      ]
     },
     "execution_count": 30,
     "metadata": {},
     "output_type": "execute_result"
    }
   ],
   "source": [
    "# 노원구 실적이 140인 항목들\n",
    "gu = '노원구'\n",
    "su = 140\n",
    "\n",
    "result02 = myframe02.loc[myframe02[gu] == su]\n",
    "result02"
   ]
  },
  {
   "cell_type": "markdown",
   "id": "4056605d",
   "metadata": {},
   "source": [
    "<h6><font color=\"BlueViolet\">4) 다중 관계 연산 사용</font></h6>"
   ]
  },
  {
   "cell_type": "code",
   "execution_count": 31,
   "id": "e2f36422",
   "metadata": {},
   "outputs": [
    {
     "data": {
      "text/plain": [
       "최유식    False\n",
       "윤선협     True\n",
       "유관철     True\n",
       "심형식     True\n",
       "연규희     True\n",
       "Name: 용산구, dtype: bool"
      ]
     },
     "execution_count": 31,
     "metadata": {},
     "output_type": "execute_result"
    }
   ],
   "source": [
    "# 용산구 >= 70 & 노원구 >= 140\n",
    "cond01 = myframe02['용산구'] >= 70 \n",
    "cond01"
   ]
  },
  {
   "cell_type": "code",
   "execution_count": 32,
   "id": "656615b1",
   "metadata": {},
   "outputs": [
    {
     "data": {
      "text/plain": [
       "최유식    False\n",
       "윤선협    False\n",
       "유관철     True\n",
       "심형식     True\n",
       "연규희     True\n",
       "Name: 노원구, dtype: bool"
      ]
     },
     "execution_count": 32,
     "metadata": {},
     "output_type": "execute_result"
    }
   ],
   "source": [
    "cond02 =myframe02['노원구'] >= 140\n",
    "cond02"
   ]
  },
  {
   "cell_type": "code",
   "execution_count": 33,
   "id": "49b8b599",
   "metadata": {},
   "outputs": [
    {
     "data": {
      "text/html": [
       "<div>\n",
       "<style scoped>\n",
       "    .dataframe tbody tr th:only-of-type {\n",
       "        vertical-align: middle;\n",
       "    }\n",
       "\n",
       "    .dataframe tbody tr th {\n",
       "        vertical-align: top;\n",
       "    }\n",
       "\n",
       "    .dataframe thead tr th {\n",
       "        text-align: left;\n",
       "    }\n",
       "</style>\n",
       "<table border=\"1\" class=\"dataframe\">\n",
       "  <thead>\n",
       "    <tr>\n",
       "      <th>노원구</th>\n",
       "      <th>False</th>\n",
       "      <th>False</th>\n",
       "      <th>True</th>\n",
       "      <th>True</th>\n",
       "      <th>True</th>\n",
       "    </tr>\n",
       "  </thead>\n",
       "  <tbody>\n",
       "    <tr>\n",
       "      <th>최유식</th>\n",
       "      <td>False</td>\n",
       "      <td>False</td>\n",
       "      <td>False</td>\n",
       "      <td>False</td>\n",
       "      <td>False</td>\n",
       "    </tr>\n",
       "    <tr>\n",
       "      <th>윤선협</th>\n",
       "      <td>True</td>\n",
       "      <td>True</td>\n",
       "      <td>True</td>\n",
       "      <td>True</td>\n",
       "      <td>True</td>\n",
       "    </tr>\n",
       "    <tr>\n",
       "      <th>유관철</th>\n",
       "      <td>True</td>\n",
       "      <td>True</td>\n",
       "      <td>True</td>\n",
       "      <td>True</td>\n",
       "      <td>True</td>\n",
       "    </tr>\n",
       "    <tr>\n",
       "      <th>심형식</th>\n",
       "      <td>True</td>\n",
       "      <td>True</td>\n",
       "      <td>True</td>\n",
       "      <td>True</td>\n",
       "      <td>True</td>\n",
       "    </tr>\n",
       "    <tr>\n",
       "      <th>연규희</th>\n",
       "      <td>True</td>\n",
       "      <td>True</td>\n",
       "      <td>True</td>\n",
       "      <td>True</td>\n",
       "      <td>True</td>\n",
       "    </tr>\n",
       "  </tbody>\n",
       "</table>\n",
       "</div>"
      ],
      "text/plain": [
       "노원구  False  False  True   True   True \n",
       "최유식  False  False  False  False  False\n",
       "윤선협   True   True   True   True   True\n",
       "유관철   True   True   True   True   True\n",
       "심형식   True   True   True   True   True\n",
       "연규희   True   True   True   True   True"
      ]
     },
     "execution_count": 33,
     "metadata": {},
     "output_type": "execute_result"
    }
   ],
   "source": [
    "df02 = pd.DataFrame([cond01],[cond02])\n",
    "df02.T"
   ]
  },
  {
   "cell_type": "code",
   "execution_count": 34,
   "id": "64172277",
   "metadata": {},
   "outputs": [
    {
     "data": {
      "text/plain": [
       "최유식    False\n",
       "윤선협     True\n",
       "유관철     True\n",
       "심형식     True\n",
       "연규희     True\n",
       "dtype: bool"
      ]
     },
     "execution_count": 34,
     "metadata": {},
     "output_type": "execute_result"
    }
   ],
   "source": [
    "df02.all()"
   ]
  },
  {
   "cell_type": "code",
   "execution_count": 35,
   "id": "b53286f7",
   "metadata": {},
   "outputs": [
    {
     "data": {
      "text/plain": [
       "최유식    False\n",
       "윤선협     True\n",
       "유관철     True\n",
       "심형식     True\n",
       "연규희     True\n",
       "dtype: bool"
      ]
     },
     "execution_count": 35,
     "metadata": {},
     "output_type": "execute_result"
    }
   ],
   "source": [
    "df02.any()"
   ]
  },
  {
   "cell_type": "code",
   "execution_count": 36,
   "id": "79ecf9be",
   "metadata": {},
   "outputs": [
    {
     "data": {
      "text/html": [
       "<div>\n",
       "<style scoped>\n",
       "    .dataframe tbody tr th:only-of-type {\n",
       "        vertical-align: middle;\n",
       "    }\n",
       "\n",
       "    .dataframe tbody tr th {\n",
       "        vertical-align: top;\n",
       "    }\n",
       "\n",
       "    .dataframe thead th {\n",
       "        text-align: right;\n",
       "    }\n",
       "</style>\n",
       "<table border=\"1\" class=\"dataframe\">\n",
       "  <thead>\n",
       "    <tr style=\"text-align: right;\">\n",
       "      <th></th>\n",
       "      <th>중구</th>\n",
       "      <th>용산구</th>\n",
       "      <th>마포구</th>\n",
       "      <th>노원구</th>\n",
       "      <th>은평구</th>\n",
       "    </tr>\n",
       "  </thead>\n",
       "  <tbody>\n",
       "    <tr>\n",
       "      <th>윤선협</th>\n",
       "      <td>60</td>\n",
       "      <td>70</td>\n",
       "      <td>80</td>\n",
       "      <td>90</td>\n",
       "      <td>100</td>\n",
       "    </tr>\n",
       "    <tr>\n",
       "      <th>유관철</th>\n",
       "      <td>110</td>\n",
       "      <td>120</td>\n",
       "      <td>130</td>\n",
       "      <td>140</td>\n",
       "      <td>150</td>\n",
       "    </tr>\n",
       "    <tr>\n",
       "      <th>심형식</th>\n",
       "      <td>160</td>\n",
       "      <td>170</td>\n",
       "      <td>180</td>\n",
       "      <td>190</td>\n",
       "      <td>200</td>\n",
       "    </tr>\n",
       "    <tr>\n",
       "      <th>연규희</th>\n",
       "      <td>210</td>\n",
       "      <td>220</td>\n",
       "      <td>230</td>\n",
       "      <td>240</td>\n",
       "      <td>250</td>\n",
       "    </tr>\n",
       "  </tbody>\n",
       "</table>\n",
       "</div>"
      ],
      "text/plain": [
       "      중구  용산구  마포구  노원구  은평구\n",
       "윤선협   60   70   80   90  100\n",
       "유관철  110  120  130  140  150\n",
       "심형식  160  170  180  190  200\n",
       "연규희  210  220  230  240  250"
      ]
     },
     "execution_count": 36,
     "metadata": {},
     "output_type": "execute_result"
    }
   ],
   "source": [
    "result02 = myframe02.loc[df02.all()]\n",
    "result02"
   ]
  },
  {
   "cell_type": "code",
   "execution_count": 37,
   "id": "c429375f",
   "metadata": {
    "scrolled": true
   },
   "outputs": [
    {
     "data": {
      "text/html": [
       "<div>\n",
       "<style scoped>\n",
       "    .dataframe tbody tr th:only-of-type {\n",
       "        vertical-align: middle;\n",
       "    }\n",
       "\n",
       "    .dataframe tbody tr th {\n",
       "        vertical-align: top;\n",
       "    }\n",
       "\n",
       "    .dataframe thead th {\n",
       "        text-align: right;\n",
       "    }\n",
       "</style>\n",
       "<table border=\"1\" class=\"dataframe\">\n",
       "  <thead>\n",
       "    <tr style=\"text-align: right;\">\n",
       "      <th></th>\n",
       "      <th>중구</th>\n",
       "      <th>용산구</th>\n",
       "      <th>마포구</th>\n",
       "      <th>노원구</th>\n",
       "      <th>은평구</th>\n",
       "    </tr>\n",
       "  </thead>\n",
       "  <tbody>\n",
       "    <tr>\n",
       "      <th>윤선협</th>\n",
       "      <td>60</td>\n",
       "      <td>70</td>\n",
       "      <td>80</td>\n",
       "      <td>90</td>\n",
       "      <td>100</td>\n",
       "    </tr>\n",
       "    <tr>\n",
       "      <th>유관철</th>\n",
       "      <td>110</td>\n",
       "      <td>120</td>\n",
       "      <td>130</td>\n",
       "      <td>140</td>\n",
       "      <td>150</td>\n",
       "    </tr>\n",
       "    <tr>\n",
       "      <th>심형식</th>\n",
       "      <td>160</td>\n",
       "      <td>170</td>\n",
       "      <td>180</td>\n",
       "      <td>190</td>\n",
       "      <td>200</td>\n",
       "    </tr>\n",
       "    <tr>\n",
       "      <th>연규희</th>\n",
       "      <td>210</td>\n",
       "      <td>220</td>\n",
       "      <td>230</td>\n",
       "      <td>240</td>\n",
       "      <td>250</td>\n",
       "    </tr>\n",
       "  </tbody>\n",
       "</table>\n",
       "</div>"
      ],
      "text/plain": [
       "      중구  용산구  마포구  노원구  은평구\n",
       "윤선협   60   70   80   90  100\n",
       "유관철  110  120  130  140  150\n",
       "심형식  160  170  180  190  200\n",
       "연규희  210  220  230  240  250"
      ]
     },
     "execution_count": 37,
     "metadata": {},
     "output_type": "execute_result"
    }
   ],
   "source": [
    "result02 = myframe02.loc[df02.any()]\n",
    "result02"
   ]
  },
  {
   "cell_type": "markdown",
   "id": "28871d49",
   "metadata": {},
   "source": [
    "<h6><font color=\"BlueViolet\">5) 람다 함수 사용</font></h6>"
   ]
  },
  {
   "cell_type": "code",
   "execution_count": 38,
   "id": "122b268c",
   "metadata": {
    "scrolled": false
   },
   "outputs": [
    {
     "data": {
      "text/html": [
       "<div>\n",
       "<style scoped>\n",
       "    .dataframe tbody tr th:only-of-type {\n",
       "        vertical-align: middle;\n",
       "    }\n",
       "\n",
       "    .dataframe tbody tr th {\n",
       "        vertical-align: top;\n",
       "    }\n",
       "\n",
       "    .dataframe thead th {\n",
       "        text-align: right;\n",
       "    }\n",
       "</style>\n",
       "<table border=\"1\" class=\"dataframe\">\n",
       "  <thead>\n",
       "    <tr style=\"text-align: right;\">\n",
       "      <th></th>\n",
       "      <th>중구</th>\n",
       "      <th>용산구</th>\n",
       "      <th>마포구</th>\n",
       "      <th>노원구</th>\n",
       "      <th>은평구</th>\n",
       "    </tr>\n",
       "  </thead>\n",
       "  <tbody>\n",
       "    <tr>\n",
       "      <th>유관철</th>\n",
       "      <td>110</td>\n",
       "      <td>120</td>\n",
       "      <td>130</td>\n",
       "      <td>140</td>\n",
       "      <td>150</td>\n",
       "    </tr>\n",
       "    <tr>\n",
       "      <th>심형식</th>\n",
       "      <td>160</td>\n",
       "      <td>170</td>\n",
       "      <td>180</td>\n",
       "      <td>190</td>\n",
       "      <td>200</td>\n",
       "    </tr>\n",
       "    <tr>\n",
       "      <th>연규희</th>\n",
       "      <td>210</td>\n",
       "      <td>220</td>\n",
       "      <td>230</td>\n",
       "      <td>240</td>\n",
       "      <td>250</td>\n",
       "    </tr>\n",
       "  </tbody>\n",
       "</table>\n",
       "</div>"
      ],
      "text/plain": [
       "      중구  용산구  마포구  노원구  은평구\n",
       "유관철  110  120  130  140  150\n",
       "심형식  160  170  180  190  200\n",
       "연규희  210  220  230  240  250"
      ]
     },
     "execution_count": 38,
     "metadata": {},
     "output_type": "execute_result"
    }
   ],
   "source": [
    "result02 = myframe02.loc[lambda df02 : df02['마포구'] >= 130]\n",
    "result02"
   ]
  },
  {
   "cell_type": "markdown",
   "id": "8c8e3bb6",
   "metadata": {},
   "source": [
    "<h4><font color=\"green\"> -----------------------------------------------------------------------------------------------------</font></h4>"
   ]
  },
  {
   "cell_type": "markdown",
   "id": "cca2b573",
   "metadata": {},
   "source": [
    "<h4><font color=\"green\"> -----------------------------------------------------------------------------------------------------</font></h4>"
   ]
  },
  {
   "cell_type": "markdown",
   "id": "620fd8b9",
   "metadata": {},
   "source": [
    "<h4><font color=\"green\"> DataFrame에 쓰기</font></h4>"
   ]
  },
  {
   "cell_type": "code",
   "execution_count": 39,
   "id": "7332dd34",
   "metadata": {},
   "outputs": [
    {
     "data": {
      "text/html": [
       "<div>\n",
       "<style scoped>\n",
       "    .dataframe tbody tr th:only-of-type {\n",
       "        vertical-align: middle;\n",
       "    }\n",
       "\n",
       "    .dataframe tbody tr th {\n",
       "        vertical-align: top;\n",
       "    }\n",
       "\n",
       "    .dataframe thead th {\n",
       "        text-align: right;\n",
       "    }\n",
       "</style>\n",
       "<table border=\"1\" class=\"dataframe\">\n",
       "  <thead>\n",
       "    <tr style=\"text-align: right;\">\n",
       "      <th></th>\n",
       "      <th>중구</th>\n",
       "      <th>용산구</th>\n",
       "      <th>마포구</th>\n",
       "      <th>노원구</th>\n",
       "      <th>은평구</th>\n",
       "    </tr>\n",
       "  </thead>\n",
       "  <tbody>\n",
       "    <tr>\n",
       "      <th>최유식</th>\n",
       "      <td>10</td>\n",
       "      <td>20</td>\n",
       "      <td>30</td>\n",
       "      <td>40</td>\n",
       "      <td>50</td>\n",
       "    </tr>\n",
       "    <tr>\n",
       "      <th>윤선협</th>\n",
       "      <td>60</td>\n",
       "      <td>30</td>\n",
       "      <td>80</td>\n",
       "      <td>90</td>\n",
       "      <td>100</td>\n",
       "    </tr>\n",
       "    <tr>\n",
       "      <th>유관철</th>\n",
       "      <td>110</td>\n",
       "      <td>120</td>\n",
       "      <td>130</td>\n",
       "      <td>140</td>\n",
       "      <td>150</td>\n",
       "    </tr>\n",
       "    <tr>\n",
       "      <th>심형식</th>\n",
       "      <td>160</td>\n",
       "      <td>170</td>\n",
       "      <td>180</td>\n",
       "      <td>190</td>\n",
       "      <td>200</td>\n",
       "    </tr>\n",
       "    <tr>\n",
       "      <th>연규희</th>\n",
       "      <td>210</td>\n",
       "      <td>30</td>\n",
       "      <td>230</td>\n",
       "      <td>240</td>\n",
       "      <td>250</td>\n",
       "    </tr>\n",
       "  </tbody>\n",
       "</table>\n",
       "</div>"
      ],
      "text/plain": [
       "      중구  용산구  마포구  노원구  은평구\n",
       "최유식   10   20   30   40   50\n",
       "윤선협   60   30   80   90  100\n",
       "유관철  110  120  130  140  150\n",
       "심형식  160  170  180  190  200\n",
       "연규희  210   30  230  240  250"
      ]
     },
     "execution_count": 39,
     "metadata": {},
     "output_type": "execute_result"
    }
   ],
   "source": [
    "myframe02.loc[['윤선협','연규희'],['용산구']] = 30 \n",
    "myframe02"
   ]
  },
  {
   "cell_type": "code",
   "execution_count": 40,
   "id": "95b55334",
   "metadata": {},
   "outputs": [
    {
     "data": {
      "text/html": [
       "<div>\n",
       "<style scoped>\n",
       "    .dataframe tbody tr th:only-of-type {\n",
       "        vertical-align: middle;\n",
       "    }\n",
       "\n",
       "    .dataframe tbody tr th {\n",
       "        vertical-align: top;\n",
       "    }\n",
       "\n",
       "    .dataframe thead th {\n",
       "        text-align: right;\n",
       "    }\n",
       "</style>\n",
       "<table border=\"1\" class=\"dataframe\">\n",
       "  <thead>\n",
       "    <tr style=\"text-align: right;\">\n",
       "      <th></th>\n",
       "      <th>중구</th>\n",
       "      <th>용산구</th>\n",
       "      <th>마포구</th>\n",
       "      <th>노원구</th>\n",
       "      <th>은평구</th>\n",
       "    </tr>\n",
       "  </thead>\n",
       "  <tbody>\n",
       "    <tr>\n",
       "      <th>최유식</th>\n",
       "      <td>10</td>\n",
       "      <td>20</td>\n",
       "      <td>30</td>\n",
       "      <td>80</td>\n",
       "      <td>50</td>\n",
       "    </tr>\n",
       "    <tr>\n",
       "      <th>윤선협</th>\n",
       "      <td>60</td>\n",
       "      <td>30</td>\n",
       "      <td>80</td>\n",
       "      <td>80</td>\n",
       "      <td>100</td>\n",
       "    </tr>\n",
       "    <tr>\n",
       "      <th>유관철</th>\n",
       "      <td>110</td>\n",
       "      <td>120</td>\n",
       "      <td>130</td>\n",
       "      <td>80</td>\n",
       "      <td>150</td>\n",
       "    </tr>\n",
       "    <tr>\n",
       "      <th>심형식</th>\n",
       "      <td>160</td>\n",
       "      <td>170</td>\n",
       "      <td>180</td>\n",
       "      <td>80</td>\n",
       "      <td>200</td>\n",
       "    </tr>\n",
       "    <tr>\n",
       "      <th>연규희</th>\n",
       "      <td>210</td>\n",
       "      <td>30</td>\n",
       "      <td>230</td>\n",
       "      <td>240</td>\n",
       "      <td>250</td>\n",
       "    </tr>\n",
       "  </tbody>\n",
       "</table>\n",
       "</div>"
      ],
      "text/plain": [
       "      중구  용산구  마포구  노원구  은평구\n",
       "최유식   10   20   30   80   50\n",
       "윤선협   60   30   80   80  100\n",
       "유관철  110  120  130   80  150\n",
       "심형식  160  170  180   80  200\n",
       "연규희  210   30  230  240  250"
      ]
     },
     "execution_count": 40,
     "metadata": {},
     "output_type": "execute_result"
    }
   ],
   "source": [
    "myframe02.loc['최유식':'심형식',['노원구']] = 80 \n",
    "myframe02"
   ]
  },
  {
   "cell_type": "code",
   "execution_count": 41,
   "id": "7209f1e0",
   "metadata": {
    "scrolled": false
   },
   "outputs": [
    {
     "data": {
      "text/html": [
       "<div>\n",
       "<style scoped>\n",
       "    .dataframe tbody tr th:only-of-type {\n",
       "        vertical-align: middle;\n",
       "    }\n",
       "\n",
       "    .dataframe tbody tr th {\n",
       "        vertical-align: top;\n",
       "    }\n",
       "\n",
       "    .dataframe thead th {\n",
       "        text-align: right;\n",
       "    }\n",
       "</style>\n",
       "<table border=\"1\" class=\"dataframe\">\n",
       "  <thead>\n",
       "    <tr style=\"text-align: right;\">\n",
       "      <th></th>\n",
       "      <th>중구</th>\n",
       "      <th>용산구</th>\n",
       "      <th>마포구</th>\n",
       "      <th>노원구</th>\n",
       "      <th>은평구</th>\n",
       "    </tr>\n",
       "  </thead>\n",
       "  <tbody>\n",
       "    <tr>\n",
       "      <th>최유식</th>\n",
       "      <td>10</td>\n",
       "      <td>20</td>\n",
       "      <td>30</td>\n",
       "      <td>80</td>\n",
       "      <td>50</td>\n",
       "    </tr>\n",
       "    <tr>\n",
       "      <th>윤선협</th>\n",
       "      <td>60</td>\n",
       "      <td>30</td>\n",
       "      <td>80</td>\n",
       "      <td>80</td>\n",
       "      <td>100</td>\n",
       "    </tr>\n",
       "    <tr>\n",
       "      <th>유관철</th>\n",
       "      <td>110</td>\n",
       "      <td>120</td>\n",
       "      <td>130</td>\n",
       "      <td>80</td>\n",
       "      <td>150</td>\n",
       "    </tr>\n",
       "    <tr>\n",
       "      <th>심형식</th>\n",
       "      <td>160</td>\n",
       "      <td>170</td>\n",
       "      <td>180</td>\n",
       "      <td>80</td>\n",
       "      <td>200</td>\n",
       "    </tr>\n",
       "    <tr>\n",
       "      <th>연규희</th>\n",
       "      <td>50</td>\n",
       "      <td>50</td>\n",
       "      <td>50</td>\n",
       "      <td>50</td>\n",
       "      <td>50</td>\n",
       "    </tr>\n",
       "  </tbody>\n",
       "</table>\n",
       "</div>"
      ],
      "text/plain": [
       "      중구  용산구  마포구  노원구  은평구\n",
       "최유식   10   20   30   80   50\n",
       "윤선협   60   30   80   80  100\n",
       "유관철  110  120  130   80  150\n",
       "심형식  160  170  180   80  200\n",
       "연규희   50   50   50   50   50"
      ]
     },
     "execution_count": 41,
     "metadata": {},
     "output_type": "execute_result"
    }
   ],
   "source": [
    "myframe02.loc[['연규희'], :] = 50 \n",
    "myframe02"
   ]
  },
  {
   "cell_type": "code",
   "execution_count": 42,
   "id": "21bff7a8",
   "metadata": {},
   "outputs": [
    {
     "data": {
      "text/html": [
       "<div>\n",
       "<style scoped>\n",
       "    .dataframe tbody tr th:only-of-type {\n",
       "        vertical-align: middle;\n",
       "    }\n",
       "\n",
       "    .dataframe tbody tr th {\n",
       "        vertical-align: top;\n",
       "    }\n",
       "\n",
       "    .dataframe thead th {\n",
       "        text-align: right;\n",
       "    }\n",
       "</style>\n",
       "<table border=\"1\" class=\"dataframe\">\n",
       "  <thead>\n",
       "    <tr style=\"text-align: right;\">\n",
       "      <th></th>\n",
       "      <th>중구</th>\n",
       "      <th>용산구</th>\n",
       "      <th>마포구</th>\n",
       "      <th>노원구</th>\n",
       "      <th>은평구</th>\n",
       "    </tr>\n",
       "  </thead>\n",
       "  <tbody>\n",
       "    <tr>\n",
       "      <th>최유식</th>\n",
       "      <td>10</td>\n",
       "      <td>20</td>\n",
       "      <td>30</td>\n",
       "      <td>80</td>\n",
       "      <td>60</td>\n",
       "    </tr>\n",
       "    <tr>\n",
       "      <th>윤선협</th>\n",
       "      <td>60</td>\n",
       "      <td>30</td>\n",
       "      <td>80</td>\n",
       "      <td>80</td>\n",
       "      <td>60</td>\n",
       "    </tr>\n",
       "    <tr>\n",
       "      <th>유관철</th>\n",
       "      <td>110</td>\n",
       "      <td>120</td>\n",
       "      <td>130</td>\n",
       "      <td>80</td>\n",
       "      <td>60</td>\n",
       "    </tr>\n",
       "    <tr>\n",
       "      <th>심형식</th>\n",
       "      <td>160</td>\n",
       "      <td>170</td>\n",
       "      <td>180</td>\n",
       "      <td>80</td>\n",
       "      <td>60</td>\n",
       "    </tr>\n",
       "    <tr>\n",
       "      <th>연규희</th>\n",
       "      <td>50</td>\n",
       "      <td>50</td>\n",
       "      <td>50</td>\n",
       "      <td>50</td>\n",
       "      <td>60</td>\n",
       "    </tr>\n",
       "  </tbody>\n",
       "</table>\n",
       "</div>"
      ],
      "text/plain": [
       "      중구  용산구  마포구  노원구  은평구\n",
       "최유식   10   20   30   80   60\n",
       "윤선협   60   30   80   80   60\n",
       "유관철  110  120  130   80   60\n",
       "심형식  160  170  180   80   60\n",
       "연규희   50   50   50   50   60"
      ]
     },
     "execution_count": 42,
     "metadata": {},
     "output_type": "execute_result"
    }
   ],
   "source": [
    "myframe02.loc[:,['은평구']] = 60 \n",
    "myframe02"
   ]
  },
  {
   "cell_type": "code",
   "execution_count": 43,
   "id": "b81a19f7",
   "metadata": {},
   "outputs": [
    {
     "data": {
      "text/html": [
       "<div>\n",
       "<style scoped>\n",
       "    .dataframe tbody tr th:only-of-type {\n",
       "        vertical-align: middle;\n",
       "    }\n",
       "\n",
       "    .dataframe tbody tr th {\n",
       "        vertical-align: top;\n",
       "    }\n",
       "\n",
       "    .dataframe thead th {\n",
       "        text-align: right;\n",
       "    }\n",
       "</style>\n",
       "<table border=\"1\" class=\"dataframe\">\n",
       "  <thead>\n",
       "    <tr style=\"text-align: right;\">\n",
       "      <th></th>\n",
       "      <th>중구</th>\n",
       "      <th>용산구</th>\n",
       "      <th>마포구</th>\n",
       "      <th>노원구</th>\n",
       "      <th>은평구</th>\n",
       "    </tr>\n",
       "  </thead>\n",
       "  <tbody>\n",
       "    <tr>\n",
       "      <th>최유식</th>\n",
       "      <td>10</td>\n",
       "      <td>20</td>\n",
       "      <td>30</td>\n",
       "      <td>80</td>\n",
       "      <td>60</td>\n",
       "    </tr>\n",
       "    <tr>\n",
       "      <th>윤선협</th>\n",
       "      <td>60</td>\n",
       "      <td>30</td>\n",
       "      <td>80</td>\n",
       "      <td>80</td>\n",
       "      <td>60</td>\n",
       "    </tr>\n",
       "    <tr>\n",
       "      <th>유관철</th>\n",
       "      <td>110</td>\n",
       "      <td>120</td>\n",
       "      <td>130</td>\n",
       "      <td>80</td>\n",
       "      <td>60</td>\n",
       "    </tr>\n",
       "    <tr>\n",
       "      <th>심형식</th>\n",
       "      <td>160</td>\n",
       "      <td>170</td>\n",
       "      <td>180</td>\n",
       "      <td>80</td>\n",
       "      <td>60</td>\n",
       "    </tr>\n",
       "    <tr>\n",
       "      <th>연규희</th>\n",
       "      <td>50</td>\n",
       "      <td>50</td>\n",
       "      <td>50</td>\n",
       "      <td>0</td>\n",
       "      <td>0</td>\n",
       "    </tr>\n",
       "  </tbody>\n",
       "</table>\n",
       "</div>"
      ],
      "text/plain": [
       "      중구  용산구  마포구  노원구  은평구\n",
       "최유식   10   20   30   80   60\n",
       "윤선협   60   30   80   80   60\n",
       "유관철  110  120  130   80   60\n",
       "심형식  160  170  180   80   60\n",
       "연규희   50   50   50    0    0"
      ]
     },
     "execution_count": 43,
     "metadata": {},
     "output_type": "execute_result"
    }
   ],
   "source": [
    "myframe02.loc[myframe02['노원구'] <= 70 , ['노원구','은평구']] = 0 \n",
    "myframe02"
   ]
  },
  {
   "cell_type": "markdown",
   "id": "9cdeca48",
   "metadata": {},
   "source": [
    "<h3><font color=\"red\">DataFrame의 산술 연산</font></h3>"
   ]
  },
  {
   "cell_type": "markdown",
   "id": "c0d4731c",
   "metadata": {},
   "source": [
    "<h4><font color=\"green\"> DataFrame 생성하기</font></h4>"
   ]
  },
  {
   "cell_type": "code",
   "execution_count": 45,
   "id": "79189ab9",
   "metadata": {},
   "outputs": [
    {
     "data": {
      "text/html": [
       "<div>\n",
       "<style scoped>\n",
       "    .dataframe tbody tr th:only-of-type {\n",
       "        vertical-align: middle;\n",
       "    }\n",
       "\n",
       "    .dataframe tbody tr th {\n",
       "        vertical-align: top;\n",
       "    }\n",
       "\n",
       "    .dataframe thead th {\n",
       "        text-align: right;\n",
       "    }\n",
       "</style>\n",
       "<table border=\"1\" class=\"dataframe\">\n",
       "  <thead>\n",
       "    <tr style=\"text-align: right;\">\n",
       "      <th></th>\n",
       "      <th>0</th>\n",
       "    </tr>\n",
       "  </thead>\n",
       "  <tbody>\n",
       "    <tr>\n",
       "      <th>강유성</th>\n",
       "      <td>60</td>\n",
       "    </tr>\n",
       "    <tr>\n",
       "      <th>안동철</th>\n",
       "      <td>30</td>\n",
       "    </tr>\n",
       "    <tr>\n",
       "      <th>신호진</th>\n",
       "      <td>50</td>\n",
       "    </tr>\n",
       "  </tbody>\n",
       "</table>\n",
       "</div>"
      ],
      "text/plain": [
       "      0\n",
       "강유성  60\n",
       "안동철  30\n",
       "신호진  50"
      ]
     },
     "execution_count": 45,
     "metadata": {},
     "output_type": "execute_result"
    }
   ],
   "source": [
    "myindex31 = ['강유성','안동철','신호진']\n",
    "mylist31 = [60,30,50]\n",
    "myseries31 = pd.Series(data=mylist31, index=myindex31)\n",
    "myseries31.to_frame()"
   ]
  },
  {
   "cell_type": "code",
   "execution_count": 44,
   "id": "a4330bc4",
   "metadata": {},
   "outputs": [
    {
     "data": {
      "text/html": [
       "<div>\n",
       "<style scoped>\n",
       "    .dataframe tbody tr th:only-of-type {\n",
       "        vertical-align: middle;\n",
       "    }\n",
       "\n",
       "    .dataframe tbody tr th {\n",
       "        vertical-align: top;\n",
       "    }\n",
       "\n",
       "    .dataframe thead th {\n",
       "        text-align: right;\n",
       "    }\n",
       "</style>\n",
       "<table border=\"1\" class=\"dataframe\">\n",
       "  <thead>\n",
       "    <tr style=\"text-align: right;\">\n",
       "      <th></th>\n",
       "      <th>용산구</th>\n",
       "      <th>마포구</th>\n",
       "      <th>서대문구</th>\n",
       "    </tr>\n",
       "  </thead>\n",
       "  <tbody>\n",
       "    <tr>\n",
       "      <th>강유성</th>\n",
       "      <td>10</td>\n",
       "      <td>20</td>\n",
       "      <td>30</td>\n",
       "    </tr>\n",
       "    <tr>\n",
       "      <th>안동철</th>\n",
       "      <td>40</td>\n",
       "      <td>50</td>\n",
       "      <td>60</td>\n",
       "    </tr>\n",
       "    <tr>\n",
       "      <th>이지성</th>\n",
       "      <td>70</td>\n",
       "      <td>80</td>\n",
       "      <td>90</td>\n",
       "    </tr>\n",
       "  </tbody>\n",
       "</table>\n",
       "</div>"
      ],
      "text/plain": [
       "     용산구  마포구  서대문구\n",
       "강유성   10   20    30\n",
       "안동철   40   50    60\n",
       "이지성   70   80    90"
      ]
     },
     "execution_count": 44,
     "metadata": {},
     "output_type": "execute_result"
    }
   ],
   "source": [
    "myindex31 = ['강유성','안동철','이지성']\n",
    "mycolumns31 = ['용산구','마포구','서대문구']\n",
    "\n",
    "mylist31 = list(10*onedata for onedata in range(1, 10))\n",
    "myframe31 = pd.DataFrame(np.reshape(mylist31, (3,3)),\\\n",
    "                         index=myindex31 , columns=mycolumns31)\n",
    "myframe31"
   ]
  },
  {
   "cell_type": "markdown",
   "id": "e2ebee62",
   "metadata": {},
   "source": [
    "<h6><font color=\"BlueViolet\">1) Series와 DataFrame의 산술 연산</font></h6>"
   ]
  },
  {
   "cell_type": "code",
   "execution_count": 47,
   "id": "7f116d41",
   "metadata": {},
   "outputs": [
    {
     "data": {
      "text/html": [
       "<div>\n",
       "<style scoped>\n",
       "    .dataframe tbody tr th:only-of-type {\n",
       "        vertical-align: middle;\n",
       "    }\n",
       "\n",
       "    .dataframe tbody tr th {\n",
       "        vertical-align: top;\n",
       "    }\n",
       "\n",
       "    .dataframe thead th {\n",
       "        text-align: right;\n",
       "    }\n",
       "</style>\n",
       "<table border=\"1\" class=\"dataframe\">\n",
       "  <thead>\n",
       "    <tr style=\"text-align: right;\">\n",
       "      <th></th>\n",
       "      <th>용산구</th>\n",
       "      <th>마포구</th>\n",
       "      <th>서대문구</th>\n",
       "    </tr>\n",
       "  </thead>\n",
       "  <tbody>\n",
       "    <tr>\n",
       "      <th>강유성</th>\n",
       "      <td>70.0</td>\n",
       "      <td>80.0</td>\n",
       "      <td>90.0</td>\n",
       "    </tr>\n",
       "    <tr>\n",
       "      <th>신호진</th>\n",
       "      <td>NaN</td>\n",
       "      <td>NaN</td>\n",
       "      <td>NaN</td>\n",
       "    </tr>\n",
       "    <tr>\n",
       "      <th>안동철</th>\n",
       "      <td>70.0</td>\n",
       "      <td>80.0</td>\n",
       "      <td>90.0</td>\n",
       "    </tr>\n",
       "    <tr>\n",
       "      <th>이지성</th>\n",
       "      <td>NaN</td>\n",
       "      <td>NaN</td>\n",
       "      <td>NaN</td>\n",
       "    </tr>\n",
       "  </tbody>\n",
       "</table>\n",
       "</div>"
      ],
      "text/plain": [
       "      용산구   마포구  서대문구\n",
       "강유성  70.0  80.0  90.0\n",
       "신호진   NaN   NaN   NaN\n",
       "안동철  70.0  80.0  90.0\n",
       "이지성   NaN   NaN   NaN"
      ]
     },
     "execution_count": 47,
     "metadata": {},
     "output_type": "execute_result"
    }
   ],
   "source": [
    "result31 = myframe31.add(myseries31, axis=0)\n",
    "result31"
   ]
  },
  {
   "cell_type": "markdown",
   "id": "197a5855",
   "metadata": {},
   "source": [
    "<h6><font color=\"BlueViolet\">2) DataFrame과 DataFrame의 산술 연산</font></h6>"
   ]
  },
  {
   "cell_type": "code",
   "execution_count": 48,
   "id": "27cafb82",
   "metadata": {},
   "outputs": [
    {
     "data": {
      "text/html": [
       "<div>\n",
       "<style scoped>\n",
       "    .dataframe tbody tr th:only-of-type {\n",
       "        vertical-align: middle;\n",
       "    }\n",
       "\n",
       "    .dataframe tbody tr th {\n",
       "        vertical-align: top;\n",
       "    }\n",
       "\n",
       "    .dataframe thead th {\n",
       "        text-align: right;\n",
       "    }\n",
       "</style>\n",
       "<table border=\"1\" class=\"dataframe\">\n",
       "  <thead>\n",
       "    <tr style=\"text-align: right;\">\n",
       "      <th></th>\n",
       "      <th>용산구</th>\n",
       "      <th>마포구</th>\n",
       "      <th>구로구</th>\n",
       "    </tr>\n",
       "  </thead>\n",
       "  <tbody>\n",
       "    <tr>\n",
       "      <th>강유성</th>\n",
       "      <td>5</td>\n",
       "      <td>10</td>\n",
       "      <td>15</td>\n",
       "    </tr>\n",
       "    <tr>\n",
       "      <th>안동철</th>\n",
       "      <td>20</td>\n",
       "      <td>25</td>\n",
       "      <td>30</td>\n",
       "    </tr>\n",
       "    <tr>\n",
       "      <th>정유미</th>\n",
       "      <td>35</td>\n",
       "      <td>40</td>\n",
       "      <td>45</td>\n",
       "    </tr>\n",
       "  </tbody>\n",
       "</table>\n",
       "</div>"
      ],
      "text/plain": [
       "     용산구  마포구  구로구\n",
       "강유성    5   10   15\n",
       "안동철   20   25   30\n",
       "정유미   35   40   45"
      ]
     },
     "execution_count": 48,
     "metadata": {},
     "output_type": "execute_result"
    }
   ],
   "source": [
    "myindex32 = ['강유성','안동철','정유미']\n",
    "mycolumns32 = ['용산구','마포구','구로구']\n",
    "\n",
    "mylist32 = list(5*onedata for onedata in range(1, 10))\n",
    "myframe32 = pd.DataFrame(np.reshape(mylist32, (3,3)),\\\n",
    "                         index=myindex32 , columns=mycolumns32)\n",
    "myframe32"
   ]
  },
  {
   "cell_type": "code",
   "execution_count": 50,
   "id": "97d90e34",
   "metadata": {},
   "outputs": [
    {
     "data": {
      "text/html": [
       "<div>\n",
       "<style scoped>\n",
       "    .dataframe tbody tr th:only-of-type {\n",
       "        vertical-align: middle;\n",
       "    }\n",
       "\n",
       "    .dataframe tbody tr th {\n",
       "        vertical-align: top;\n",
       "    }\n",
       "\n",
       "    .dataframe thead th {\n",
       "        text-align: right;\n",
       "    }\n",
       "</style>\n",
       "<table border=\"1\" class=\"dataframe\">\n",
       "  <thead>\n",
       "    <tr style=\"text-align: right;\">\n",
       "      <th></th>\n",
       "      <th>구로구</th>\n",
       "      <th>마포구</th>\n",
       "      <th>서대문구</th>\n",
       "      <th>용산구</th>\n",
       "    </tr>\n",
       "  </thead>\n",
       "  <tbody>\n",
       "    <tr>\n",
       "      <th>강유성</th>\n",
       "      <td>15.0</td>\n",
       "      <td>30.0</td>\n",
       "      <td>30.0</td>\n",
       "      <td>15.0</td>\n",
       "    </tr>\n",
       "    <tr>\n",
       "      <th>안동철</th>\n",
       "      <td>30.0</td>\n",
       "      <td>75.0</td>\n",
       "      <td>60.0</td>\n",
       "      <td>60.0</td>\n",
       "    </tr>\n",
       "    <tr>\n",
       "      <th>이지성</th>\n",
       "      <td>NaN</td>\n",
       "      <td>80.0</td>\n",
       "      <td>90.0</td>\n",
       "      <td>70.0</td>\n",
       "    </tr>\n",
       "    <tr>\n",
       "      <th>정유미</th>\n",
       "      <td>45.0</td>\n",
       "      <td>40.0</td>\n",
       "      <td>NaN</td>\n",
       "      <td>35.0</td>\n",
       "    </tr>\n",
       "  </tbody>\n",
       "</table>\n",
       "</div>"
      ],
      "text/plain": [
       "      구로구   마포구  서대문구   용산구\n",
       "강유성  15.0  30.0  30.0  15.0\n",
       "안동철  30.0  75.0  60.0  60.0\n",
       "이지성   NaN  80.0  90.0  70.0\n",
       "정유미  45.0  40.0   NaN  35.0"
      ]
     },
     "execution_count": 50,
     "metadata": {},
     "output_type": "execute_result"
    }
   ],
   "source": [
    "result31 = myframe31.add(myframe32, fill_value=0)\n",
    "result31"
   ]
  },
  {
   "cell_type": "code",
   "execution_count": null,
   "id": "14c68914",
   "metadata": {},
   "outputs": [],
   "source": []
  },
  {
   "cell_type": "markdown",
   "id": "512a43f6",
   "metadata": {},
   "source": [
    "<h4><font color=\"green\"> -----------------------------------------------------------------------------------------------------</font></h4>"
   ]
  },
  {
   "cell_type": "code",
   "execution_count": null,
   "id": "a23aec02",
   "metadata": {},
   "outputs": [],
   "source": []
  },
  {
   "cell_type": "code",
   "execution_count": null,
   "id": "dfa7b338",
   "metadata": {},
   "outputs": [],
   "source": []
  },
  {
   "cell_type": "code",
   "execution_count": null,
   "id": "05d5e95e",
   "metadata": {},
   "outputs": [],
   "source": []
  },
  {
   "cell_type": "code",
   "execution_count": null,
   "id": "e86e0f44",
   "metadata": {},
   "outputs": [],
   "source": []
  },
  {
   "cell_type": "code",
   "execution_count": null,
   "id": "c75bf50d",
   "metadata": {},
   "outputs": [],
   "source": []
  },
  {
   "cell_type": "code",
   "execution_count": null,
   "id": "ba8d1c3e",
   "metadata": {},
   "outputs": [],
   "source": []
  },
  {
   "cell_type": "code",
   "execution_count": null,
   "id": "b874f2b7",
   "metadata": {},
   "outputs": [],
   "source": []
  }
 ],
 "metadata": {
  "kernelspec": {
   "display_name": "Python 3 (ipykernel)",
   "language": "python",
   "name": "python3"
  },
  "language_info": {
   "codemirror_mode": {
    "name": "ipython",
    "version": 3
   },
   "file_extension": ".py",
   "mimetype": "text/x-python",
   "name": "python",
   "nbconvert_exporter": "python",
   "pygments_lexer": "ipython3",
   "version": "3.11.2"
  }
 },
 "nbformat": 4,
 "nbformat_minor": 5
}
