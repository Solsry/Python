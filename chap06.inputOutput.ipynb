{
 "cells": [
  {
   "cell_type": "markdown",
   "id": "c975d8bf",
   "metadata": {},
   "source": [
    "<h1><font color=\"blue\">데이터 로딩과 저장</font></h1>"
   ]
  },
  {
   "cell_type": "markdown",
   "id": "36240a69",
   "metadata": {},
   "source": [
    "<h3><font color=\"red\">파일 읽기 / 쓰기 </font></h3>"
   ]
  },
  {
   "cell_type": "markdown",
   "id": "64d87a45",
   "metadata": {},
   "source": [
    "<h4><font color=\"green\"> 데이터 저장하기</font></h4>"
   ]
  },
  {
   "cell_type": "markdown",
   "id": "47df54e5",
   "metadata": {},
   "source": [
    "<h6><font color=\"BlueViolet\">1) to_csv() 함수\n",
    "</font></h6>"
   ]
  },
  {
   "cell_type": "code",
   "execution_count": 1,
   "id": "d64e77aa",
   "metadata": {},
   "outputs": [],
   "source": [
    "import random\n",
    "import pandas as pd"
   ]
  },
  {
   "cell_type": "code",
   "execution_count": 2,
   "id": "6383f3e1",
   "metadata": {},
   "outputs": [],
   "source": [
    "result01=[]\n",
    "columns01 = ('번호','이름','나이')\n",
    "myencoding = 'CP949'"
   ]
  },
  {
   "cell_type": "code",
   "execution_count": 3,
   "id": "3cd7f766",
   "metadata": {},
   "outputs": [],
   "source": [
    "for idx in range(1,3):\n",
    "    sublist = []\n",
    "    sublist.append(100 * idx)\n",
    "    sublist.append('김철수' + str(idx))\n",
    "    sublist.append(random.randint(1,10))\n",
    "    result01.append(sublist)"
   ]
  },
  {
   "cell_type": "code",
   "execution_count": 4,
   "id": "35da67ca",
   "metadata": {},
   "outputs": [
    {
     "data": {
      "text/plain": [
       "[[100, '김철수1', 2], [200, '김철수2', 7]]"
      ]
     },
     "execution_count": 4,
     "metadata": {},
     "output_type": "execute_result"
    }
   ],
   "source": [
    "result01"
   ]
  },
  {
   "cell_type": "code",
   "execution_count": 5,
   "id": "0ac9ec5a",
   "metadata": {},
   "outputs": [
    {
     "data": {
      "text/html": [
       "<div>\n",
       "<style scoped>\n",
       "    .dataframe tbody tr th:only-of-type {\n",
       "        vertical-align: middle;\n",
       "    }\n",
       "\n",
       "    .dataframe tbody tr th {\n",
       "        vertical-align: top;\n",
       "    }\n",
       "\n",
       "    .dataframe thead th {\n",
       "        text-align: right;\n",
       "    }\n",
       "</style>\n",
       "<table border=\"1\" class=\"dataframe\">\n",
       "  <thead>\n",
       "    <tr style=\"text-align: right;\">\n",
       "      <th></th>\n",
       "      <th>번호</th>\n",
       "      <th>이름</th>\n",
       "      <th>나이</th>\n",
       "    </tr>\n",
       "  </thead>\n",
       "  <tbody>\n",
       "    <tr>\n",
       "      <th>0</th>\n",
       "      <td>100</td>\n",
       "      <td>김철수1</td>\n",
       "      <td>2</td>\n",
       "    </tr>\n",
       "    <tr>\n",
       "      <th>1</th>\n",
       "      <td>200</td>\n",
       "      <td>김철수2</td>\n",
       "      <td>7</td>\n",
       "    </tr>\n",
       "  </tbody>\n",
       "</table>\n",
       "</div>"
      ],
      "text/plain": [
       "    번호    이름  나이\n",
       "0  100  김철수1   2\n",
       "1  200  김철수2   7"
      ]
     },
     "execution_count": 5,
     "metadata": {},
     "output_type": "execute_result"
    }
   ],
   "source": [
    "myframe01 = pd.DataFrame(result01,columns=columns01)\n",
    "myframe01"
   ]
  },
  {
   "cell_type": "code",
   "execution_count": 6,
   "id": "02449984",
   "metadata": {},
   "outputs": [
    {
     "name": "stdout",
     "output_type": "stream",
     "text": [
      "./../data/result01.csv 파일이 저장되었습니다.\n"
     ]
    }
   ],
   "source": [
    "filename = './../data/result01.csv'\n",
    "myframe01.to_csv(filename , encoding = myencoding, mode='w' , index=True)\n",
    "print(filename + ' 파일이 저장되었습니다.')"
   ]
  },
  {
   "cell_type": "markdown",
   "id": "fa876281",
   "metadata": {},
   "source": [
    "<h4><font color=\"green\"> 데이터 불러오기</font></h4>"
   ]
  },
  {
   "cell_type": "markdown",
   "id": "dd6841e5",
   "metadata": {},
   "source": [
    "<h6><font color=\"BlueViolet\">2) read_csv() 함수\n",
    "</font></h6>"
   ]
  },
  {
   "cell_type": "code",
   "execution_count": 14,
   "id": "9ab69fda",
   "metadata": {},
   "outputs": [
    {
     "data": {
      "text/html": [
       "<div>\n",
       "<style scoped>\n",
       "    .dataframe tbody tr th:only-of-type {\n",
       "        vertical-align: middle;\n",
       "    }\n",
       "\n",
       "    .dataframe tbody tr th {\n",
       "        vertical-align: top;\n",
       "    }\n",
       "\n",
       "    .dataframe thead th {\n",
       "        text-align: right;\n",
       "    }\n",
       "</style>\n",
       "<table border=\"1\" class=\"dataframe\">\n",
       "  <thead>\n",
       "    <tr style=\"text-align: right;\">\n",
       "      <th></th>\n",
       "      <th>번호</th>\n",
       "      <th>이름</th>\n",
       "      <th>나이</th>\n",
       "    </tr>\n",
       "  </thead>\n",
       "  <tbody>\n",
       "    <tr>\n",
       "      <th>0</th>\n",
       "      <td>100</td>\n",
       "      <td>김철수1</td>\n",
       "      <td>2</td>\n",
       "    </tr>\n",
       "    <tr>\n",
       "      <th>1</th>\n",
       "      <td>200</td>\n",
       "      <td>김철수2</td>\n",
       "      <td>7</td>\n",
       "    </tr>\n",
       "  </tbody>\n",
       "</table>\n",
       "</div>"
      ],
      "text/plain": [
       "    번호    이름  나이\n",
       "0  100  김철수1   2\n",
       "1  200  김철수2   7"
      ]
     },
     "metadata": {},
     "output_type": "display_data"
    }
   ],
   "source": [
    "myframe01 = pd.read_csv(filename, index_col=(0), encoding=myencoding)\n",
    "display(myframe01)"
   ]
  },
  {
   "cell_type": "code",
   "execution_count": 15,
   "id": "51e5a010",
   "metadata": {
    "scrolled": true
   },
   "outputs": [
    {
     "name": "stdout",
     "output_type": "stream",
     "text": [
      "<class 'pandas.core.frame.DataFrame'>\n"
     ]
    }
   ],
   "source": [
    "print(type(myframe01))"
   ]
  },
  {
   "cell_type": "markdown",
   "id": "a861fa24",
   "metadata": {},
   "source": [
    "<h3><font color=\"red\">DataFrame 기초 </font></h3>"
   ]
  },
  {
   "cell_type": "markdown",
   "id": "b4755662",
   "metadata": {},
   "source": [
    "<h4><font color=\"green\">기본 속성 살펴보기</font></h4>"
   ]
  },
  {
   "cell_type": "code",
   "execution_count": 16,
   "id": "214ef0d4",
   "metadata": {},
   "outputs": [
    {
     "data": {
      "text/html": [
       "<div>\n",
       "<style scoped>\n",
       "    .dataframe tbody tr th:only-of-type {\n",
       "        vertical-align: middle;\n",
       "    }\n",
       "\n",
       "    .dataframe tbody tr th {\n",
       "        vertical-align: top;\n",
       "    }\n",
       "\n",
       "    .dataframe thead th {\n",
       "        text-align: right;\n",
       "    }\n",
       "</style>\n",
       "<table border=\"1\" class=\"dataframe\">\n",
       "  <thead>\n",
       "    <tr style=\"text-align: right;\">\n",
       "      <th></th>\n",
       "      <th>사원명</th>\n",
       "      <th>출장지역</th>\n",
       "      <th>출장기간</th>\n",
       "      <th>부서</th>\n",
       "      <th>성별</th>\n",
       "      <th>교통비</th>\n",
       "      <th>식비</th>\n",
       "    </tr>\n",
       "  </thead>\n",
       "  <tbody>\n",
       "    <tr>\n",
       "      <th>0</th>\n",
       "      <td>강감찬</td>\n",
       "      <td>서울</td>\n",
       "      <td>3.0</td>\n",
       "      <td>영업부</td>\n",
       "      <td>남자</td>\n",
       "      <td>1000.0</td>\n",
       "      <td>500</td>\n",
       "    </tr>\n",
       "    <tr>\n",
       "      <th>1</th>\n",
       "      <td>김구</td>\n",
       "      <td>서울</td>\n",
       "      <td>NaN</td>\n",
       "      <td>총무부</td>\n",
       "      <td>남자</td>\n",
       "      <td>2000.0</td>\n",
       "      <td>300</td>\n",
       "    </tr>\n",
       "    <tr>\n",
       "      <th>2</th>\n",
       "      <td>김유신</td>\n",
       "      <td>부산</td>\n",
       "      <td>7.0</td>\n",
       "      <td>전산부</td>\n",
       "      <td>남자</td>\n",
       "      <td>3000.0</td>\n",
       "      <td>600</td>\n",
       "    </tr>\n",
       "    <tr>\n",
       "      <th>3</th>\n",
       "      <td>신사임당</td>\n",
       "      <td>부산</td>\n",
       "      <td>5.0</td>\n",
       "      <td>영업부</td>\n",
       "      <td>여자</td>\n",
       "      <td>NaN</td>\n",
       "      <td>200</td>\n",
       "    </tr>\n",
       "    <tr>\n",
       "      <th>4</th>\n",
       "      <td>선덕여왕</td>\n",
       "      <td>서울</td>\n",
       "      <td>6.0</td>\n",
       "      <td>총무부</td>\n",
       "      <td>여자</td>\n",
       "      <td>4000.0</td>\n",
       "      <td>800</td>\n",
       "    </tr>\n",
       "  </tbody>\n",
       "</table>\n",
       "</div>"
      ],
      "text/plain": [
       "    사원명 출장지역  출장기간   부서  성별     교통비   식비\n",
       "0   강감찬   서울   3.0  영업부  남자  1000.0  500\n",
       "1    김구   서울   NaN  총무부  남자  2000.0  300\n",
       "2   김유신   부산   7.0  전산부  남자  3000.0  600\n",
       "3  신사임당   부산   5.0  영업부  여자     NaN  200\n",
       "4  선덕여왕   서울   6.0  총무부  여자  4000.0  800"
      ]
     },
     "execution_count": 16,
     "metadata": {},
     "output_type": "execute_result"
    }
   ],
   "source": [
    "payment = pd.read_csv('./../data/payment01.csv', encoding='CP949')\n",
    "payment"
   ]
  },
  {
   "cell_type": "code",
   "execution_count": 19,
   "id": "b64cb956",
   "metadata": {},
   "outputs": [
    {
     "data": {
      "text/plain": [
       "RangeIndex(start=0, stop=5, step=1)"
      ]
     },
     "execution_count": 19,
     "metadata": {},
     "output_type": "execute_result"
    }
   ],
   "source": [
    "#행색인\n",
    "payment.index"
   ]
  },
  {
   "cell_type": "code",
   "execution_count": 20,
   "id": "607d982a",
   "metadata": {},
   "outputs": [
    {
     "data": {
      "text/plain": [
       "Index(['사원명', '출장지역', '출장기간', '부서', '성별', '교통비', '식비'], dtype='object')"
      ]
     },
     "execution_count": 20,
     "metadata": {},
     "output_type": "execute_result"
    }
   ],
   "source": [
    "#열색인\n",
    "payment.columns"
   ]
  },
  {
   "cell_type": "code",
   "execution_count": 25,
   "id": "411d84d6",
   "metadata": {},
   "outputs": [
    {
     "name": "stdout",
     "output_type": "stream",
     "text": [
      "True\n"
     ]
    }
   ],
   "source": [
    "print(issubclass(pd.RangeIndex, pd.Index)) #pd.RangeIndex 서브클래스 / pd.Index 슈퍼클래스"
   ]
  },
  {
   "cell_type": "code",
   "execution_count": 26,
   "id": "92daabd0",
   "metadata": {
    "scrolled": true
   },
   "outputs": [
    {
     "data": {
      "text/plain": [
       "array([['강감찬', '서울', 3.0, '영업부', '남자', 1000.0, 500],\n",
       "       ['김구', '서울', nan, '총무부', '남자', 2000.0, 300],\n",
       "       ['김유신', '부산', 7.0, '전산부', '남자', 3000.0, 600],\n",
       "       ['신사임당', '부산', 5.0, '영업부', '여자', nan, 200],\n",
       "       ['선덕여왕', '서울', 6.0, '총무부', '여자', 4000.0, 800]], dtype=object)"
      ]
     },
     "execution_count": 26,
     "metadata": {},
     "output_type": "execute_result"
    }
   ],
   "source": [
    "data = payment.values\n",
    "data"
   ]
  },
  {
   "cell_type": "markdown",
   "id": "9c4a5046",
   "metadata": {},
   "source": [
    "<h6><font color=\"BlueViolet\">1) 데이터 유형 확인</font></h6>"
   ]
  },
  {
   "cell_type": "code",
   "execution_count": 27,
   "id": "2d5477fc",
   "metadata": {},
   "outputs": [
    {
     "data": {
      "text/plain": [
       "사원명      object\n",
       "출장지역     object\n",
       "출장기간    float64\n",
       "부서       object\n",
       "성별       object\n",
       "교통비     float64\n",
       "식비        int64\n",
       "dtype: object"
      ]
     },
     "execution_count": 27,
     "metadata": {},
     "output_type": "execute_result"
    }
   ],
   "source": [
    "payment.dtypes"
   ]
  },
  {
   "cell_type": "code",
   "execution_count": 33,
   "id": "bb2c0d82",
   "metadata": {
    "scrolled": true
   },
   "outputs": [
    {
     "data": {
      "text/plain": [
       "0    서울\n",
       "1    서울\n",
       "2    부산\n",
       "3    부산\n",
       "4    서울\n",
       "Name: 출장지역, dtype: object"
      ]
     },
     "execution_count": 33,
     "metadata": {},
     "output_type": "execute_result"
    }
   ],
   "source": [
    "business = payment['출장지역']\n",
    "business"
   ]
  },
  {
   "cell_type": "code",
   "execution_count": 35,
   "id": "3f5dd112",
   "metadata": {},
   "outputs": [
    {
     "data": {
      "text/plain": [
       "0    서울\n",
       "1    서울\n",
       "Name: 출장지역, dtype: object"
      ]
     },
     "execution_count": 35,
     "metadata": {},
     "output_type": "execute_result"
    }
   ],
   "source": [
    "business = payment['출장지역']\n",
    "business.head(2)"
   ]
  },
  {
   "cell_type": "code",
   "execution_count": 37,
   "id": "a2a3b301",
   "metadata": {},
   "outputs": [
    {
     "data": {
      "text/plain": [
       "서울    3\n",
       "Name: 출장지역, dtype: int64"
      ]
     },
     "execution_count": 37,
     "metadata": {},
     "output_type": "execute_result"
    }
   ],
   "source": [
    "business.value_counts()"
   ]
  },
  {
   "cell_type": "code",
   "execution_count": 38,
   "id": "3d77c3d4",
   "metadata": {},
   "outputs": [
    {
     "data": {
      "text/plain": [
       "서울    3\n",
       "Name: 출장지역, dtype: int64"
      ]
     },
     "execution_count": 38,
     "metadata": {},
     "output_type": "execute_result"
    }
   ],
   "source": [
    "business.value_counts().head(1)"
   ]
  },
  {
   "cell_type": "markdown",
   "id": "e352ab0e",
   "metadata": {},
   "source": [
    "<h3><font color=\"red\">Series 세부적으로 살펴 보기 </font></h3>"
   ]
  },
  {
   "cell_type": "markdown",
   "id": "6019b6a8",
   "metadata": {},
   "source": [
    "<h4><font color=\"green\">출장비 내역 파일 읽기</font></h4>"
   ]
  },
  {
   "cell_type": "markdown",
   "id": "ff3f0100",
   "metadata": {},
   "source": [
    "<h6><font color=\"BlueViolet\">1) 인덱싱 연산자를 사용한 시리즈 추출\n",
    "</font></h6>"
   ]
  },
  {
   "cell_type": "code",
   "execution_count": 41,
   "id": "0958ed13",
   "metadata": {},
   "outputs": [
    {
     "data": {
      "text/html": [
       "<div>\n",
       "<style scoped>\n",
       "    .dataframe tbody tr th:only-of-type {\n",
       "        vertical-align: middle;\n",
       "    }\n",
       "\n",
       "    .dataframe tbody tr th {\n",
       "        vertical-align: top;\n",
       "    }\n",
       "\n",
       "    .dataframe thead th {\n",
       "        text-align: right;\n",
       "    }\n",
       "</style>\n",
       "<table border=\"1\" class=\"dataframe\">\n",
       "  <thead>\n",
       "    <tr style=\"text-align: right;\">\n",
       "      <th></th>\n",
       "      <th>교통비</th>\n",
       "    </tr>\n",
       "  </thead>\n",
       "  <tbody>\n",
       "    <tr>\n",
       "      <th>0</th>\n",
       "      <td>1000.0</td>\n",
       "    </tr>\n",
       "    <tr>\n",
       "      <th>1</th>\n",
       "      <td>2000.0</td>\n",
       "    </tr>\n",
       "    <tr>\n",
       "      <th>2</th>\n",
       "      <td>3000.0</td>\n",
       "    </tr>\n",
       "    <tr>\n",
       "      <th>3</th>\n",
       "      <td>NaN</td>\n",
       "    </tr>\n",
       "    <tr>\n",
       "      <th>4</th>\n",
       "      <td>4000.0</td>\n",
       "    </tr>\n",
       "  </tbody>\n",
       "</table>\n",
       "</div>"
      ],
      "text/plain": [
       "      교통비\n",
       "0  1000.0\n",
       "1  2000.0\n",
       "2  3000.0\n",
       "3     NaN\n",
       "4  4000.0"
      ]
     },
     "execution_count": 41,
     "metadata": {},
     "output_type": "execute_result"
    }
   ],
   "source": [
    "paytravel01 = payment['교통비']\n",
    "paytravel01.to_frame()"
   ]
  },
  {
   "cell_type": "markdown",
   "id": "9405a763",
   "metadata": {},
   "source": [
    "<h6><font color=\"BlueViolet\">2) 점(dot) 기호를 사용한 시리즈 추출\n",
    "</font></h6>"
   ]
  },
  {
   "cell_type": "code",
   "execution_count": 43,
   "id": "7f5b9c97",
   "metadata": {
    "scrolled": true
   },
   "outputs": [
    {
     "data": {
      "text/html": [
       "<div>\n",
       "<style scoped>\n",
       "    .dataframe tbody tr th:only-of-type {\n",
       "        vertical-align: middle;\n",
       "    }\n",
       "\n",
       "    .dataframe tbody tr th {\n",
       "        vertical-align: top;\n",
       "    }\n",
       "\n",
       "    .dataframe thead th {\n",
       "        text-align: right;\n",
       "    }\n",
       "</style>\n",
       "<table border=\"1\" class=\"dataframe\">\n",
       "  <thead>\n",
       "    <tr style=\"text-align: right;\">\n",
       "      <th></th>\n",
       "      <th>교통비</th>\n",
       "    </tr>\n",
       "  </thead>\n",
       "  <tbody>\n",
       "    <tr>\n",
       "      <th>0</th>\n",
       "      <td>1000.0</td>\n",
       "    </tr>\n",
       "    <tr>\n",
       "      <th>1</th>\n",
       "      <td>2000.0</td>\n",
       "    </tr>\n",
       "    <tr>\n",
       "      <th>2</th>\n",
       "      <td>3000.0</td>\n",
       "    </tr>\n",
       "    <tr>\n",
       "      <th>3</th>\n",
       "      <td>NaN</td>\n",
       "    </tr>\n",
       "    <tr>\n",
       "      <th>4</th>\n",
       "      <td>4000.0</td>\n",
       "    </tr>\n",
       "  </tbody>\n",
       "</table>\n",
       "</div>"
      ],
      "text/plain": [
       "      교통비\n",
       "0  1000.0\n",
       "1  2000.0\n",
       "2  3000.0\n",
       "3     NaN\n",
       "4  4000.0"
      ]
     },
     "execution_count": 43,
     "metadata": {},
     "output_type": "execute_result"
    }
   ],
   "source": [
    "paytravel01 = payment.교통비 # ''를 적으면 안 됨\n",
    "paytravel01.to_frame()"
   ]
  },
  {
   "cell_type": "markdown",
   "id": "c6b30cee",
   "metadata": {},
   "source": [
    "<h3><font color=\"green\">Series와 연관된 메소드 사용하기</font></h3>"
   ]
  },
  {
   "cell_type": "markdown",
   "id": "3f6f0b1f",
   "metadata": {},
   "source": [
    "<h6><font color=\"BlueViolet\">1) 메소드 개수 파악하기\n",
    "</font></h6>"
   ]
  },
  {
   "cell_type": "code",
   "execution_count": 44,
   "id": "46369667",
   "metadata": {},
   "outputs": [
    {
     "name": "stdout",
     "output_type": "stream",
     "text": [
      "len(series_attr) : 422\n"
     ]
    }
   ],
   "source": [
    "series_attr = set(dir(pd.Series))\n",
    "print('len(series_attr) :' , str(len(series_attr)) )"
   ]
  },
  {
   "cell_type": "code",
   "execution_count": 52,
   "id": "53ede36e",
   "metadata": {},
   "outputs": [
    {
     "name": "stdout",
     "output_type": "stream",
     "text": [
      "len(series_attr) : 437\n"
     ]
    }
   ],
   "source": [
    "dataframe_attr = set(dir(pd.DataFrame))\n",
    "print('len(series_attr) :' , str(len(series_attr)) )"
   ]
  },
  {
   "cell_type": "code",
   "execution_count": 53,
   "id": "d9231411",
   "metadata": {},
   "outputs": [
    {
     "name": "stdout",
     "output_type": "stream",
     "text": [
      "len(series_attr & dataframe_attr) : 437\n"
     ]
    }
   ],
   "source": [
    "print('len(series_attr & dataframe_attr) : ' , end='')\n",
    "print(len(series_attr & dataframe_attr))"
   ]
  },
  {
   "cell_type": "markdown",
   "id": "22d896c9",
   "metadata": {},
   "source": [
    "<h6><font color=\"BlueViolet\">2) 메소드 확인하기\n",
    "</font></h6>"
   ]
  },
  {
   "cell_type": "code",
   "execution_count": 62,
   "id": "d4545c82",
   "metadata": {},
   "outputs": [
    {
     "data": {
      "text/plain": [
       "['T',\n",
       " 'abs',\n",
       " 'add',\n",
       " 'add_prefix',\n",
       " 'add_suffix',\n",
       " 'agg',\n",
       " 'aggregate',\n",
       " 'align',\n",
       " 'all',\n",
       " 'any']"
      ]
     },
     "execution_count": 62,
     "metadata": {},
     "output_type": "execute_result"
    }
   ],
   "source": [
    "sorted_series_attr= sorted([attr for attr in series_attr if not attr.startswith('_')])\n",
    "sorted_series_attr[0:10]"
   ]
  },
  {
   "cell_type": "code",
   "execution_count": 63,
   "id": "a56894f6",
   "metadata": {},
   "outputs": [
    {
     "data": {
      "text/plain": [
       "['T',\n",
       " 'abs',\n",
       " 'add',\n",
       " 'add_prefix',\n",
       " 'add_suffix',\n",
       " 'agg',\n",
       " 'aggregate',\n",
       " 'align',\n",
       " 'all',\n",
       " 'any']"
      ]
     },
     "execution_count": 63,
     "metadata": {},
     "output_type": "execute_result"
    }
   ],
   "source": [
    "sorted_dataframe_attr= sorted([attr for attr in dataframe_attr if not attr.startswith('_')])\n",
    "sorted_dataframe_attr[0:10]"
   ]
  },
  {
   "cell_type": "markdown",
   "id": "d6091f78",
   "metadata": {},
   "source": [
    "<h6><font color=\"BlueViolet\">3) 대괄호를 사용한 Series 정보 얻기\n",
    "</font></h6>"
   ]
  },
  {
   "cell_type": "code",
   "execution_count": 67,
   "id": "891e81f2",
   "metadata": {},
   "outputs": [
    {
     "data": {
      "text/plain": [
       "0    1000.0\n",
       "1    2000.0\n",
       "2    3000.0\n",
       "3       NaN\n",
       "4    4000.0\n",
       "Name: 교통비, dtype: float64"
      ]
     },
     "execution_count": 67,
     "metadata": {},
     "output_type": "execute_result"
    }
   ],
   "source": [
    "paytravel = payment.교통비\n",
    "paytravel"
   ]
  },
  {
   "cell_type": "code",
   "execution_count": 64,
   "id": "b4d96f12",
   "metadata": {},
   "outputs": [
    {
     "data": {
      "text/plain": [
       "0    3.0\n",
       "1    NaN\n",
       "2    7.0\n",
       "3    5.0\n",
       "4    6.0\n",
       "Name: 출장기간, dtype: float64"
      ]
     },
     "execution_count": 64,
     "metadata": {},
     "output_type": "execute_result"
    }
   ],
   "source": [
    "business = payment.출장기간\n",
    "business"
   ]
  },
  {
   "cell_type": "markdown",
   "id": "f2c8c967",
   "metadata": {},
   "source": [
    "<h6><font color=\"BlueViolet\">4) Series 속성과 기초 통계량 확인\n",
    "</font></h6>"
   ]
  },
  {
   "cell_type": "code",
   "execution_count": 69,
   "id": "cd2c57b1",
   "metadata": {},
   "outputs": [
    {
     "name": "stdout",
     "output_type": "stream",
     "text": [
      "5\n",
      "(5,)\n",
      "5\n",
      "<bound method Series.count of 0    1000.0\n",
      "1    2000.0\n",
      "2    3000.0\n",
      "3       NaN\n",
      "4    4000.0\n",
      "Name: 교통비, dtype: float64>\n"
     ]
    }
   ],
   "source": [
    "print(paytravel.size)\n",
    "print(paytravel.shape)\n",
    "print(len(paytravel))\n",
    "print(paytravel.count)"
   ]
  },
  {
   "cell_type": "code",
   "execution_count": 72,
   "id": "d2b8faaa",
   "metadata": {},
   "outputs": [
    {
     "name": "stdout",
     "output_type": "stream",
     "text": [
      "5.5\n",
      "3.0\n",
      "7.0\n",
      "5.25\n",
      "5.5\n",
      "1.707825127659933\n",
      "21.0\n"
     ]
    }
   ],
   "source": [
    "print(business.quantile()) # 0.5에 해당하는 값\n",
    "print(business.min())\n",
    "print(business.max())\n",
    "print(business.mean())\n",
    "print(business.median()) # 중앙값 / 제일 가운데 있는 값\n",
    "print(business.std()) # \n",
    "print(business.sum())"
   ]
  },
  {
   "cell_type": "code",
   "execution_count": 73,
   "id": "5a66bdd5",
   "metadata": {},
   "outputs": [
    {
     "name": "stdout",
     "output_type": "stream",
     "text": [
      "count       4.000000\n",
      "mean     2500.000000\n",
      "std      1290.994449\n",
      "min      1000.000000\n",
      "25%      1750.000000\n",
      "50%      2500.000000\n",
      "75%      3250.000000\n",
      "max      4000.000000\n",
      "Name: 교통비, dtype: float64\n"
     ]
    }
   ],
   "source": [
    "print(paytravel.describe())"
   ]
  },
  {
   "cell_type": "markdown",
   "id": "f9e43e68",
   "metadata": {},
   "source": [
    "<h6><font color=\"BlueViolet\">5) 누락된 데이터 확인\n",
    "</font></h6>"
   ]
  },
  {
   "cell_type": "code",
   "execution_count": 74,
   "id": "d42f7edb",
   "metadata": {},
   "outputs": [
    {
     "data": {
      "text/plain": [
       "True"
      ]
     },
     "execution_count": 74,
     "metadata": {},
     "output_type": "execute_result"
    }
   ],
   "source": [
    "paytravel.hasnans"
   ]
  },
  {
   "cell_type": "code",
   "execution_count": 76,
   "id": "267959ec",
   "metadata": {
    "scrolled": true
   },
   "outputs": [
    {
     "data": {
      "text/plain": [
       "0    False\n",
       "1    False\n",
       "2    False\n",
       "3     True\n",
       "4    False\n",
       "Name: 교통비, dtype: bool"
      ]
     },
     "execution_count": 76,
     "metadata": {},
     "output_type": "execute_result"
    }
   ],
   "source": [
    "paytravel.isnull().head()"
   ]
  },
  {
   "cell_type": "code",
   "execution_count": 77,
   "id": "c0e85fbc",
   "metadata": {},
   "outputs": [
    {
     "data": {
      "text/plain": [
       "0     True\n",
       "1     True\n",
       "2     True\n",
       "3    False\n",
       "4     True\n",
       "Name: 교통비, dtype: bool"
      ]
     },
     "execution_count": 77,
     "metadata": {},
     "output_type": "execute_result"
    }
   ],
   "source": [
    "paytravel.notnull().head()"
   ]
  },
  {
   "cell_type": "markdown",
   "id": "af5d7ef2",
   "metadata": {},
   "source": [
    "<h6><font color=\"BlueViolet\">6) 빈도수 파악하기\n",
    "</font></h6>"
   ]
  },
  {
   "cell_type": "code",
   "execution_count": 79,
   "id": "d2b15633",
   "metadata": {},
   "outputs": [
    {
     "name": "stdout",
     "output_type": "stream",
     "text": [
      "1000.0    1\n",
      "2000.0    1\n",
      "3000.0    1\n",
      "4000.0    1\n",
      "Name: 교통비, dtype: int64\n"
     ]
    }
   ],
   "source": [
    "print(paytravel.value_counts())"
   ]
  },
  {
   "cell_type": "markdown",
   "id": "8b8562fa",
   "metadata": {},
   "source": [
    "<h3><font color=\"green\">Series의 메소드 Chaining</font></h3>"
   ]
  },
  {
   "cell_type": "code",
   "execution_count": 78,
   "id": "3f982736",
   "metadata": {
    "scrolled": true
   },
   "outputs": [
    {
     "data": {
      "text/plain": [
       "0    False\n",
       "1     True\n",
       "2    False\n",
       "3    False\n",
       "4    False\n",
       "Name: 출장기간, dtype: bool"
      ]
     },
     "execution_count": 78,
     "metadata": {},
     "output_type": "execute_result"
    }
   ],
   "source": [
    "business.isnull()"
   ]
  },
  {
   "cell_type": "code",
   "execution_count": 81,
   "id": "b7481af1",
   "metadata": {
    "scrolled": true
   },
   "outputs": [
    {
     "data": {
      "text/plain": [
       "1"
      ]
     },
     "execution_count": 81,
     "metadata": {},
     "output_type": "execute_result"
    }
   ],
   "source": [
    "business.isnull().sum() # 누락 데이터 개수 (프로그래밍에서 True = 1 / False = 0)"
   ]
  },
  {
   "cell_type": "code",
   "execution_count": 84,
   "id": "acc189ca",
   "metadata": {},
   "outputs": [
    {
     "data": {
      "text/plain": [
       "0.2"
      ]
     },
     "execution_count": 84,
     "metadata": {},
     "output_type": "execute_result"
    }
   ],
   "source": [
    "business.isnull().mean() # 누락 데이터 비율"
   ]
  },
  {
   "cell_type": "code",
   "execution_count": 82,
   "id": "d2dd4fc0",
   "metadata": {},
   "outputs": [
    {
     "data": {
      "text/html": [
       "<div>\n",
       "<style scoped>\n",
       "    .dataframe tbody tr th:only-of-type {\n",
       "        vertical-align: middle;\n",
       "    }\n",
       "\n",
       "    .dataframe tbody tr th {\n",
       "        vertical-align: top;\n",
       "    }\n",
       "\n",
       "    .dataframe thead th {\n",
       "        text-align: right;\n",
       "    }\n",
       "</style>\n",
       "<table border=\"1\" class=\"dataframe\">\n",
       "  <thead>\n",
       "    <tr style=\"text-align: right;\">\n",
       "      <th></th>\n",
       "      <th>출장기간</th>\n",
       "    </tr>\n",
       "  </thead>\n",
       "  <tbody>\n",
       "    <tr>\n",
       "      <th>0</th>\n",
       "      <td>3.0</td>\n",
       "    </tr>\n",
       "    <tr>\n",
       "      <th>1</th>\n",
       "      <td>NaN</td>\n",
       "    </tr>\n",
       "    <tr>\n",
       "      <th>2</th>\n",
       "      <td>7.0</td>\n",
       "    </tr>\n",
       "    <tr>\n",
       "      <th>3</th>\n",
       "      <td>5.0</td>\n",
       "    </tr>\n",
       "    <tr>\n",
       "      <th>4</th>\n",
       "      <td>6.0</td>\n",
       "    </tr>\n",
       "  </tbody>\n",
       "</table>\n",
       "</div>"
      ],
      "text/plain": [
       "   출장기간\n",
       "0   3.0\n",
       "1   NaN\n",
       "2   7.0\n",
       "3   5.0\n",
       "4   6.0"
      ]
     },
     "metadata": {},
     "output_type": "display_data"
    }
   ],
   "source": [
    "display(business.to_frame())"
   ]
  },
  {
   "cell_type": "code",
   "execution_count": 83,
   "id": "866fa93e",
   "metadata": {},
   "outputs": [
    {
     "data": {
      "text/html": [
       "<div>\n",
       "<style scoped>\n",
       "    .dataframe tbody tr th:only-of-type {\n",
       "        vertical-align: middle;\n",
       "    }\n",
       "\n",
       "    .dataframe tbody tr th {\n",
       "        vertical-align: top;\n",
       "    }\n",
       "\n",
       "    .dataframe thead th {\n",
       "        text-align: right;\n",
       "    }\n",
       "</style>\n",
       "<table border=\"1\" class=\"dataframe\">\n",
       "  <thead>\n",
       "    <tr style=\"text-align: right;\">\n",
       "      <th></th>\n",
       "      <th>출장기간</th>\n",
       "    </tr>\n",
       "  </thead>\n",
       "  <tbody>\n",
       "    <tr>\n",
       "      <th>0</th>\n",
       "      <td>False</td>\n",
       "    </tr>\n",
       "    <tr>\n",
       "      <th>1</th>\n",
       "      <td>True</td>\n",
       "    </tr>\n",
       "    <tr>\n",
       "      <th>2</th>\n",
       "      <td>False</td>\n",
       "    </tr>\n",
       "    <tr>\n",
       "      <th>3</th>\n",
       "      <td>False</td>\n",
       "    </tr>\n",
       "    <tr>\n",
       "      <th>4</th>\n",
       "      <td>False</td>\n",
       "    </tr>\n",
       "  </tbody>\n",
       "</table>\n",
       "</div>"
      ],
      "text/plain": [
       "    출장기간\n",
       "0  False\n",
       "1   True\n",
       "2  False\n",
       "3  False\n",
       "4  False"
      ]
     },
     "metadata": {},
     "output_type": "display_data"
    }
   ],
   "source": [
    "display(business.isnull().to_frame())"
   ]
  },
  {
   "cell_type": "markdown",
   "id": "f777e944",
   "metadata": {},
   "source": [
    "<h2><font color=\"red\">재색인 기능의 사용</font></h2>"
   ]
  },
  {
   "cell_type": "markdown",
   "id": "7dca2a45",
   "metadata": {},
   "source": [
    "<h3><font color=\"green\">색인 재설정과 이름 변경</font></h3>"
   ]
  },
  {
   "cell_type": "markdown",
   "id": "4ed8255d",
   "metadata": {},
   "source": [
    "<h6><font color=\"BlueViolet\">1) 색인 재설정하기\n",
    "</font></h6>"
   ]
  },
  {
   "cell_type": "code",
   "execution_count": 85,
   "id": "6a9cfedc",
   "metadata": {},
   "outputs": [
    {
     "data": {
      "text/html": [
       "<div>\n",
       "<style scoped>\n",
       "    .dataframe tbody tr th:only-of-type {\n",
       "        vertical-align: middle;\n",
       "    }\n",
       "\n",
       "    .dataframe tbody tr th {\n",
       "        vertical-align: top;\n",
       "    }\n",
       "\n",
       "    .dataframe thead th {\n",
       "        text-align: right;\n",
       "    }\n",
       "</style>\n",
       "<table border=\"1\" class=\"dataframe\">\n",
       "  <thead>\n",
       "    <tr style=\"text-align: right;\">\n",
       "      <th></th>\n",
       "      <th>사원명</th>\n",
       "      <th>출장지역</th>\n",
       "      <th>출장기간</th>\n",
       "      <th>부서</th>\n",
       "      <th>성별</th>\n",
       "      <th>교통비</th>\n",
       "      <th>식비</th>\n",
       "    </tr>\n",
       "  </thead>\n",
       "  <tbody>\n",
       "    <tr>\n",
       "      <th>0</th>\n",
       "      <td>강감찬</td>\n",
       "      <td>서울</td>\n",
       "      <td>3.0</td>\n",
       "      <td>영업부</td>\n",
       "      <td>남자</td>\n",
       "      <td>1000.0</td>\n",
       "      <td>500</td>\n",
       "    </tr>\n",
       "    <tr>\n",
       "      <th>1</th>\n",
       "      <td>김구</td>\n",
       "      <td>서울</td>\n",
       "      <td>NaN</td>\n",
       "      <td>총무부</td>\n",
       "      <td>남자</td>\n",
       "      <td>2000.0</td>\n",
       "      <td>300</td>\n",
       "    </tr>\n",
       "    <tr>\n",
       "      <th>2</th>\n",
       "      <td>김유신</td>\n",
       "      <td>부산</td>\n",
       "      <td>7.0</td>\n",
       "      <td>전산부</td>\n",
       "      <td>남자</td>\n",
       "      <td>3000.0</td>\n",
       "      <td>600</td>\n",
       "    </tr>\n",
       "    <tr>\n",
       "      <th>3</th>\n",
       "      <td>신사임당</td>\n",
       "      <td>부산</td>\n",
       "      <td>5.0</td>\n",
       "      <td>영업부</td>\n",
       "      <td>여자</td>\n",
       "      <td>NaN</td>\n",
       "      <td>200</td>\n",
       "    </tr>\n",
       "    <tr>\n",
       "      <th>4</th>\n",
       "      <td>선덕여왕</td>\n",
       "      <td>서울</td>\n",
       "      <td>6.0</td>\n",
       "      <td>총무부</td>\n",
       "      <td>여자</td>\n",
       "      <td>4000.0</td>\n",
       "      <td>800</td>\n",
       "    </tr>\n",
       "  </tbody>\n",
       "</table>\n",
       "</div>"
      ],
      "text/plain": [
       "    사원명 출장지역  출장기간   부서  성별     교통비   식비\n",
       "0   강감찬   서울   3.0  영업부  남자  1000.0  500\n",
       "1    김구   서울   NaN  총무부  남자  2000.0  300\n",
       "2   김유신   부산   7.0  전산부  남자  3000.0  600\n",
       "3  신사임당   부산   5.0  영업부  여자     NaN  200\n",
       "4  선덕여왕   서울   6.0  총무부  여자  4000.0  800"
      ]
     },
     "metadata": {},
     "output_type": "display_data"
    }
   ],
   "source": [
    "payment = pd.read_csv('./../data/payment01.csv', encoding='cp949')\n",
    "display(payment)"
   ]
  },
  {
   "cell_type": "code",
   "execution_count": 88,
   "id": "e01b8962",
   "metadata": {
    "scrolled": true
   },
   "outputs": [
    {
     "data": {
      "text/html": [
       "<div>\n",
       "<style scoped>\n",
       "    .dataframe tbody tr th:only-of-type {\n",
       "        vertical-align: middle;\n",
       "    }\n",
       "\n",
       "    .dataframe tbody tr th {\n",
       "        vertical-align: top;\n",
       "    }\n",
       "\n",
       "    .dataframe thead th {\n",
       "        text-align: right;\n",
       "    }\n",
       "</style>\n",
       "<table border=\"1\" class=\"dataframe\">\n",
       "  <thead>\n",
       "    <tr style=\"text-align: right;\">\n",
       "      <th></th>\n",
       "      <th>출장지역</th>\n",
       "      <th>출장기간</th>\n",
       "      <th>부서</th>\n",
       "      <th>성별</th>\n",
       "      <th>교통비</th>\n",
       "      <th>식비</th>\n",
       "    </tr>\n",
       "    <tr>\n",
       "      <th>사원명</th>\n",
       "      <th></th>\n",
       "      <th></th>\n",
       "      <th></th>\n",
       "      <th></th>\n",
       "      <th></th>\n",
       "      <th></th>\n",
       "    </tr>\n",
       "  </thead>\n",
       "  <tbody>\n",
       "    <tr>\n",
       "      <th>강감찬</th>\n",
       "      <td>서울</td>\n",
       "      <td>3.0</td>\n",
       "      <td>영업부</td>\n",
       "      <td>남자</td>\n",
       "      <td>1000.0</td>\n",
       "      <td>500</td>\n",
       "    </tr>\n",
       "    <tr>\n",
       "      <th>김구</th>\n",
       "      <td>서울</td>\n",
       "      <td>NaN</td>\n",
       "      <td>총무부</td>\n",
       "      <td>남자</td>\n",
       "      <td>2000.0</td>\n",
       "      <td>300</td>\n",
       "    </tr>\n",
       "    <tr>\n",
       "      <th>김유신</th>\n",
       "      <td>부산</td>\n",
       "      <td>7.0</td>\n",
       "      <td>전산부</td>\n",
       "      <td>남자</td>\n",
       "      <td>3000.0</td>\n",
       "      <td>600</td>\n",
       "    </tr>\n",
       "    <tr>\n",
       "      <th>신사임당</th>\n",
       "      <td>부산</td>\n",
       "      <td>5.0</td>\n",
       "      <td>영업부</td>\n",
       "      <td>여자</td>\n",
       "      <td>NaN</td>\n",
       "      <td>200</td>\n",
       "    </tr>\n",
       "    <tr>\n",
       "      <th>선덕여왕</th>\n",
       "      <td>서울</td>\n",
       "      <td>6.0</td>\n",
       "      <td>총무부</td>\n",
       "      <td>여자</td>\n",
       "      <td>4000.0</td>\n",
       "      <td>800</td>\n",
       "    </tr>\n",
       "  </tbody>\n",
       "</table>\n",
       "</div>"
      ],
      "text/plain": [
       "     출장지역  출장기간   부서  성별     교통비   식비\n",
       "사원명                                  \n",
       "강감찬    서울   3.0  영업부  남자  1000.0  500\n",
       "김구     서울   NaN  총무부  남자  2000.0  300\n",
       "김유신    부산   7.0  전산부  남자  3000.0  600\n",
       "신사임당   부산   5.0  영업부  여자     NaN  200\n",
       "선덕여왕   서울   6.0  총무부  여자  4000.0  800"
      ]
     },
     "metadata": {},
     "output_type": "display_data"
    }
   ],
   "source": [
    "payment = payment.set_index('사원명')\n",
    "display(payment)"
   ]
  },
  {
   "cell_type": "markdown",
   "id": "11d7bb2e",
   "metadata": {},
   "source": [
    "<h6><font color=\"BlueViolet\">2) 행과 열의 색인 이름 변경\n",
    "\n",
    "</font></h6>"
   ]
  },
  {
   "cell_type": "code",
   "execution_count": 117,
   "id": "8295ecd5",
   "metadata": {},
   "outputs": [
    {
     "data": {
      "text/html": [
       "<div>\n",
       "<style scoped>\n",
       "    .dataframe tbody tr th:only-of-type {\n",
       "        vertical-align: middle;\n",
       "    }\n",
       "\n",
       "    .dataframe tbody tr th {\n",
       "        vertical-align: top;\n",
       "    }\n",
       "\n",
       "    .dataframe thead th {\n",
       "        text-align: right;\n",
       "    }\n",
       "</style>\n",
       "<table border=\"1\" class=\"dataframe\">\n",
       "  <thead>\n",
       "    <tr style=\"text-align: right;\">\n",
       "      <th></th>\n",
       "      <th>사원명</th>\n",
       "      <th>다녀온 곳</th>\n",
       "      <th>성별</th>\n",
       "      <th>교통비</th>\n",
       "      <th>밥값</th>\n",
       "      <th>최종 식비</th>\n",
       "    </tr>\n",
       "  </thead>\n",
       "  <tbody>\n",
       "    <tr>\n",
       "      <th>0</th>\n",
       "      <td>강감찬</td>\n",
       "      <td>서울</td>\n",
       "      <td>남자</td>\n",
       "      <td>1000.0</td>\n",
       "      <td>500</td>\n",
       "      <td>600</td>\n",
       "    </tr>\n",
       "    <tr>\n",
       "      <th>1</th>\n",
       "      <td>김구</td>\n",
       "      <td>서울</td>\n",
       "      <td>남자</td>\n",
       "      <td>2000.0</td>\n",
       "      <td>300</td>\n",
       "      <td>400</td>\n",
       "    </tr>\n",
       "    <tr>\n",
       "      <th>2</th>\n",
       "      <td>김유신</td>\n",
       "      <td>부산</td>\n",
       "      <td>남자</td>\n",
       "      <td>3000.0</td>\n",
       "      <td>600</td>\n",
       "      <td>700</td>\n",
       "    </tr>\n",
       "    <tr>\n",
       "      <th>4</th>\n",
       "      <td>선덕여왕</td>\n",
       "      <td>서울</td>\n",
       "      <td>여자</td>\n",
       "      <td>4000.0</td>\n",
       "      <td>800</td>\n",
       "      <td>900</td>\n",
       "    </tr>\n",
       "  </tbody>\n",
       "</table>\n",
       "</div>"
      ],
      "text/plain": [
       "    사원명 다녀온 곳  성별     교통비   밥값  최종 식비\n",
       "0   강감찬    서울  남자  1000.0  500    600\n",
       "1    김구    서울  남자  2000.0  300    400\n",
       "2   김유신    부산  남자  3000.0  600    700\n",
       "4  선덕여왕    서울  여자  4000.0  800    900"
      ]
     },
     "metadata": {},
     "output_type": "display_data"
    }
   ],
   "source": [
    "renamed_row = {'김구':'유관순','선덕여왕':'진덕여왕'}\n",
    "renamed_col = {'출장지역':'다녀온 곳','식비':'밥값'}\n",
    "\n",
    "payment = payment.rename(index=renamed_row , columns=renamed_col)\n",
    "display(payment)"
   ]
  },
  {
   "cell_type": "code",
   "execution_count": 93,
   "id": "055b6b92",
   "metadata": {},
   "outputs": [
    {
     "data": {
      "text/plain": [
       "Index(['강감찬', '유관순', '김유신', '신사임당', '진덕여왕'], dtype='object', name='사원명')"
      ]
     },
     "execution_count": 93,
     "metadata": {},
     "output_type": "execute_result"
    }
   ],
   "source": [
    "payment.index"
   ]
  },
  {
   "cell_type": "code",
   "execution_count": 94,
   "id": "402ffde8",
   "metadata": {
    "scrolled": true
   },
   "outputs": [
    {
     "data": {
      "text/plain": [
       "Index(['다녀온 곳', '출장기간', '부서', '성별', '교통비', '밥값'], dtype='object')"
      ]
     },
     "execution_count": 94,
     "metadata": {},
     "output_type": "execute_result"
    }
   ],
   "source": [
    "payment.columns"
   ]
  },
  {
   "cell_type": "markdown",
   "id": "00d9d9f5",
   "metadata": {},
   "source": [
    "<h6><font color=\"BlueViolet\">3) list를 사용한 색인 이름 변경\n",
    "</font></h6>"
   ]
  },
  {
   "cell_type": "code",
   "execution_count": 98,
   "id": "7878fbfb",
   "metadata": {},
   "outputs": [],
   "source": [
    "index_list = payment.index.tolist()\n",
    "column_list = payment.columns.tolist()\n",
    "index_list[0] = '가나다'\n",
    "index_list[1] = '라마바'\n",
    "column_list[0] = '갑을병'\n",
    "column_list[1] = '정무기'"
   ]
  },
  {
   "cell_type": "code",
   "execution_count": 99,
   "id": "18e08379",
   "metadata": {},
   "outputs": [],
   "source": [
    "payment.index = index_list\n",
    "payment.columns = column_list"
   ]
  },
  {
   "cell_type": "code",
   "execution_count": 100,
   "id": "75c4f7af",
   "metadata": {
    "scrolled": true
   },
   "outputs": [
    {
     "data": {
      "text/html": [
       "<div>\n",
       "<style scoped>\n",
       "    .dataframe tbody tr th:only-of-type {\n",
       "        vertical-align: middle;\n",
       "    }\n",
       "\n",
       "    .dataframe tbody tr th {\n",
       "        vertical-align: top;\n",
       "    }\n",
       "\n",
       "    .dataframe thead th {\n",
       "        text-align: right;\n",
       "    }\n",
       "</style>\n",
       "<table border=\"1\" class=\"dataframe\">\n",
       "  <thead>\n",
       "    <tr style=\"text-align: right;\">\n",
       "      <th></th>\n",
       "      <th>갑을병</th>\n",
       "      <th>정무기</th>\n",
       "      <th>부서</th>\n",
       "      <th>성별</th>\n",
       "      <th>교통비</th>\n",
       "      <th>밥값</th>\n",
       "    </tr>\n",
       "  </thead>\n",
       "  <tbody>\n",
       "    <tr>\n",
       "      <th>가나다</th>\n",
       "      <td>서울</td>\n",
       "      <td>3.0</td>\n",
       "      <td>영업부</td>\n",
       "      <td>남자</td>\n",
       "      <td>1000.0</td>\n",
       "      <td>500</td>\n",
       "    </tr>\n",
       "    <tr>\n",
       "      <th>라마바</th>\n",
       "      <td>서울</td>\n",
       "      <td>NaN</td>\n",
       "      <td>총무부</td>\n",
       "      <td>남자</td>\n",
       "      <td>2000.0</td>\n",
       "      <td>300</td>\n",
       "    </tr>\n",
       "    <tr>\n",
       "      <th>김유신</th>\n",
       "      <td>부산</td>\n",
       "      <td>7.0</td>\n",
       "      <td>전산부</td>\n",
       "      <td>남자</td>\n",
       "      <td>3000.0</td>\n",
       "      <td>600</td>\n",
       "    </tr>\n",
       "    <tr>\n",
       "      <th>신사임당</th>\n",
       "      <td>부산</td>\n",
       "      <td>5.0</td>\n",
       "      <td>영업부</td>\n",
       "      <td>여자</td>\n",
       "      <td>NaN</td>\n",
       "      <td>200</td>\n",
       "    </tr>\n",
       "    <tr>\n",
       "      <th>진덕여왕</th>\n",
       "      <td>서울</td>\n",
       "      <td>6.0</td>\n",
       "      <td>총무부</td>\n",
       "      <td>여자</td>\n",
       "      <td>4000.0</td>\n",
       "      <td>800</td>\n",
       "    </tr>\n",
       "  </tbody>\n",
       "</table>\n",
       "</div>"
      ],
      "text/plain": [
       "     갑을병  정무기   부서  성별     교통비   밥값\n",
       "가나다   서울  3.0  영업부  남자  1000.0  500\n",
       "라마바   서울  NaN  총무부  남자  2000.0  300\n",
       "김유신   부산  7.0  전산부  남자  3000.0  600\n",
       "신사임당  부산  5.0  영업부  여자     NaN  200\n",
       "진덕여왕  서울  6.0  총무부  여자  4000.0  800"
      ]
     },
     "execution_count": 100,
     "metadata": {},
     "output_type": "execute_result"
    }
   ],
   "source": [
    "payment"
   ]
  },
  {
   "cell_type": "markdown",
   "id": "05ac48a5",
   "metadata": {},
   "source": [
    "<h3><font color=\"green\">색인 생성과 삭제</font></h3>"
   ]
  },
  {
   "cell_type": "code",
   "execution_count": 101,
   "id": "3b5a5f43",
   "metadata": {
    "scrolled": true
   },
   "outputs": [
    {
     "data": {
      "text/html": [
       "<div>\n",
       "<style scoped>\n",
       "    .dataframe tbody tr th:only-of-type {\n",
       "        vertical-align: middle;\n",
       "    }\n",
       "\n",
       "    .dataframe tbody tr th {\n",
       "        vertical-align: top;\n",
       "    }\n",
       "\n",
       "    .dataframe thead th {\n",
       "        text-align: right;\n",
       "    }\n",
       "</style>\n",
       "<table border=\"1\" class=\"dataframe\">\n",
       "  <thead>\n",
       "    <tr style=\"text-align: right;\">\n",
       "      <th></th>\n",
       "      <th>사원명</th>\n",
       "      <th>출장지역</th>\n",
       "      <th>출장기간</th>\n",
       "      <th>부서</th>\n",
       "      <th>성별</th>\n",
       "      <th>교통비</th>\n",
       "      <th>식비</th>\n",
       "    </tr>\n",
       "  </thead>\n",
       "  <tbody>\n",
       "    <tr>\n",
       "      <th>0</th>\n",
       "      <td>강감찬</td>\n",
       "      <td>서울</td>\n",
       "      <td>3.0</td>\n",
       "      <td>영업부</td>\n",
       "      <td>남자</td>\n",
       "      <td>1000.0</td>\n",
       "      <td>500</td>\n",
       "    </tr>\n",
       "    <tr>\n",
       "      <th>1</th>\n",
       "      <td>김구</td>\n",
       "      <td>서울</td>\n",
       "      <td>NaN</td>\n",
       "      <td>총무부</td>\n",
       "      <td>남자</td>\n",
       "      <td>2000.0</td>\n",
       "      <td>300</td>\n",
       "    </tr>\n",
       "    <tr>\n",
       "      <th>2</th>\n",
       "      <td>김유신</td>\n",
       "      <td>부산</td>\n",
       "      <td>7.0</td>\n",
       "      <td>전산부</td>\n",
       "      <td>남자</td>\n",
       "      <td>3000.0</td>\n",
       "      <td>600</td>\n",
       "    </tr>\n",
       "    <tr>\n",
       "      <th>3</th>\n",
       "      <td>신사임당</td>\n",
       "      <td>부산</td>\n",
       "      <td>5.0</td>\n",
       "      <td>영업부</td>\n",
       "      <td>여자</td>\n",
       "      <td>NaN</td>\n",
       "      <td>200</td>\n",
       "    </tr>\n",
       "    <tr>\n",
       "      <th>4</th>\n",
       "      <td>선덕여왕</td>\n",
       "      <td>서울</td>\n",
       "      <td>6.0</td>\n",
       "      <td>총무부</td>\n",
       "      <td>여자</td>\n",
       "      <td>4000.0</td>\n",
       "      <td>800</td>\n",
       "    </tr>\n",
       "  </tbody>\n",
       "</table>\n",
       "</div>"
      ],
      "text/plain": [
       "    사원명 출장지역  출장기간   부서  성별     교통비   식비\n",
       "0   강감찬   서울   3.0  영업부  남자  1000.0  500\n",
       "1    김구   서울   NaN  총무부  남자  2000.0  300\n",
       "2   김유신   부산   7.0  전산부  남자  3000.0  600\n",
       "3  신사임당   부산   5.0  영업부  여자     NaN  200\n",
       "4  선덕여왕   서울   6.0  총무부  여자  4000.0  800"
      ]
     },
     "execution_count": 101,
     "metadata": {},
     "output_type": "execute_result"
    }
   ],
   "source": [
    "payment = pd.read_csv('./../data/payment01.csv' , encoding='cp949')\n",
    "payment"
   ]
  },
  {
   "cell_type": "markdown",
   "id": "219f4be8",
   "metadata": {},
   "source": [
    "<h6><font color=\"BlueViolet\">1) scalar 사용하기\n",
    "</font></h6>"
   ]
  },
  {
   "cell_type": "code",
   "execution_count": 102,
   "id": "761a33f9",
   "metadata": {},
   "outputs": [
    {
     "data": {
      "text/html": [
       "<div>\n",
       "<style scoped>\n",
       "    .dataframe tbody tr th:only-of-type {\n",
       "        vertical-align: middle;\n",
       "    }\n",
       "\n",
       "    .dataframe tbody tr th {\n",
       "        vertical-align: top;\n",
       "    }\n",
       "\n",
       "    .dataframe thead th {\n",
       "        text-align: right;\n",
       "    }\n",
       "</style>\n",
       "<table border=\"1\" class=\"dataframe\">\n",
       "  <thead>\n",
       "    <tr style=\"text-align: right;\">\n",
       "      <th></th>\n",
       "      <th>사원명</th>\n",
       "      <th>출장지역</th>\n",
       "      <th>출장기간</th>\n",
       "      <th>부서</th>\n",
       "      <th>성별</th>\n",
       "      <th>교통비</th>\n",
       "      <th>식비</th>\n",
       "      <th>차량 지원</th>\n",
       "    </tr>\n",
       "  </thead>\n",
       "  <tbody>\n",
       "    <tr>\n",
       "      <th>0</th>\n",
       "      <td>강감찬</td>\n",
       "      <td>서울</td>\n",
       "      <td>3.0</td>\n",
       "      <td>영업부</td>\n",
       "      <td>남자</td>\n",
       "      <td>1000.0</td>\n",
       "      <td>500</td>\n",
       "      <td>지원</td>\n",
       "    </tr>\n",
       "    <tr>\n",
       "      <th>1</th>\n",
       "      <td>김구</td>\n",
       "      <td>서울</td>\n",
       "      <td>NaN</td>\n",
       "      <td>총무부</td>\n",
       "      <td>남자</td>\n",
       "      <td>2000.0</td>\n",
       "      <td>300</td>\n",
       "      <td>지원</td>\n",
       "    </tr>\n",
       "    <tr>\n",
       "      <th>2</th>\n",
       "      <td>김유신</td>\n",
       "      <td>부산</td>\n",
       "      <td>7.0</td>\n",
       "      <td>전산부</td>\n",
       "      <td>남자</td>\n",
       "      <td>3000.0</td>\n",
       "      <td>600</td>\n",
       "      <td>지원</td>\n",
       "    </tr>\n",
       "    <tr>\n",
       "      <th>3</th>\n",
       "      <td>신사임당</td>\n",
       "      <td>부산</td>\n",
       "      <td>5.0</td>\n",
       "      <td>영업부</td>\n",
       "      <td>여자</td>\n",
       "      <td>NaN</td>\n",
       "      <td>200</td>\n",
       "      <td>지원</td>\n",
       "    </tr>\n",
       "    <tr>\n",
       "      <th>4</th>\n",
       "      <td>선덕여왕</td>\n",
       "      <td>서울</td>\n",
       "      <td>6.0</td>\n",
       "      <td>총무부</td>\n",
       "      <td>여자</td>\n",
       "      <td>4000.0</td>\n",
       "      <td>800</td>\n",
       "      <td>지원</td>\n",
       "    </tr>\n",
       "  </tbody>\n",
       "</table>\n",
       "</div>"
      ],
      "text/plain": [
       "    사원명 출장지역  출장기간   부서  성별     교통비   식비 차량 지원\n",
       "0   강감찬   서울   3.0  영업부  남자  1000.0  500    지원\n",
       "1    김구   서울   NaN  총무부  남자  2000.0  300    지원\n",
       "2   김유신   부산   7.0  전산부  남자  3000.0  600    지원\n",
       "3  신사임당   부산   5.0  영업부  여자     NaN  200    지원\n",
       "4  선덕여왕   서울   6.0  총무부  여자  4000.0  800    지원"
      ]
     },
     "metadata": {},
     "output_type": "display_data"
    }
   ],
   "source": [
    "payment['차량 지원'] = '지원'\n",
    "display(payment)"
   ]
  },
  {
   "cell_type": "markdown",
   "id": "d0b644d9",
   "metadata": {},
   "source": [
    "<h6><font color=\"BlueViolet\">2) 파생 컬럼 만들기\n",
    "</font></h6>"
   ]
  },
  {
   "cell_type": "code",
   "execution_count": 103,
   "id": "059c31c4",
   "metadata": {},
   "outputs": [
    {
     "data": {
      "text/html": [
       "<div>\n",
       "<style scoped>\n",
       "    .dataframe tbody tr th:only-of-type {\n",
       "        vertical-align: middle;\n",
       "    }\n",
       "\n",
       "    .dataframe tbody tr th {\n",
       "        vertical-align: top;\n",
       "    }\n",
       "\n",
       "    .dataframe thead th {\n",
       "        text-align: right;\n",
       "    }\n",
       "</style>\n",
       "<table border=\"1\" class=\"dataframe\">\n",
       "  <thead>\n",
       "    <tr style=\"text-align: right;\">\n",
       "      <th></th>\n",
       "      <th>사원명</th>\n",
       "      <th>출장지역</th>\n",
       "      <th>출장기간</th>\n",
       "      <th>부서</th>\n",
       "      <th>성별</th>\n",
       "      <th>교통비</th>\n",
       "      <th>식비</th>\n",
       "      <th>차량 지원</th>\n",
       "      <th>최종 식비</th>\n",
       "    </tr>\n",
       "  </thead>\n",
       "  <tbody>\n",
       "    <tr>\n",
       "      <th>0</th>\n",
       "      <td>강감찬</td>\n",
       "      <td>서울</td>\n",
       "      <td>3.0</td>\n",
       "      <td>영업부</td>\n",
       "      <td>남자</td>\n",
       "      <td>1000.0</td>\n",
       "      <td>500</td>\n",
       "      <td>지원</td>\n",
       "      <td>600</td>\n",
       "    </tr>\n",
       "    <tr>\n",
       "      <th>1</th>\n",
       "      <td>김구</td>\n",
       "      <td>서울</td>\n",
       "      <td>NaN</td>\n",
       "      <td>총무부</td>\n",
       "      <td>남자</td>\n",
       "      <td>2000.0</td>\n",
       "      <td>300</td>\n",
       "      <td>지원</td>\n",
       "      <td>400</td>\n",
       "    </tr>\n",
       "    <tr>\n",
       "      <th>2</th>\n",
       "      <td>김유신</td>\n",
       "      <td>부산</td>\n",
       "      <td>7.0</td>\n",
       "      <td>전산부</td>\n",
       "      <td>남자</td>\n",
       "      <td>3000.0</td>\n",
       "      <td>600</td>\n",
       "      <td>지원</td>\n",
       "      <td>700</td>\n",
       "    </tr>\n",
       "    <tr>\n",
       "      <th>3</th>\n",
       "      <td>신사임당</td>\n",
       "      <td>부산</td>\n",
       "      <td>5.0</td>\n",
       "      <td>영업부</td>\n",
       "      <td>여자</td>\n",
       "      <td>NaN</td>\n",
       "      <td>200</td>\n",
       "      <td>지원</td>\n",
       "      <td>300</td>\n",
       "    </tr>\n",
       "    <tr>\n",
       "      <th>4</th>\n",
       "      <td>선덕여왕</td>\n",
       "      <td>서울</td>\n",
       "      <td>6.0</td>\n",
       "      <td>총무부</td>\n",
       "      <td>여자</td>\n",
       "      <td>4000.0</td>\n",
       "      <td>800</td>\n",
       "      <td>지원</td>\n",
       "      <td>900</td>\n",
       "    </tr>\n",
       "  </tbody>\n",
       "</table>\n",
       "</div>"
      ],
      "text/plain": [
       "    사원명 출장지역  출장기간   부서  성별     교통비   식비 차량 지원  최종 식비\n",
       "0   강감찬   서울   3.0  영업부  남자  1000.0  500    지원    600\n",
       "1    김구   서울   NaN  총무부  남자  2000.0  300    지원    400\n",
       "2   김유신   부산   7.0  전산부  남자  3000.0  600    지원    700\n",
       "3  신사임당   부산   5.0  영업부  여자     NaN  200    지원    300\n",
       "4  선덕여왕   서울   6.0  총무부  여자  4000.0  800    지원    900"
      ]
     },
     "metadata": {},
     "output_type": "display_data"
    }
   ],
   "source": [
    "payment['최종 식비'] = (payment['식비'] + 100)\n",
    "display(payment)"
   ]
  },
  {
   "cell_type": "markdown",
   "id": "0959db35",
   "metadata": {},
   "source": [
    "<h6><font color=\"BlueViolet\">3) 색인 삭제\n",
    "</font></h6>"
   ]
  },
  {
   "cell_type": "code",
   "execution_count": 104,
   "id": "95c7f118",
   "metadata": {},
   "outputs": [
    {
     "data": {
      "text/html": [
       "<div>\n",
       "<style scoped>\n",
       "    .dataframe tbody tr th:only-of-type {\n",
       "        vertical-align: middle;\n",
       "    }\n",
       "\n",
       "    .dataframe tbody tr th {\n",
       "        vertical-align: top;\n",
       "    }\n",
       "\n",
       "    .dataframe thead th {\n",
       "        text-align: right;\n",
       "    }\n",
       "</style>\n",
       "<table border=\"1\" class=\"dataframe\">\n",
       "  <thead>\n",
       "    <tr style=\"text-align: right;\">\n",
       "      <th></th>\n",
       "      <th>사원명</th>\n",
       "      <th>출장지역</th>\n",
       "      <th>출장기간</th>\n",
       "      <th>부서</th>\n",
       "      <th>성별</th>\n",
       "      <th>교통비</th>\n",
       "      <th>식비</th>\n",
       "      <th>차량 지원</th>\n",
       "      <th>최종 식비</th>\n",
       "    </tr>\n",
       "  </thead>\n",
       "  <tbody>\n",
       "    <tr>\n",
       "      <th>0</th>\n",
       "      <td>강감찬</td>\n",
       "      <td>서울</td>\n",
       "      <td>3.0</td>\n",
       "      <td>영업부</td>\n",
       "      <td>남자</td>\n",
       "      <td>1000.0</td>\n",
       "      <td>500</td>\n",
       "      <td>지원</td>\n",
       "      <td>600</td>\n",
       "    </tr>\n",
       "    <tr>\n",
       "      <th>1</th>\n",
       "      <td>김구</td>\n",
       "      <td>서울</td>\n",
       "      <td>NaN</td>\n",
       "      <td>총무부</td>\n",
       "      <td>남자</td>\n",
       "      <td>2000.0</td>\n",
       "      <td>300</td>\n",
       "      <td>지원</td>\n",
       "      <td>400</td>\n",
       "    </tr>\n",
       "    <tr>\n",
       "      <th>2</th>\n",
       "      <td>김유신</td>\n",
       "      <td>부산</td>\n",
       "      <td>7.0</td>\n",
       "      <td>전산부</td>\n",
       "      <td>남자</td>\n",
       "      <td>3000.0</td>\n",
       "      <td>600</td>\n",
       "      <td>지원</td>\n",
       "      <td>700</td>\n",
       "    </tr>\n",
       "    <tr>\n",
       "      <th>4</th>\n",
       "      <td>선덕여왕</td>\n",
       "      <td>서울</td>\n",
       "      <td>6.0</td>\n",
       "      <td>총무부</td>\n",
       "      <td>여자</td>\n",
       "      <td>4000.0</td>\n",
       "      <td>800</td>\n",
       "      <td>지원</td>\n",
       "      <td>900</td>\n",
       "    </tr>\n",
       "  </tbody>\n",
       "</table>\n",
       "</div>"
      ],
      "text/plain": [
       "    사원명 출장지역  출장기간   부서  성별     교통비   식비 차량 지원  최종 식비\n",
       "0   강감찬   서울   3.0  영업부  남자  1000.0  500    지원    600\n",
       "1    김구   서울   NaN  총무부  남자  2000.0  300    지원    400\n",
       "2   김유신   부산   7.0  전산부  남자  3000.0  600    지원    700\n",
       "4  선덕여왕   서울   6.0  총무부  여자  4000.0  800    지원    900"
      ]
     },
     "execution_count": 104,
     "metadata": {},
     "output_type": "execute_result"
    }
   ],
   "source": [
    "# axis = 0 : 인덱스 payment = payment.drop(3, axis='0')\n",
    "# axis = 1 : 컬럼 payment = payment.drop('출장기간', axis='1')\n",
    "\n",
    "payment = payment.drop(3, axis='index')\n",
    "payment"
   ]
  },
  {
   "cell_type": "code",
   "execution_count": 105,
   "id": "5c8a97e4",
   "metadata": {
    "scrolled": true
   },
   "outputs": [
    {
     "data": {
      "text/html": [
       "<div>\n",
       "<style scoped>\n",
       "    .dataframe tbody tr th:only-of-type {\n",
       "        vertical-align: middle;\n",
       "    }\n",
       "\n",
       "    .dataframe tbody tr th {\n",
       "        vertical-align: top;\n",
       "    }\n",
       "\n",
       "    .dataframe thead th {\n",
       "        text-align: right;\n",
       "    }\n",
       "</style>\n",
       "<table border=\"1\" class=\"dataframe\">\n",
       "  <thead>\n",
       "    <tr style=\"text-align: right;\">\n",
       "      <th></th>\n",
       "      <th>사원명</th>\n",
       "      <th>출장지역</th>\n",
       "      <th>부서</th>\n",
       "      <th>성별</th>\n",
       "      <th>교통비</th>\n",
       "      <th>식비</th>\n",
       "      <th>차량 지원</th>\n",
       "      <th>최종 식비</th>\n",
       "    </tr>\n",
       "  </thead>\n",
       "  <tbody>\n",
       "    <tr>\n",
       "      <th>0</th>\n",
       "      <td>강감찬</td>\n",
       "      <td>서울</td>\n",
       "      <td>영업부</td>\n",
       "      <td>남자</td>\n",
       "      <td>1000.0</td>\n",
       "      <td>500</td>\n",
       "      <td>지원</td>\n",
       "      <td>600</td>\n",
       "    </tr>\n",
       "    <tr>\n",
       "      <th>1</th>\n",
       "      <td>김구</td>\n",
       "      <td>서울</td>\n",
       "      <td>총무부</td>\n",
       "      <td>남자</td>\n",
       "      <td>2000.0</td>\n",
       "      <td>300</td>\n",
       "      <td>지원</td>\n",
       "      <td>400</td>\n",
       "    </tr>\n",
       "    <tr>\n",
       "      <th>2</th>\n",
       "      <td>김유신</td>\n",
       "      <td>부산</td>\n",
       "      <td>전산부</td>\n",
       "      <td>남자</td>\n",
       "      <td>3000.0</td>\n",
       "      <td>600</td>\n",
       "      <td>지원</td>\n",
       "      <td>700</td>\n",
       "    </tr>\n",
       "    <tr>\n",
       "      <th>4</th>\n",
       "      <td>선덕여왕</td>\n",
       "      <td>서울</td>\n",
       "      <td>총무부</td>\n",
       "      <td>여자</td>\n",
       "      <td>4000.0</td>\n",
       "      <td>800</td>\n",
       "      <td>지원</td>\n",
       "      <td>900</td>\n",
       "    </tr>\n",
       "  </tbody>\n",
       "</table>\n",
       "</div>"
      ],
      "text/plain": [
       "    사원명 출장지역   부서  성별     교통비   식비 차량 지원  최종 식비\n",
       "0   강감찬   서울  영업부  남자  1000.0  500    지원    600\n",
       "1    김구   서울  총무부  남자  2000.0  300    지원    400\n",
       "2   김유신   부산  전산부  남자  3000.0  600    지원    700\n",
       "4  선덕여왕   서울  총무부  여자  4000.0  800    지원    900"
      ]
     },
     "execution_count": 105,
     "metadata": {},
     "output_type": "execute_result"
    }
   ],
   "source": [
    "payment = payment.drop('출장기간', axis='columns')\n",
    "payment"
   ]
  },
  {
   "cell_type": "code",
   "execution_count": 106,
   "id": "ea8c06a5",
   "metadata": {},
   "outputs": [
    {
     "data": {
      "text/html": [
       "<div>\n",
       "<style scoped>\n",
       "    .dataframe tbody tr th:only-of-type {\n",
       "        vertical-align: middle;\n",
       "    }\n",
       "\n",
       "    .dataframe tbody tr th {\n",
       "        vertical-align: top;\n",
       "    }\n",
       "\n",
       "    .dataframe thead th {\n",
       "        text-align: right;\n",
       "    }\n",
       "</style>\n",
       "<table border=\"1\" class=\"dataframe\">\n",
       "  <thead>\n",
       "    <tr style=\"text-align: right;\">\n",
       "      <th></th>\n",
       "      <th>사원명</th>\n",
       "      <th>출장지역</th>\n",
       "      <th>성별</th>\n",
       "      <th>교통비</th>\n",
       "      <th>식비</th>\n",
       "      <th>최종 식비</th>\n",
       "    </tr>\n",
       "  </thead>\n",
       "  <tbody>\n",
       "    <tr>\n",
       "      <th>0</th>\n",
       "      <td>강감찬</td>\n",
       "      <td>서울</td>\n",
       "      <td>남자</td>\n",
       "      <td>1000.0</td>\n",
       "      <td>500</td>\n",
       "      <td>600</td>\n",
       "    </tr>\n",
       "    <tr>\n",
       "      <th>1</th>\n",
       "      <td>김구</td>\n",
       "      <td>서울</td>\n",
       "      <td>남자</td>\n",
       "      <td>2000.0</td>\n",
       "      <td>300</td>\n",
       "      <td>400</td>\n",
       "    </tr>\n",
       "    <tr>\n",
       "      <th>2</th>\n",
       "      <td>김유신</td>\n",
       "      <td>부산</td>\n",
       "      <td>남자</td>\n",
       "      <td>3000.0</td>\n",
       "      <td>600</td>\n",
       "      <td>700</td>\n",
       "    </tr>\n",
       "    <tr>\n",
       "      <th>4</th>\n",
       "      <td>선덕여왕</td>\n",
       "      <td>서울</td>\n",
       "      <td>여자</td>\n",
       "      <td>4000.0</td>\n",
       "      <td>800</td>\n",
       "      <td>900</td>\n",
       "    </tr>\n",
       "  </tbody>\n",
       "</table>\n",
       "</div>"
      ],
      "text/plain": [
       "    사원명 출장지역  성별     교통비   식비  최종 식비\n",
       "0   강감찬   서울  남자  1000.0  500    600\n",
       "1    김구   서울  남자  2000.0  300    400\n",
       "2   김유신   부산  남자  3000.0  600    700\n",
       "4  선덕여왕   서울  여자  4000.0  800    900"
      ]
     },
     "execution_count": 106,
     "metadata": {},
     "output_type": "execute_result"
    }
   ],
   "source": [
    "payment = payment.drop(['차량 지원','부서'], axis='columns')\n",
    "payment"
   ]
  },
  {
   "cell_type": "markdown",
   "id": "9e2232d2",
   "metadata": {},
   "source": [
    "<h2><font color=\"red\">Pie 차트 그리기 \n",
    "</font></h2>"
   ]
  },
  {
   "cell_type": "markdown",
   "id": "9c115603",
   "metadata": {},
   "source": [
    "<h3><font color=\"green\"> 데이터 가공</font></h3>"
   ]
  },
  {
   "cell_type": "code",
   "execution_count": 107,
   "id": "4ac5d001",
   "metadata": {},
   "outputs": [
    {
     "data": {
      "text/html": [
       "<div>\n",
       "<style scoped>\n",
       "    .dataframe tbody tr th:only-of-type {\n",
       "        vertical-align: middle;\n",
       "    }\n",
       "\n",
       "    .dataframe tbody tr th {\n",
       "        vertical-align: top;\n",
       "    }\n",
       "\n",
       "    .dataframe thead th {\n",
       "        text-align: right;\n",
       "    }\n",
       "</style>\n",
       "<table border=\"1\" class=\"dataframe\">\n",
       "  <thead>\n",
       "    <tr style=\"text-align: right;\">\n",
       "      <th></th>\n",
       "      <th>사원명</th>\n",
       "      <th>출장지역</th>\n",
       "      <th>성별</th>\n",
       "      <th>교통비</th>\n",
       "      <th>식비</th>\n",
       "      <th>최종 식비</th>\n",
       "    </tr>\n",
       "  </thead>\n",
       "  <tbody>\n",
       "    <tr>\n",
       "      <th>0</th>\n",
       "      <td>강감찬</td>\n",
       "      <td>서울</td>\n",
       "      <td>남자</td>\n",
       "      <td>1000.0</td>\n",
       "      <td>500</td>\n",
       "      <td>600</td>\n",
       "    </tr>\n",
       "    <tr>\n",
       "      <th>1</th>\n",
       "      <td>김구</td>\n",
       "      <td>서울</td>\n",
       "      <td>남자</td>\n",
       "      <td>2000.0</td>\n",
       "      <td>300</td>\n",
       "      <td>400</td>\n",
       "    </tr>\n",
       "    <tr>\n",
       "      <th>2</th>\n",
       "      <td>김유신</td>\n",
       "      <td>부산</td>\n",
       "      <td>남자</td>\n",
       "      <td>3000.0</td>\n",
       "      <td>600</td>\n",
       "      <td>700</td>\n",
       "    </tr>\n",
       "    <tr>\n",
       "      <th>4</th>\n",
       "      <td>선덕여왕</td>\n",
       "      <td>서울</td>\n",
       "      <td>여자</td>\n",
       "      <td>4000.0</td>\n",
       "      <td>800</td>\n",
       "      <td>900</td>\n",
       "    </tr>\n",
       "  </tbody>\n",
       "</table>\n",
       "</div>"
      ],
      "text/plain": [
       "    사원명 출장지역  성별     교통비   식비  최종 식비\n",
       "0   강감찬   서울  남자  1000.0  500    600\n",
       "1    김구   서울  남자  2000.0  300    400\n",
       "2   김유신   부산  남자  3000.0  600    700\n",
       "4  선덕여왕   서울  여자  4000.0  800    900"
      ]
     },
     "execution_count": 107,
     "metadata": {},
     "output_type": "execute_result"
    }
   ],
   "source": [
    "payment"
   ]
  },
  {
   "cell_type": "code",
   "execution_count": 108,
   "id": "b213c431",
   "metadata": {},
   "outputs": [],
   "source": [
    "import matplotlib.pyplot as plt\n",
    "plt.rc('font', family='Malgun Gothic')"
   ]
  },
  {
   "cell_type": "code",
   "execution_count": 110,
   "id": "279d6717",
   "metadata": {},
   "outputs": [
    {
     "data": {
      "text/html": [
       "<div>\n",
       "<style scoped>\n",
       "    .dataframe tbody tr th:only-of-type {\n",
       "        vertical-align: middle;\n",
       "    }\n",
       "\n",
       "    .dataframe tbody tr th {\n",
       "        vertical-align: top;\n",
       "    }\n",
       "\n",
       "    .dataframe thead th {\n",
       "        text-align: right;\n",
       "    }\n",
       "</style>\n",
       "<table border=\"1\" class=\"dataframe\">\n",
       "  <thead>\n",
       "    <tr style=\"text-align: right;\">\n",
       "      <th></th>\n",
       "      <th>출장지역</th>\n",
       "      <th>성별</th>\n",
       "      <th>교통비</th>\n",
       "      <th>식비</th>\n",
       "      <th>최종 식비</th>\n",
       "    </tr>\n",
       "    <tr>\n",
       "      <th>사원명</th>\n",
       "      <th></th>\n",
       "      <th></th>\n",
       "      <th></th>\n",
       "      <th></th>\n",
       "      <th></th>\n",
       "    </tr>\n",
       "  </thead>\n",
       "  <tbody>\n",
       "    <tr>\n",
       "      <th>강감찬</th>\n",
       "      <td>서울</td>\n",
       "      <td>남자</td>\n",
       "      <td>1000.0</td>\n",
       "      <td>500</td>\n",
       "      <td>600</td>\n",
       "    </tr>\n",
       "    <tr>\n",
       "      <th>김구</th>\n",
       "      <td>서울</td>\n",
       "      <td>남자</td>\n",
       "      <td>2000.0</td>\n",
       "      <td>300</td>\n",
       "      <td>400</td>\n",
       "    </tr>\n",
       "    <tr>\n",
       "      <th>김유신</th>\n",
       "      <td>부산</td>\n",
       "      <td>남자</td>\n",
       "      <td>3000.0</td>\n",
       "      <td>600</td>\n",
       "      <td>700</td>\n",
       "    </tr>\n",
       "    <tr>\n",
       "      <th>선덕여왕</th>\n",
       "      <td>서울</td>\n",
       "      <td>여자</td>\n",
       "      <td>4000.0</td>\n",
       "      <td>800</td>\n",
       "      <td>900</td>\n",
       "    </tr>\n",
       "  </tbody>\n",
       "</table>\n",
       "</div>"
      ],
      "text/plain": [
       "     출장지역  성별     교통비   식비  최종 식비\n",
       "사원명                              \n",
       "강감찬    서울  남자  1000.0  500    600\n",
       "김구     서울  남자  2000.0  300    400\n",
       "김유신    부산  남자  3000.0  600    700\n",
       "선덕여왕   서울  여자  4000.0  800    900"
      ]
     },
     "execution_count": 110,
     "metadata": {},
     "output_type": "execute_result"
    }
   ],
   "source": [
    "chartdata = payment.set_index(['사원명'])\n",
    "chartdata"
   ]
  },
  {
   "cell_type": "markdown",
   "id": "0b6f03f1",
   "metadata": {},
   "source": [
    "<h3><font color=\"green\"> Pie 그래프(식비)\n",
    "</font></h3>"
   ]
  },
  {
   "cell_type": "code",
   "execution_count": 112,
   "id": "d1950d87",
   "metadata": {},
   "outputs": [
    {
     "data": {
      "text/html": [
       "<div>\n",
       "<style scoped>\n",
       "    .dataframe tbody tr th:only-of-type {\n",
       "        vertical-align: middle;\n",
       "    }\n",
       "\n",
       "    .dataframe tbody tr th {\n",
       "        vertical-align: top;\n",
       "    }\n",
       "\n",
       "    .dataframe thead th {\n",
       "        text-align: right;\n",
       "    }\n",
       "</style>\n",
       "<table border=\"1\" class=\"dataframe\">\n",
       "  <thead>\n",
       "    <tr style=\"text-align: right;\">\n",
       "      <th></th>\n",
       "      <th>식비</th>\n",
       "    </tr>\n",
       "    <tr>\n",
       "      <th>사원명</th>\n",
       "      <th></th>\n",
       "    </tr>\n",
       "  </thead>\n",
       "  <tbody>\n",
       "    <tr>\n",
       "      <th>강감찬</th>\n",
       "      <td>500</td>\n",
       "    </tr>\n",
       "    <tr>\n",
       "      <th>김구</th>\n",
       "      <td>300</td>\n",
       "    </tr>\n",
       "    <tr>\n",
       "      <th>김유신</th>\n",
       "      <td>600</td>\n",
       "    </tr>\n",
       "    <tr>\n",
       "      <th>선덕여왕</th>\n",
       "      <td>800</td>\n",
       "    </tr>\n",
       "  </tbody>\n",
       "</table>\n",
       "</div>"
      ],
      "text/plain": [
       "       식비\n",
       "사원명      \n",
       "강감찬   500\n",
       "김구    300\n",
       "김유신   600\n",
       "선덕여왕  800"
      ]
     },
     "execution_count": 112,
     "metadata": {},
     "output_type": "execute_result"
    }
   ],
   "source": [
    "mycolors = ['blue','red','green','yellow']\n",
    "chartdata01 = chartdata['식비']\n",
    "chartdata01.to_frame()"
   ]
  },
  {
   "cell_type": "code",
   "execution_count": 113,
   "id": "b9511c32",
   "metadata": {},
   "outputs": [
    {
     "data": {
      "text/plain": [
       "Text(0.5, 1.0, '식비 지급율')"
      ]
     },
     "execution_count": 113,
     "metadata": {},
     "output_type": "execute_result"
    },
    {
     "data": {
      "image/png": "[encoded data removed]",
      "text/plain": [
       "<Figure size 640x480 with 1 Axes>"
      ]
     },
     "metadata": {},
     "output_type": "display_data"
    }
   ],
   "source": [
    "mylabel = chartdata01.index\n",
    "chartdata01.plot(kind='pie')\n",
    "plt.grid(True)\n",
    "plt.legend(loc=4)\n",
    "plt.xlabel(chartdata01.index.name)\n",
    "plt.title(chartdata01.name + ' 지급율')"
   ]
  },
  {
   "cell_type": "code",
   "execution_count": 114,
   "id": "a62808f7",
   "metadata": {
    "scrolled": true
   },
   "outputs": [
    {
     "data": {
      "text/plain": [
       "Text(0.5, 1.0, '식비 지급율')"
      ]
     },
     "execution_count": 114,
     "metadata": {},
     "output_type": "execute_result"
    },
    {
     "data": {
      "image/png": "[encoded data removed]",
      "text/plain": [
       "<Figure size 640x480 with 1 Axes>"
      ]
     },
     "metadata": {},
     "output_type": "display_data"
    }
   ],
   "source": [
    "mylabel = chartdata01.index\n",
    "chartdata01.plot(kind='pie', labels=mylabel, shadow=True , explode=(0, 0.05, 0, 0),\n",
    "                colors=mycolors, autopct='%1.2f%%', startangle=90, counterclock=False)\n",
    "\n",
    "plt.grid(True)\n",
    "plt.legend(loc=4)\n",
    "plt.xlabel(chartdata01.index.name)\n",
    "plt.title(chartdata01.name + ' 지급율')"
   ]
  },
  {
   "cell_type": "markdown",
   "id": "afca863c",
   "metadata": {},
   "source": [
    "<h3><font color=\"green\"> Pie 그래프(최종 식비)\n",
    "</font></h3>"
   ]
  },
  {
   "cell_type": "code",
   "execution_count": 115,
   "id": "869feb3b",
   "metadata": {},
   "outputs": [
    {
     "data": {
      "text/html": [
       "<div>\n",
       "<style scoped>\n",
       "    .dataframe tbody tr th:only-of-type {\n",
       "        vertical-align: middle;\n",
       "    }\n",
       "\n",
       "    .dataframe tbody tr th {\n",
       "        vertical-align: top;\n",
       "    }\n",
       "\n",
       "    .dataframe thead th {\n",
       "        text-align: right;\n",
       "    }\n",
       "</style>\n",
       "<table border=\"1\" class=\"dataframe\">\n",
       "  <thead>\n",
       "    <tr style=\"text-align: right;\">\n",
       "      <th></th>\n",
       "      <th>최종 식비</th>\n",
       "    </tr>\n",
       "    <tr>\n",
       "      <th>사원명</th>\n",
       "      <th></th>\n",
       "    </tr>\n",
       "  </thead>\n",
       "  <tbody>\n",
       "    <tr>\n",
       "      <th>강감찬</th>\n",
       "      <td>600</td>\n",
       "    </tr>\n",
       "    <tr>\n",
       "      <th>김구</th>\n",
       "      <td>400</td>\n",
       "    </tr>\n",
       "    <tr>\n",
       "      <th>김유신</th>\n",
       "      <td>700</td>\n",
       "    </tr>\n",
       "    <tr>\n",
       "      <th>선덕여왕</th>\n",
       "      <td>900</td>\n",
       "    </tr>\n",
       "  </tbody>\n",
       "</table>\n",
       "</div>"
      ],
      "text/plain": [
       "      최종 식비\n",
       "사원명        \n",
       "강감찬     600\n",
       "김구      400\n",
       "김유신     700\n",
       "선덕여왕    900"
      ]
     },
     "execution_count": 115,
     "metadata": {},
     "output_type": "execute_result"
    }
   ],
   "source": [
    "mycolors = ['blue','red','green','yellow']\n",
    "chartdata02 = chartdata['최종 식비']\n",
    "chartdata02.to_frame()"
   ]
  },
  {
   "cell_type": "code",
   "execution_count": 116,
   "id": "55f284c7",
   "metadata": {},
   "outputs": [
    {
     "data": {
      "text/plain": [
       "Text(0.5, 1.0, '최종 식비')"
      ]
     },
     "execution_count": 116,
     "metadata": {},
     "output_type": "execute_result"
    },
    {
     "data": {
      "image/png": "[encoded data removed]",
      "text/plain": [
       "<Figure size 640x480 with 1 Axes>"
      ]
     },
     "metadata": {},
     "output_type": "display_data"
    }
   ],
   "source": [
    "mylabel01 = chartdata02.index\n",
    "chartdata02.plot(kind='pie', labels=mylabel, shadow=True , explode=(0, 0.05, 0, 0),\n",
    "                colors=mycolors, autopct='%1.2f%%', startangle=90, counterclock=False)\n",
    "\n",
    "plt.grid(True)\n",
    "plt.legend(loc=4)\n",
    "plt.xlabel(chartdata02.index.name)\n",
    "plt.title(chartdata02.name)"
   ]
  },
  {
   "cell_type": "code",
   "execution_count": null,
   "id": "4d3cc6fb",
   "metadata": {},
   "outputs": [],
   "source": []
  }
 ],
 "metadata": {
  "kernelspec": {
   "display_name": "Python 3 (ipykernel)",
   "language": "python",
   "name": "python3"
  },
  "language_info": {
   "codemirror_mode": {
    "name": "ipython",
    "version": 3
   },
   "file_extension": ".py",
   "mimetype": "text/x-python",
   "name": "python",
   "nbconvert_exporter": "python",
   "pygments_lexer": "ipython3",
   "version": "3.11.2"
  }
 },
 "nbformat": 4,
 "nbformat_minor": 5
}
